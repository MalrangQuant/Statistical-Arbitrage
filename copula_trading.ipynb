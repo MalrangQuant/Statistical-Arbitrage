{
 "cells": [
  {
   "cell_type": "code",
   "execution_count": 1,
   "metadata": {},
   "outputs": [],
   "source": [
    "import numpy as np\n",
    "import pandas as pd\n",
    "import matplotlib.pyplot as plt\n",
    "import yfinance as yf\n",
    "from pykrx import stock\n"
   ]
  },
  {
   "cell_type": "code",
   "execution_count": 8,
   "metadata": {},
   "outputs": [],
   "source": [
    "ticker_list = stock.get_market_ticker_list('2022-11-10', 'KOSPI')\n",
    "ticker_list = [str(x)+'.KS' for x in ticker_list]"
   ]
  },
  {
   "cell_type": "code",
   "execution_count": 15,
   "metadata": {},
   "outputs": [
    {
     "name": "stdout",
     "output_type": "stream",
     "text": [
      "[*********************100%***********************]  300 of 300 completed\n",
      "\n",
      "2 Failed downloads:\n",
      "- 016385.KS: No data found, symbol may be delisted\n",
      "- 101060.KS: No data found, symbol may be delisted\n"
     ]
    }
   ],
   "source": [
    "raw_df = yf.download(ticker_list[0:300])['Adj Close']"
   ]
  },
  {
   "cell_type": "code",
   "execution_count": 17,
   "metadata": {},
   "outputs": [
    {
     "data": {
      "text/plain": [
       "DatetimeIndex(['2012-07-27', '2012-07-30', '2012-07-31', '2012-08-01',\n",
       "               '2012-08-02', '2012-08-03', '2012-08-06', '2012-08-07',\n",
       "               '2012-08-08', '2012-08-09',\n",
       "               ...\n",
       "               '2005-09-15', '2005-09-16', '2005-09-19', '2005-09-20',\n",
       "               '2005-09-21', '2005-09-22', '2005-09-23', '2005-09-26',\n",
       "               '2005-09-27', '2005-09-28'],\n",
       "              dtype='datetime64[ns]', name='Date', length=5743, freq=None)"
      ]
     },
     "execution_count": 17,
     "metadata": {},
     "output_type": "execute_result"
    }
   ],
   "source": [
    "raw_df.index = pd.to_datetime(raw_df.index)"
   ]
  }
 ],
 "metadata": {
  "kernelspec": {
   "display_name": "Python 3.8.13 ('quant')",
   "language": "python",
   "name": "python3"
  },
  "language_info": {
   "codemirror_mode": {
    "name": "ipython",
    "version": 3
   },
   "file_extension": ".py",
   "mimetype": "text/x-python",
   "name": "python",
   "nbconvert_exporter": "python",
   "pygments_lexer": "ipython3",
   "version": "3.8.13"
  },
  "orig_nbformat": 4,
  "vscode": {
   "interpreter": {
    "hash": "e7b6214bfe3ce19b2336b5ee82fe9739f68968628bd5eb86b17deae08d37c2fd"
   }
  }
 },
 "nbformat": 4,
 "nbformat_minor": 2
}
