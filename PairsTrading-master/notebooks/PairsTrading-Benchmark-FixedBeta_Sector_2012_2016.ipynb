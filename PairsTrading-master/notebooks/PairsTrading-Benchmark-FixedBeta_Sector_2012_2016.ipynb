{
 "cells": [
  {
   "cell_type": "markdown",
   "metadata": {},
   "source": [
    "# A Pairs Trading strategy \n",
    "\n",
    "**Author:** Simão Moraes Sarmento <br /> \n",
    "**Contact:** simaosarmento@hotmail.com"
   ]
  },
  {
   "cell_type": "markdown",
   "metadata": {},
   "source": [
    "## Dependencies\n",
    "\n",
    "This notebook requires code from:\n",
    "\n",
    "Python files:\n",
    "- `class_SeriesAnalyser.py` - contains a set of functions to deal with time series analysis.\n",
    "- `class_Trader.py` - contains a set of functions concerning trading strategies.\n",
    "- `class_DataProcessor.py` - contains a set of functions concerning the data pre processing.\n",
    "\n",
    "Pickle files:\n",
    "- pickle file containing pairs to be traded (obtained from running `PairsTrading_CommodityETFs-Clustering.ipynb`)\n",
    "\n",
    "As a good practise, the notebook solely intends to exemplify the application of different trading strategies for different dataset examples. Please look into the files menitoned above for more detailed info on how the functions are built."
   ]
  },
  {
   "cell_type": "markdown",
   "metadata": {},
   "source": [
    "### Import Libraries"
   ]
  },
  {
   "cell_type": "code",
   "execution_count": 1,
   "metadata": {},
   "outputs": [],
   "source": [
    "import numpy as np\n",
    "import pandas as pd\n",
    "import pickle\n",
    "import matplotlib.pyplot as plt\n",
    "\n",
    "# just set the seed for the random number generator\n",
    "np.random.seed(107)"
   ]
  },
  {
   "cell_type": "code",
   "execution_count": 2,
   "metadata": {},
   "outputs": [],
   "source": [
    "ticker_path = \"data/etfs/pickle/ticker_segment_dict.pickle\"\n",
    "with open(ticker_path, 'rb') as handle:\n",
    "    ticker_segment_dict = pickle.load(handle)"
   ]
  },
  {
   "cell_type": "markdown",
   "metadata": {},
   "source": [
    "### Import Classes"
   ]
  },
  {
   "cell_type": "code",
   "execution_count": 5,
   "metadata": {},
   "outputs": [],
   "source": [
    "%load_ext autoreload\n",
    "%aimport class_SeriesAnalyser, class_Trader, class_DataProcessor\n",
    "%autoreload 1"
   ]
  },
  {
   "cell_type": "code",
   "execution_count": 6,
   "metadata": {},
   "outputs": [],
   "source": [
    "series_analyser = class_SeriesAnalyser.SeriesAnalyser()\n",
    "trader = class_Trader.Trader()\n",
    "data_processor = class_DataProcessor.DataProcessor()"
   ]
  },
  {
   "cell_type": "markdown",
   "metadata": {},
   "source": [
    "# Retrieve prices data set"
   ]
  },
  {
   "cell_type": "markdown",
   "metadata": {},
   "source": [
    "We start by retrieving the data from a Dataframe saved in a pickle file, as it was previously processed in the `PairsTrading_CommodityETFS_Datapreprocessing.ipynb` notebook."
   ]
  },
  {
   "cell_type": "code",
   "execution_count": 7,
   "metadata": {},
   "outputs": [],
   "source": [
    "# intraday\n",
    "df_prices = pd.read_pickle('data/etfs/pickle/commodity_ETFs_from_2014_complete.pickle')"
   ]
  },
  {
   "cell_type": "code",
   "execution_count": 8,
   "metadata": {},
   "outputs": [
    {
     "name": "stdout",
     "output_type": "stream",
     "text": [
      "Total of 116 tickers\n",
      "Total of 95 tickers after removing tickers with Nan values\n"
     ]
    }
   ],
   "source": [
    "# split data in training and test\n",
    "df_prices_train, df_prices_test = data_processor.split_data(df_prices,\n",
    "                                                            ('01-01-2012',\n",
    "                                                             '31-12-2014'),\n",
    "                                                            ('01-01-2015',\n",
    "                                                             '31-12-2015'),\n",
    "                                                            remove_nan=True)"
   ]
  },
  {
   "cell_type": "code",
   "execution_count": 9,
   "metadata": {},
   "outputs": [
    {
     "data": {
      "text/plain": [
       "77916"
      ]
     },
     "execution_count": 9,
     "metadata": {},
     "output_type": "execute_result"
    }
   ],
   "source": [
    "len(df_prices_train)+len(df_prices_test)"
   ]
  },
  {
   "cell_type": "markdown",
   "metadata": {},
   "source": [
    "# Load Pairs"
   ]
  },
  {
   "cell_type": "code",
   "execution_count": 10,
   "metadata": {},
   "outputs": [],
   "source": [
    "with open('data/etfs/pickle/2012-2016/pairs_category_intraday.pickle', 'rb') as handle:\n",
    "    pairs = pickle.load(handle)"
   ]
  },
  {
   "cell_type": "code",
   "execution_count": 12,
   "metadata": {},
   "outputs": [
    {
     "data": {
      "text/plain": [
       "59"
      ]
     },
     "execution_count": 12,
     "metadata": {},
     "output_type": "execute_result"
    }
   ],
   "source": [
    "len(pairs)"
   ]
  },
  {
   "cell_type": "markdown",
   "metadata": {},
   "source": [
    "# Apply trading strategies"
   ]
  },
  {
   "cell_type": "markdown",
   "metadata": {},
   "source": [
    "**Applying the fixed beta strategy in validation period**"
   ]
  },
  {
   "cell_type": "code",
   "execution_count": 13,
   "metadata": {},
   "outputs": [
    {
     "data": {
      "text/plain": [
       "1"
      ]
     },
     "execution_count": 13,
     "metadata": {},
     "output_type": "execute_result"
    }
   ],
   "source": [
    "train_val_split = '2014-01-01'\n",
    "\n",
    "# intraday\n",
    "n_years_val = round(len(df_prices_train[train_val_split:])/(240*78))\n",
    "\n",
    "# interday\n",
    "#n_years_val = round(len(df_prices_train)/(240))\n",
    "\n",
    "n_years_val"
   ]
  },
  {
   "cell_type": "code",
   "execution_count": 14,
   "metadata": {},
   "outputs": [
    {
     "name": "stdout",
     "output_type": "stream",
     "text": [
      " entry delay turned on.\n",
      "Pair: 59/59"
     ]
    }
   ],
   "source": [
    "train_results_without_costs, train_results_with_costs, performance_threshold_train = \\\n",
    "        trader.apply_trading_strategy(pairs, \n",
    "                                       'fixed_beta',\n",
    "                                        2,#entry_multiplier,\n",
    "                                        0,#exit_multiplier,\n",
    "                                        test_mode=False,\n",
    "                                        train_val_split=train_val_split\n",
    "                                       )\n",
    "\n",
    "sharpe_results_threshold_train_nocosts, cum_returns_threshold_train_nocosts = train_results_without_costs\n",
    "sharpe_results_threshold_train_w_costs, cum_returns_threshold_train_w_costs = train_results_with_costs"
   ]
  },
  {
   "cell_type": "code",
   "execution_count": 15,
   "metadata": {},
   "outputs": [
    {
     "name": "stdout",
     "output_type": "stream",
     "text": [
      "Average SR:  0.6871442072960724\n",
      "Annual ROI:  6.93560901606296\n",
      "67.79661016949153 % of the pairs had positive returns\n",
      "Sharpe Ratio assumming IID returns:  2.1235740941136174\n",
      "Autocorrelation:  0.036721027908408796\n",
      "Daily Sharpe Ratio 0.13041442622047744\n",
      "Total number of trades:  167\n",
      "Positive trades:  104\n",
      "Negative trades:  63\n",
      "Max DD period: 3.0 days\n",
      "Maximum drawdown of portfolio: -1.71%\n"
     ]
    },
    {
     "data": {
      "image/png": "[encoded data removed]",
      "text/plain": [
       "<matplotlib.figure.Figure at 0x13861d8d0>"
      ]
     },
     "metadata": {},
     "output_type": "display_data"
    }
   ],
   "source": [
    "results, pairs_summary = trader.summarize_results(sharpe_results_threshold_train_w_costs,\n",
    "                                                  cum_returns_threshold_train_w_costs,\n",
    "                                                  performance_threshold_train,\n",
    "                                                  pairs, ticker_segment_dict,\n",
    "                                                  n_years_val)"
   ]
  },
  {
   "cell_type": "code",
   "execution_count": 30,
   "metadata": {},
   "outputs": [
    {
     "name": "stdout",
     "output_type": "stream",
     "text": [
      "Corrected Annualized SR: 2.07\n"
     ]
    }
   ],
   "source": [
    "print('Corrected Annualized SR: {:.2f}'.format(0.13041442622047744*(252**0.5)))"
   ]
  },
  {
   "cell_type": "code",
   "execution_count": 16,
   "metadata": {},
   "outputs": [
    {
     "name": "stdout",
     "output_type": "stream",
     "text": [
      "Sharpe Ratio Distribution: \n"
     ]
    },
    {
     "data": {
      "image/png": "[encoded data removed]",
      "text/plain": [
       "<matplotlib.figure.Figure at 0x13badb278>"
      ]
     },
     "metadata": {},
     "output_type": "display_data"
    }
   ],
   "source": [
    "print('Sharpe Ratio Distribution: ')\n",
    "n, bins, patches = plt.hist(sharpe_results_threshold_train_w_costs, bins = 16, normed=True, orientation='vertical',\n",
    "                            color='red', rwidth=0.9, align='mid')"
   ]
  },
  {
   "cell_type": "code",
   "execution_count": 17,
   "metadata": {},
   "outputs": [
    {
     "data": {
      "text/plain": [
       "array([ 1.24525033,  2.4274593 ,  1.14350396,  1.15481571,  0.45903805,\n",
       "        0.57130184,  0.83395672,  2.81857608,  0.24434038,  1.53438387,\n",
       "        0.16867686,  0.36914727,  0.20139504,  0.75714618,  1.39133223,\n",
       "        2.39499998,  0.23866385,  1.39881789,  1.67173893,  1.37550723,\n",
       "        0.67513256,  1.05054659,  1.80493701,  5.4288947 ,  2.28250428,\n",
       "        1.18180798,  1.83889542,  1.27400836,  1.55303747,  1.24726812,\n",
       "        1.85944218,  1.22645846,  0.93119343,  1.62616958,  9.28888945,\n",
       "       12.1799656 , 11.98787394,  1.6464653 ,  5.80386653,  1.93981938,\n",
       "        0.56163217,  0.88791065,  0.56797951,  1.90691545,  0.29291248,\n",
       "        3.28013448,  0.33238383,  6.97806628,  0.32686603,  2.18455585,\n",
       "        3.39830113,  2.35621741,  1.92368515,  4.14116457,  1.07878942,\n",
       "        2.14847196,  3.34185575,  2.3173922 ,  0.57458147])"
      ]
     },
     "execution_count": 17,
     "metadata": {},
     "output_type": "execute_result"
    }
   ],
   "source": [
    "betas = list()\n",
    "for i in range(len(pairs)):\n",
    "    betas.append(pairs[i][2]['coint_coef'])\n",
    "np.asarray(betas)"
   ]
  },
  {
   "cell_type": "markdown",
   "metadata": {},
   "source": [
    "# Out of Sample Analysis\n",
    "\n",
    "In this section, we analyze the performance of the strategy in the validation dataset. \n",
    "\n",
    "We proceed with some data exploration analysis. For this purpose we will do the following:\n",
    "\n",
    "- Analyze which percentage of the identified pairs are still cointegrated in the validation period.\n",
    "- Analyze which percentage of pairs have positive returns, and how many of those are still cointegrated.\n",
    "- Analyze how many new pais were not identified to be cointegrated up to the validation period.\n",
    "- Run strategy for identified pairs in training period.\n",
    "\n",
    "This analysis will help us getting some insight into how the cointegrated pairs vary from time to time, and therefore how we should allocate our resources to predict when pairs are not cointegrated anymore."
   ]
  },
  {
   "cell_type": "markdown",
   "metadata": {},
   "source": [
    "## Applying the Strategy out-of Sample\n",
    "\n",
    "We might want to apply the strategy in all pairs identified. Or, instead, we might prefer to apply the strategy only on those pairs that turned out to be profitable. Let's compare how both approaches work:"
   ]
  },
  {
   "cell_type": "code",
   "execution_count": 18,
   "metadata": {},
   "outputs": [
    {
     "data": {
      "text/plain": [
       "1"
      ]
     },
     "execution_count": 18,
     "metadata": {},
     "output_type": "execute_result"
    }
   ],
   "source": [
    "# intraday\n",
    "n_years_test = round(len(df_prices_test)/(240*78))\n",
    "\n",
    "# interday\n",
    "#n_years_test = round(len(df_prices_test)/(240))\n",
    "\n",
    "n_years_test"
   ]
  },
  {
   "cell_type": "markdown",
   "metadata": {},
   "source": [
    "### Approach 1: Unrestricted"
   ]
  },
  {
   "cell_type": "markdown",
   "metadata": {},
   "source": [
    "**Basic Threshold Strategy**"
   ]
  },
  {
   "cell_type": "code",
   "execution_count": 19,
   "metadata": {},
   "outputs": [
    {
     "name": "stdout",
     "output_type": "stream",
     "text": [
      " entry delay turned on.\n",
      "Pair: 59/59"
     ]
    }
   ],
   "source": [
    "results_without_costs, results_with_costs, performance_threshold_test = \\\n",
    "                            trader.apply_trading_strategy(pairs, \n",
    "                                                           'fixed_beta',\n",
    "                                                            2,#entry_multiplier,\n",
    "                                                            0,#exit_multiplier,\n",
    "                                                            test_mode=True,\n",
    "                                                            train_val_split=train_val_split\n",
    "                                                           )\n",
    "sharpe_results_threshold_test_nocosts, cum_returns_threshold_test_nocosts = results_without_costs\n",
    "sharpe_results_threshold_test_w_costs, cum_returns_threshold_test_w_costs = results_with_costs"
   ]
  },
  {
   "cell_type": "code",
   "execution_count": 20,
   "metadata": {
    "scrolled": false
   },
   "outputs": [
    {
     "name": "stdout",
     "output_type": "stream",
     "text": [
      "Average SR:  0.5480486072570773\n",
      "Annual ROI:  5.528993798883608\n",
      "64.40677966101696 % of the pairs had positive returns\n",
      "Sharpe Ratio assumming IID returns:  1.4345541023024349\n",
      "Autocorrelation:  -0.12663599470071726\n",
      "Daily Sharpe Ratio 0.08909977319384982\n",
      "Total number of trades:  154\n",
      "Positive trades:  112\n",
      "Negative trades:  42\n",
      "Max DD period: 2.0 days\n",
      "Maximum drawdown of portfolio: -1.77%\n"
     ]
    },
    {
     "data": {
      "image/png": "[encoded data removed]",
      "text/plain": [
       "<matplotlib.figure.Figure at 0x13babe860>"
      ]
     },
     "metadata": {},
     "output_type": "display_data"
    }
   ],
   "source": [
    "results, pairs_summary = trader.summarize_results(sharpe_results_threshold_test_w_costs,\n",
    "                                                  cum_returns_threshold_test_w_costs,\n",
    "                                                  performance_threshold_test,\n",
    "                                                  pairs, ticker_segment_dict,\n",
    "                                                  n_years_test)"
   ]
  },
  {
   "cell_type": "code",
   "execution_count": 31,
   "metadata": {},
   "outputs": [
    {
     "name": "stdout",
     "output_type": "stream",
     "text": [
      "Corrected Annualized SR: 1.56\n"
     ]
    }
   ],
   "source": [
    "print('Corrected Annualized SR: {:.2f}'.format(0.08909977319384982*17.47))"
   ]
  },
  {
   "cell_type": "markdown",
   "metadata": {},
   "source": [
    "### Approach 2: Keeping only pairs that had positive returns in the training period"
   ]
  },
  {
   "cell_type": "code",
   "execution_count": 21,
   "metadata": {},
   "outputs": [],
   "source": [
    "cum_returns_threshold_train_w_costs = np.asarray(cum_returns_threshold_train_w_costs)\n",
    "profitable_pairs_indices = np.argwhere(cum_returns_threshold_train_w_costs > 0)\n",
    "profitable_pairs = [pairs[i] for i in profitable_pairs_indices.flatten()]"
   ]
  },
  {
   "cell_type": "code",
   "execution_count": 22,
   "metadata": {
    "scrolled": false
   },
   "outputs": [
    {
     "name": "stdout",
     "output_type": "stream",
     "text": [
      " entry delay turned on.\n",
      "Pair: 40/40"
     ]
    }
   ],
   "source": [
    "results_without_costs, results_with_costs, performance_threshold_test = \\\n",
    "                            trader.apply_trading_strategy(profitable_pairs, \n",
    "                                                           'fixed_beta',\n",
    "                                                            2,#entry_multiplier,\n",
    "                                                            0,#exit_multiplier,\n",
    "                                                            test_mode=True,\n",
    "                                                            train_val_split=train_val_split\n",
    "                                                           )\n",
    "sharpe_results_threshold_test_nocosts, cum_returns_threshold_test_nocosts = results_without_costs\n",
    "sharpe_results_threshold_test_w_costs, cum_returns_threshold_test_w_costs = results_with_costs"
   ]
  },
  {
   "cell_type": "code",
   "execution_count": 23,
   "metadata": {},
   "outputs": [
    {
     "name": "stdout",
     "output_type": "stream",
     "text": [
      "Average SR:  0.8992877194354391\n",
      "Annual ROI:  9.381706380170328\n",
      "85.0 % of the pairs had positive returns\n",
      "Sharpe Ratio assumming IID returns:  2.2489359996714624\n",
      "Autocorrelation:  -0.05254732263628954\n",
      "Daily Sharpe Ratio 0.136640816352144\n",
      "Total number of trades:  108\n",
      "Positive trades:  89\n",
      "Negative trades:  19\n",
      "Max DD period: 11.0 days\n",
      "Maximum drawdown of portfolio: -1.82%\n"
     ]
    },
    {
     "data": {
      "image/png": "[encoded data removed]",
      "text/plain": [
       "<matplotlib.figure.Figure at 0x1218fbbe0>"
      ]
     },
     "metadata": {},
     "output_type": "display_data"
    }
   ],
   "source": [
    "results, pairs_summary = trader.summarize_results(sharpe_results_threshold_test_w_costs,\n",
    "                                                  cum_returns_threshold_test_w_costs,\n",
    "                                                  performance_threshold_test,\n",
    "                                                  profitable_pairs, ticker_segment_dict,\n",
    "                                                  n_years_test)"
   ]
  },
  {
   "cell_type": "code",
   "execution_count": 32,
   "metadata": {},
   "outputs": [
    {
     "name": "stdout",
     "output_type": "stream",
     "text": [
      "Corrected Annualized SR: 2.39\n"
     ]
    }
   ],
   "source": [
    "print('Corrected Annualized SR: {:.2f}'.format(0.136640816352144*17.47))"
   ]
  },
  {
   "cell_type": "markdown",
   "metadata": {},
   "source": [
    "### Approach 3: Keeping only top 10 pairs"
   ]
  },
  {
   "cell_type": "code",
   "execution_count": 24,
   "metadata": {},
   "outputs": [],
   "source": [
    "sharpe_results_threshold_train_w_costs = np.asarray(sharpe_results_threshold_train_w_costs)\n",
    "sorted_pairs_indices = np.argsort(sharpe_results_threshold_train_w_costs)[::-1][:10]\n",
    "top_10_pairs = [pairs[i] for i in sorted_pairs_indices.flatten()]"
   ]
  },
  {
   "cell_type": "code",
   "execution_count": 25,
   "metadata": {},
   "outputs": [],
   "source": [
    "# sorting by returns seems to give better results"
   ]
  },
  {
   "cell_type": "code",
   "execution_count": 26,
   "metadata": {},
   "outputs": [],
   "source": [
    "cum_returns_threshold_train_w_costs = np.asarray(cum_returns_threshold_train_w_costs)\n",
    "sorted_pairs_indices = np.argsort(cum_returns_threshold_train_w_costs)[::-1][:10]\n",
    "top_10_pairs = [pairs[i] for i in sorted_pairs_indices.flatten()]"
   ]
  },
  {
   "cell_type": "code",
   "execution_count": 27,
   "metadata": {},
   "outputs": [
    {
     "name": "stdout",
     "output_type": "stream",
     "text": [
      " entry delay turned on.\n",
      "Pair: 10/10"
     ]
    }
   ],
   "source": [
    "results_without_costs, results_with_costs, performance_threshold_test = \\\n",
    "                            trader.apply_trading_strategy(top_10_pairs, \n",
    "                                                           'fixed_beta',\n",
    "                                                            2,#entry_multiplier,\n",
    "                                                            0,#exit_multiplier,\n",
    "                                                            test_mode=True,\n",
    "                                                            train_val_split=train_val_split\n",
    "                                                           )\n",
    "sharpe_results_threshold_test_nocosts, cum_returns_threshold_test_nocosts = results_without_costs\n",
    "sharpe_results_threshold_test_w_costs, cum_returns_threshold_test_w_costs = results_with_costs"
   ]
  },
  {
   "cell_type": "code",
   "execution_count": 28,
   "metadata": {},
   "outputs": [
    {
     "name": "stdout",
     "output_type": "stream",
     "text": [
      "Average SR:  1.5155900958540924\n",
      "Annual ROI:  17.808349803827394\n",
      "90.0 % of the pairs had positive returns\n",
      "Sharpe Ratio assumming IID returns:  3.677229249185371\n",
      "Autocorrelation:  -0.06509842139503187\n",
      "Daily Sharpe Ratio 0.2147284989604078\n",
      "Total number of trades:  39\n",
      "Positive trades:  36\n",
      "Negative trades:  3\n",
      "Max DD period: 3.0 days\n",
      "Maximum drawdown of portfolio: -2.09%\n"
     ]
    },
    {
     "data": {
      "image/png": "[encoded data removed]",
      "text/plain": [
       "<matplotlib.figure.Figure at 0x132060f28>"
      ]
     },
     "metadata": {},
     "output_type": "display_data"
    }
   ],
   "source": [
    "results, pairs_summary = trader.summarize_results(sharpe_results_threshold_test_w_costs,\n",
    "                                                  cum_returns_threshold_test_w_costs,\n",
    "                                                  performance_threshold_test,\n",
    "                                                  top_10_pairs, ticker_segment_dict,\n",
    "                                                  n_years_test)"
   ]
  },
  {
   "cell_type": "code",
   "execution_count": 33,
   "metadata": {},
   "outputs": [
    {
     "name": "stdout",
     "output_type": "stream",
     "text": [
      "Corrected Annualized SR: 3.75\n"
     ]
    }
   ],
   "source": [
    "print('Corrected Annualized SR: {:.2f}'.format(0.2147284989604078*17.47))"
   ]
  },
  {
   "cell_type": "markdown",
   "metadata": {},
   "source": [
    "# Validate the results"
   ]
  },
  {
   "cell_type": "code",
   "execution_count": 35,
   "metadata": {
    "scrolled": false
   },
   "outputs": [
    {
     "data": {
      "text/html": [
       "<div>\n",
       "<style scoped>\n",
       "    .dataframe tbody tr th:only-of-type {\n",
       "        vertical-align: middle;\n",
       "    }\n",
       "\n",
       "    .dataframe tbody tr th {\n",
       "        vertical-align: top;\n",
       "    }\n",
       "\n",
       "    .dataframe thead th {\n",
       "        text-align: right;\n",
       "    }\n",
       "</style>\n",
       "<table border=\"1\" class=\"dataframe\">\n",
       "  <thead>\n",
       "    <tr style=\"text-align: right;\">\n",
       "      <th></th>\n",
       "      <th>Leg1</th>\n",
       "      <th>Leg1_Segmt</th>\n",
       "      <th>Leg2</th>\n",
       "      <th>Leg2_Segmt</th>\n",
       "      <th>t_statistic</th>\n",
       "      <th>p_value</th>\n",
       "      <th>zero_cross</th>\n",
       "      <th>half_life</th>\n",
       "      <th>hurst_exponent</th>\n",
       "      <th>positive_trades</th>\n",
       "      <th>negative_trades</th>\n",
       "      <th>sharpe_result</th>\n",
       "      <th>positive_trades_per_pair_pct</th>\n",
       "    </tr>\n",
       "  </thead>\n",
       "  <tbody>\n",
       "    <tr>\n",
       "      <th>0</th>\n",
       "      <td>BCM</td>\n",
       "      <td>Commodities: Broad Market</td>\n",
       "      <td>DJCI</td>\n",
       "      <td>Commodities: Broad Market</td>\n",
       "      <td>-3.771536</td>\n",
       "      <td>0.003212</td>\n",
       "      <td>392</td>\n",
       "      <td>111</td>\n",
       "      <td>0.297978</td>\n",
       "      <td>17</td>\n",
       "      <td>2</td>\n",
       "      <td>4.151694</td>\n",
       "      <td>89.473684</td>\n",
       "    </tr>\n",
       "    <tr>\n",
       "      <th>1</th>\n",
       "      <td>AGQ</td>\n",
       "      <td>Leveraged Commodities: Precious Metals Silver</td>\n",
       "      <td>GOEX</td>\n",
       "      <td>Equity: Global Gold Miners</td>\n",
       "      <td>-3.641566</td>\n",
       "      <td>0.005014</td>\n",
       "      <td>200</td>\n",
       "      <td>1581</td>\n",
       "      <td>0.443185</td>\n",
       "      <td>5</td>\n",
       "      <td>0</td>\n",
       "      <td>2.896705</td>\n",
       "      <td>100.000000</td>\n",
       "    </tr>\n",
       "    <tr>\n",
       "      <th>2</th>\n",
       "      <td>DBS</td>\n",
       "      <td>Commodities: Precious Metals Silver</td>\n",
       "      <td>GDXJ</td>\n",
       "      <td>Equity: Global Gold Miners</td>\n",
       "      <td>-3.453385</td>\n",
       "      <td>0.009268</td>\n",
       "      <td>468</td>\n",
       "      <td>1309</td>\n",
       "      <td>0.412529</td>\n",
       "      <td>4</td>\n",
       "      <td>0</td>\n",
       "      <td>1.682033</td>\n",
       "      <td>100.000000</td>\n",
       "    </tr>\n",
       "    <tr>\n",
       "      <th>3</th>\n",
       "      <td>OIH</td>\n",
       "      <td>Equity: Global Oil &amp; Gas Equipment &amp; Services</td>\n",
       "      <td>XOP</td>\n",
       "      <td>Equity: U.S. Oil &amp; Gas Exploration &amp; Production</td>\n",
       "      <td>-4.950624</td>\n",
       "      <td>0.000028</td>\n",
       "      <td>721</td>\n",
       "      <td>678</td>\n",
       "      <td>0.484755</td>\n",
       "      <td>1</td>\n",
       "      <td>0</td>\n",
       "      <td>1.407056</td>\n",
       "      <td>100.000000</td>\n",
       "    </tr>\n",
       "    <tr>\n",
       "      <th>4</th>\n",
       "      <td>XME</td>\n",
       "      <td>Equity: U.S. Metals &amp; Mining</td>\n",
       "      <td>LIT</td>\n",
       "      <td>Equity: Global Metals &amp; Mining</td>\n",
       "      <td>-4.331598</td>\n",
       "      <td>0.000391</td>\n",
       "      <td>749</td>\n",
       "      <td>516</td>\n",
       "      <td>0.392483</td>\n",
       "      <td>1</td>\n",
       "      <td>1</td>\n",
       "      <td>1.298808</td>\n",
       "      <td>50.000000</td>\n",
       "    </tr>\n",
       "    <tr>\n",
       "      <th>5</th>\n",
       "      <td>AGQ</td>\n",
       "      <td>Leveraged Commodities: Precious Metals Silver</td>\n",
       "      <td>GDXJ</td>\n",
       "      <td>Equity: Global Gold Miners</td>\n",
       "      <td>-3.998006</td>\n",
       "      <td>0.001421</td>\n",
       "      <td>425</td>\n",
       "      <td>1103</td>\n",
       "      <td>0.472849</td>\n",
       "      <td>2</td>\n",
       "      <td>0</td>\n",
       "      <td>1.232410</td>\n",
       "      <td>100.000000</td>\n",
       "    </tr>\n",
       "    <tr>\n",
       "      <th>6</th>\n",
       "      <td>GLTR</td>\n",
       "      <td>Commodities: Precious Metals</td>\n",
       "      <td>SIL</td>\n",
       "      <td>Equity: Global Silver Miners</td>\n",
       "      <td>-3.908674</td>\n",
       "      <td>0.001972</td>\n",
       "      <td>525</td>\n",
       "      <td>567</td>\n",
       "      <td>0.418344</td>\n",
       "      <td>4</td>\n",
       "      <td>0</td>\n",
       "      <td>0.959748</td>\n",
       "      <td>100.000000</td>\n",
       "    </tr>\n",
       "    <tr>\n",
       "      <th>7</th>\n",
       "      <td>DBS</td>\n",
       "      <td>Commodities: Precious Metals Silver</td>\n",
       "      <td>GDX</td>\n",
       "      <td>Equity: Global Gold Miners</td>\n",
       "      <td>-3.759663</td>\n",
       "      <td>0.003348</td>\n",
       "      <td>562</td>\n",
       "      <td>1019</td>\n",
       "      <td>0.406453</td>\n",
       "      <td>1</td>\n",
       "      <td>0</td>\n",
       "      <td>0.918164</td>\n",
       "      <td>100.000000</td>\n",
       "    </tr>\n",
       "    <tr>\n",
       "      <th>8</th>\n",
       "      <td>DBS</td>\n",
       "      <td>Commodities: Precious Metals Silver</td>\n",
       "      <td>SIL</td>\n",
       "      <td>Equity: Global Silver Miners</td>\n",
       "      <td>-3.537312</td>\n",
       "      <td>0.007079</td>\n",
       "      <td>545</td>\n",
       "      <td>674</td>\n",
       "      <td>0.411208</td>\n",
       "      <td>1</td>\n",
       "      <td>0</td>\n",
       "      <td>0.609283</td>\n",
       "      <td>100.000000</td>\n",
       "    </tr>\n",
       "    <tr>\n",
       "      <th>9</th>\n",
       "      <td>AGQ</td>\n",
       "      <td>Leveraged Commodities: Precious Metals Silver</td>\n",
       "      <td>GDX</td>\n",
       "      <td>Equity: Global Gold Miners</td>\n",
       "      <td>-4.024961</td>\n",
       "      <td>0.001285</td>\n",
       "      <td>397</td>\n",
       "      <td>1103</td>\n",
       "      <td>0.477619</td>\n",
       "      <td>0</td>\n",
       "      <td>0</td>\n",
       "      <td>0.000000</td>\n",
       "      <td>NaN</td>\n",
       "    </tr>\n",
       "  </tbody>\n",
       "</table>\n",
       "</div>"
      ],
      "text/plain": [
       "   Leg1                                     Leg1_Segmt  Leg2  \\\n",
       "0   BCM                      Commodities: Broad Market  DJCI   \n",
       "1   AGQ  Leveraged Commodities: Precious Metals Silver  GOEX   \n",
       "2   DBS            Commodities: Precious Metals Silver  GDXJ   \n",
       "3   OIH  Equity: Global Oil & Gas Equipment & Services   XOP   \n",
       "4   XME                   Equity: U.S. Metals & Mining   LIT   \n",
       "5   AGQ  Leveraged Commodities: Precious Metals Silver  GDXJ   \n",
       "6  GLTR                   Commodities: Precious Metals   SIL   \n",
       "7   DBS            Commodities: Precious Metals Silver   GDX   \n",
       "8   DBS            Commodities: Precious Metals Silver   SIL   \n",
       "9   AGQ  Leveraged Commodities: Precious Metals Silver   GDX   \n",
       "\n",
       "                                        Leg2_Segmt  t_statistic   p_value  \\\n",
       "0                        Commodities: Broad Market    -3.771536  0.003212   \n",
       "1                       Equity: Global Gold Miners    -3.641566  0.005014   \n",
       "2                       Equity: Global Gold Miners    -3.453385  0.009268   \n",
       "3  Equity: U.S. Oil & Gas Exploration & Production    -4.950624  0.000028   \n",
       "4                   Equity: Global Metals & Mining    -4.331598  0.000391   \n",
       "5                       Equity: Global Gold Miners    -3.998006  0.001421   \n",
       "6                     Equity: Global Silver Miners    -3.908674  0.001972   \n",
       "7                       Equity: Global Gold Miners    -3.759663  0.003348   \n",
       "8                     Equity: Global Silver Miners    -3.537312  0.007079   \n",
       "9                       Equity: Global Gold Miners    -4.024961  0.001285   \n",
       "\n",
       "   zero_cross  half_life  hurst_exponent  positive_trades  negative_trades  \\\n",
       "0         392        111        0.297978               17                2   \n",
       "1         200       1581        0.443185                5                0   \n",
       "2         468       1309        0.412529                4                0   \n",
       "3         721        678        0.484755                1                0   \n",
       "4         749        516        0.392483                1                1   \n",
       "5         425       1103        0.472849                2                0   \n",
       "6         525        567        0.418344                4                0   \n",
       "7         562       1019        0.406453                1                0   \n",
       "8         545        674        0.411208                1                0   \n",
       "9         397       1103        0.477619                0                0   \n",
       "\n",
       "   sharpe_result  positive_trades_per_pair_pct  \n",
       "0       4.151694                     89.473684  \n",
       "1       2.896705                    100.000000  \n",
       "2       1.682033                    100.000000  \n",
       "3       1.407056                    100.000000  \n",
       "4       1.298808                     50.000000  \n",
       "5       1.232410                    100.000000  \n",
       "6       0.959748                    100.000000  \n",
       "7       0.918164                    100.000000  \n",
       "8       0.609283                    100.000000  \n",
       "9       0.000000                           NaN  "
      ]
     },
     "execution_count": 35,
     "metadata": {},
     "output_type": "execute_result"
    }
   ],
   "source": [
    "pairs_summary"
   ]
  }
 ],
 "metadata": {
  "kernelspec": {
   "display_name": "Python [conda root]",
   "language": "python",
   "name": "conda-root-py"
  },
  "language_info": {
   "codemirror_mode": {
    "name": "ipython",
    "version": 3
   },
   "file_extension": ".py",
   "mimetype": "text/x-python",
   "name": "python",
   "nbconvert_exporter": "python",
   "pygments_lexer": "ipython3",
   "version": "3.6.0"
  }
 },
 "nbformat": 4,
 "nbformat_minor": 2
}
