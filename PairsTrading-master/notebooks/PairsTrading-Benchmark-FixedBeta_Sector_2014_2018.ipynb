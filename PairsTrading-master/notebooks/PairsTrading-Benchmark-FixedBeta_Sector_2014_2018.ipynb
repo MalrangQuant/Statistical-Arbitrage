{
 "cells": [
  {
   "cell_type": "markdown",
   "metadata": {},
   "source": [
    "# A Pairs Trading strategy \n",
    "\n",
    "**Author:** Simão Moraes Sarmento <br /> \n",
    "**Contact:** simaosarmento@hotmail.com"
   ]
  },
  {
   "cell_type": "markdown",
   "metadata": {},
   "source": [
    "## Dependencies\n",
    "\n",
    "This notebook requires code from:\n",
    "\n",
    "Python files:\n",
    "- `class_SeriesAnalyser.py` - contains a set of functions to deal with time series analysis.\n",
    "- `class_Trader.py` - contains a set of functions concerning trading strategies.\n",
    "- `class_DataProcessor.py` - contains a set of functions concerning the data pre processing.\n",
    "\n",
    "Pickle files:\n",
    "- pickle file containing pairs to be traded (obtained from running `PairsTrading_CommodityETFs-Clustering.ipynb`)\n",
    "\n",
    "As a good practise, the notebook solely intends to exemplify the application of different trading strategies for different dataset. Please look into the files menitoned above for more detailed info on how the functions are built."
   ]
  },
  {
   "cell_type": "markdown",
   "metadata": {},
   "source": [
    "### Import Libraries"
   ]
  },
  {
   "cell_type": "code",
   "execution_count": 2,
   "metadata": {},
   "outputs": [],
   "source": [
    "import numpy as np\n",
    "import pandas as pd\n",
    "import pickle\n",
    "import matplotlib.pyplot as plt\n",
    "\n",
    "# just set the seed for the random number generator\n",
    "np.random.seed(107)"
   ]
  },
  {
   "cell_type": "code",
   "execution_count": 3,
   "metadata": {},
   "outputs": [],
   "source": [
    "ticker_path = \"data/etfs/pickle/ticker_segment_dict.pickle\"\n",
    "with open(ticker_path, 'rb') as handle:\n",
    "    ticker_segment_dict = pickle.load(handle)"
   ]
  },
  {
   "cell_type": "markdown",
   "metadata": {},
   "source": [
    "### Import Classes"
   ]
  },
  {
   "cell_type": "code",
   "execution_count": 5,
   "metadata": {},
   "outputs": [],
   "source": [
    "%load_ext autoreload\n",
    "%aimport class_SeriesAnalyser, class_Trader, class_DataProcessor\n",
    "%autoreload 1"
   ]
  },
  {
   "cell_type": "code",
   "execution_count": 6,
   "metadata": {},
   "outputs": [],
   "source": [
    "series_analyser = class_SeriesAnalyser.SeriesAnalyser()\n",
    "trader = class_Trader.Trader()\n",
    "data_processor = class_DataProcessor.DataProcessor()"
   ]
  },
  {
   "cell_type": "markdown",
   "metadata": {},
   "source": [
    "# Retrieve prices data set"
   ]
  },
  {
   "cell_type": "markdown",
   "metadata": {},
   "source": [
    "We start by retrieving the data from a Dataframe saved in a pickle file, as it was previously processed in the `PairsTrading_CommodityETFS_Datapreprocessing.ipynb` notebook."
   ]
  },
  {
   "cell_type": "code",
   "execution_count": 7,
   "metadata": {},
   "outputs": [],
   "source": [
    "# intraday\n",
    "df_prices = pd.read_pickle('data/etfs/pickle/commodity_ETFs_from_2014_complete.pickle')"
   ]
  },
  {
   "cell_type": "code",
   "execution_count": 8,
   "metadata": {},
   "outputs": [
    {
     "name": "stdout",
     "output_type": "stream",
     "text": [
      "Total of 116 tickers\n",
      "Total of 116 tickers after removing tickers with Nan values\n"
     ]
    }
   ],
   "source": [
    "# split data in training and test\n",
    "df_prices_train, df_prices_test = data_processor.split_data(df_prices,\n",
    "                                                            ('01-01-2014',\n",
    "                                                             '31-12-2016'),\n",
    "                                                            ('01-01-2017',\n",
    "                                                             '31-12-2017'),\n",
    "                                                            remove_nan=True)"
   ]
  },
  {
   "cell_type": "code",
   "execution_count": 9,
   "metadata": {},
   "outputs": [
    {
     "data": {
      "text/plain": [
       "78258"
      ]
     },
     "execution_count": 9,
     "metadata": {},
     "output_type": "execute_result"
    }
   ],
   "source": [
    "len(df_prices_train)+len(df_prices_test)"
   ]
  },
  {
   "cell_type": "markdown",
   "metadata": {},
   "source": [
    "# Load Pairs"
   ]
  },
  {
   "cell_type": "code",
   "execution_count": 10,
   "metadata": {},
   "outputs": [],
   "source": [
    "with open('data/etfs/pickle/2014-2018/pairs_category_intraday.pickle', 'rb') as handle:\n",
    "    pairs = pickle.load(handle)"
   ]
  },
  {
   "cell_type": "code",
   "execution_count": 12,
   "metadata": {},
   "outputs": [
    {
     "data": {
      "text/plain": [
       "51"
      ]
     },
     "execution_count": 12,
     "metadata": {},
     "output_type": "execute_result"
    }
   ],
   "source": [
    "len(pairs)"
   ]
  },
  {
   "cell_type": "markdown",
   "metadata": {},
   "source": [
    "# Apply trading strategies"
   ]
  },
  {
   "cell_type": "markdown",
   "metadata": {},
   "source": [
    "**Applying the fixed beta strategy in validation period**"
   ]
  },
  {
   "cell_type": "code",
   "execution_count": 13,
   "metadata": {},
   "outputs": [
    {
     "data": {
      "text/plain": [
       "1"
      ]
     },
     "execution_count": 13,
     "metadata": {},
     "output_type": "execute_result"
    }
   ],
   "source": [
    "train_val_split = '2016-01-01'\n",
    "\n",
    "# intraday\n",
    "n_years_val = round(len(df_prices_train[train_val_split:])/(240*78))\n",
    "\n",
    "# interday\n",
    "#n_years_val = round(len(df_prices_train)/(240))\n",
    "\n",
    "n_years_val"
   ]
  },
  {
   "cell_type": "code",
   "execution_count": 14,
   "metadata": {},
   "outputs": [
    {
     "name": "stdout",
     "output_type": "stream",
     "text": [
      " entry delay turned on.\n",
      "Pair: 51/51"
     ]
    }
   ],
   "source": [
    "train_results_without_costs, train_results_with_costs, performance_threshold_train = \\\n",
    "        trader.apply_trading_strategy(pairs, \n",
    "                                       'fixed_beta',\n",
    "                                        2,#entry_multiplier,\n",
    "                                        0,#exit_multiplier,\n",
    "                                        test_mode=False,\n",
    "                                        train_val_split=train_val_split\n",
    "                                       )\n",
    "\n",
    "sharpe_results_threshold_train_nocosts, cum_returns_threshold_train_nocosts = train_results_without_costs\n",
    "sharpe_results_threshold_train_w_costs, cum_returns_threshold_train_w_costs = train_results_with_costs"
   ]
  },
  {
   "cell_type": "code",
   "execution_count": 15,
   "metadata": {},
   "outputs": [
    {
     "name": "stdout",
     "output_type": "stream",
     "text": [
      "Average SR:  1.7583849176779973\n",
      "Annual ROI:  27.353628755078073\n",
      "92.15686274509804 % of the pairs had positive returns\n",
      "Sharpe Ratio assumming IID returns:  5.933038995347315\n",
      "Autocorrelation:  0.039432529669300574\n",
      "Daily Sharpe Ratio 0.3303484539093652\n",
      "Total number of trades:  145\n",
      "Positive trades:  127\n",
      "Negative trades:  18\n",
      "Max DD period: 3.0 days\n",
      "Maximum drawdown of portfolio: -2.46%\n"
     ]
    },
    {
     "data": {
      "image/png": "[encoded data removed]",
      "text/plain": [
       "<matplotlib.figure.Figure at 0x12773b278>"
      ]
     },
     "metadata": {},
     "output_type": "display_data"
    }
   ],
   "source": [
    "results, pairs_summary = trader.summarize_results(sharpe_results_threshold_train_w_costs,\n",
    "                                                  cum_returns_threshold_train_w_costs,\n",
    "                                                  performance_threshold_train,\n",
    "                                                  pairs, ticker_segment_dict,\n",
    "                                                  n_years_val)"
   ]
  },
  {
   "cell_type": "code",
   "execution_count": 32,
   "metadata": {},
   "outputs": [
    {
     "name": "stdout",
     "output_type": "stream",
     "text": [
      "Corrected Annualized SR: 5.24\n"
     ]
    }
   ],
   "source": [
    "print('Corrected Annualized SR: {:.2f}'.format(0.3303484539093652*(252**0.5)))"
   ]
  },
  {
   "cell_type": "code",
   "execution_count": 16,
   "metadata": {},
   "outputs": [
    {
     "name": "stdout",
     "output_type": "stream",
     "text": [
      "Sharpe Ratio Distribution: \n"
     ]
    },
    {
     "data": {
      "image/png": "[encoded data removed]",
      "text/plain": [
       "<matplotlib.figure.Figure at 0x12c96b198>"
      ]
     },
     "metadata": {},
     "output_type": "display_data"
    }
   ],
   "source": [
    "print('Sharpe Ratio Distribution: ')\n",
    "n, bins, patches = plt.hist(sharpe_results_threshold_train_w_costs, bins = 16, normed=True, orientation='vertical',\n",
    "                            color='red', rwidth=0.9, align='mid')"
   ]
  },
  {
   "cell_type": "code",
   "execution_count": 17,
   "metadata": {},
   "outputs": [],
   "source": [
    "#cum_returns_threshold_train_w_costs"
   ]
  },
  {
   "cell_type": "code",
   "execution_count": 18,
   "metadata": {},
   "outputs": [
    {
     "data": {
      "text/plain": [
       "array([ 1.63886871,  0.80420701,  1.42040979,  0.52994945,  0.54473982,\n",
       "        0.70408286,  0.4748504 ,  2.86102543,  0.76690102,  0.4026628 ,\n",
       "        2.99238613,  0.48615418,  0.54129414,  2.28254709,  0.52498535,\n",
       "        0.54170911,  2.05768111,  1.21077288,  0.24849713,  0.67796457,\n",
       "        0.48938092,  1.29708082,  0.99117013,  3.2681989 ,  0.39953017,\n",
       "        0.36711198,  0.44078   ,  0.9246868 ,  1.10015149,  0.35246739,\n",
       "        0.36550481,  0.83662887,  0.76490773,  2.46892451,  0.44675325,\n",
       "        0.03449643,  0.89761846,  0.31985708,  0.69568602,  0.28813701,\n",
       "        1.41975687,  0.92548624,  0.64018377,  0.66050782,  0.35249098,\n",
       "        0.36256579,  0.35973865, 25.67042149,  1.47585815,  1.60930243,\n",
       "        0.29230698])"
      ]
     },
     "execution_count": 18,
     "metadata": {},
     "output_type": "execute_result"
    }
   ],
   "source": [
    "betas = list()\n",
    "for i in range(len(pairs)):\n",
    "    betas.append(pairs[i][2]['coint_coef'])\n",
    "np.asarray(betas)"
   ]
  },
  {
   "cell_type": "markdown",
   "metadata": {},
   "source": [
    "# Out of Sample Analysis\n",
    "\n",
    "In this section, we analyze the performance of the strategy in the validation dataset. \n",
    "\n",
    "We proceed with some data exploration analysis. For this purpose we will do the following:\n",
    "\n",
    "- Analyze which percentage of the identified pairs are still cointegrated in the validation period.\n",
    "- Analyze which percentage of pairs have positive returns, and how many of those are still cointegrated.\n",
    "- Analyze how many new pais were not identified to be cointegrated up to the validation period.\n",
    "- Run strategy for identified pairs in training period.\n",
    "\n",
    "This analysis will help us getting some insight into how the cointegrated pairs vary from time to time, and therefore how we should allocate our resources to predict when pairs are not cointegrated anymore."
   ]
  },
  {
   "cell_type": "markdown",
   "metadata": {},
   "source": [
    "## Applying the Strategy out-of Sample\n",
    "\n",
    "We might want to apply the strategy in all pairs identified. Or, instead, we might prefer to apply the strategy only on those pairs that turned out to be profitable. Let's compare how both approaches work:"
   ]
  },
  {
   "cell_type": "code",
   "execution_count": 19,
   "metadata": {},
   "outputs": [
    {
     "data": {
      "text/plain": [
       "1"
      ]
     },
     "execution_count": 19,
     "metadata": {},
     "output_type": "execute_result"
    }
   ],
   "source": [
    "# intraday\n",
    "n_years_test = round(len(df_prices_test)/(240*78))\n",
    "\n",
    "# interday\n",
    "#n_years_test = round(len(df_prices_test)/(240))\n",
    "\n",
    "n_years_test"
   ]
  },
  {
   "cell_type": "markdown",
   "metadata": {},
   "source": [
    "### Approach 1: Unrestricted"
   ]
  },
  {
   "cell_type": "markdown",
   "metadata": {},
   "source": [
    "**Basic Threshold Strategy**"
   ]
  },
  {
   "cell_type": "code",
   "execution_count": 20,
   "metadata": {},
   "outputs": [
    {
     "name": "stdout",
     "output_type": "stream",
     "text": [
      " entry delay turned on.\n",
      "Pair: 51/51"
     ]
    }
   ],
   "source": [
    "results_without_costs, results_with_costs, performance_threshold_test = \\\n",
    "                            trader.apply_trading_strategy(pairs, \n",
    "                                                           'fixed_beta',\n",
    "                                                            2,#entry_multiplier,\n",
    "                                                            0,#exit_multiplier,\n",
    "                                                            test_mode=True,\n",
    "                                                            train_val_split=train_val_split\n",
    "                                                           )\n",
    "sharpe_results_threshold_test_nocosts, cum_returns_threshold_test_nocosts = results_without_costs\n",
    "sharpe_results_threshold_test_w_costs, cum_returns_threshold_test_w_costs = results_with_costs"
   ]
  },
  {
   "cell_type": "code",
   "execution_count": 21,
   "metadata": {
    "scrolled": false
   },
   "outputs": [
    {
     "name": "stdout",
     "output_type": "stream",
     "text": [
      "Average SR:  0.5197491155270365\n",
      "Annual ROI:  7.862648797636029\n",
      "64.70588235294117 % of the pairs had positive returns\n",
      "Sharpe Ratio assumming IID returns:  2.0394098289040694\n",
      "Autocorrelation:  -0.09907142108718914\n",
      "Daily Sharpe Ratio 0.12411870028578668\n",
      "Total number of trades:  64\n",
      "Positive trades:  49\n",
      "Negative trades:  15\n",
      "Max DD period: 14.0 days\n",
      "Maximum drawdown of portfolio: -2.47%\n"
     ]
    },
    {
     "data": {
      "image/png": "[encoded data removed]",
      "text/plain": [
       "<matplotlib.figure.Figure at 0x12772a5c0>"
      ]
     },
     "metadata": {},
     "output_type": "display_data"
    }
   ],
   "source": [
    "results, pairs_summary = trader.summarize_results(sharpe_results_threshold_test_w_costs,\n",
    "                                                  cum_returns_threshold_test_w_costs,\n",
    "                                                  performance_threshold_test,\n",
    "                                                  pairs, ticker_segment_dict,\n",
    "                                                  n_years_test)"
   ]
  },
  {
   "cell_type": "code",
   "execution_count": 33,
   "metadata": {},
   "outputs": [
    {
     "name": "stdout",
     "output_type": "stream",
     "text": [
      "Corrected Annualized SR: 2.17\n"
     ]
    }
   ],
   "source": [
    "print('Corrected Annualized SR: {:.2f}'.format(0.12411870028578668*17.47))"
   ]
  },
  {
   "cell_type": "markdown",
   "metadata": {},
   "source": [
    "### Approach 2: Keeping only pairs that had positive returns in the training period"
   ]
  },
  {
   "cell_type": "code",
   "execution_count": 22,
   "metadata": {},
   "outputs": [],
   "source": [
    "cum_returns_threshold_train_w_costs = np.asarray(cum_returns_threshold_train_w_costs)\n",
    "profitable_pairs_indices = np.argwhere(cum_returns_threshold_train_w_costs > 0)\n",
    "profitable_pairs = [pairs[i] for i in profitable_pairs_indices.flatten()]"
   ]
  },
  {
   "cell_type": "code",
   "execution_count": 23,
   "metadata": {
    "scrolled": false
   },
   "outputs": [
    {
     "name": "stdout",
     "output_type": "stream",
     "text": [
      " entry delay turned on.\n",
      "Pair: 47/47"
     ]
    }
   ],
   "source": [
    "results_without_costs, results_with_costs, performance_threshold_test = \\\n",
    "                            trader.apply_trading_strategy(profitable_pairs, \n",
    "                                                           'fixed_beta',\n",
    "                                                            2,#entry_multiplier,\n",
    "                                                            0,#exit_multiplier,\n",
    "                                                            test_mode=True,\n",
    "                                                            train_val_split=train_val_split\n",
    "                                                           )\n",
    "sharpe_results_threshold_test_nocosts, cum_returns_threshold_test_nocosts = results_without_costs\n",
    "sharpe_results_threshold_test_w_costs, cum_returns_threshold_test_w_costs = results_with_costs"
   ]
  },
  {
   "cell_type": "code",
   "execution_count": 24,
   "metadata": {},
   "outputs": [
    {
     "name": "stdout",
     "output_type": "stream",
     "text": [
      "Average SR:  0.542074843651186\n",
      "Annual ROI:  8.422722186709342\n",
      "63.829787234042556 % of the pairs had positive returns\n"
     ]
    }
   ],
   "source": [
    "_, _, _, _ = trader.calculate_metrics(sharpe_results_threshold_test_w_costs, cum_returns_threshold_test_w_costs,\n",
    "                                      n_years_test)"
   ]
  },
  {
   "cell_type": "code",
   "execution_count": 25,
   "metadata": {},
   "outputs": [
    {
     "name": "stdout",
     "output_type": "stream",
     "text": [
      "Average SR:  0.542074843651186\n",
      "Annual ROI:  8.422722186709342\n",
      "63.829787234042556 % of the pairs had positive returns\n",
      "Sharpe Ratio assumming IID returns:  2.0145353128260672\n",
      "Autocorrelation:  -0.10105889630464142\n",
      "Daily Sharpe Ratio 0.12238852236042314\n",
      "Total number of trades:  54\n",
      "Positive trades:  43\n",
      "Negative trades:  11\n",
      "Max DD period: 16.0 days\n",
      "Maximum drawdown of portfolio: -2.67%\n"
     ]
    },
    {
     "data": {
      "image/png": "[encoded data removed]",
      "text/plain": [
       "<matplotlib.figure.Figure at 0x119c86748>"
      ]
     },
     "metadata": {},
     "output_type": "display_data"
    }
   ],
   "source": [
    "results, pairs_summary = trader.summarize_results(sharpe_results_threshold_test_w_costs,\n",
    "                                                  cum_returns_threshold_test_w_costs,\n",
    "                                                  performance_threshold_test,\n",
    "                                                  profitable_pairs, ticker_segment_dict,\n",
    "                                                  n_years_test)"
   ]
  },
  {
   "cell_type": "code",
   "execution_count": 34,
   "metadata": {},
   "outputs": [
    {
     "name": "stdout",
     "output_type": "stream",
     "text": [
      "Corrected Annualized SR: 2.14\n"
     ]
    }
   ],
   "source": [
    "print('Corrected Annualized SR: {:.2f}'.format(0.12238852236042314*17.47))"
   ]
  },
  {
   "cell_type": "markdown",
   "metadata": {},
   "source": [
    "### Approach 3: Keeping only top 10 pairs"
   ]
  },
  {
   "cell_type": "code",
   "execution_count": 26,
   "metadata": {},
   "outputs": [],
   "source": [
    "sharpe_results_threshold_train_w_costs = np.asarray(sharpe_results_threshold_train_w_costs)\n",
    "sorted_pairs_indices = np.argsort(sharpe_results_threshold_train_w_costs)[::-1][:10]\n",
    "top_10_pairs = [pairs[i] for i in sorted_pairs_indices.flatten()]"
   ]
  },
  {
   "cell_type": "code",
   "execution_count": 27,
   "metadata": {},
   "outputs": [],
   "source": [
    "# sorting by returns seems to give better results"
   ]
  },
  {
   "cell_type": "code",
   "execution_count": 28,
   "metadata": {},
   "outputs": [],
   "source": [
    "cum_returns_threshold_train_w_costs = np.asarray(cum_returns_threshold_train_w_costs)\n",
    "sorted_pairs_indices = np.argsort(cum_returns_threshold_train_w_costs)[::-1][:10]\n",
    "top_10_pairs = [pairs[i] for i in sorted_pairs_indices.flatten()]"
   ]
  },
  {
   "cell_type": "code",
   "execution_count": 29,
   "metadata": {},
   "outputs": [
    {
     "name": "stdout",
     "output_type": "stream",
     "text": [
      " entry delay turned on.\n",
      "Pair: 10/10"
     ]
    }
   ],
   "source": [
    "results_without_costs, results_with_costs, performance_threshold_test = \\\n",
    "                            trader.apply_trading_strategy(top_10_pairs, \n",
    "                                                           'fixed_beta',\n",
    "                                                            2,#entry_multiplier,\n",
    "                                                            0,#exit_multiplier,\n",
    "                                                            test_mode=True,\n",
    "                                                            train_val_split=train_val_split\n",
    "                                                           )\n",
    "sharpe_results_threshold_test_nocosts, cum_returns_threshold_test_nocosts = results_without_costs\n",
    "sharpe_results_threshold_test_w_costs, cum_returns_threshold_test_w_costs = results_with_costs"
   ]
  },
  {
   "cell_type": "code",
   "execution_count": 30,
   "metadata": {},
   "outputs": [
    {
     "name": "stdout",
     "output_type": "stream",
     "text": [
      "Average SR:  0.6487707020246009\n",
      "Annual ROI:  8.31342711575438\n",
      "90.0 % of the pairs had positive returns\n",
      "Sharpe Ratio assumming IID returns:  0.8027438431512045\n",
      "Autocorrelation:  -0.05396992751845838\n",
      "Daily Sharpe Ratio 0.05071277412387045\n",
      "Total number of trades:  13\n",
      "Positive trades:  12\n",
      "Negative trades:  1\n",
      "Max DD period: 16.0 days\n",
      "Maximum drawdown of portfolio: -8.91%\n"
     ]
    },
    {
     "data": {
      "image/png": "[encoded data removed]",
      "text/plain": [
       "<matplotlib.figure.Figure at 0x138ae43c8>"
      ]
     },
     "metadata": {},
     "output_type": "display_data"
    }
   ],
   "source": [
    "results, pairs_summary = trader.summarize_results(sharpe_results_threshold_test_w_costs,\n",
    "                                                  cum_returns_threshold_test_w_costs,\n",
    "                                                  performance_threshold_test,\n",
    "                                                  top_10_pairs, ticker_segment_dict,\n",
    "                                                  n_years_test)"
   ]
  },
  {
   "cell_type": "code",
   "execution_count": 35,
   "metadata": {},
   "outputs": [
    {
     "name": "stdout",
     "output_type": "stream",
     "text": [
      "Corrected Annualized SR: 0.89\n"
     ]
    }
   ],
   "source": [
    "print('Corrected Annualized SR: {:.2f}'.format(0.05071277412387045*17.47))"
   ]
  },
  {
   "cell_type": "code",
   "execution_count": 31,
   "metadata": {
    "scrolled": false
   },
   "outputs": [
    {
     "data": {
      "text/html": [
       "<div>\n",
       "<style scoped>\n",
       "    .dataframe tbody tr th:only-of-type {\n",
       "        vertical-align: middle;\n",
       "    }\n",
       "\n",
       "    .dataframe tbody tr th {\n",
       "        vertical-align: top;\n",
       "    }\n",
       "\n",
       "    .dataframe thead th {\n",
       "        text-align: right;\n",
       "    }\n",
       "</style>\n",
       "<table border=\"1\" class=\"dataframe\">\n",
       "  <thead>\n",
       "    <tr style=\"text-align: right;\">\n",
       "      <th></th>\n",
       "      <th>Leg1</th>\n",
       "      <th>Leg1_Segmt</th>\n",
       "      <th>Leg2</th>\n",
       "      <th>Leg2_Segmt</th>\n",
       "      <th>t_statistic</th>\n",
       "      <th>p_value</th>\n",
       "      <th>zero_cross</th>\n",
       "      <th>half_life</th>\n",
       "      <th>hurst_exponent</th>\n",
       "      <th>positive_trades</th>\n",
       "      <th>negative_trades</th>\n",
       "      <th>sharpe_result</th>\n",
       "      <th>positive_trades_per_pair_pct</th>\n",
       "    </tr>\n",
       "  </thead>\n",
       "  <tbody>\n",
       "    <tr>\n",
       "      <th>0</th>\n",
       "      <td>ENFR</td>\n",
       "      <td>Equity: U.S. MLPs</td>\n",
       "      <td>YMLI</td>\n",
       "      <td>Equity: U.S. MLPs</td>\n",
       "      <td>-4.045626</td>\n",
       "      <td>0.001190</td>\n",
       "      <td>609</td>\n",
       "      <td>124</td>\n",
       "      <td>0.218409</td>\n",
       "      <td>3</td>\n",
       "      <td>0</td>\n",
       "      <td>2.058766</td>\n",
       "      <td>100.0</td>\n",
       "    </tr>\n",
       "    <tr>\n",
       "      <th>1</th>\n",
       "      <td>PXJ</td>\n",
       "      <td>Equity: U.S. Oil &amp; Gas Equipment &amp; Services</td>\n",
       "      <td>USO</td>\n",
       "      <td>Commodities: Energy Crude Oil</td>\n",
       "      <td>-3.864739</td>\n",
       "      <td>0.002310</td>\n",
       "      <td>411</td>\n",
       "      <td>731</td>\n",
       "      <td>0.433987</td>\n",
       "      <td>1</td>\n",
       "      <td>0</td>\n",
       "      <td>1.475021</td>\n",
       "      <td>100.0</td>\n",
       "    </tr>\n",
       "    <tr>\n",
       "      <th>2</th>\n",
       "      <td>DBO</td>\n",
       "      <td>Commodities: Energy Crude Oil</td>\n",
       "      <td>PXJ</td>\n",
       "      <td>Equity: U.S. Oil &amp; Gas Equipment &amp; Services</td>\n",
       "      <td>-3.667985</td>\n",
       "      <td>0.004587</td>\n",
       "      <td>399</td>\n",
       "      <td>787</td>\n",
       "      <td>0.434291</td>\n",
       "      <td>1</td>\n",
       "      <td>0</td>\n",
       "      <td>1.438126</td>\n",
       "      <td>100.0</td>\n",
       "    </tr>\n",
       "    <tr>\n",
       "      <th>3</th>\n",
       "      <td>AMLP</td>\n",
       "      <td>Equity: U.S. MLPs</td>\n",
       "      <td>ENFR</td>\n",
       "      <td>Equity: U.S. MLPs</td>\n",
       "      <td>-3.631002</td>\n",
       "      <td>0.005195</td>\n",
       "      <td>801</td>\n",
       "      <td>219</td>\n",
       "      <td>0.284800</td>\n",
       "      <td>1</td>\n",
       "      <td>0</td>\n",
       "      <td>0.846866</td>\n",
       "      <td>100.0</td>\n",
       "    </tr>\n",
       "    <tr>\n",
       "      <th>4</th>\n",
       "      <td>PSCE</td>\n",
       "      <td>Equity: U.S. Energy</td>\n",
       "      <td>UNL</td>\n",
       "      <td>Commodities: Energy Natural Gas</td>\n",
       "      <td>-3.503207</td>\n",
       "      <td>0.007905</td>\n",
       "      <td>236</td>\n",
       "      <td>1149</td>\n",
       "      <td>0.455811</td>\n",
       "      <td>2</td>\n",
       "      <td>0</td>\n",
       "      <td>0.680468</td>\n",
       "      <td>100.0</td>\n",
       "    </tr>\n",
       "    <tr>\n",
       "      <th>5</th>\n",
       "      <td>XES</td>\n",
       "      <td>Equity: U.S. Oil &amp; Gas Equipment &amp; Services</td>\n",
       "      <td>UNL</td>\n",
       "      <td>Commodities: Energy Natural Gas</td>\n",
       "      <td>-3.463195</td>\n",
       "      <td>0.008984</td>\n",
       "      <td>393</td>\n",
       "      <td>1255</td>\n",
       "      <td>0.462842</td>\n",
       "      <td>1</td>\n",
       "      <td>0</td>\n",
       "      <td>0.636636</td>\n",
       "      <td>100.0</td>\n",
       "    </tr>\n",
       "    <tr>\n",
       "      <th>6</th>\n",
       "      <td>DTO</td>\n",
       "      <td>Inverse Commodities: Energy Crude Oil</td>\n",
       "      <td>KOLD</td>\n",
       "      <td>Inverse Commodities: Energy Natural Gas</td>\n",
       "      <td>-4.063344</td>\n",
       "      <td>0.001113</td>\n",
       "      <td>183</td>\n",
       "      <td>1233</td>\n",
       "      <td>0.478179</td>\n",
       "      <td>1</td>\n",
       "      <td>0</td>\n",
       "      <td>0.021187</td>\n",
       "      <td>100.0</td>\n",
       "    </tr>\n",
       "    <tr>\n",
       "      <th>7</th>\n",
       "      <td>SCO</td>\n",
       "      <td>Inverse Commodities: Energy Crude Oil</td>\n",
       "      <td>KOLD</td>\n",
       "      <td>Inverse Commodities: Energy Natural Gas</td>\n",
       "      <td>-3.820588</td>\n",
       "      <td>0.002704</td>\n",
       "      <td>347</td>\n",
       "      <td>1527</td>\n",
       "      <td>0.488263</td>\n",
       "      <td>1</td>\n",
       "      <td>0</td>\n",
       "      <td>0.004656</td>\n",
       "      <td>100.0</td>\n",
       "    </tr>\n",
       "    <tr>\n",
       "      <th>8</th>\n",
       "      <td>UGA</td>\n",
       "      <td>Commodities: Energy Gasoline</td>\n",
       "      <td>UNG</td>\n",
       "      <td>Commodities: Energy Natural Gas</td>\n",
       "      <td>-3.826968</td>\n",
       "      <td>0.002643</td>\n",
       "      <td>382</td>\n",
       "      <td>1259</td>\n",
       "      <td>0.489978</td>\n",
       "      <td>1</td>\n",
       "      <td>0</td>\n",
       "      <td>-0.067257</td>\n",
       "      <td>100.0</td>\n",
       "    </tr>\n",
       "    <tr>\n",
       "      <th>9</th>\n",
       "      <td>DBE</td>\n",
       "      <td>Commodities: Energy</td>\n",
       "      <td>UNL</td>\n",
       "      <td>Commodities: Energy Natural Gas</td>\n",
       "      <td>-3.780758</td>\n",
       "      <td>0.003110</td>\n",
       "      <td>335</td>\n",
       "      <td>925</td>\n",
       "      <td>0.445612</td>\n",
       "      <td>0</td>\n",
       "      <td>1</td>\n",
       "      <td>-0.606763</td>\n",
       "      <td>0.0</td>\n",
       "    </tr>\n",
       "  </tbody>\n",
       "</table>\n",
       "</div>"
      ],
      "text/plain": [
       "   Leg1                                   Leg1_Segmt  Leg2  \\\n",
       "0  ENFR                            Equity: U.S. MLPs  YMLI   \n",
       "1   PXJ  Equity: U.S. Oil & Gas Equipment & Services   USO   \n",
       "2   DBO                Commodities: Energy Crude Oil   PXJ   \n",
       "3  AMLP                            Equity: U.S. MLPs  ENFR   \n",
       "4  PSCE                          Equity: U.S. Energy   UNL   \n",
       "5   XES  Equity: U.S. Oil & Gas Equipment & Services   UNL   \n",
       "6   DTO        Inverse Commodities: Energy Crude Oil  KOLD   \n",
       "7   SCO        Inverse Commodities: Energy Crude Oil  KOLD   \n",
       "8   UGA                 Commodities: Energy Gasoline   UNG   \n",
       "9   DBE                          Commodities: Energy   UNL   \n",
       "\n",
       "                                    Leg2_Segmt  t_statistic   p_value  \\\n",
       "0                            Equity: U.S. MLPs    -4.045626  0.001190   \n",
       "1                Commodities: Energy Crude Oil    -3.864739  0.002310   \n",
       "2  Equity: U.S. Oil & Gas Equipment & Services    -3.667985  0.004587   \n",
       "3                            Equity: U.S. MLPs    -3.631002  0.005195   \n",
       "4              Commodities: Energy Natural Gas    -3.503207  0.007905   \n",
       "5              Commodities: Energy Natural Gas    -3.463195  0.008984   \n",
       "6      Inverse Commodities: Energy Natural Gas    -4.063344  0.001113   \n",
       "7      Inverse Commodities: Energy Natural Gas    -3.820588  0.002704   \n",
       "8              Commodities: Energy Natural Gas    -3.826968  0.002643   \n",
       "9              Commodities: Energy Natural Gas    -3.780758  0.003110   \n",
       "\n",
       "   zero_cross  half_life  hurst_exponent  positive_trades  negative_trades  \\\n",
       "0         609        124        0.218409                3                0   \n",
       "1         411        731        0.433987                1                0   \n",
       "2         399        787        0.434291                1                0   \n",
       "3         801        219        0.284800                1                0   \n",
       "4         236       1149        0.455811                2                0   \n",
       "5         393       1255        0.462842                1                0   \n",
       "6         183       1233        0.478179                1                0   \n",
       "7         347       1527        0.488263                1                0   \n",
       "8         382       1259        0.489978                1                0   \n",
       "9         335        925        0.445612                0                1   \n",
       "\n",
       "   sharpe_result  positive_trades_per_pair_pct  \n",
       "0       2.058766                         100.0  \n",
       "1       1.475021                         100.0  \n",
       "2       1.438126                         100.0  \n",
       "3       0.846866                         100.0  \n",
       "4       0.680468                         100.0  \n",
       "5       0.636636                         100.0  \n",
       "6       0.021187                         100.0  \n",
       "7       0.004656                         100.0  \n",
       "8      -0.067257                         100.0  \n",
       "9      -0.606763                           0.0  "
      ]
     },
     "execution_count": 31,
     "metadata": {},
     "output_type": "execute_result"
    }
   ],
   "source": [
    "pairs_summary"
   ]
  }
 ],
 "metadata": {
  "kernelspec": {
   "display_name": "Python [conda root]",
   "language": "python",
   "name": "conda-root-py"
  },
  "language_info": {
   "codemirror_mode": {
    "name": "ipython",
    "version": 3
   },
   "file_extension": ".py",
   "mimetype": "text/x-python",
   "name": "python",
   "nbconvert_exporter": "python",
   "pygments_lexer": "ipython3",
   "version": "3.6.0"
  }
 },
 "nbformat": 4,
 "nbformat_minor": 2
}
