{
 "cells": [
  {
   "cell_type": "markdown",
   "metadata": {},
   "source": [
    "# A Pairs Trading strategy \n",
    "\n",
    "**Author:** Simão Moraes Sarmento <br /> \n",
    "**Contact:** simaosarmento@hotmail.com"
   ]
  },
  {
   "cell_type": "markdown",
   "metadata": {},
   "source": [
    "## Dependencies\n",
    "\n",
    "This notebook requires code from:\n",
    "\n",
    "Python files:\n",
    "- `class_SeriesAnalyser.py` - contains a set of functions to deal with time series analysis.\n",
    "- `class_Trader.py` - contains a set of functions concerning trading strategies.\n",
    "- `class_DataProcessor.py` - contains a set of functions concerning the data pre processing.\n",
    "\n",
    "Pickle files:\n",
    "- pickle file containing pairs to be traded (obtained from running `PairsTrading_CommodityETFs-Clustering.ipynb`)\n",
    "\n",
    "As a good practise, the notebook solely intends to exemplify the application of different trading strategies for different dataset examples. Please look into the files menitoned above for more detailed info on how the functions are built."
   ]
  },
  {
   "cell_type": "markdown",
   "metadata": {},
   "source": [
    "### Import Libraries"
   ]
  },
  {
   "cell_type": "code",
   "execution_count": 1,
   "metadata": {},
   "outputs": [],
   "source": [
    "import numpy as np\n",
    "import pandas as pd\n",
    "import pickle\n",
    "import matplotlib.pyplot as plt\n",
    "\n",
    "# just set the seed for the random number generator\n",
    "np.random.seed(107)"
   ]
  },
  {
   "cell_type": "code",
   "execution_count": 2,
   "metadata": {},
   "outputs": [],
   "source": [
    "ticker_path = \"data/etfs/pickle/ticker_segment_dict.pickle\"\n",
    "with open(ticker_path, 'rb') as handle:\n",
    "    ticker_segment_dict = pickle.load(handle)"
   ]
  },
  {
   "cell_type": "markdown",
   "metadata": {},
   "source": [
    "### Import Classes"
   ]
  },
  {
   "cell_type": "code",
   "execution_count": 5,
   "metadata": {},
   "outputs": [],
   "source": [
    "%load_ext autoreload\n",
    "%aimport class_SeriesAnalyser, class_Trader, class_DataProcessor\n",
    "%autoreload 1"
   ]
  },
  {
   "cell_type": "code",
   "execution_count": 6,
   "metadata": {},
   "outputs": [],
   "source": [
    "series_analyser = class_SeriesAnalyser.SeriesAnalyser()\n",
    "trader = class_Trader.Trader()\n",
    "data_processor = class_DataProcessor.DataProcessor()"
   ]
  },
  {
   "cell_type": "markdown",
   "metadata": {},
   "source": [
    "# Retrieve prices data set"
   ]
  },
  {
   "cell_type": "markdown",
   "metadata": {},
   "source": [
    "We start by retrieving the data from a Dataframe saved in a pickle file, as it was previously processed in the `PairsTrading_CommodityETFS_Datapreprocessing.ipynb` notebook."
   ]
  },
  {
   "cell_type": "code",
   "execution_count": 7,
   "metadata": {},
   "outputs": [],
   "source": [
    "# intraday\n",
    "df_prices = pd.read_pickle('data/etfs/pickle/commodity_ETFs_from_2014_complete.pickle')"
   ]
  },
  {
   "cell_type": "code",
   "execution_count": 8,
   "metadata": {},
   "outputs": [
    {
     "name": "stdout",
     "output_type": "stream",
     "text": [
      "Total of 116 tickers\n",
      "Total of 105 tickers after removing tickers with Nan values\n"
     ]
    }
   ],
   "source": [
    "# split data in training and test\n",
    "df_prices_train, df_prices_test = data_processor.split_data(df_prices,\n",
    "                                                            ('01-01-2013',\n",
    "                                                             '31-12-2015'),\n",
    "                                                            ('01-01-2016',\n",
    "                                                             '31-12-2016'),\n",
    "                                                            remove_nan=True)"
   ]
  },
  {
   "cell_type": "code",
   "execution_count": 9,
   "metadata": {},
   "outputs": [
    {
     "data": {
      "text/plain": [
       "78222"
      ]
     },
     "execution_count": 9,
     "metadata": {},
     "output_type": "execute_result"
    }
   ],
   "source": [
    "len(df_prices_train)+len(df_prices_test)"
   ]
  },
  {
   "cell_type": "markdown",
   "metadata": {},
   "source": [
    "# Load Pairs"
   ]
  },
  {
   "cell_type": "code",
   "execution_count": 10,
   "metadata": {},
   "outputs": [],
   "source": [
    "#with open('data/etfs/pickle/2013-2017/pairs_unsupervised_learning_optical_intraday.pickle', 'rb') as handle:\n",
    "#    pairs = pickle.load(handle)\n",
    "\n",
    "with open('data/etfs/pickle/2013-2017/pairs_unsupervised_learning_optical_intraday_p005_seed0.pickle',\n",
    "          'rb') as handle:\n",
    "    pairs = pickle.load(handle)"
   ]
  },
  {
   "cell_type": "code",
   "execution_count": 12,
   "metadata": {},
   "outputs": [
    {
     "data": {
      "text/plain": [
       "40"
      ]
     },
     "execution_count": 12,
     "metadata": {},
     "output_type": "execute_result"
    }
   ],
   "source": [
    "len(pairs)"
   ]
  },
  {
   "cell_type": "markdown",
   "metadata": {},
   "source": [
    "# Apply trading strategies"
   ]
  },
  {
   "cell_type": "markdown",
   "metadata": {},
   "source": [
    "**Applying the fixed beta strategy in validation period**"
   ]
  },
  {
   "cell_type": "code",
   "execution_count": 13,
   "metadata": {},
   "outputs": [
    {
     "data": {
      "text/plain": [
       "1"
      ]
     },
     "execution_count": 13,
     "metadata": {},
     "output_type": "execute_result"
    }
   ],
   "source": [
    "train_val_split = '2015-01-01'\n",
    "\n",
    "# intraday\n",
    "n_years_val = round(len(df_prices_train[train_val_split:])/(240*78))\n",
    "\n",
    "# interday\n",
    "#n_years_val = round(len(df_prices_train)/(240))\n",
    "\n",
    "n_years_val"
   ]
  },
  {
   "cell_type": "code",
   "execution_count": 3,
   "metadata": {},
   "outputs": [
    {
     "ename": "NameError",
     "evalue": "name 'trader' is not defined",
     "output_type": "error",
     "traceback": [
      "\u001b[0;31m---------------------------------------------------------------------------\u001b[0m",
      "\u001b[0;31mNameError\u001b[0m                                 Traceback (most recent call last)",
      "\u001b[0;32m<ipython-input-3-98d713c528f8>\u001b[0m in \u001b[0;36m<module>\u001b[0;34m()\u001b[0m\n\u001b[0;32m----> 1\u001b[0;31m train_results_without_costs, train_results_with_costs, performance_threshold_train =         trader.apply_trading_strategy(pairs, \n\u001b[0m\u001b[1;32m      2\u001b[0m                                        \u001b[0;34m'fixed_beta'\u001b[0m\u001b[0;34m,\u001b[0m\u001b[0;34m\u001b[0m\u001b[0m\n\u001b[1;32m      3\u001b[0m                                         \u001b[0;36m2\u001b[0m\u001b[0;34m,\u001b[0m\u001b[0;31m#entry_multiplier,\u001b[0m\u001b[0;34m\u001b[0m\u001b[0m\n\u001b[1;32m      4\u001b[0m                                         \u001b[0;36m0\u001b[0m\u001b[0;34m,\u001b[0m\u001b[0;31m#exit_multiplier,\u001b[0m\u001b[0;34m\u001b[0m\u001b[0m\n\u001b[1;32m      5\u001b[0m                                         \u001b[0mtest_mode\u001b[0m\u001b[0;34m=\u001b[0m\u001b[0;32mFalse\u001b[0m\u001b[0;34m,\u001b[0m\u001b[0;34m\u001b[0m\u001b[0m\n",
      "\u001b[0;31mNameError\u001b[0m: name 'trader' is not defined"
     ]
    }
   ],
   "source": [
    "train_results_without_costs, train_results_with_costs, performance_threshold_train = \\\n",
    "        trader.apply_trading_strategy(pairs, \n",
    "                                       'fixed_beta',\n",
    "                                        2,#entry_multiplier,\n",
    "                                        0,#exit_multiplier,\n",
    "                                        test_mode=False,\n",
    "                                        train_val_split=train_val_split\n",
    "                                       )\n",
    "\n",
    "sharpe_results_threshold_train_nocosts, cum_returns_threshold_train_nocosts = train_results_without_costs\n",
    "sharpe_results_threshold_train_w_costs, cum_returns_threshold_train_w_costs = train_results_with_costs"
   ]
  },
  {
   "cell_type": "code",
   "execution_count": 15,
   "metadata": {},
   "outputs": [
    {
     "name": "stdout",
     "output_type": "stream",
     "text": [
      "Average SR:  1.4651719299145358\n",
      "Annual ROI:  10.955581285166026\n",
      "87.5 % of the pairs had positive returns\n",
      "Sharpe Ratio assumming IID returns:  5.993791873075803\n",
      "Autocorrelation:  -0.01074303996221513\n",
      "Daily Sharpe Ratio 0.3588425755795638\n",
      "Total number of trades:  157\n",
      "Positive trades:  131\n",
      "Negative trades:  26\n",
      "Max DD period: 7.0 days\n",
      "Maximum drawdown of portfolio: -0.55%\n"
     ]
    },
    {
     "data": {
      "image/png": "[encoded data removed]",
      "text/plain": [
       "<matplotlib.figure.Figure at 0x1234eb438>"
      ]
     },
     "metadata": {},
     "output_type": "display_data"
    }
   ],
   "source": [
    "results, pairs_summary = trader.summarize_results(sharpe_results_threshold_train_w_costs,\n",
    "                                                  cum_returns_threshold_train_w_costs,\n",
    "                                                  performance_threshold_train,\n",
    "                                                  pairs, ticker_segment_dict,\n",
    "                                                  n_years_val)"
   ]
  },
  {
   "cell_type": "code",
   "execution_count": 31,
   "metadata": {},
   "outputs": [
    {
     "name": "stdout",
     "output_type": "stream",
     "text": [
      "Corrected Annualized SR: 5.70\n"
     ]
    }
   ],
   "source": [
    "print('Corrected Annualized SR: {:.2f}'.format(0.3588425755795638*(252**0.5)))"
   ]
  },
  {
   "cell_type": "code",
   "execution_count": 16,
   "metadata": {},
   "outputs": [
    {
     "name": "stdout",
     "output_type": "stream",
     "text": [
      "Sharpe Ratio Distribution: \n"
     ]
    },
    {
     "data": {
      "image/png": "[encoded data removed]",
      "text/plain": [
       "<matplotlib.figure.Figure at 0x12350af28>"
      ]
     },
     "metadata": {},
     "output_type": "display_data"
    }
   ],
   "source": [
    "print('Sharpe Ratio Distribution: ')\n",
    "n, bins, patches = plt.hist(sharpe_results_threshold_train_w_costs, bins = 16, normed=True, orientation='vertical',\n",
    "                            color='red', rwidth=0.9, align='mid')"
   ]
  },
  {
   "cell_type": "code",
   "execution_count": 17,
   "metadata": {},
   "outputs": [],
   "source": [
    "#cum_returns_threshold_train_w_costs"
   ]
  },
  {
   "cell_type": "code",
   "execution_count": 18,
   "metadata": {},
   "outputs": [
    {
     "data": {
      "text/plain": [
       "array([1.00065216, 1.85857758, 1.82650352, 2.38656782, 0.23761356,\n",
       "       0.2322863 , 0.23963535, 2.43057765, 0.52140302, 0.21473549,\n",
       "       0.2111986 , 1.40329718, 0.56564481, 0.13970543, 0.0562345 ,\n",
       "       0.47041324, 0.41893223, 1.42913711, 0.57587538, 0.90244367,\n",
       "       0.74707641, 0.34742619, 1.64568947, 0.40169478, 1.97136786,\n",
       "       0.6740714 , 1.16529968, 0.66825491, 0.30150536, 0.44739192,\n",
       "       0.77402251, 1.67031283, 0.46674424, 4.27945843, 1.95294305,\n",
       "       0.66013011, 2.76642467, 0.71078962, 0.70179919, 1.06348963])"
      ]
     },
     "execution_count": 18,
     "metadata": {},
     "output_type": "execute_result"
    }
   ],
   "source": [
    "betas = list()\n",
    "for i in range(len(pairs)):\n",
    "    betas.append(pairs[i][2]['coint_coef'])\n",
    "np.asarray(betas)"
   ]
  },
  {
   "cell_type": "markdown",
   "metadata": {},
   "source": [
    "# Out of Sample Analysis\n",
    "\n",
    "In this section, we analyze the performance of the strategy in the validation dataset. \n",
    "\n",
    "We proceed with some data exploration analysis. For this purpose we will do the following:\n",
    "\n",
    "- Analyze which percentage of the identified pairs are still cointegrated in the validation period.\n",
    "- Analyze which percentage of pairs have positive returns, and how many of those are still cointegrated.\n",
    "- Analyze how many new pais were not identified to be cointegrated up to the validation period.\n",
    "- Run strategy for identified pairs in training period.\n",
    "\n",
    "This analysis will help us getting some insight into how the cointegrated pairs vary from time to time, and therefore how we should allocate our resources to predict when pairs are not cointegrated anymore."
   ]
  },
  {
   "cell_type": "markdown",
   "metadata": {},
   "source": [
    "## Applying the Strategy out-of Sample\n",
    "\n",
    "We might want to apply the strategy in all pairs identified. Or, instead, we might prefer to apply the strategy only on those pairs that turned out to be profitable. Let's compare how both approaches work:"
   ]
  },
  {
   "cell_type": "code",
   "execution_count": 19,
   "metadata": {},
   "outputs": [
    {
     "data": {
      "text/plain": [
       "1"
      ]
     },
     "execution_count": 19,
     "metadata": {},
     "output_type": "execute_result"
    }
   ],
   "source": [
    "# intraday\n",
    "n_years_test = round(len(df_prices_test)/(240*78))\n",
    "\n",
    "# interday\n",
    "#n_years_test = round(len(df_prices_test)/(240))\n",
    "\n",
    "n_years_test"
   ]
  },
  {
   "cell_type": "markdown",
   "metadata": {},
   "source": [
    "### Approach 1: Unrestricted"
   ]
  },
  {
   "cell_type": "markdown",
   "metadata": {},
   "source": [
    "**Basic Threshold Strategy**"
   ]
  },
  {
   "cell_type": "code",
   "execution_count": 20,
   "metadata": {},
   "outputs": [
    {
     "name": "stdout",
     "output_type": "stream",
     "text": [
      " entry delay turned on.\n",
      "Pair: 40/40"
     ]
    }
   ],
   "source": [
    "results_without_costs, results_with_costs, performance_threshold_test = \\\n",
    "                            trader.apply_trading_strategy(pairs, \n",
    "                                                           'fixed_beta',\n",
    "                                                            2,#entry_multiplier,\n",
    "                                                            0,#exit_multiplier,\n",
    "                                                            test_mode=True,\n",
    "                                                            train_val_split=train_val_split\n",
    "                                                           )\n",
    "sharpe_results_threshold_test_nocosts, cum_returns_threshold_test_nocosts = results_without_costs\n",
    "sharpe_results_threshold_test_w_costs, cum_returns_threshold_test_w_costs = results_with_costs"
   ]
  },
  {
   "cell_type": "code",
   "execution_count": 21,
   "metadata": {
    "scrolled": false
   },
   "outputs": [
    {
     "name": "stdout",
     "output_type": "stream",
     "text": [
      "Average SR:  1.1498012443897472\n",
      "Annual ROI:  10.500034839865148\n",
      "80.0 % of the pairs had positive returns\n",
      "Sharpe Ratio assumming IID returns:  4.977899210639678\n",
      "Autocorrelation:  0.013103939916319758\n",
      "Daily Sharpe Ratio 0.2972313225170644\n",
      "Total number of trades:  87\n",
      "Positive trades:  72\n",
      "Negative trades:  15\n",
      "Max DD period: 9.0 days\n",
      "Maximum drawdown of portfolio: -0.80%\n"
     ]
    },
    {
     "data": {
      "image/png": "[encoded data removed]",
      "text/plain": [
       "<matplotlib.figure.Figure at 0x122aee208>"
      ]
     },
     "metadata": {},
     "output_type": "display_data"
    }
   ],
   "source": [
    "results, pairs_summary = trader.summarize_results(sharpe_results_threshold_test_w_costs,\n",
    "                                                  cum_returns_threshold_test_w_costs,\n",
    "                                                  performance_threshold_test,\n",
    "                                                  pairs, ticker_segment_dict,\n",
    "                                                  n_years_test)"
   ]
  },
  {
   "cell_type": "code",
   "execution_count": 32,
   "metadata": {},
   "outputs": [
    {
     "name": "stdout",
     "output_type": "stream",
     "text": [
      "Corrected Annualized SR: 4.72\n"
     ]
    }
   ],
   "source": [
    "print('Corrected Annualized SR: {:.2f}'.format(0.2972313225170644*(252**0.5)))"
   ]
  },
  {
   "cell_type": "markdown",
   "metadata": {},
   "source": [
    "### Approach 2: Keeping only pairs that had positive returns in the training period"
   ]
  },
  {
   "cell_type": "code",
   "execution_count": 22,
   "metadata": {},
   "outputs": [],
   "source": [
    "cum_returns_threshold_train_w_costs = np.asarray(cum_returns_threshold_train_w_costs)\n",
    "profitable_pairs_indices = np.argwhere(cum_returns_threshold_train_w_costs > 0)\n",
    "profitable_pairs = [pairs[i] for i in profitable_pairs_indices.flatten()]"
   ]
  },
  {
   "cell_type": "code",
   "execution_count": 23,
   "metadata": {
    "scrolled": true
   },
   "outputs": [
    {
     "name": "stdout",
     "output_type": "stream",
     "text": [
      " entry delay turned on.\n",
      "Pair: 35/35"
     ]
    }
   ],
   "source": [
    "results_without_costs, results_with_costs, performance_threshold_test = \\\n",
    "                            trader.apply_trading_strategy(profitable_pairs, \n",
    "                                                           'fixed_beta',\n",
    "                                                            2,#entry_multiplier,\n",
    "                                                            0,#exit_multiplier,\n",
    "                                                            test_mode=True,\n",
    "                                                            train_val_split=train_val_split\n",
    "                                                           )\n",
    "sharpe_results_threshold_test_nocosts, cum_returns_threshold_test_nocosts = results_without_costs\n",
    "sharpe_results_threshold_test_w_costs, cum_returns_threshold_test_w_costs = results_with_costs"
   ]
  },
  {
   "cell_type": "code",
   "execution_count": 24,
   "metadata": {},
   "outputs": [
    {
     "name": "stdout",
     "output_type": "stream",
     "text": [
      "Average SR:  1.258791186310099\n",
      "Annual ROI:  11.888189531808901\n",
      "82.85714285714286 % of the pairs had positive returns\n",
      "Sharpe Ratio assumming IID returns:  5.638232483711632\n",
      "Autocorrelation:  0.0755988096737662\n",
      "Daily Sharpe Ratio 0.3344584726627618\n",
      "Total number of trades:  78\n",
      "Positive trades:  66\n",
      "Negative trades:  12\n",
      "Max DD period: 2.0 days\n",
      "Maximum drawdown of portfolio: -0.83%\n"
     ]
    },
    {
     "data": {
      "image/png": "[encoded data removed]",
      "text/plain": [
       "<matplotlib.figure.Figure at 0x1344764a8>"
      ]
     },
     "metadata": {},
     "output_type": "display_data"
    }
   ],
   "source": [
    "results, pairs_summary = trader.summarize_results(sharpe_results_threshold_test_w_costs,\n",
    "                                                  cum_returns_threshold_test_w_costs,\n",
    "                                                  performance_threshold_test,\n",
    "                                                  profitable_pairs, ticker_segment_dict,\n",
    "                                                  n_years_test)"
   ]
  },
  {
   "cell_type": "code",
   "execution_count": 34,
   "metadata": {},
   "outputs": [
    {
     "name": "stdout",
     "output_type": "stream",
     "text": [
      "Corrected Annualized SR: 4.79\n"
     ]
    }
   ],
   "source": [
    "print('Corrected Annualized SR: {:.2f}'.format(0.3344584726627618*14.31))"
   ]
  },
  {
   "cell_type": "markdown",
   "metadata": {},
   "source": [
    "### Approach 3: Keeping only top 10 pairs"
   ]
  },
  {
   "cell_type": "code",
   "execution_count": 25,
   "metadata": {},
   "outputs": [],
   "source": [
    "sharpe_results_threshold_train_w_costs = np.asarray(sharpe_results_threshold_train_w_costs)\n",
    "sorted_pairs_indices = np.argsort(sharpe_results_threshold_train_w_costs)[::-1][:10]\n",
    "top_10_pairs = [pairs[i] for i in sorted_pairs_indices.flatten()]"
   ]
  },
  {
   "cell_type": "code",
   "execution_count": 26,
   "metadata": {},
   "outputs": [],
   "source": [
    "# sorting by returns seems to give better results"
   ]
  },
  {
   "cell_type": "code",
   "execution_count": 27,
   "metadata": {},
   "outputs": [],
   "source": [
    "cum_returns_threshold_train_w_costs = np.asarray(cum_returns_threshold_train_w_costs)\n",
    "sorted_pairs_indices = np.argsort(cum_returns_threshold_train_w_costs)[::-1][:10]\n",
    "top_10_pairs = [pairs[i] for i in sorted_pairs_indices.flatten()]"
   ]
  },
  {
   "cell_type": "code",
   "execution_count": 28,
   "metadata": {},
   "outputs": [
    {
     "name": "stdout",
     "output_type": "stream",
     "text": [
      " entry delay turned on.\n",
      "Pair: 10/10"
     ]
    }
   ],
   "source": [
    "results_without_costs, results_with_costs, performance_threshold_test = \\\n",
    "                            trader.apply_trading_strategy(top_10_pairs, \n",
    "                                                           'fixed_beta',\n",
    "                                                            2,#entry_multiplier,\n",
    "                                                            0,#exit_multiplier,\n",
    "                                                            test_mode=True,\n",
    "                                                            train_val_split=train_val_split\n",
    "                                                           )\n",
    "sharpe_results_threshold_test_nocosts, cum_returns_threshold_test_nocosts = results_without_costs\n",
    "sharpe_results_threshold_test_w_costs, cum_returns_threshold_test_w_costs = results_with_costs"
   ]
  },
  {
   "cell_type": "code",
   "execution_count": 29,
   "metadata": {},
   "outputs": [
    {
     "name": "stdout",
     "output_type": "stream",
     "text": [
      "Average SR:  1.5267003647266715\n",
      "Annual ROI:  15.176094831100917\n",
      "90.0 % of the pairs had positive returns\n",
      "Sharpe Ratio assumming IID returns:  4.5309213531337\n",
      "Autocorrelation:  0.06227327819844487\n",
      "Daily Sharpe Ratio 0.2653149453895722\n",
      "Total number of trades:  30\n",
      "Positive trades:  27\n",
      "Negative trades:  3\n",
      "Max DD period: 13.0 days\n",
      "Maximum drawdown of portfolio: -1.46%\n"
     ]
    },
    {
     "data": {
      "image/png": "[encoded data removed]",
      "text/plain": [
       "<matplotlib.figure.Figure at 0x13ec96cc0>"
      ]
     },
     "metadata": {},
     "output_type": "display_data"
    }
   ],
   "source": [
    "results, pairs_summary = trader.summarize_results(sharpe_results_threshold_test_w_costs,\n",
    "                                                  cum_returns_threshold_test_w_costs,\n",
    "                                                  performance_threshold_test,\n",
    "                                                  top_10_pairs, ticker_segment_dict,\n",
    "                                                  n_years_test)"
   ]
  },
  {
   "cell_type": "code",
   "execution_count": 35,
   "metadata": {},
   "outputs": [
    {
     "name": "stdout",
     "output_type": "stream",
     "text": [
      "Corrected Annualized SR: 3.80\n"
     ]
    }
   ],
   "source": [
    "print('Corrected Annualized SR: {:.2f}'.format(0.2653149453895722*14.31))"
   ]
  },
  {
   "cell_type": "markdown",
   "metadata": {},
   "source": [
    "# Validate the results"
   ]
  },
  {
   "cell_type": "code",
   "execution_count": 30,
   "metadata": {
    "scrolled": false
   },
   "outputs": [
    {
     "data": {
      "text/html": [
       "<div>\n",
       "<style scoped>\n",
       "    .dataframe tbody tr th:only-of-type {\n",
       "        vertical-align: middle;\n",
       "    }\n",
       "\n",
       "    .dataframe tbody tr th {\n",
       "        vertical-align: top;\n",
       "    }\n",
       "\n",
       "    .dataframe thead th {\n",
       "        text-align: right;\n",
       "    }\n",
       "</style>\n",
       "<table border=\"1\" class=\"dataframe\">\n",
       "  <thead>\n",
       "    <tr style=\"text-align: right;\">\n",
       "      <th></th>\n",
       "      <th>Leg1</th>\n",
       "      <th>Leg1_Segmt</th>\n",
       "      <th>Leg2</th>\n",
       "      <th>Leg2_Segmt</th>\n",
       "      <th>t_statistic</th>\n",
       "      <th>p_value</th>\n",
       "      <th>zero_cross</th>\n",
       "      <th>half_life</th>\n",
       "      <th>hurst_exponent</th>\n",
       "      <th>positive_trades</th>\n",
       "      <th>negative_trades</th>\n",
       "      <th>sharpe_result</th>\n",
       "      <th>positive_trades_per_pair_pct</th>\n",
       "    </tr>\n",
       "  </thead>\n",
       "  <tbody>\n",
       "    <tr>\n",
       "      <th>0</th>\n",
       "      <td>BCM</td>\n",
       "      <td>Commodities: Broad Market</td>\n",
       "      <td>DJCI</td>\n",
       "      <td>Commodities: Broad Market</td>\n",
       "      <td>-3.181025</td>\n",
       "      <td>0.021110</td>\n",
       "      <td>457</td>\n",
       "      <td>92</td>\n",
       "      <td>0.279985</td>\n",
       "      <td>15</td>\n",
       "      <td>0</td>\n",
       "      <td>4.377431</td>\n",
       "      <td>100.0</td>\n",
       "    </tr>\n",
       "    <tr>\n",
       "      <th>1</th>\n",
       "      <td>PICK</td>\n",
       "      <td>Equity: Global Metals &amp; Mining</td>\n",
       "      <td>YMLP</td>\n",
       "      <td>Equity: U.S. MLPs</td>\n",
       "      <td>-4.552308</td>\n",
       "      <td>0.000158</td>\n",
       "      <td>618</td>\n",
       "      <td>673</td>\n",
       "      <td>0.390220</td>\n",
       "      <td>2</td>\n",
       "      <td>0</td>\n",
       "      <td>3.028302</td>\n",
       "      <td>100.0</td>\n",
       "    </tr>\n",
       "    <tr>\n",
       "      <th>2</th>\n",
       "      <td>PXE</td>\n",
       "      <td>Equity: U.S. Oil &amp; Gas Exploration &amp; Production</td>\n",
       "      <td>PXI</td>\n",
       "      <td>Equity: U.S. Energy</td>\n",
       "      <td>-3.729752</td>\n",
       "      <td>0.003714</td>\n",
       "      <td>702</td>\n",
       "      <td>214</td>\n",
       "      <td>0.286382</td>\n",
       "      <td>2</td>\n",
       "      <td>0</td>\n",
       "      <td>2.511014</td>\n",
       "      <td>100.0</td>\n",
       "    </tr>\n",
       "    <tr>\n",
       "      <th>3</th>\n",
       "      <td>DGL</td>\n",
       "      <td>Commodities: Precious Metals Gold</td>\n",
       "      <td>PPLT</td>\n",
       "      <td>Commodities: Precious Metals Platinum</td>\n",
       "      <td>-3.311093</td>\n",
       "      <td>0.014390</td>\n",
       "      <td>228</td>\n",
       "      <td>2342</td>\n",
       "      <td>0.454413</td>\n",
       "      <td>3</td>\n",
       "      <td>0</td>\n",
       "      <td>1.853256</td>\n",
       "      <td>100.0</td>\n",
       "    </tr>\n",
       "    <tr>\n",
       "      <th>4</th>\n",
       "      <td>GLTR</td>\n",
       "      <td>Commodities: Precious Metals</td>\n",
       "      <td>PALL</td>\n",
       "      <td>Commodities: Precious Metals Palladium</td>\n",
       "      <td>-2.976494</td>\n",
       "      <td>0.037149</td>\n",
       "      <td>111</td>\n",
       "      <td>5656</td>\n",
       "      <td>0.483954</td>\n",
       "      <td>1</td>\n",
       "      <td>1</td>\n",
       "      <td>1.328523</td>\n",
       "      <td>50.0</td>\n",
       "    </tr>\n",
       "    <tr>\n",
       "      <th>5</th>\n",
       "      <td>DBP</td>\n",
       "      <td>Commodities: Precious Metals</td>\n",
       "      <td>PALL</td>\n",
       "      <td>Commodities: Precious Metals Palladium</td>\n",
       "      <td>-2.886521</td>\n",
       "      <td>0.046938</td>\n",
       "      <td>113</td>\n",
       "      <td>5601</td>\n",
       "      <td>0.493006</td>\n",
       "      <td>1</td>\n",
       "      <td>1</td>\n",
       "      <td>0.884061</td>\n",
       "      <td>50.0</td>\n",
       "    </tr>\n",
       "    <tr>\n",
       "      <th>6</th>\n",
       "      <td>DJCI</td>\n",
       "      <td>Commodities: Broad Market</td>\n",
       "      <td>SOYB</td>\n",
       "      <td>Commodities: Agriculture Soybeans</td>\n",
       "      <td>-3.212308</td>\n",
       "      <td>0.019283</td>\n",
       "      <td>297</td>\n",
       "      <td>392</td>\n",
       "      <td>0.330344</td>\n",
       "      <td>1</td>\n",
       "      <td>0</td>\n",
       "      <td>0.643700</td>\n",
       "      <td>100.0</td>\n",
       "    </tr>\n",
       "    <tr>\n",
       "      <th>7</th>\n",
       "      <td>BCM</td>\n",
       "      <td>Commodities: Broad Market</td>\n",
       "      <td>SOYB</td>\n",
       "      <td>Commodities: Agriculture Soybeans</td>\n",
       "      <td>-3.111962</td>\n",
       "      <td>0.025681</td>\n",
       "      <td>295</td>\n",
       "      <td>503</td>\n",
       "      <td>0.351337</td>\n",
       "      <td>1</td>\n",
       "      <td>0</td>\n",
       "      <td>0.469970</td>\n",
       "      <td>100.0</td>\n",
       "    </tr>\n",
       "    <tr>\n",
       "      <th>8</th>\n",
       "      <td>DGL</td>\n",
       "      <td>Commodities: Precious Metals Gold</td>\n",
       "      <td>GLTR</td>\n",
       "      <td>Commodities: Precious Metals</td>\n",
       "      <td>-3.520620</td>\n",
       "      <td>0.007473</td>\n",
       "      <td>850</td>\n",
       "      <td>214</td>\n",
       "      <td>0.246727</td>\n",
       "      <td>1</td>\n",
       "      <td>1</td>\n",
       "      <td>0.170746</td>\n",
       "      <td>50.0</td>\n",
       "    </tr>\n",
       "    <tr>\n",
       "      <th>9</th>\n",
       "      <td>SOYB</td>\n",
       "      <td>Commodities: Agriculture Soybeans</td>\n",
       "      <td>WEAT</td>\n",
       "      <td>Commodities: Agriculture Wheat</td>\n",
       "      <td>-2.959747</td>\n",
       "      <td>0.038828</td>\n",
       "      <td>264</td>\n",
       "      <td>914</td>\n",
       "      <td>0.348989</td>\n",
       "      <td>0</td>\n",
       "      <td>0</td>\n",
       "      <td>0.000000</td>\n",
       "      <td>NaN</td>\n",
       "    </tr>\n",
       "  </tbody>\n",
       "</table>\n",
       "</div>"
      ],
      "text/plain": [
       "   Leg1                                       Leg1_Segmt  Leg2  \\\n",
       "0   BCM                        Commodities: Broad Market  DJCI   \n",
       "1  PICK                   Equity: Global Metals & Mining  YMLP   \n",
       "2   PXE  Equity: U.S. Oil & Gas Exploration & Production   PXI   \n",
       "3   DGL                Commodities: Precious Metals Gold  PPLT   \n",
       "4  GLTR                     Commodities: Precious Metals  PALL   \n",
       "5   DBP                     Commodities: Precious Metals  PALL   \n",
       "6  DJCI                        Commodities: Broad Market  SOYB   \n",
       "7   BCM                        Commodities: Broad Market  SOYB   \n",
       "8   DGL                Commodities: Precious Metals Gold  GLTR   \n",
       "9  SOYB                Commodities: Agriculture Soybeans  WEAT   \n",
       "\n",
       "                               Leg2_Segmt  t_statistic   p_value  zero_cross  \\\n",
       "0               Commodities: Broad Market    -3.181025  0.021110         457   \n",
       "1                       Equity: U.S. MLPs    -4.552308  0.000158         618   \n",
       "2                     Equity: U.S. Energy    -3.729752  0.003714         702   \n",
       "3   Commodities: Precious Metals Platinum    -3.311093  0.014390         228   \n",
       "4  Commodities: Precious Metals Palladium    -2.976494  0.037149         111   \n",
       "5  Commodities: Precious Metals Palladium    -2.886521  0.046938         113   \n",
       "6       Commodities: Agriculture Soybeans    -3.212308  0.019283         297   \n",
       "7       Commodities: Agriculture Soybeans    -3.111962  0.025681         295   \n",
       "8            Commodities: Precious Metals    -3.520620  0.007473         850   \n",
       "9          Commodities: Agriculture Wheat    -2.959747  0.038828         264   \n",
       "\n",
       "   half_life  hurst_exponent  positive_trades  negative_trades  sharpe_result  \\\n",
       "0         92        0.279985               15                0       4.377431   \n",
       "1        673        0.390220                2                0       3.028302   \n",
       "2        214        0.286382                2                0       2.511014   \n",
       "3       2342        0.454413                3                0       1.853256   \n",
       "4       5656        0.483954                1                1       1.328523   \n",
       "5       5601        0.493006                1                1       0.884061   \n",
       "6        392        0.330344                1                0       0.643700   \n",
       "7        503        0.351337                1                0       0.469970   \n",
       "8        214        0.246727                1                1       0.170746   \n",
       "9        914        0.348989                0                0       0.000000   \n",
       "\n",
       "   positive_trades_per_pair_pct  \n",
       "0                         100.0  \n",
       "1                         100.0  \n",
       "2                         100.0  \n",
       "3                         100.0  \n",
       "4                          50.0  \n",
       "5                          50.0  \n",
       "6                         100.0  \n",
       "7                         100.0  \n",
       "8                          50.0  \n",
       "9                           NaN  "
      ]
     },
     "execution_count": 30,
     "metadata": {},
     "output_type": "execute_result"
    }
   ],
   "source": [
    "pairs_summary"
   ]
  }
 ],
 "metadata": {
  "kernelspec": {
   "display_name": "Python [conda root]",
   "language": "python",
   "name": "conda-root-py"
  },
  "language_info": {
   "codemirror_mode": {
    "name": "ipython",
    "version": 3
   },
   "file_extension": ".py",
   "mimetype": "text/x-python",
   "name": "python",
   "nbconvert_exporter": "python",
   "pygments_lexer": "ipython3",
   "version": "3.6.0"
  }
 },
 "nbformat": 4,
 "nbformat_minor": 2
}
