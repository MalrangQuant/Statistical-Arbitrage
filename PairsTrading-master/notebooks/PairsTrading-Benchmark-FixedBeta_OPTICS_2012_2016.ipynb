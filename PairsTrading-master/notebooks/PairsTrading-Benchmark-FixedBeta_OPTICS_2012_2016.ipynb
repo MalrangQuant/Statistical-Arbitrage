{
 "cells": [
  {
   "cell_type": "markdown",
   "metadata": {},
   "source": [
    "# A Pairs Trading strategy \n",
    "\n",
    "**Author:** Simão Moraes Sarmento <br /> \n",
    "**Contact:** simaosarmento@hotmail.com"
   ]
  },
  {
   "cell_type": "markdown",
   "metadata": {},
   "source": [
    "## Dependencies\n",
    "\n",
    "This notebook requires code from:\n",
    "\n",
    "Python files:\n",
    "- `class_SeriesAnalyser.py` - contains a set of functions to deal with time series analysis.\n",
    "- `class_Trader.py` - contains a set of functions concerning trading strategies.\n",
    "- `class_DataProcessor.py` - contains a set of functions concerning the data pre processing.\n",
    "\n",
    "Pickle files:\n",
    "- pickle file containing pairs to be traded (obtained from running `PairsTrading_CommodityETFs-Clustering.ipynb`)\n",
    "\n",
    "As a good practise, the notebook solely intends to exemplify the application of different trading strategies for different dataset examples. Please look into the files menitoned above for more detailed info on how the functions are built."
   ]
  },
  {
   "cell_type": "markdown",
   "metadata": {},
   "source": [
    "### Import Libraries"
   ]
  },
  {
   "cell_type": "code",
   "execution_count": 1,
   "metadata": {},
   "outputs": [],
   "source": [
    "import numpy as np\n",
    "import pandas as pd\n",
    "import pickle\n",
    "import matplotlib.pyplot as plt\n",
    "\n",
    "# just set the seed for the random number generator\n",
    "np.random.seed(107)"
   ]
  },
  {
   "cell_type": "code",
   "execution_count": 2,
   "metadata": {},
   "outputs": [],
   "source": [
    "ticker_path = \"data/etfs/pickle/ticker_segment_dict.pickle\"\n",
    "with open(ticker_path, 'rb') as handle:\n",
    "    ticker_segment_dict = pickle.load(handle)"
   ]
  },
  {
   "cell_type": "markdown",
   "metadata": {},
   "source": [
    "### Import Classes"
   ]
  },
  {
   "cell_type": "code",
   "execution_count": 5,
   "metadata": {},
   "outputs": [],
   "source": [
    "%load_ext autoreload\n",
    "%aimport class_SeriesAnalyser, class_Trader, class_DataProcessor\n",
    "%autoreload 1"
   ]
  },
  {
   "cell_type": "code",
   "execution_count": 6,
   "metadata": {},
   "outputs": [],
   "source": [
    "series_analyser = class_SeriesAnalyser.SeriesAnalyser()\n",
    "trader = class_Trader.Trader()\n",
    "data_processor = class_DataProcessor.DataProcessor()"
   ]
  },
  {
   "cell_type": "markdown",
   "metadata": {},
   "source": [
    "# Retrieve prices data set"
   ]
  },
  {
   "cell_type": "markdown",
   "metadata": {},
   "source": [
    "We start by retrieving the data from a Dataframe saved in a pickle file, as it was previously processed in the `PairsTrading_CommodityETFS_Datapreprocessing.ipynb` notebook."
   ]
  },
  {
   "cell_type": "code",
   "execution_count": 7,
   "metadata": {},
   "outputs": [],
   "source": [
    "# intraday\n",
    "df_prices = pd.read_pickle('data/etfs/pickle/commodity_ETFs_from_2014_complete.pickle')"
   ]
  },
  {
   "cell_type": "code",
   "execution_count": 8,
   "metadata": {},
   "outputs": [
    {
     "name": "stdout",
     "output_type": "stream",
     "text": [
      "Total of 116 tickers\n",
      "Total of 95 tickers after removing tickers with Nan values\n"
     ]
    }
   ],
   "source": [
    "# split data in training and test\n",
    "df_prices_train, df_prices_test = data_processor.split_data(df_prices,\n",
    "                                                            ('01-01-2012',\n",
    "                                                             '31-12-2014'),\n",
    "                                                            ('01-01-2015',\n",
    "                                                             '31-12-2015'),\n",
    "                                                            remove_nan=True)"
   ]
  },
  {
   "cell_type": "code",
   "execution_count": 9,
   "metadata": {},
   "outputs": [
    {
     "data": {
      "text/plain": [
       "77916"
      ]
     },
     "execution_count": 9,
     "metadata": {},
     "output_type": "execute_result"
    }
   ],
   "source": [
    "len(df_prices_train)+len(df_prices_test)"
   ]
  },
  {
   "cell_type": "markdown",
   "metadata": {},
   "source": [
    "# Load Pairs"
   ]
  },
  {
   "cell_type": "code",
   "execution_count": 10,
   "metadata": {},
   "outputs": [],
   "source": [
    "#with open('data/etfs/pickle/2012-2016/pairs_unsupervised_learning_optical_intraday.pickle', 'rb') as handle:\n",
    "#    pairs = pickle.load(handle)\n",
    "\n",
    "with open('data/etfs/pickle/2012-2016/pairs_unsupervised_learning_optical_intraday_p010_seed0.pickle',\n",
    "          'rb') as handle:\n",
    "    pairs = pickle.load(handle)"
   ]
  },
  {
   "cell_type": "code",
   "execution_count": 12,
   "metadata": {},
   "outputs": [
    {
     "data": {
      "text/plain": [
       "39"
      ]
     },
     "execution_count": 12,
     "metadata": {},
     "output_type": "execute_result"
    }
   ],
   "source": [
    "len(pairs)"
   ]
  },
  {
   "cell_type": "markdown",
   "metadata": {},
   "source": [
    "# Apply trading strategies"
   ]
  },
  {
   "cell_type": "markdown",
   "metadata": {},
   "source": [
    "**Applying the fixed beta strategy in validation period**"
   ]
  },
  {
   "cell_type": "code",
   "execution_count": 13,
   "metadata": {},
   "outputs": [
    {
     "data": {
      "text/plain": [
       "1"
      ]
     },
     "execution_count": 13,
     "metadata": {},
     "output_type": "execute_result"
    }
   ],
   "source": [
    "train_val_split = '2014-01-01'\n",
    "\n",
    "# intraday\n",
    "n_years_val = round(len(df_prices_train[train_val_split:])/(240*78))\n",
    "\n",
    "# interday\n",
    "#n_years_val = round(len(df_prices_train)/(240))\n",
    "\n",
    "n_years_val"
   ]
  },
  {
   "cell_type": "code",
   "execution_count": 14,
   "metadata": {},
   "outputs": [
    {
     "name": "stdout",
     "output_type": "stream",
     "text": [
      " entry delay turned on.\n",
      "Pair: 39/39"
     ]
    }
   ],
   "source": [
    "train_results_without_costs, train_results_with_costs, performance_threshold_train = \\\n",
    "        trader.apply_trading_strategy(pairs, \n",
    "                                       'fixed_beta',\n",
    "                                        2,#entry_multiplier,\n",
    "                                        0,#exit_multiplier,\n",
    "                                        test_mode=False,\n",
    "                                        train_val_split=train_val_split\n",
    "                                       )\n",
    "\n",
    "sharpe_results_threshold_train_nocosts, cum_returns_threshold_train_nocosts = train_results_without_costs\n",
    "sharpe_results_threshold_train_w_costs, cum_returns_threshold_train_w_costs = train_results_with_costs"
   ]
  },
  {
   "cell_type": "code",
   "execution_count": 15,
   "metadata": {},
   "outputs": [
    {
     "name": "stdout",
     "output_type": "stream",
     "text": [
      "Average SR:  1.0624676420991694\n",
      "Annual ROI:  8.328461006218424\n",
      "87.17948717948718 % of the pairs had positive returns\n",
      "Sharpe Ratio assumming IID returns:  3.860289514627686\n",
      "Autocorrelation:  -0.12345959933783122\n",
      "Daily Sharpe Ratio 0.23427887839090314\n",
      "Total number of trades:  105\n",
      "Positive trades:  85\n",
      "Negative trades:  20\n",
      "Max DD period: 9.0 days\n",
      "Maximum drawdown of portfolio: -0.97%\n"
     ]
    },
    {
     "data": {
      "image/png": "[encoded data removed]",
      "text/plain": [
       "<matplotlib.figure.Figure at 0x11fc59cc0>"
      ]
     },
     "metadata": {},
     "output_type": "display_data"
    }
   ],
   "source": [
    "results, pairs_summary = trader.summarize_results(sharpe_results_threshold_train_w_costs,\n",
    "                                                  cum_returns_threshold_train_w_costs,\n",
    "                                                  performance_threshold_train,\n",
    "                                                  pairs, ticker_segment_dict,\n",
    "                                                  n_years_val)"
   ]
  },
  {
   "cell_type": "code",
   "execution_count": 31,
   "metadata": {},
   "outputs": [
    {
     "name": "stdout",
     "output_type": "stream",
     "text": [
      "Corrected Annualized SR: 4.09\n"
     ]
    }
   ],
   "source": [
    "print('Corrected Annualized SR: {:.2f}'.format(0.23427887839090314*17.47))"
   ]
  },
  {
   "cell_type": "code",
   "execution_count": 16,
   "metadata": {},
   "outputs": [
    {
     "name": "stdout",
     "output_type": "stream",
     "text": [
      "Sharpe Ratio Distribution: \n"
     ]
    },
    {
     "data": {
      "image/png": "[encoded data removed]",
      "text/plain": [
       "<matplotlib.figure.Figure at 0x1323e4588>"
      ]
     },
     "metadata": {},
     "output_type": "display_data"
    }
   ],
   "source": [
    "print('Sharpe Ratio Distribution: ')\n",
    "n, bins, patches = plt.hist(sharpe_results_threshold_train_w_costs, bins = 16, normed=True, orientation='vertical',\n",
    "                            color='red', rwidth=0.9, align='mid')"
   ]
  },
  {
   "cell_type": "code",
   "execution_count": 17,
   "metadata": {},
   "outputs": [],
   "source": [
    "#cum_returns_threshold_train_w_costs"
   ]
  },
  {
   "cell_type": "code",
   "execution_count": 18,
   "metadata": {},
   "outputs": [
    {
     "data": {
      "text/plain": [
       "array([1.12915648, 1.87627629, 2.08613271, 2.0512456 , 3.46597476,\n",
       "       3.40788448, 2.39499998, 0.23866385, 0.64066858, 1.29305493,\n",
       "       2.44006005, 0.57269408, 1.42188649, 1.53282529, 0.15276978,\n",
       "       0.86039337, 1.56169222, 0.61177178, 0.52491542, 2.01111233,\n",
       "       0.8118899 , 0.57458147, 0.36114197, 0.16733541, 0.4982667 ,\n",
       "       0.65434026, 0.87505032, 0.29341946, 0.32082556, 1.49623845,\n",
       "       0.78900643, 0.3574557 , 1.66398157, 0.40126493, 0.54781599,\n",
       "       2.01213015, 1.73921757, 1.67547829, 1.16000154])"
      ]
     },
     "execution_count": 18,
     "metadata": {},
     "output_type": "execute_result"
    }
   ],
   "source": [
    "betas = list()\n",
    "for i in range(len(pairs)):\n",
    "    betas.append(pairs[i][2]['coint_coef'])\n",
    "np.asarray(betas)"
   ]
  },
  {
   "cell_type": "markdown",
   "metadata": {},
   "source": [
    "# Out of Sample Analysis\n",
    "\n",
    "In this section, we analyze the performance of the strategy in the validation dataset. \n",
    "\n",
    "We proceed with some data exploration analysis. For this purpose we will do the following:\n",
    "\n",
    "- Analyze which percentage of the identified pairs are still cointegrated in the validation period.\n",
    "- Analyze which percentage of pairs have positive returns, and how many of those are still cointegrated.\n",
    "- Analyze how many new pais were not identified to be cointegrated up to the validation period.\n",
    "- Run strategy for identified pairs in training period.\n",
    "\n",
    "This analysis will help us getting some insight into how the cointegrated pairs vary from time to time, and therefore how we should allocate our resources to predict when pairs are not cointegrated anymore."
   ]
  },
  {
   "cell_type": "markdown",
   "metadata": {},
   "source": [
    "## Applying the Strategy out-of Sample\n",
    "\n",
    "We might want to apply the strategy in all pairs identified. Or, instead, we might prefer to apply the strategy only on those pairs that turned out to be profitable. Let's compare how both approaches work:"
   ]
  },
  {
   "cell_type": "code",
   "execution_count": 19,
   "metadata": {},
   "outputs": [
    {
     "data": {
      "text/plain": [
       "1"
      ]
     },
     "execution_count": 19,
     "metadata": {},
     "output_type": "execute_result"
    }
   ],
   "source": [
    "# intraday\n",
    "n_years_test = round(len(df_prices_test)/(240*78))\n",
    "\n",
    "# interday\n",
    "#n_years_test = round(len(df_prices_test)/(240))\n",
    "\n",
    "n_years_test"
   ]
  },
  {
   "cell_type": "markdown",
   "metadata": {},
   "source": [
    "### Approach 1: Unrestricted"
   ]
  },
  {
   "cell_type": "markdown",
   "metadata": {},
   "source": [
    "**Basic Threshold Strategy**"
   ]
  },
  {
   "cell_type": "code",
   "execution_count": 20,
   "metadata": {},
   "outputs": [
    {
     "name": "stdout",
     "output_type": "stream",
     "text": [
      " entry delay turned on.\n",
      "Pair: 39/39"
     ]
    }
   ],
   "source": [
    "results_without_costs, results_with_costs, performance_threshold_test = \\\n",
    "                            trader.apply_trading_strategy(pairs, \n",
    "                                                           'fixed_beta',\n",
    "                                                            2,#entry_multiplier,\n",
    "                                                            0,#exit_multiplier,\n",
    "                                                            test_mode=True,\n",
    "                                                            train_val_split=train_val_split\n",
    "                                                           )\n",
    "sharpe_results_threshold_test_nocosts, cum_returns_threshold_test_nocosts = results_without_costs\n",
    "sharpe_results_threshold_test_w_costs, cum_returns_threshold_test_w_costs = results_with_costs"
   ]
  },
  {
   "cell_type": "code",
   "execution_count": 21,
   "metadata": {
    "scrolled": false
   },
   "outputs": [
    {
     "name": "stdout",
     "output_type": "stream",
     "text": [
      "Average SR:  1.3988286007466202\n",
      "Annual ROI:  12.50758582074294\n",
      "82.05128205128206 % of the pairs had positive returns\n",
      "Sharpe Ratio assumming IID returns:  4.760553319071313\n",
      "Autocorrelation:  0.11122689215727358\n",
      "Daily Sharpe Ratio 0.28333093095741857\n",
      "Total number of trades:  161\n",
      "Positive trades:  140\n",
      "Negative trades:  21\n",
      "Max DD period: 2.0 days\n",
      "Maximum drawdown of portfolio: -1.37%\n"
     ]
    },
    {
     "data": {
      "image/png": "[encoded data removed]",
      "text/plain": [
       "<matplotlib.figure.Figure at 0x132abc4a8>"
      ]
     },
     "metadata": {},
     "output_type": "display_data"
    }
   ],
   "source": [
    "results, pairs_summary = trader.summarize_results(sharpe_results_threshold_test_w_costs,\n",
    "                                                  cum_returns_threshold_test_w_costs,\n",
    "                                                  performance_threshold_test,\n",
    "                                                  pairs, ticker_segment_dict,\n",
    "                                                  n_years_test)"
   ]
  },
  {
   "cell_type": "code",
   "execution_count": 32,
   "metadata": {},
   "outputs": [
    {
     "name": "stdout",
     "output_type": "stream",
     "text": [
      "Corrected Annualized SR: 4.05\n"
     ]
    }
   ],
   "source": [
    "print('Corrected Annualized SR: {:.2f}'.format(0.28333093095741857*14.31))"
   ]
  },
  {
   "cell_type": "markdown",
   "metadata": {},
   "source": [
    "### Approach 2: Keeping only pairs that had positive returns in the training period"
   ]
  },
  {
   "cell_type": "code",
   "execution_count": 22,
   "metadata": {},
   "outputs": [],
   "source": [
    "cum_returns_threshold_train_w_costs = np.asarray(cum_returns_threshold_train_w_costs)\n",
    "profitable_pairs_indices = np.argwhere(cum_returns_threshold_train_w_costs > 0)\n",
    "profitable_pairs = [pairs[i] for i in profitable_pairs_indices.flatten()]"
   ]
  },
  {
   "cell_type": "code",
   "execution_count": 23,
   "metadata": {
    "scrolled": false
   },
   "outputs": [
    {
     "name": "stdout",
     "output_type": "stream",
     "text": [
      " entry delay turned on.\n",
      "Pair: 34/34"
     ]
    }
   ],
   "source": [
    "results_without_costs, results_with_costs, performance_threshold_test = \\\n",
    "                            trader.apply_trading_strategy(profitable_pairs, \n",
    "                                                           'fixed_beta',\n",
    "                                                            2,#entry_multiplier,\n",
    "                                                            0,#exit_multiplier,\n",
    "                                                            test_mode=True,\n",
    "                                                            train_val_split=train_val_split\n",
    "                                                           )\n",
    "sharpe_results_threshold_test_nocosts, cum_returns_threshold_test_nocosts = results_without_costs\n",
    "sharpe_results_threshold_test_w_costs, cum_returns_threshold_test_w_costs = results_with_costs"
   ]
  },
  {
   "cell_type": "code",
   "execution_count": 24,
   "metadata": {},
   "outputs": [
    {
     "name": "stdout",
     "output_type": "stream",
     "text": [
      "Average SR:  1.4796935007848417\n",
      "Annual ROI:  13.487481488549747\n",
      "82.3529411764706 % of the pairs had positive returns\n",
      "Sharpe Ratio assumming IID returns:  4.525506024550783\n",
      "Autocorrelation:  0.11787863638192095\n",
      "Daily Sharpe Ratio 0.2682868800357132\n",
      "Total number of trades:  147\n",
      "Positive trades:  128\n",
      "Negative trades:  19\n",
      "Max DD period: 4.0 days\n",
      "Maximum drawdown of portfolio: -1.66%\n"
     ]
    },
    {
     "data": {
      "image/png": "[encoded data removed]",
      "text/plain": [
       "<matplotlib.figure.Figure at 0x139fd74a8>"
      ]
     },
     "metadata": {},
     "output_type": "display_data"
    }
   ],
   "source": [
    "results, pairs_summary = trader.summarize_results(sharpe_results_threshold_test_w_costs,\n",
    "                                                  cum_returns_threshold_test_w_costs,\n",
    "                                                  performance_threshold_test,\n",
    "                                                  profitable_pairs, ticker_segment_dict,\n",
    "                                                  n_years_test)"
   ]
  },
  {
   "cell_type": "code",
   "execution_count": 33,
   "metadata": {},
   "outputs": [
    {
     "name": "stdout",
     "output_type": "stream",
     "text": [
      "Corrected Annualized SR: 3.84\n"
     ]
    }
   ],
   "source": [
    "print('Corrected Annualized SR: {:.2f}'.format(0.2682868800357132*14.31))"
   ]
  },
  {
   "cell_type": "markdown",
   "metadata": {},
   "source": [
    "### Approach 3: Keeping only top 10 pairs"
   ]
  },
  {
   "cell_type": "code",
   "execution_count": 25,
   "metadata": {},
   "outputs": [],
   "source": [
    "sharpe_results_threshold_train_w_costs = np.asarray(sharpe_results_threshold_train_w_costs)\n",
    "sorted_pairs_indices = np.argsort(sharpe_results_threshold_train_w_costs)[::-1][:10]\n",
    "top_10_pairs = [pairs[i] for i in sorted_pairs_indices.flatten()]"
   ]
  },
  {
   "cell_type": "code",
   "execution_count": 26,
   "metadata": {},
   "outputs": [],
   "source": [
    "# sorting by returns seems to give better results"
   ]
  },
  {
   "cell_type": "code",
   "execution_count": 27,
   "metadata": {},
   "outputs": [],
   "source": [
    "cum_returns_threshold_train_w_costs = np.asarray(cum_returns_threshold_train_w_costs)\n",
    "sorted_pairs_indices = np.argsort(cum_returns_threshold_train_w_costs)[::-1][:10]\n",
    "top_10_pairs = [pairs[i] for i in sorted_pairs_indices.flatten()]"
   ]
  },
  {
   "cell_type": "code",
   "execution_count": 28,
   "metadata": {},
   "outputs": [
    {
     "name": "stdout",
     "output_type": "stream",
     "text": [
      " entry delay turned on.\n",
      "Pair: 10/10"
     ]
    }
   ],
   "source": [
    "results_without_costs, results_with_costs, performance_threshold_test = \\\n",
    "                            trader.apply_trading_strategy(top_10_pairs, \n",
    "                                                           'fixed_beta',\n",
    "                                                            2,#entry_multiplier,\n",
    "                                                            0,#exit_multiplier,\n",
    "                                                            test_mode=True,\n",
    "                                                            train_val_split=train_val_split\n",
    "                                                           )\n",
    "sharpe_results_threshold_test_nocosts, cum_returns_threshold_test_nocosts = results_without_costs\n",
    "sharpe_results_threshold_test_w_costs, cum_returns_threshold_test_w_costs = results_with_costs"
   ]
  },
  {
   "cell_type": "code",
   "execution_count": 29,
   "metadata": {},
   "outputs": [
    {
     "name": "stdout",
     "output_type": "stream",
     "text": [
      "Average SR:  2.374972852002702\n",
      "Annual ROI:  23.530629848764395\n",
      "100.0 % of the pairs had positive returns\n",
      "Sharpe Ratio assumming IID returns:  5.627890895096311\n",
      "Autocorrelation:  0.021548186851439048\n",
      "Daily Sharpe Ratio 0.31977595216803717\n",
      "Total number of trades:  68\n",
      "Positive trades:  61\n",
      "Negative trades:  7\n",
      "Max DD period: 0.0 days\n",
      "Maximum drawdown of portfolio: -1.30%\n"
     ]
    },
    {
     "data": {
      "image/png": "[encoded data removed]",
      "text/plain": [
       "<matplotlib.figure.Figure at 0x13f06be80>"
      ]
     },
     "metadata": {},
     "output_type": "display_data"
    }
   ],
   "source": [
    "results, pairs_summary = trader.summarize_results(sharpe_results_threshold_test_w_costs,\n",
    "                                                  cum_returns_threshold_test_w_costs,\n",
    "                                                  performance_threshold_test,\n",
    "                                                  top_10_pairs, ticker_segment_dict,\n",
    "                                                  n_years_test)"
   ]
  },
  {
   "cell_type": "code",
   "execution_count": 34,
   "metadata": {},
   "outputs": [
    {
     "name": "stdout",
     "output_type": "stream",
     "text": [
      "Corrected Annualized SR: 5.08\n"
     ]
    }
   ],
   "source": [
    "print('Corrected Annualized SR: {:.2f}'.format(0.31977595216803717*(252**0.5)))"
   ]
  },
  {
   "cell_type": "markdown",
   "metadata": {},
   "source": [
    "# Validate the results"
   ]
  },
  {
   "cell_type": "code",
   "execution_count": 35,
   "metadata": {
    "scrolled": false
   },
   "outputs": [
    {
     "data": {
      "text/html": [
       "<div>\n",
       "<style scoped>\n",
       "    .dataframe tbody tr th:only-of-type {\n",
       "        vertical-align: middle;\n",
       "    }\n",
       "\n",
       "    .dataframe tbody tr th {\n",
       "        vertical-align: top;\n",
       "    }\n",
       "\n",
       "    .dataframe thead th {\n",
       "        text-align: right;\n",
       "    }\n",
       "</style>\n",
       "<table border=\"1\" class=\"dataframe\">\n",
       "  <thead>\n",
       "    <tr style=\"text-align: right;\">\n",
       "      <th></th>\n",
       "      <th>Leg1</th>\n",
       "      <th>Leg1_Segmt</th>\n",
       "      <th>Leg2</th>\n",
       "      <th>Leg2_Segmt</th>\n",
       "      <th>t_statistic</th>\n",
       "      <th>p_value</th>\n",
       "      <th>zero_cross</th>\n",
       "      <th>half_life</th>\n",
       "      <th>hurst_exponent</th>\n",
       "      <th>positive_trades</th>\n",
       "      <th>negative_trades</th>\n",
       "      <th>sharpe_result</th>\n",
       "      <th>positive_trades_per_pair_pct</th>\n",
       "    </tr>\n",
       "  </thead>\n",
       "  <tbody>\n",
       "    <tr>\n",
       "      <th>0</th>\n",
       "      <td>BCM</td>\n",
       "      <td>Commodities: Broad Market</td>\n",
       "      <td>DJCI</td>\n",
       "      <td>Commodities: Broad Market</td>\n",
       "      <td>-3.771536</td>\n",
       "      <td>0.003212</td>\n",
       "      <td>392</td>\n",
       "      <td>111</td>\n",
       "      <td>0.297978</td>\n",
       "      <td>17</td>\n",
       "      <td>2</td>\n",
       "      <td>4.151694</td>\n",
       "      <td>89.473684</td>\n",
       "    </tr>\n",
       "    <tr>\n",
       "      <th>1</th>\n",
       "      <td>DBE</td>\n",
       "      <td>Commodities: Energy</td>\n",
       "      <td>BNO</td>\n",
       "      <td>Commodities: Energy Crude Oil</td>\n",
       "      <td>-2.791845</td>\n",
       "      <td>0.059448</td>\n",
       "      <td>653</td>\n",
       "      <td>450</td>\n",
       "      <td>0.241574</td>\n",
       "      <td>14</td>\n",
       "      <td>2</td>\n",
       "      <td>4.007704</td>\n",
       "      <td>87.500000</td>\n",
       "    </tr>\n",
       "    <tr>\n",
       "      <th>2</th>\n",
       "      <td>BCM</td>\n",
       "      <td>Commodities: Broad Market</td>\n",
       "      <td>SOYB</td>\n",
       "      <td>Commodities: Agriculture Soybeans</td>\n",
       "      <td>-2.617143</td>\n",
       "      <td>0.089506</td>\n",
       "      <td>161</td>\n",
       "      <td>818</td>\n",
       "      <td>0.345431</td>\n",
       "      <td>4</td>\n",
       "      <td>0</td>\n",
       "      <td>3.166795</td>\n",
       "      <td>100.000000</td>\n",
       "    </tr>\n",
       "    <tr>\n",
       "      <th>3</th>\n",
       "      <td>SOYB</td>\n",
       "      <td>Commodities: Agriculture Soybeans</td>\n",
       "      <td>UCI</td>\n",
       "      <td>Commodities: Broad Market</td>\n",
       "      <td>-2.582368</td>\n",
       "      <td>0.096696</td>\n",
       "      <td>283</td>\n",
       "      <td>603</td>\n",
       "      <td>0.306184</td>\n",
       "      <td>6</td>\n",
       "      <td>0</td>\n",
       "      <td>2.753426</td>\n",
       "      <td>100.000000</td>\n",
       "    </tr>\n",
       "    <tr>\n",
       "      <th>4</th>\n",
       "      <td>DJCI</td>\n",
       "      <td>Commodities: Broad Market</td>\n",
       "      <td>SOYB</td>\n",
       "      <td>Commodities: Agriculture Soybeans</td>\n",
       "      <td>-2.767749</td>\n",
       "      <td>0.063030</td>\n",
       "      <td>279</td>\n",
       "      <td>686</td>\n",
       "      <td>0.324227</td>\n",
       "      <td>5</td>\n",
       "      <td>0</td>\n",
       "      <td>2.750539</td>\n",
       "      <td>100.000000</td>\n",
       "    </tr>\n",
       "    <tr>\n",
       "      <th>5</th>\n",
       "      <td>DBS</td>\n",
       "      <td>Commodities: Precious Metals Silver</td>\n",
       "      <td>DGP</td>\n",
       "      <td>Leveraged Commodities: Precious Metals Gold</td>\n",
       "      <td>-3.244352</td>\n",
       "      <td>0.017557</td>\n",
       "      <td>544</td>\n",
       "      <td>546</td>\n",
       "      <td>0.372660</td>\n",
       "      <td>6</td>\n",
       "      <td>0</td>\n",
       "      <td>2.725403</td>\n",
       "      <td>100.000000</td>\n",
       "    </tr>\n",
       "    <tr>\n",
       "      <th>6</th>\n",
       "      <td>GCC</td>\n",
       "      <td>Commodities: Broad Market</td>\n",
       "      <td>SOYB</td>\n",
       "      <td>Commodities: Agriculture Soybeans</td>\n",
       "      <td>-2.640207</td>\n",
       "      <td>0.084969</td>\n",
       "      <td>364</td>\n",
       "      <td>922</td>\n",
       "      <td>0.337939</td>\n",
       "      <td>3</td>\n",
       "      <td>0</td>\n",
       "      <td>2.031009</td>\n",
       "      <td>100.000000</td>\n",
       "    </tr>\n",
       "    <tr>\n",
       "      <th>7</th>\n",
       "      <td>CORN</td>\n",
       "      <td>Commodities: Agriculture Corn</td>\n",
       "      <td>SOYB</td>\n",
       "      <td>Commodities: Agriculture Soybeans</td>\n",
       "      <td>-2.748257</td>\n",
       "      <td>0.066053</td>\n",
       "      <td>308</td>\n",
       "      <td>732</td>\n",
       "      <td>0.338427</td>\n",
       "      <td>1</td>\n",
       "      <td>0</td>\n",
       "      <td>1.106109</td>\n",
       "      <td>100.000000</td>\n",
       "    </tr>\n",
       "    <tr>\n",
       "      <th>8</th>\n",
       "      <td>CORN</td>\n",
       "      <td>Commodities: Agriculture Corn</td>\n",
       "      <td>WEAT</td>\n",
       "      <td>Commodities: Agriculture Wheat</td>\n",
       "      <td>-3.075674</td>\n",
       "      <td>0.028407</td>\n",
       "      <td>479</td>\n",
       "      <td>530</td>\n",
       "      <td>0.316719</td>\n",
       "      <td>3</td>\n",
       "      <td>0</td>\n",
       "      <td>0.999377</td>\n",
       "      <td>100.000000</td>\n",
       "    </tr>\n",
       "    <tr>\n",
       "      <th>9</th>\n",
       "      <td>DBP</td>\n",
       "      <td>Commodities: Precious Metals</td>\n",
       "      <td>IAU</td>\n",
       "      <td>Commodities: Precious Metals Gold</td>\n",
       "      <td>-3.441810</td>\n",
       "      <td>0.009614</td>\n",
       "      <td>1277</td>\n",
       "      <td>93</td>\n",
       "      <td>0.214137</td>\n",
       "      <td>2</td>\n",
       "      <td>3</td>\n",
       "      <td>0.057674</td>\n",
       "      <td>40.000000</td>\n",
       "    </tr>\n",
       "  </tbody>\n",
       "</table>\n",
       "</div>"
      ],
      "text/plain": [
       "   Leg1                           Leg1_Segmt  Leg2  \\\n",
       "0   BCM            Commodities: Broad Market  DJCI   \n",
       "1   DBE                  Commodities: Energy   BNO   \n",
       "2   BCM            Commodities: Broad Market  SOYB   \n",
       "3  SOYB    Commodities: Agriculture Soybeans   UCI   \n",
       "4  DJCI            Commodities: Broad Market  SOYB   \n",
       "5   DBS  Commodities: Precious Metals Silver   DGP   \n",
       "6   GCC            Commodities: Broad Market  SOYB   \n",
       "7  CORN        Commodities: Agriculture Corn  SOYB   \n",
       "8  CORN        Commodities: Agriculture Corn  WEAT   \n",
       "9   DBP         Commodities: Precious Metals   IAU   \n",
       "\n",
       "                                    Leg2_Segmt  t_statistic   p_value  \\\n",
       "0                    Commodities: Broad Market    -3.771536  0.003212   \n",
       "1                Commodities: Energy Crude Oil    -2.791845  0.059448   \n",
       "2            Commodities: Agriculture Soybeans    -2.617143  0.089506   \n",
       "3                    Commodities: Broad Market    -2.582368  0.096696   \n",
       "4            Commodities: Agriculture Soybeans    -2.767749  0.063030   \n",
       "5  Leveraged Commodities: Precious Metals Gold    -3.244352  0.017557   \n",
       "6            Commodities: Agriculture Soybeans    -2.640207  0.084969   \n",
       "7            Commodities: Agriculture Soybeans    -2.748257  0.066053   \n",
       "8               Commodities: Agriculture Wheat    -3.075674  0.028407   \n",
       "9            Commodities: Precious Metals Gold    -3.441810  0.009614   \n",
       "\n",
       "   zero_cross  half_life  hurst_exponent  positive_trades  negative_trades  \\\n",
       "0         392        111        0.297978               17                2   \n",
       "1         653        450        0.241574               14                2   \n",
       "2         161        818        0.345431                4                0   \n",
       "3         283        603        0.306184                6                0   \n",
       "4         279        686        0.324227                5                0   \n",
       "5         544        546        0.372660                6                0   \n",
       "6         364        922        0.337939                3                0   \n",
       "7         308        732        0.338427                1                0   \n",
       "8         479        530        0.316719                3                0   \n",
       "9        1277         93        0.214137                2                3   \n",
       "\n",
       "   sharpe_result  positive_trades_per_pair_pct  \n",
       "0       4.151694                     89.473684  \n",
       "1       4.007704                     87.500000  \n",
       "2       3.166795                    100.000000  \n",
       "3       2.753426                    100.000000  \n",
       "4       2.750539                    100.000000  \n",
       "5       2.725403                    100.000000  \n",
       "6       2.031009                    100.000000  \n",
       "7       1.106109                    100.000000  \n",
       "8       0.999377                    100.000000  \n",
       "9       0.057674                     40.000000  "
      ]
     },
     "execution_count": 35,
     "metadata": {},
     "output_type": "execute_result"
    }
   ],
   "source": [
    "pairs_summary"
   ]
  }
 ],
 "metadata": {
  "kernelspec": {
   "display_name": "Python [conda root]",
   "language": "python",
   "name": "conda-root-py"
  },
  "language_info": {
   "codemirror_mode": {
    "name": "ipython",
    "version": 3
   },
   "file_extension": ".py",
   "mimetype": "text/x-python",
   "name": "python",
   "nbconvert_exporter": "python",
   "pygments_lexer": "ipython3",
   "version": "3.6.0"
  }
 },
 "nbformat": 4,
 "nbformat_minor": 2
}
