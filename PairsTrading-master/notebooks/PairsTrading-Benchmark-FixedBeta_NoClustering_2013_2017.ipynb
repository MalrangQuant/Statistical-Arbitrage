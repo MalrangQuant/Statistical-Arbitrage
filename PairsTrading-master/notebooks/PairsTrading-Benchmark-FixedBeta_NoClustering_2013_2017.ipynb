{
 "cells": [
  {
   "cell_type": "markdown",
   "metadata": {},
   "source": [
    "# A benchmark Pairs Trading strategy \n",
    "\n",
    "**Author:** Simão Moraes Sarmento <br /> \n",
    "**Contact:** simaosarmento@hotmail.com"
   ]
  },
  {
   "cell_type": "markdown",
   "metadata": {},
   "source": [
    "## Dependencies\n",
    "\n",
    "This notebook requires code from:\n",
    "\n",
    "Python files:\n",
    "- `class_SeriesAnalyser.py` - contains a set of functions to deal with time series analysis.\n",
    "- `class_Trader.py` - contains a set of functions concerning trading strategies.\n",
    "- `class_DataProcessor.py` - contains a set of functions concerning the data pre processing.\n",
    "\n",
    "Pickle files:\n",
    "- pickle file containing pairs to be traded (obtained from running `PairsTrading_CommodityETFs-Clustering.ipynb`)\n",
    "\n",
    "As a good practise, the notebook solely intends to exemplify the application of different trading strategies for different dataset examples. Please look into the files menitoned above for more detailed info on how the functions are built."
   ]
  },
  {
   "cell_type": "markdown",
   "metadata": {},
   "source": [
    "### Import Libraries"
   ]
  },
  {
   "cell_type": "code",
   "execution_count": 1,
   "metadata": {},
   "outputs": [],
   "source": [
    "import numpy as np\n",
    "import pandas as pd\n",
    "import pickle\n",
    "import matplotlib.pyplot as plt\n",
    "\n",
    "# just set the seed for the random number generator\n",
    "np.random.seed(107)"
   ]
  },
  {
   "cell_type": "code",
   "execution_count": 2,
   "metadata": {},
   "outputs": [],
   "source": [
    "ticker_path = \"data/etfs/pickle/ticker_segment_dict.pickle\"\n",
    "with open(ticker_path, 'rb') as handle:\n",
    "    ticker_segment_dict = pickle.load(handle)"
   ]
  },
  {
   "cell_type": "markdown",
   "metadata": {},
   "source": [
    "### Import Classes"
   ]
  },
  {
   "cell_type": "code",
   "execution_count": 3,
   "metadata": {},
   "outputs": [],
   "source": [
    "%load_ext autoreload\n",
    "%aimport class_SeriesAnalyser, class_Trader, class_DataProcessor\n",
    "%autoreload 1"
   ]
  },
  {
   "cell_type": "code",
   "execution_count": 4,
   "metadata": {},
   "outputs": [],
   "source": [
    "series_analyser = class_SeriesAnalyser.SeriesAnalyser()\n",
    "trader = class_Trader.Trader()\n",
    "data_processor = class_DataProcessor.DataProcessor()"
   ]
  },
  {
   "cell_type": "markdown",
   "metadata": {},
   "source": [
    "# Retrieve prices data set"
   ]
  },
  {
   "cell_type": "markdown",
   "metadata": {},
   "source": [
    "We start by retrieving the data from a Dataframe saved in a pickle file, as it was previously processed in the `PairsTrading_CommodityETFS_Datapreprocessing.ipynb` notebook."
   ]
  },
  {
   "cell_type": "code",
   "execution_count": 108,
   "metadata": {},
   "outputs": [],
   "source": [
    "# intraday\n",
    "df_prices = pd.read_pickle('data/etfs/pickle/commodity_ETFs_from_2014_complete.pickle')"
   ]
  },
  {
   "cell_type": "code",
   "execution_count": 109,
   "metadata": {},
   "outputs": [
    {
     "name": "stdout",
     "output_type": "stream",
     "text": [
      "Total of 116 tickers\n",
      "Total of 105 tickers after removing tickers with Nan values\n"
     ]
    }
   ],
   "source": [
    "# split data in training and test\n",
    "df_prices_train, df_prices_test = data_processor.split_data(df_prices,\n",
    "                                                            ('01-01-2013',\n",
    "                                                             '31-12-2015'),\n",
    "                                                            ('01-01-2016',\n",
    "                                                             '31-12-2016'),\n",
    "                                                            remove_nan=True)"
   ]
  },
  {
   "cell_type": "code",
   "execution_count": 110,
   "metadata": {},
   "outputs": [
    {
     "data": {
      "text/plain": [
       "78222"
      ]
     },
     "execution_count": 110,
     "metadata": {},
     "output_type": "execute_result"
    }
   ],
   "source": [
    "len(df_prices_train)+len(df_prices_test)"
   ]
  },
  {
   "cell_type": "markdown",
   "metadata": {},
   "source": [
    "# Load Pairs"
   ]
  },
  {
   "cell_type": "code",
   "execution_count": 111,
   "metadata": {},
   "outputs": [],
   "source": [
    "# intra day\n",
    "with open('data/etfs/pickle/2013-2017/pairs_no_clustering_intraday.pickle', 'rb') as handle:\n",
    "    pairs = pickle.load(handle)\n",
    "\n",
    "#with open('data/etfs/pickle/2013-2017/pairs_no_clustering_intraday_nohurst.pickle', 'rb') as handle:\n",
    "#    pairs = pickle.load(handle)\n",
    "\n",
    "#with open('data/etfs/pickle/2013-2017/pairs_no_clustering_intraday_only_coint.pickle', 'rb') as handle:\n",
    "#    pairs = pickle.load(handle)"
   ]
  },
  {
   "cell_type": "code",
   "execution_count": 113,
   "metadata": {},
   "outputs": [
    {
     "data": {
      "text/plain": [
       "247"
      ]
     },
     "execution_count": 113,
     "metadata": {},
     "output_type": "execute_result"
    }
   ],
   "source": [
    "len(pairs)"
   ]
  },
  {
   "cell_type": "markdown",
   "metadata": {},
   "source": [
    "# Apply trading strategies"
   ]
  },
  {
   "cell_type": "markdown",
   "metadata": {},
   "source": [
    "**Applying the fixed beta strategy in validation period**"
   ]
  },
  {
   "cell_type": "code",
   "execution_count": 114,
   "metadata": {},
   "outputs": [
    {
     "data": {
      "text/plain": [
       "1"
      ]
     },
     "execution_count": 114,
     "metadata": {},
     "output_type": "execute_result"
    }
   ],
   "source": [
    "train_val_split = '2015-01-01'\n",
    "\n",
    "# intraday\n",
    "n_years_val = round(len(df_prices_train[train_val_split:])/(240*78))\n",
    "\n",
    "# interday\n",
    "#n_years_val = round(len(df_prices_train)/(240))\n",
    "\n",
    "n_years_val"
   ]
  },
  {
   "cell_type": "code",
   "execution_count": 116,
   "metadata": {},
   "outputs": [
    {
     "name": "stdout",
     "output_type": "stream",
     "text": [
      " entry delay turned on.\n",
      "Pair: 247/247"
     ]
    }
   ],
   "source": [
    "train_results_without_costs, train_results_with_costs, performance_threshold_train = \\\n",
    "        trader.apply_trading_strategy(pairs, \n",
    "                                       'fixed_beta',\n",
    "                                        2,#entry_multiplier,\n",
    "                                        0,#exit_multiplier,\n",
    "                                        test_mode=False,\n",
    "                                        train_val_split=train_val_split\n",
    "                                       )\n",
    "\n",
    "sharpe_results_threshold_train_nocosts, cum_returns_threshold_train_nocosts = train_results_without_costs\n",
    "sharpe_results_threshold_train_w_costs, cum_returns_threshold_train_w_costs = train_results_with_costs"
   ]
  },
  {
   "cell_type": "code",
   "execution_count": 117,
   "metadata": {},
   "outputs": [
    {
     "name": "stdout",
     "output_type": "stream",
     "text": [
      "Average SR:  1.3742445764845541\n",
      "Annual ROI:  19.791661049805565\n",
      "90.2834008097166 % of the pairs had positive returns\n",
      "Sharpe Ratio using annual return 5.129459438792814\n",
      "Autocorrelation:  -0.14158140950834508\n",
      "Daily Sharpe Ratio 0.2960355704434527\n",
      "Portfolio Sharpe Ratio:  0.2960355704434527\n",
      "Total number of trades:  581\n",
      "Positive trades:  511\n",
      "Negative trades:  70\n",
      "Max DD period: 3.0 days\n",
      "Maximum drawdown of portfolio: -2.37%\n"
     ]
    },
    {
     "data": {
      "image/png": "[encoded data removed]",
      "text/plain": [
       "<matplotlib.figure.Figure at 0x17c7235f8>"
      ]
     },
     "metadata": {},
     "output_type": "display_data"
    }
   ],
   "source": [
    "results, pairs_summary = trader.summarize_results(sharpe_results_threshold_train_w_costs,\n",
    "                                                  cum_returns_threshold_train_w_costs,\n",
    "                                                  performance_threshold_train,\n",
    "                                                  pairs, ticker_segment_dict,\n",
    "                                                  n_years_val)"
   ]
  },
  {
   "cell_type": "code",
   "execution_count": 121,
   "metadata": {},
   "outputs": [
    {
     "name": "stdout",
     "output_type": "stream",
     "text": [
      "Corrected Annualized SR: 5.17\n"
     ]
    }
   ],
   "source": [
    "print('Corrected Annualized SR: {:.2f}'.format(0.2960355704434527*17.47))"
   ]
  },
  {
   "cell_type": "code",
   "execution_count": null,
   "metadata": {},
   "outputs": [],
   "source": [
    "print('Sharpe Ratio Distribution: ')\n",
    "n, bins, patches = plt.hist(sharpe_results_threshold_train_w_costs, bins = 16, normed=True, orientation='vertical',\n",
    "                            color='red', rwidth=0.9, align='mid')"
   ]
  },
  {
   "cell_type": "code",
   "execution_count": null,
   "metadata": {},
   "outputs": [],
   "source": [
    "#cum_returns_threshold_train_w_costs"
   ]
  },
  {
   "cell_type": "code",
   "execution_count": null,
   "metadata": {},
   "outputs": [],
   "source": [
    "betas = list()\n",
    "for i in range(len(pairs)):\n",
    "    betas.append(pairs[i][2]['coint_coef'])\n",
    "np.asarray(betas)"
   ]
  },
  {
   "cell_type": "markdown",
   "metadata": {},
   "source": [
    "# Out of Sample Analysis\n",
    "\n",
    "In this section, we analyze the performance of the strategy in the validation dataset. \n",
    "\n",
    "We proceed with some data exploration analysis. For this purpose we will do the following:\n",
    "\n",
    "- Analyze which percentage of the identified pairs are still cointegrated in the validation period.\n",
    "- Analyze which percentage of pairs have positive returns, and how many of those are still cointegrated.\n",
    "- Analyze how many new pais were not identified to be cointegrated up to the validation period.\n",
    "- Run strategy for identified pairs in training period.\n",
    "\n",
    "This analysis will help us getting some insight into how the cointegrated pairs vary from time to time, and therefore how we should allocate our resources to predict when pairs are not cointegrated anymore."
   ]
  },
  {
   "cell_type": "markdown",
   "metadata": {},
   "source": [
    "## Applying the Strategy out-of Sample\n",
    "\n",
    "We might want to apply the strategy in all pairs identified. Or, instead, we might prefer to apply the strategy only on those pairs that turned out to be profitable. Let's compare how both approaches work:"
   ]
  },
  {
   "cell_type": "code",
   "execution_count": 122,
   "metadata": {},
   "outputs": [
    {
     "data": {
      "text/plain": [
       "1"
      ]
     },
     "execution_count": 122,
     "metadata": {},
     "output_type": "execute_result"
    }
   ],
   "source": [
    "# intraday\n",
    "n_years_test = round(len(df_prices_test)/(240*78))\n",
    "\n",
    "# interday\n",
    "#n_years_test = round(len(df_prices_test)/(240))\n",
    "\n",
    "n_years_test"
   ]
  },
  {
   "cell_type": "markdown",
   "metadata": {},
   "source": [
    "### Approach 1: Unrestricted"
   ]
  },
  {
   "cell_type": "markdown",
   "metadata": {},
   "source": [
    "**Basic Threshold Strategy**"
   ]
  },
  {
   "cell_type": "code",
   "execution_count": 123,
   "metadata": {},
   "outputs": [
    {
     "name": "stdout",
     "output_type": "stream",
     "text": [
      " entry delay turned on.\n",
      "Pair: 247/247"
     ]
    }
   ],
   "source": [
    "results_without_costs, results_with_costs, performance_threshold_test = \\\n",
    "                            trader.apply_trading_strategy(pairs, \n",
    "                                                           'fixed_beta',\n",
    "                                                            2,#entry_multiplier,\n",
    "                                                            0,#exit_multiplier,\n",
    "                                                            test_mode=True,\n",
    "                                                            train_val_split=train_val_split\n",
    "                                                           )\n",
    "sharpe_results_threshold_test_nocosts, cum_returns_threshold_test_nocosts = results_without_costs\n",
    "sharpe_results_threshold_test_w_costs, cum_returns_threshold_test_w_costs = results_with_costs"
   ]
  },
  {
   "cell_type": "code",
   "execution_count": 124,
   "metadata": {
    "scrolled": false
   },
   "outputs": [
    {
     "name": "stdout",
     "output_type": "stream",
     "text": [
      "Average SR:  1.5100468060202412\n",
      "Annual ROI:  24.801318566851684\n",
      "86.23481781376518 % of the pairs had positive returns\n",
      "Sharpe Ratio using annual return 6.065427423139689\n",
      "Autocorrelation:  0.25186244152217346\n",
      "Daily Sharpe Ratio 0.3409962624489464\n",
      "Portfolio Sharpe Ratio:  0.3409962624489464\n",
      "Total number of trades:  411\n",
      "Positive trades:  369\n",
      "Negative trades:  42\n",
      "Max DD period: 5.0 days\n",
      "Maximum drawdown of portfolio: -2.05%\n"
     ]
    },
    {
     "data": {
      "image/png": "[encoded data removed]",
      "text/plain": [
       "<matplotlib.figure.Figure at 0x127822f60>"
      ]
     },
     "metadata": {},
     "output_type": "display_data"
    }
   ],
   "source": [
    "results, pairs_summary = trader.summarize_results(sharpe_results_threshold_test_w_costs,\n",
    "                                                  cum_returns_threshold_test_w_costs,\n",
    "                                                  performance_threshold_test,\n",
    "                                                  pairs, ticker_segment_dict,\n",
    "                                                  n_years_test)"
   ]
  },
  {
   "cell_type": "code",
   "execution_count": 134,
   "metadata": {},
   "outputs": [
    {
     "name": "stdout",
     "output_type": "stream",
     "text": [
      "Corrected Annualized SR: 3.96\n"
     ]
    }
   ],
   "source": [
    "print('Corrected Annualized SR: {:.2f}'.format(0.3409962624489464*11.62))"
   ]
  },
  {
   "cell_type": "markdown",
   "metadata": {},
   "source": [
    "### Approach 2: Keeping only pairs that had positive returns in the training period"
   ]
  },
  {
   "cell_type": "code",
   "execution_count": 125,
   "metadata": {},
   "outputs": [],
   "source": [
    "cum_returns_threshold_train_w_costs = np.asarray(cum_returns_threshold_train_w_costs)\n",
    "profitable_pairs_indices = np.argwhere(cum_returns_threshold_train_w_costs > 0)\n",
    "profitable_pairs = [pairs[i] for i in profitable_pairs_indices.flatten()]"
   ]
  },
  {
   "cell_type": "code",
   "execution_count": 126,
   "metadata": {
    "scrolled": false
   },
   "outputs": [
    {
     "name": "stdout",
     "output_type": "stream",
     "text": [
      " entry delay turned on.\n",
      "Pair: 223/223"
     ]
    }
   ],
   "source": [
    "results_without_costs, results_with_costs, performance_threshold_test = \\\n",
    "                            trader.apply_trading_strategy(profitable_pairs, \n",
    "                                                           'fixed_beta',\n",
    "                                                            2,#entry_multiplier,\n",
    "                                                            0,#exit_multiplier,\n",
    "                                                            test_mode=True,\n",
    "                                                            train_val_split=train_val_split\n",
    "                                                           )\n",
    "sharpe_results_threshold_test_nocosts, cum_returns_threshold_test_nocosts = results_without_costs\n",
    "sharpe_results_threshold_test_w_costs, cum_returns_threshold_test_w_costs = results_with_costs"
   ]
  },
  {
   "cell_type": "code",
   "execution_count": 127,
   "metadata": {},
   "outputs": [
    {
     "name": "stdout",
     "output_type": "stream",
     "text": [
      "Average SR:  1.57330652342033\n",
      "Annual ROI:  26.346869524401974\n",
      "86.09865470852019 % of the pairs had positive returns\n",
      "Sharpe Ratio using annual return 6.245996510994825\n",
      "Autocorrelation:  0.24233093719470808\n",
      "Daily Sharpe Ratio 0.3489642352608839\n",
      "Portfolio Sharpe Ratio:  0.3489642352608839\n",
      "Total number of trades:  361\n",
      "Positive trades:  329\n",
      "Negative trades:  32\n",
      "Max DD period: 5.0 days\n",
      "Maximum drawdown of portfolio: -1.98%\n"
     ]
    },
    {
     "data": {
      "image/png": "[encoded data removed]",
      "text/plain": [
       "<matplotlib.figure.Figure at 0x1d8791ba8>"
      ]
     },
     "metadata": {},
     "output_type": "display_data"
    }
   ],
   "source": [
    "results, pairs_summary = trader.summarize_results(sharpe_results_threshold_test_w_costs,\n",
    "                                                  cum_returns_threshold_test_w_costs,\n",
    "                                                  performance_threshold_test,\n",
    "                                                  profitable_pairs, ticker_segment_dict,\n",
    "                                                  n_years_test)"
   ]
  },
  {
   "cell_type": "code",
   "execution_count": 135,
   "metadata": {},
   "outputs": [
    {
     "name": "stdout",
     "output_type": "stream",
     "text": [
      "Corrected Annualized SR: 4.51\n"
     ]
    }
   ],
   "source": [
    "print('Corrected Annualized SR: {:.2f}'.format(0.3489642352608839*12.92))"
   ]
  },
  {
   "cell_type": "markdown",
   "metadata": {},
   "source": [
    "### Approach 3: Keeping only top 10 pairs"
   ]
  },
  {
   "cell_type": "code",
   "execution_count": 136,
   "metadata": {},
   "outputs": [],
   "source": [
    "sharpe_results_threshold_train_w_costs = np.asarray(sharpe_results_threshold_train_w_costs)\n",
    "sorted_pairs_indices = np.argsort(sharpe_results_threshold_train_w_costs)[::-1][:10]\n",
    "top_10_pairs = [pairs[i] for i in sorted_pairs_indices.flatten()]"
   ]
  },
  {
   "cell_type": "code",
   "execution_count": 137,
   "metadata": {},
   "outputs": [],
   "source": [
    "# sorting by returns seems to give better results"
   ]
  },
  {
   "cell_type": "code",
   "execution_count": 138,
   "metadata": {},
   "outputs": [],
   "source": [
    "cum_returns_threshold_train_w_costs = np.asarray(cum_returns_threshold_train_w_costs)\n",
    "sorted_pairs_indices = np.argsort(cum_returns_threshold_train_w_costs)[::-1][:10]\n",
    "top_10_pairs = [pairs[i] for i in sorted_pairs_indices.flatten()]"
   ]
  },
  {
   "cell_type": "code",
   "execution_count": 131,
   "metadata": {},
   "outputs": [
    {
     "name": "stdout",
     "output_type": "stream",
     "text": [
      " entry delay turned on.\n",
      "Pair: 10/10"
     ]
    }
   ],
   "source": [
    "results_without_costs, results_with_costs, performance_threshold_test = \\\n",
    "                            trader.apply_trading_strategy(top_10_pairs, \n",
    "                                                           'fixed_beta',\n",
    "                                                            2,#entry_multiplier,\n",
    "                                                            0,#exit_multiplier,\n",
    "                                                            test_mode=True,\n",
    "                                                            train_val_split=train_val_split\n",
    "                                                           )\n",
    "sharpe_results_threshold_test_nocosts, cum_returns_threshold_test_nocosts = results_without_costs\n",
    "sharpe_results_threshold_test_w_costs, cum_returns_threshold_test_w_costs = results_with_costs"
   ]
  },
  {
   "cell_type": "code",
   "execution_count": 132,
   "metadata": {},
   "outputs": [
    {
     "name": "stdout",
     "output_type": "stream",
     "text": [
      "Average SR:  1.8268963779796288\n",
      "Annual ROI:  25.97989505595095\n",
      "90.0 % of the pairs had positive returns\n",
      "Sharpe Ratio using annual return 4.9099990104653255\n",
      "Autocorrelation:  0.1688748882215464\n",
      "Daily Sharpe Ratio 0.2752443096013491\n",
      "Portfolio Sharpe Ratio:  0.2752443096013491\n",
      "Total number of trades:  15\n",
      "Positive trades:  15\n",
      "Negative trades:  0\n",
      "Max DD period: 3.0 days\n",
      "Maximum drawdown of portfolio: -2.65%\n"
     ]
    },
    {
     "data": {
      "image/png": "[encoded data removed]",
      "text/plain": [
       "<matplotlib.figure.Figure at 0x1ab1b5c50>"
      ]
     },
     "metadata": {},
     "output_type": "display_data"
    }
   ],
   "source": [
    "results, pairs_summary = trader.summarize_results(sharpe_results_threshold_test_w_costs,\n",
    "                                                  cum_returns_threshold_test_w_costs,\n",
    "                                                  performance_threshold_test,\n",
    "                                                  top_10_pairs, ticker_segment_dict,\n",
    "                                                  n_years_test)"
   ]
  },
  {
   "cell_type": "code",
   "execution_count": 139,
   "metadata": {},
   "outputs": [
    {
     "name": "stdout",
     "output_type": "stream",
     "text": [
      "Corrected Annualized SR: 3.56\n"
     ]
    }
   ],
   "source": [
    "print('Corrected Annualized SR: {:.2f}'.format(0.2752443096013491*12.92))"
   ]
  },
  {
   "cell_type": "markdown",
   "metadata": {},
   "source": [
    "# Validate the results"
   ]
  },
  {
   "cell_type": "code",
   "execution_count": 133,
   "metadata": {
    "scrolled": false
   },
   "outputs": [
    {
     "data": {
      "text/html": [
       "<div>\n",
       "<style scoped>\n",
       "    .dataframe tbody tr th:only-of-type {\n",
       "        vertical-align: middle;\n",
       "    }\n",
       "\n",
       "    .dataframe tbody tr th {\n",
       "        vertical-align: top;\n",
       "    }\n",
       "\n",
       "    .dataframe thead th {\n",
       "        text-align: right;\n",
       "    }\n",
       "</style>\n",
       "<table border=\"1\" class=\"dataframe\">\n",
       "  <thead>\n",
       "    <tr style=\"text-align: right;\">\n",
       "      <th></th>\n",
       "      <th>Leg1</th>\n",
       "      <th>Leg1_Segmt</th>\n",
       "      <th>Leg2</th>\n",
       "      <th>Leg2_Segmt</th>\n",
       "      <th>t_statistic</th>\n",
       "      <th>p_value</th>\n",
       "      <th>zero_cross</th>\n",
       "      <th>half_life</th>\n",
       "      <th>hurst_exponent</th>\n",
       "      <th>positive_trades</th>\n",
       "      <th>negative_trades</th>\n",
       "      <th>sharpe_result</th>\n",
       "      <th>positive_trades_per_pair_pct</th>\n",
       "    </tr>\n",
       "  </thead>\n",
       "  <tbody>\n",
       "    <tr>\n",
       "      <th>0</th>\n",
       "      <td>UCI</td>\n",
       "      <td>Commodities: Broad Market</td>\n",
       "      <td>UNL</td>\n",
       "      <td>Commodities: Energy Natural Gas</td>\n",
       "      <td>-3.630634</td>\n",
       "      <td>0.005202</td>\n",
       "      <td>323</td>\n",
       "      <td>506</td>\n",
       "      <td>0.340676</td>\n",
       "      <td>3</td>\n",
       "      <td>0</td>\n",
       "      <td>3.439200</td>\n",
       "      <td>100.0</td>\n",
       "    </tr>\n",
       "    <tr>\n",
       "      <th>1</th>\n",
       "      <td>COPX</td>\n",
       "      <td>Equity: Global Metals &amp; Mining</td>\n",
       "      <td>UCI</td>\n",
       "      <td>Commodities: Broad Market</td>\n",
       "      <td>-3.818192</td>\n",
       "      <td>0.002727</td>\n",
       "      <td>399</td>\n",
       "      <td>588</td>\n",
       "      <td>0.290573</td>\n",
       "      <td>3</td>\n",
       "      <td>0</td>\n",
       "      <td>2.927010</td>\n",
       "      <td>100.0</td>\n",
       "    </tr>\n",
       "    <tr>\n",
       "      <th>2</th>\n",
       "      <td>SGOL</td>\n",
       "      <td>Commodities: Precious Metals Gold</td>\n",
       "      <td>URA</td>\n",
       "      <td>Equity: Global Nuclear Energy</td>\n",
       "      <td>-3.647249</td>\n",
       "      <td>0.004919</td>\n",
       "      <td>369</td>\n",
       "      <td>1688</td>\n",
       "      <td>0.496328</td>\n",
       "      <td>1</td>\n",
       "      <td>0</td>\n",
       "      <td>2.226152</td>\n",
       "      <td>100.0</td>\n",
       "    </tr>\n",
       "    <tr>\n",
       "      <th>3</th>\n",
       "      <td>GLTR</td>\n",
       "      <td>Commodities: Precious Metals</td>\n",
       "      <td>URA</td>\n",
       "      <td>Equity: Global Nuclear Energy</td>\n",
       "      <td>-3.599898</td>\n",
       "      <td>0.005763</td>\n",
       "      <td>361</td>\n",
       "      <td>1576</td>\n",
       "      <td>0.491858</td>\n",
       "      <td>1</td>\n",
       "      <td>0</td>\n",
       "      <td>2.211251</td>\n",
       "      <td>100.0</td>\n",
       "    </tr>\n",
       "    <tr>\n",
       "      <th>4</th>\n",
       "      <td>RJZ</td>\n",
       "      <td>Commodities: Broad Market Metals</td>\n",
       "      <td>URA</td>\n",
       "      <td>Equity: Global Nuclear Energy</td>\n",
       "      <td>-3.618772</td>\n",
       "      <td>0.005412</td>\n",
       "      <td>495</td>\n",
       "      <td>722</td>\n",
       "      <td>0.400730</td>\n",
       "      <td>2</td>\n",
       "      <td>0</td>\n",
       "      <td>2.171310</td>\n",
       "      <td>100.0</td>\n",
       "    </tr>\n",
       "    <tr>\n",
       "      <th>5</th>\n",
       "      <td>SILJ</td>\n",
       "      <td>Equity: Global Silver Miners</td>\n",
       "      <td>UCI</td>\n",
       "      <td>Commodities: Broad Market</td>\n",
       "      <td>-3.605904</td>\n",
       "      <td>0.005649</td>\n",
       "      <td>334</td>\n",
       "      <td>1135</td>\n",
       "      <td>0.345695</td>\n",
       "      <td>1</td>\n",
       "      <td>0</td>\n",
       "      <td>1.981727</td>\n",
       "      <td>100.0</td>\n",
       "    </tr>\n",
       "    <tr>\n",
       "      <th>6</th>\n",
       "      <td>MLPY</td>\n",
       "      <td>Equity: U.S. MLPs</td>\n",
       "      <td>PICK</td>\n",
       "      <td>Equity: Global Metals &amp; Mining</td>\n",
       "      <td>-4.338911</td>\n",
       "      <td>0.000380</td>\n",
       "      <td>580</td>\n",
       "      <td>930</td>\n",
       "      <td>0.375689</td>\n",
       "      <td>2</td>\n",
       "      <td>0</td>\n",
       "      <td>1.811966</td>\n",
       "      <td>100.0</td>\n",
       "    </tr>\n",
       "    <tr>\n",
       "      <th>7</th>\n",
       "      <td>BOIL</td>\n",
       "      <td>Leveraged Commodities: Energy Natural Gas</td>\n",
       "      <td>UCI</td>\n",
       "      <td>Commodities: Broad Market</td>\n",
       "      <td>-3.621489</td>\n",
       "      <td>0.005363</td>\n",
       "      <td>307</td>\n",
       "      <td>628</td>\n",
       "      <td>0.392571</td>\n",
       "      <td>1</td>\n",
       "      <td>0</td>\n",
       "      <td>0.972637</td>\n",
       "      <td>100.0</td>\n",
       "    </tr>\n",
       "    <tr>\n",
       "      <th>8</th>\n",
       "      <td>BCM</td>\n",
       "      <td>Commodities: Broad Market</td>\n",
       "      <td>COPX</td>\n",
       "      <td>Equity: Global Metals &amp; Mining</td>\n",
       "      <td>-3.433277</td>\n",
       "      <td>0.009875</td>\n",
       "      <td>296</td>\n",
       "      <td>1051</td>\n",
       "      <td>0.400626</td>\n",
       "      <td>1</td>\n",
       "      <td>0</td>\n",
       "      <td>0.527711</td>\n",
       "      <td>100.0</td>\n",
       "    </tr>\n",
       "    <tr>\n",
       "      <th>9</th>\n",
       "      <td>CANE</td>\n",
       "      <td>Commodities: Agriculture Sugar</td>\n",
       "      <td>UGAZ</td>\n",
       "      <td>Leveraged Commodities: Energy Natural Gas</td>\n",
       "      <td>-3.581804</td>\n",
       "      <td>0.006119</td>\n",
       "      <td>225</td>\n",
       "      <td>976</td>\n",
       "      <td>0.419379</td>\n",
       "      <td>0</td>\n",
       "      <td>0</td>\n",
       "      <td>0.000000</td>\n",
       "      <td>NaN</td>\n",
       "    </tr>\n",
       "  </tbody>\n",
       "</table>\n",
       "</div>"
      ],
      "text/plain": [
       "   Leg1                                 Leg1_Segmt  Leg2  \\\n",
       "0   UCI                  Commodities: Broad Market   UNL   \n",
       "1  COPX             Equity: Global Metals & Mining   UCI   \n",
       "2  SGOL          Commodities: Precious Metals Gold   URA   \n",
       "3  GLTR               Commodities: Precious Metals   URA   \n",
       "4   RJZ           Commodities: Broad Market Metals   URA   \n",
       "5  SILJ               Equity: Global Silver Miners   UCI   \n",
       "6  MLPY                          Equity: U.S. MLPs  PICK   \n",
       "7  BOIL  Leveraged Commodities: Energy Natural Gas   UCI   \n",
       "8   BCM                  Commodities: Broad Market  COPX   \n",
       "9  CANE             Commodities: Agriculture Sugar  UGAZ   \n",
       "\n",
       "                                  Leg2_Segmt  t_statistic   p_value  \\\n",
       "0            Commodities: Energy Natural Gas    -3.630634  0.005202   \n",
       "1                  Commodities: Broad Market    -3.818192  0.002727   \n",
       "2              Equity: Global Nuclear Energy    -3.647249  0.004919   \n",
       "3              Equity: Global Nuclear Energy    -3.599898  0.005763   \n",
       "4              Equity: Global Nuclear Energy    -3.618772  0.005412   \n",
       "5                  Commodities: Broad Market    -3.605904  0.005649   \n",
       "6             Equity: Global Metals & Mining    -4.338911  0.000380   \n",
       "7                  Commodities: Broad Market    -3.621489  0.005363   \n",
       "8             Equity: Global Metals & Mining    -3.433277  0.009875   \n",
       "9  Leveraged Commodities: Energy Natural Gas    -3.581804  0.006119   \n",
       "\n",
       "   zero_cross  half_life  hurst_exponent  positive_trades  negative_trades  \\\n",
       "0         323        506        0.340676                3                0   \n",
       "1         399        588        0.290573                3                0   \n",
       "2         369       1688        0.496328                1                0   \n",
       "3         361       1576        0.491858                1                0   \n",
       "4         495        722        0.400730                2                0   \n",
       "5         334       1135        0.345695                1                0   \n",
       "6         580        930        0.375689                2                0   \n",
       "7         307        628        0.392571                1                0   \n",
       "8         296       1051        0.400626                1                0   \n",
       "9         225        976        0.419379                0                0   \n",
       "\n",
       "   sharpe_result  positive_trades_per_pair_pct  \n",
       "0       3.439200                         100.0  \n",
       "1       2.927010                         100.0  \n",
       "2       2.226152                         100.0  \n",
       "3       2.211251                         100.0  \n",
       "4       2.171310                         100.0  \n",
       "5       1.981727                         100.0  \n",
       "6       1.811966                         100.0  \n",
       "7       0.972637                         100.0  \n",
       "8       0.527711                         100.0  \n",
       "9       0.000000                           NaN  "
      ]
     },
     "execution_count": 133,
     "metadata": {},
     "output_type": "execute_result"
    }
   ],
   "source": [
    "pairs_summary"
   ]
  }
 ],
 "metadata": {
  "kernelspec": {
   "display_name": "Python [conda root]",
   "language": "python",
   "name": "conda-root-py"
  },
  "language_info": {
   "codemirror_mode": {
    "name": "ipython",
    "version": 3
   },
   "file_extension": ".py",
   "mimetype": "text/x-python",
   "name": "python",
   "nbconvert_exporter": "python",
   "pygments_lexer": "ipython3",
   "version": "3.6.0"
  }
 },
 "nbformat": 4,
 "nbformat_minor": 2
}
