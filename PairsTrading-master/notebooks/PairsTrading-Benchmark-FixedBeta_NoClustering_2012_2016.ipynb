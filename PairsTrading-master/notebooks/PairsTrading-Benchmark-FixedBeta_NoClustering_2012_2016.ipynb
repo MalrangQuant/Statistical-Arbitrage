{
 "cells": [
  {
   "cell_type": "markdown",
   "metadata": {},
   "source": [
    "# A Pairs Trading strategy \n",
    "\n",
    "**Author:** Simão Moraes Sarmento <br /> \n",
    "**Contact:** simaosarmento@hotmail.com"
   ]
  },
  {
   "cell_type": "markdown",
   "metadata": {},
   "source": [
    "## Dependencies\n",
    "\n",
    "This notebook requires code from:\n",
    "\n",
    "Python files:\n",
    "- `class_SeriesAnalyser.py` - contains a set of functions to deal with time series analysis.\n",
    "- `class_Trader.py` - contains a set of functions concerning trading strategies.\n",
    "- `class_DataProcessor.py` - contains a set of functions concerning the data pre processing.\n",
    "\n",
    "Pickle files:\n",
    "- pickle file containing pairs to be traded (obtained from running `PairsTrading_CommodityETFs-Clustering.ipynb`)\n",
    "\n",
    "As a good practise, the notebook solely intends to exemplify the application of different trading strategies for different dataset examples. Please look into the files menitoned above for more detailed info on how the functions are built."
   ]
  },
  {
   "cell_type": "markdown",
   "metadata": {},
   "source": [
    "### Import Libraries"
   ]
  },
  {
   "cell_type": "code",
   "execution_count": 1,
   "metadata": {},
   "outputs": [],
   "source": [
    "import numpy as np\n",
    "import pandas as pd\n",
    "import pickle\n",
    "\n",
    "import matplotlib.pyplot as plt\n",
    "\n",
    "# just set the seed for the random number generator\n",
    "np.random.seed(107)"
   ]
  },
  {
   "cell_type": "code",
   "execution_count": 2,
   "metadata": {},
   "outputs": [],
   "source": [
    "ticker_path = \"data/etfs/pickle/ticker_segment_dict.pickle\"\n",
    "with open(ticker_path, 'rb') as handle:\n",
    "    ticker_segment_dict = pickle.load(handle)"
   ]
  },
  {
   "cell_type": "markdown",
   "metadata": {},
   "source": [
    "### Import Classes"
   ]
  },
  {
   "cell_type": "code",
   "execution_count": 3,
   "metadata": {},
   "outputs": [],
   "source": [
    "%load_ext autoreload\n",
    "%aimport class_SeriesAnalyser, class_Trader, class_DataProcessor\n",
    "%autoreload 1"
   ]
  },
  {
   "cell_type": "code",
   "execution_count": 4,
   "metadata": {},
   "outputs": [],
   "source": [
    "series_analyser = class_SeriesAnalyser.SeriesAnalyser()\n",
    "trader = class_Trader.Trader()\n",
    "data_processor = class_DataProcessor.DataProcessor()"
   ]
  },
  {
   "cell_type": "markdown",
   "metadata": {},
   "source": [
    "# Retrieve prices data set"
   ]
  },
  {
   "cell_type": "markdown",
   "metadata": {},
   "source": [
    "We start by retrieving the data from a Dataframe saved in a pickle file, as it was previously processed in the `PairsTrading_CommodityETFS_Datapreprocessing.ipynb` notebook."
   ]
  },
  {
   "cell_type": "code",
   "execution_count": 98,
   "metadata": {},
   "outputs": [],
   "source": [
    "# intraday\n",
    "df_prices = pd.read_pickle('data/etfs/pickle/commodity_ETFs_from_2014_complete.pickle')"
   ]
  },
  {
   "cell_type": "code",
   "execution_count": 99,
   "metadata": {},
   "outputs": [
    {
     "name": "stdout",
     "output_type": "stream",
     "text": [
      "Total of 116 tickers\n",
      "Total of 95 tickers after removing tickers with Nan values\n"
     ]
    }
   ],
   "source": [
    "# split data in training and test\n",
    "df_prices_train, df_prices_test = data_processor.split_data(df_prices,\n",
    "                                                            ('01-01-2012',\n",
    "                                                             '31-12-2014'),\n",
    "                                                            ('01-01-2015',\n",
    "                                                             '31-12-2015'),\n",
    "                                                            remove_nan=True)"
   ]
  },
  {
   "cell_type": "code",
   "execution_count": 100,
   "metadata": {},
   "outputs": [
    {
     "data": {
      "text/plain": [
       "77916"
      ]
     },
     "execution_count": 100,
     "metadata": {},
     "output_type": "execute_result"
    }
   ],
   "source": [
    "len(df_prices_train)+len(df_prices_test)"
   ]
  },
  {
   "cell_type": "markdown",
   "metadata": {},
   "source": [
    "# Load Pairs"
   ]
  },
  {
   "cell_type": "code",
   "execution_count": 101,
   "metadata": {},
   "outputs": [],
   "source": [
    "# intra day\n",
    "with open('data/etfs/pickle/2012-2016/pairs_no_clustering_intraday.pickle', 'rb') as handle:\n",
    "    pairs = pickle.load(handle)\n",
    "\n",
    "#with open('data/etfs/pickle/2012-2016/pairs_no_clustering_intraday_nohurst.pickle', 'rb') as handle:\n",
    "#    pairs = pickle.load(handle)\n",
    "\n",
    "#with open('data/etfs/pickle/2012-2016/pairs_no_clustering_intraday_only_coint.pickle', 'rb') as handle:\n",
    "#    pairs = pickle.load(handle)"
   ]
  },
  {
   "cell_type": "code",
   "execution_count": 103,
   "metadata": {},
   "outputs": [
    {
     "data": {
      "text/plain": [
       "101"
      ]
     },
     "execution_count": 103,
     "metadata": {},
     "output_type": "execute_result"
    }
   ],
   "source": [
    "len(pairs)"
   ]
  },
  {
   "cell_type": "markdown",
   "metadata": {},
   "source": [
    "# Apply trading strategies"
   ]
  },
  {
   "cell_type": "markdown",
   "metadata": {},
   "source": [
    "**Applying the fixed beta strategy in validation period**"
   ]
  },
  {
   "cell_type": "code",
   "execution_count": 104,
   "metadata": {},
   "outputs": [
    {
     "data": {
      "text/plain": [
       "1"
      ]
     },
     "execution_count": 104,
     "metadata": {},
     "output_type": "execute_result"
    }
   ],
   "source": [
    "train_val_split = '2014-01-01'\n",
    "\n",
    "# intraday\n",
    "n_years_val = round(len(df_prices_train[train_val_split:])/(240*78))\n",
    "\n",
    "# interday\n",
    "#n_years_val = round(len(df_prices_train)/(240))\n",
    "\n",
    "n_years_val"
   ]
  },
  {
   "cell_type": "code",
   "execution_count": 105,
   "metadata": {},
   "outputs": [
    {
     "name": "stdout",
     "output_type": "stream",
     "text": [
      " entry delay turned on.\n",
      "Pair: 101/101"
     ]
    }
   ],
   "source": [
    "train_results_without_costs, train_results_with_costs, performance_threshold_train = \\\n",
    "        trader.apply_trading_strategy(pairs, \n",
    "                                       'fixed_beta',\n",
    "                                        2,#entry_multiplier,\n",
    "                                        0,#exit_multiplier,\n",
    "                                        test_mode=False,\n",
    "                                        train_val_split=train_val_split\n",
    "                                       )\n",
    "\n",
    "sharpe_results_threshold_train_nocosts, cum_returns_threshold_train_nocosts = train_results_without_costs\n",
    "sharpe_results_threshold_train_w_costs, cum_returns_threshold_train_w_costs = train_results_with_costs"
   ]
  },
  {
   "cell_type": "code",
   "execution_count": 106,
   "metadata": {},
   "outputs": [
    {
     "name": "stdout",
     "output_type": "stream",
     "text": [
      "Average SR:  0.9756735790915363\n",
      "Annual ROI:  11.265970444866259\n",
      "76.23762376237623 % of the pairs had positive returns\n",
      "Sharpe Ratio using annual return 4.439312218246074\n",
      "Autocorrelation:  0.047680955152882704\n",
      "Daily Sharpe Ratio 0.2658184327444632\n",
      "Portfolio Sharpe Ratio:  0.2658184327444632\n",
      "Total number of trades:  276\n",
      "Positive trades:  198\n",
      "Negative trades:  78\n",
      "Max DD period: 8.0 days\n",
      "Maximum drawdown of portfolio: -1.35%\n"
     ]
    },
    {
     "data": {
      "image/png": "[encoded data removed]",
      "text/plain": [
       "<matplotlib.figure.Figure at 0x17b36b5c0>"
      ]
     },
     "metadata": {},
     "output_type": "display_data"
    }
   ],
   "source": [
    "results, pairs_summary = trader.summarize_results(sharpe_results_threshold_train_w_costs,\n",
    "                                                  cum_returns_threshold_train_w_costs,\n",
    "                                                  performance_threshold_train,\n",
    "                                                  pairs, ticker_segment_dict,\n",
    "                                                  n_years_val)"
   ]
  },
  {
   "cell_type": "code",
   "execution_count": 122,
   "metadata": {},
   "outputs": [
    {
     "name": "stdout",
     "output_type": "stream",
     "text": [
      "Corrected Annualized SR: 4.22\n"
     ]
    }
   ],
   "source": [
    "print('Corrected Annualized SR: {:.2f}'.format(0.2658184327444632*(252**0.5)))"
   ]
  },
  {
   "cell_type": "code",
   "execution_count": 107,
   "metadata": {},
   "outputs": [
    {
     "name": "stdout",
     "output_type": "stream",
     "text": [
      "Sharpe Ratio Distribution: \n"
     ]
    },
    {
     "data": {
      "image/png": "[encoded data removed]",
      "text/plain": [
       "<matplotlib.figure.Figure at 0x17b3625f8>"
      ]
     },
     "metadata": {},
     "output_type": "display_data"
    }
   ],
   "source": [
    "print('Sharpe Ratio Distribution: ')\n",
    "n, bins, patches = plt.hist(sharpe_results_threshold_train_w_costs, bins = 16, normed=True, orientation='vertical',\n",
    "                            color='red', rwidth=0.9, align='mid')"
   ]
  },
  {
   "cell_type": "code",
   "execution_count": 108,
   "metadata": {},
   "outputs": [],
   "source": [
    "#cum_returns_threshold_train_w_costs"
   ]
  },
  {
   "cell_type": "code",
   "execution_count": 109,
   "metadata": {},
   "outputs": [
    {
     "data": {
      "text/plain": [
       "array([ 0.16867686,  0.36914727,  0.20139504,  1.92312674,  0.10892672,\n",
       "        2.57602378,  1.86658008,  0.24434038,  0.0509225 ,  0.09046071,\n",
       "        0.75714618,  1.39133223,  2.39499998,  0.23866385,  1.39881789,\n",
       "        1.67173893,  1.37550723,  0.67513256,  1.05054659,  1.80493701,\n",
       "        5.4288947 ,  2.28250428,  1.18180798,  1.83889542,  1.27400836,\n",
       "        1.55303747,  1.24726812,  1.85944218,  1.22645846,  0.93119343,\n",
       "        1.62616958,  9.28888945,  0.5031869 ,  3.44548021, 12.1799656 ,\n",
       "       11.98787394,  0.26566592,  2.4274593 ,  2.04200984,  5.25590961,\n",
       "        1.6464653 ,  5.80386653, 11.40459308,  1.93981938,  0.56163217,\n",
       "        0.88791065,  0.56797951,  1.90691545,  0.29291248,  3.28013448,\n",
       "        0.33238383,  6.97806628,  0.32686603,  1.14350396,  0.57768161,\n",
       "        1.15481571,  1.25613024,  3.85699166,  1.21721559,  1.41563222,\n",
       "        0.236877  ,  0.42332024,  0.45903805,  1.24525033,  0.57130184,\n",
       "        1.94431047,  2.15564605,  1.46118979,  0.83395672,  0.81747839,\n",
       "        2.81857608,  5.50748295, 25.05374833,  0.06610509,  0.69339966,\n",
       "        2.18455585,  3.39830113,  2.35621741,  0.5029216 ,  0.70445383,\n",
       "        1.53438387,  0.24538657,  0.57458147,  3.63798194,  4.11980107,\n",
       "        1.06490281,  0.17032315,  0.32700247,  0.35718288,  0.37548657,\n",
       "        2.09040579,  5.77701579,  1.92368515,  4.14116457,  1.07878942,\n",
       "        2.14847196,  0.15742672,  1.22526942,  8.58688699,  3.34185575,\n",
       "        2.3173922 ])"
      ]
     },
     "execution_count": 109,
     "metadata": {},
     "output_type": "execute_result"
    }
   ],
   "source": [
    "betas = list()\n",
    "for i in range(len(pairs)):\n",
    "    betas.append(pairs[i][2]['coint_coef'])\n",
    "np.asarray(betas)"
   ]
  },
  {
   "cell_type": "markdown",
   "metadata": {},
   "source": [
    "# Out of Sample Analysis\n",
    "\n",
    "In this section, we analyze the performance of the strategy in the validation dataset. \n",
    "\n",
    "We proceed with some data exploration analysis. For this purpose we will do the following:\n",
    "\n",
    "- Analyze which percentage of the identified pairs are still cointegrated in the validation period.\n",
    "- Analyze which percentage of pairs have positive returns, and how many of those are still cointegrated.\n",
    "- Analyze how many new pais were not identified to be cointegrated up to the validation period.\n",
    "- Run strategy for identified pairs in training period.\n",
    "\n",
    "This analysis will help us getting some insight into how the cointegrated pairs vary from time to time, and therefore how we should allocate our resources to predict when pairs are not cointegrated anymore."
   ]
  },
  {
   "cell_type": "markdown",
   "metadata": {},
   "source": [
    "## Applying the Strategy out-of Sample\n",
    "\n",
    "We might want to apply the strategy in all pairs identified. Or, instead, we might prefer to apply the strategy only on those pairs that turned out to be profitable. Let's compare how both approaches work:"
   ]
  },
  {
   "cell_type": "code",
   "execution_count": 110,
   "metadata": {},
   "outputs": [
    {
     "data": {
      "text/plain": [
       "1"
      ]
     },
     "execution_count": 110,
     "metadata": {},
     "output_type": "execute_result"
    }
   ],
   "source": [
    "# intraday\n",
    "n_years_test = round(len(df_prices_test)/(240*78))\n",
    "\n",
    "# interday\n",
    "#n_years_test = round(len(df_prices_test)/(240))\n",
    "\n",
    "n_years_test"
   ]
  },
  {
   "cell_type": "markdown",
   "metadata": {},
   "source": [
    "### Approach 1: Unrestricted"
   ]
  },
  {
   "cell_type": "markdown",
   "metadata": {},
   "source": [
    "**Basic Threshold Strategy**"
   ]
  },
  {
   "cell_type": "code",
   "execution_count": 111,
   "metadata": {},
   "outputs": [
    {
     "name": "stdout",
     "output_type": "stream",
     "text": [
      " entry delay turned on.\n",
      "Pair: 101/101"
     ]
    }
   ],
   "source": [
    "results_without_costs, results_with_costs, performance_threshold_test = \\\n",
    "                            trader.apply_trading_strategy(pairs, \n",
    "                                                           'fixed_beta',\n",
    "                                                            2,#entry_multiplier,\n",
    "                                                            0,#exit_multiplier,\n",
    "                                                            test_mode=True,\n",
    "                                                            train_val_split=train_val_split\n",
    "                                                           )\n",
    "sharpe_results_threshold_test_nocosts, cum_returns_threshold_test_nocosts = results_without_costs\n",
    "sharpe_results_threshold_test_w_costs, cum_returns_threshold_test_w_costs = results_with_costs"
   ]
  },
  {
   "cell_type": "code",
   "execution_count": 112,
   "metadata": {},
   "outputs": [
    {
     "name": "stdout",
     "output_type": "stream",
     "text": [
      "Average SR:  0.7711095419466942\n",
      "Annual ROI:  10.440193950697507\n",
      "70.29702970297029 % of the pairs had positive returns\n",
      "Sharpe Ratio using annual return 3.355534974158643\n",
      "Autocorrelation:  -0.1220882316396094\n",
      "Daily Sharpe Ratio 0.2020276167935731\n",
      "Portfolio Sharpe Ratio:  0.2020276167935731\n",
      "Total number of trades:  229\n",
      "Positive trades:  180\n",
      "Negative trades:  49\n",
      "Max DD period: 5.0 days\n",
      "Maximum drawdown of portfolio: -1.42%\n"
     ]
    },
    {
     "data": {
      "image/png": "[encoded data removed]",
      "text/plain": [
       "<matplotlib.figure.Figure at 0x15a686f60>"
      ]
     },
     "metadata": {},
     "output_type": "display_data"
    }
   ],
   "source": [
    "results, pairs_summary = trader.summarize_results(sharpe_results_threshold_test_w_costs,\n",
    "                                                  cum_returns_threshold_test_w_costs,\n",
    "                                                  performance_threshold_test,\n",
    "                                                  pairs, ticker_segment_dict,\n",
    "                                                  n_years_test)"
   ]
  },
  {
   "cell_type": "code",
   "execution_count": 123,
   "metadata": {},
   "outputs": [
    {
     "name": "stdout",
     "output_type": "stream",
     "text": [
      "Corrected Annualized SR: 3.53\n"
     ]
    }
   ],
   "source": [
    "print('Corrected Annualized SR: {:.2f}'.format(0.2020276167935731*17.47))"
   ]
  },
  {
   "cell_type": "markdown",
   "metadata": {},
   "source": [
    "### Approach 2: Keeping only pairs that had positive returns in the training period"
   ]
  },
  {
   "cell_type": "code",
   "execution_count": 113,
   "metadata": {},
   "outputs": [],
   "source": [
    "cum_returns_threshold_train_w_costs = np.asarray(cum_returns_threshold_train_w_costs)\n",
    "profitable_pairs_indices = np.argwhere(cum_returns_threshold_train_w_costs > 0)\n",
    "profitable_pairs = [pairs[i] for i in profitable_pairs_indices.flatten()]"
   ]
  },
  {
   "cell_type": "code",
   "execution_count": 114,
   "metadata": {
    "scrolled": false
   },
   "outputs": [
    {
     "name": "stdout",
     "output_type": "stream",
     "text": [
      " entry delay turned on.\n",
      "Pair: 77/77"
     ]
    }
   ],
   "source": [
    "results_without_costs, results_with_costs, performance_threshold_test = \\\n",
    "                            trader.apply_trading_strategy(profitable_pairs, \n",
    "                                                           'fixed_beta',\n",
    "                                                            2,#entry_multiplier,\n",
    "                                                            0,#exit_multiplier,\n",
    "                                                            test_mode=True,\n",
    "                                                            train_val_split=train_val_split\n",
    "                                                           )\n",
    "sharpe_results_threshold_test_nocosts, cum_returns_threshold_test_nocosts = results_without_costs\n",
    "sharpe_results_threshold_test_w_costs, cum_returns_threshold_test_w_costs = results_with_costs"
   ]
  },
  {
   "cell_type": "code",
   "execution_count": 115,
   "metadata": {},
   "outputs": [
    {
     "name": "stdout",
     "output_type": "stream",
     "text": [
      "Average SR:  0.955764259625151\n",
      "Annual ROI:  12.44616190194594\n",
      "80.51948051948052 % of the pairs had positive returns\n",
      "Sharpe Ratio using annual return 3.953084773956406\n",
      "Autocorrelation:  -0.11677534749657806\n",
      "Daily Sharpe Ratio 0.23565017335431812\n",
      "Portfolio Sharpe Ratio:  0.23565017335431812\n",
      "Total number of trades:  173\n",
      "Positive trades:  147\n",
      "Negative trades:  26\n",
      "Max DD period: 21.0 days\n",
      "Maximum drawdown of portfolio: -0.97%\n"
     ]
    },
    {
     "data": {
      "image/png": "[encoded data removed]",
      "text/plain": [
       "<matplotlib.figure.Figure at 0x15a66fd68>"
      ]
     },
     "metadata": {},
     "output_type": "display_data"
    }
   ],
   "source": [
    "results, pairs_summary = trader.summarize_results(sharpe_results_threshold_test_w_costs,\n",
    "                                                  cum_returns_threshold_test_w_costs,\n",
    "                                                  performance_threshold_test,\n",
    "                                                  profitable_pairs, ticker_segment_dict,\n",
    "                                                  n_years_test)"
   ]
  },
  {
   "cell_type": "code",
   "execution_count": 124,
   "metadata": {},
   "outputs": [
    {
     "name": "stdout",
     "output_type": "stream",
     "text": [
      "Corrected Annualized SR: 4.12\n"
     ]
    }
   ],
   "source": [
    "print('Corrected Annualized SR: {:.2f}'.format(0.23565017335431812*17.47))"
   ]
  },
  {
   "cell_type": "markdown",
   "metadata": {},
   "source": [
    "### Approach 3: Keeping only top 10 pairs"
   ]
  },
  {
   "cell_type": "code",
   "execution_count": 116,
   "metadata": {},
   "outputs": [],
   "source": [
    "sharpe_results_threshold_train_w_costs = np.asarray(sharpe_results_threshold_train_w_costs)\n",
    "sorted_pairs_indices = np.argsort(sharpe_results_threshold_train_w_costs)[::-1][:10]\n",
    "top_10_pairs = [pairs[i] for i in sorted_pairs_indices.flatten()]"
   ]
  },
  {
   "cell_type": "code",
   "execution_count": 117,
   "metadata": {},
   "outputs": [],
   "source": [
    "# sorting by returns seems to give better results"
   ]
  },
  {
   "cell_type": "code",
   "execution_count": 118,
   "metadata": {},
   "outputs": [],
   "source": [
    "cum_returns_threshold_train_w_costs = np.asarray(cum_returns_threshold_train_w_costs)\n",
    "sorted_pairs_indices = np.argsort(cum_returns_threshold_train_w_costs)[::-1][:10]\n",
    "top_10_pairs = [pairs[i] for i in sorted_pairs_indices.flatten()]"
   ]
  },
  {
   "cell_type": "code",
   "execution_count": 119,
   "metadata": {},
   "outputs": [
    {
     "name": "stdout",
     "output_type": "stream",
     "text": [
      " entry delay turned on.\n",
      "Pair: 10/10"
     ]
    }
   ],
   "source": [
    "results_without_costs, results_with_costs, performance_threshold_test = \\\n",
    "                            trader.apply_trading_strategy(top_10_pairs, \n",
    "                                                           'fixed_beta',\n",
    "                                                            2,#entry_multiplier,\n",
    "                                                            0,#exit_multiplier,\n",
    "                                                            test_mode=True,\n",
    "                                                            train_val_split=train_val_split\n",
    "                                                           )\n",
    "sharpe_results_threshold_test_nocosts, cum_returns_threshold_test_nocosts = results_without_costs\n",
    "sharpe_results_threshold_test_w_costs, cum_returns_threshold_test_w_costs = results_with_costs"
   ]
  },
  {
   "cell_type": "code",
   "execution_count": 120,
   "metadata": {},
   "outputs": [
    {
     "name": "stdout",
     "output_type": "stream",
     "text": [
      "Average SR:  1.0509364520518412\n",
      "Annual ROI:  17.43442092420109\n",
      "70.0 % of the pairs had positive returns\n",
      "Sharpe Ratio using annual return 3.2423836449996335\n",
      "Autocorrelation:  -0.10277811322727184\n",
      "Daily Sharpe Ratio 0.1899613313591282\n",
      "Portfolio Sharpe Ratio:  0.1899613313591282\n",
      "Total number of trades:  17\n",
      "Positive trades:  15\n",
      "Negative trades:  2\n",
      "Max DD period: 5.0 days\n",
      "Maximum drawdown of portfolio: -2.59%\n"
     ]
    },
    {
     "data": {
      "image/png": "[encoded data removed]",
      "text/plain": [
       "<matplotlib.figure.Figure at 0x14b156240>"
      ]
     },
     "metadata": {},
     "output_type": "display_data"
    }
   ],
   "source": [
    "results, pairs_summary = trader.summarize_results(sharpe_results_threshold_test_w_costs,\n",
    "                                                  cum_returns_threshold_test_w_costs,\n",
    "                                                  performance_threshold_test,\n",
    "                                                  top_10_pairs, ticker_segment_dict,\n",
    "                                                  n_years_test)"
   ]
  },
  {
   "cell_type": "code",
   "execution_count": 125,
   "metadata": {},
   "outputs": [
    {
     "name": "stdout",
     "output_type": "stream",
     "text": [
      "Corrected Annualized SR: 3.32\n"
     ]
    }
   ],
   "source": [
    "print('Corrected Annualized SR: {:.2f}'.format(0.1899613313591282*17.47))"
   ]
  },
  {
   "cell_type": "markdown",
   "metadata": {},
   "source": [
    "# Validate the results"
   ]
  },
  {
   "cell_type": "code",
   "execution_count": 121,
   "metadata": {
    "scrolled": false
   },
   "outputs": [
    {
     "data": {
      "text/html": [
       "<div>\n",
       "<style scoped>\n",
       "    .dataframe tbody tr th:only-of-type {\n",
       "        vertical-align: middle;\n",
       "    }\n",
       "\n",
       "    .dataframe tbody tr th {\n",
       "        vertical-align: top;\n",
       "    }\n",
       "\n",
       "    .dataframe thead th {\n",
       "        text-align: right;\n",
       "    }\n",
       "</style>\n",
       "<table border=\"1\" class=\"dataframe\">\n",
       "  <thead>\n",
       "    <tr style=\"text-align: right;\">\n",
       "      <th></th>\n",
       "      <th>Leg1</th>\n",
       "      <th>Leg1_Segmt</th>\n",
       "      <th>Leg2</th>\n",
       "      <th>Leg2_Segmt</th>\n",
       "      <th>t_statistic</th>\n",
       "      <th>p_value</th>\n",
       "      <th>zero_cross</th>\n",
       "      <th>half_life</th>\n",
       "      <th>hurst_exponent</th>\n",
       "      <th>positive_trades</th>\n",
       "      <th>negative_trades</th>\n",
       "      <th>sharpe_result</th>\n",
       "      <th>positive_trades_per_pair_pct</th>\n",
       "    </tr>\n",
       "  </thead>\n",
       "  <tbody>\n",
       "    <tr>\n",
       "      <th>0</th>\n",
       "      <td>AGQ</td>\n",
       "      <td>Leveraged Commodities: Precious Metals Silver</td>\n",
       "      <td>GOEX</td>\n",
       "      <td>Equity: Global Gold Miners</td>\n",
       "      <td>-3.641566</td>\n",
       "      <td>0.005014</td>\n",
       "      <td>200</td>\n",
       "      <td>1581</td>\n",
       "      <td>0.443185</td>\n",
       "      <td>5</td>\n",
       "      <td>0</td>\n",
       "      <td>2.896705</td>\n",
       "      <td>100.0</td>\n",
       "    </tr>\n",
       "    <tr>\n",
       "      <th>1</th>\n",
       "      <td>CANE</td>\n",
       "      <td>Commodities: Agriculture Sugar</td>\n",
       "      <td>GOEX</td>\n",
       "      <td>Equity: Global Gold Miners</td>\n",
       "      <td>-3.536864</td>\n",
       "      <td>0.007089</td>\n",
       "      <td>228</td>\n",
       "      <td>787</td>\n",
       "      <td>0.421935</td>\n",
       "      <td>2</td>\n",
       "      <td>0</td>\n",
       "      <td>2.319540</td>\n",
       "      <td>100.0</td>\n",
       "    </tr>\n",
       "    <tr>\n",
       "      <th>2</th>\n",
       "      <td>MLPG</td>\n",
       "      <td>Equity: U.S. MLPs</td>\n",
       "      <td>PALL</td>\n",
       "      <td>Commodities: Precious Metals Palladium</td>\n",
       "      <td>-3.980405</td>\n",
       "      <td>0.001517</td>\n",
       "      <td>338</td>\n",
       "      <td>441</td>\n",
       "      <td>0.365615</td>\n",
       "      <td>2</td>\n",
       "      <td>0</td>\n",
       "      <td>1.664942</td>\n",
       "      <td>100.0</td>\n",
       "    </tr>\n",
       "    <tr>\n",
       "      <th>3</th>\n",
       "      <td>CANE</td>\n",
       "      <td>Commodities: Agriculture Sugar</td>\n",
       "      <td>URA</td>\n",
       "      <td>Equity: Global Nuclear Energy</td>\n",
       "      <td>-4.605519</td>\n",
       "      <td>0.000126</td>\n",
       "      <td>361</td>\n",
       "      <td>547</td>\n",
       "      <td>0.408071</td>\n",
       "      <td>2</td>\n",
       "      <td>0</td>\n",
       "      <td>1.602294</td>\n",
       "      <td>100.0</td>\n",
       "    </tr>\n",
       "    <tr>\n",
       "      <th>4</th>\n",
       "      <td>CANE</td>\n",
       "      <td>Commodities: Agriculture Sugar</td>\n",
       "      <td>REMX</td>\n",
       "      <td>Equity: Global Metals &amp; Mining</td>\n",
       "      <td>-4.997243</td>\n",
       "      <td>0.000022</td>\n",
       "      <td>344</td>\n",
       "      <td>411</td>\n",
       "      <td>0.387130</td>\n",
       "      <td>1</td>\n",
       "      <td>0</td>\n",
       "      <td>1.367882</td>\n",
       "      <td>100.0</td>\n",
       "    </tr>\n",
       "    <tr>\n",
       "      <th>5</th>\n",
       "      <td>AGQ</td>\n",
       "      <td>Leveraged Commodities: Precious Metals Silver</td>\n",
       "      <td>GDXJ</td>\n",
       "      <td>Equity: Global Gold Miners</td>\n",
       "      <td>-3.998006</td>\n",
       "      <td>0.001421</td>\n",
       "      <td>425</td>\n",
       "      <td>1103</td>\n",
       "      <td>0.472849</td>\n",
       "      <td>2</td>\n",
       "      <td>0</td>\n",
       "      <td>1.232410</td>\n",
       "      <td>100.0</td>\n",
       "    </tr>\n",
       "    <tr>\n",
       "      <th>6</th>\n",
       "      <td>COPX</td>\n",
       "      <td>Equity: Global Metals &amp; Mining</td>\n",
       "      <td>PPLT</td>\n",
       "      <td>Commodities: Precious Metals Platinum</td>\n",
       "      <td>-3.889202</td>\n",
       "      <td>0.002116</td>\n",
       "      <td>278</td>\n",
       "      <td>1265</td>\n",
       "      <td>0.463621</td>\n",
       "      <td>1</td>\n",
       "      <td>0</td>\n",
       "      <td>0.267985</td>\n",
       "      <td>100.0</td>\n",
       "    </tr>\n",
       "    <tr>\n",
       "      <th>7</th>\n",
       "      <td>AGQ</td>\n",
       "      <td>Leveraged Commodities: Precious Metals Silver</td>\n",
       "      <td>GDX</td>\n",
       "      <td>Equity: Global Gold Miners</td>\n",
       "      <td>-4.024961</td>\n",
       "      <td>0.001285</td>\n",
       "      <td>397</td>\n",
       "      <td>1103</td>\n",
       "      <td>0.477619</td>\n",
       "      <td>0</td>\n",
       "      <td>0</td>\n",
       "      <td>0.000000</td>\n",
       "      <td>NaN</td>\n",
       "    </tr>\n",
       "    <tr>\n",
       "      <th>8</th>\n",
       "      <td>DGLD</td>\n",
       "      <td>Inverse Commodities: Precious Metals Gold</td>\n",
       "      <td>MLPG</td>\n",
       "      <td>Equity: U.S. MLPs</td>\n",
       "      <td>-3.432134</td>\n",
       "      <td>0.009911</td>\n",
       "      <td>184</td>\n",
       "      <td>790</td>\n",
       "      <td>0.402520</td>\n",
       "      <td>0</td>\n",
       "      <td>1</td>\n",
       "      <td>-0.024573</td>\n",
       "      <td>0.0</td>\n",
       "    </tr>\n",
       "    <tr>\n",
       "      <th>9</th>\n",
       "      <td>KOL</td>\n",
       "      <td>Equity: Global Coal</td>\n",
       "      <td>CANE</td>\n",
       "      <td>Commodities: Agriculture Sugar</td>\n",
       "      <td>-3.794985</td>\n",
       "      <td>0.002959</td>\n",
       "      <td>320</td>\n",
       "      <td>559</td>\n",
       "      <td>0.406876</td>\n",
       "      <td>0</td>\n",
       "      <td>1</td>\n",
       "      <td>-0.817819</td>\n",
       "      <td>0.0</td>\n",
       "    </tr>\n",
       "  </tbody>\n",
       "</table>\n",
       "</div>"
      ],
      "text/plain": [
       "   Leg1                                     Leg1_Segmt  Leg2  \\\n",
       "0   AGQ  Leveraged Commodities: Precious Metals Silver  GOEX   \n",
       "1  CANE                 Commodities: Agriculture Sugar  GOEX   \n",
       "2  MLPG                              Equity: U.S. MLPs  PALL   \n",
       "3  CANE                 Commodities: Agriculture Sugar   URA   \n",
       "4  CANE                 Commodities: Agriculture Sugar  REMX   \n",
       "5   AGQ  Leveraged Commodities: Precious Metals Silver  GDXJ   \n",
       "6  COPX                 Equity: Global Metals & Mining  PPLT   \n",
       "7   AGQ  Leveraged Commodities: Precious Metals Silver   GDX   \n",
       "8  DGLD      Inverse Commodities: Precious Metals Gold  MLPG   \n",
       "9   KOL                            Equity: Global Coal  CANE   \n",
       "\n",
       "                               Leg2_Segmt  t_statistic   p_value  zero_cross  \\\n",
       "0              Equity: Global Gold Miners    -3.641566  0.005014         200   \n",
       "1              Equity: Global Gold Miners    -3.536864  0.007089         228   \n",
       "2  Commodities: Precious Metals Palladium    -3.980405  0.001517         338   \n",
       "3           Equity: Global Nuclear Energy    -4.605519  0.000126         361   \n",
       "4          Equity: Global Metals & Mining    -4.997243  0.000022         344   \n",
       "5              Equity: Global Gold Miners    -3.998006  0.001421         425   \n",
       "6   Commodities: Precious Metals Platinum    -3.889202  0.002116         278   \n",
       "7              Equity: Global Gold Miners    -4.024961  0.001285         397   \n",
       "8                       Equity: U.S. MLPs    -3.432134  0.009911         184   \n",
       "9          Commodities: Agriculture Sugar    -3.794985  0.002959         320   \n",
       "\n",
       "   half_life  hurst_exponent  positive_trades  negative_trades  sharpe_result  \\\n",
       "0       1581        0.443185                5                0       2.896705   \n",
       "1        787        0.421935                2                0       2.319540   \n",
       "2        441        0.365615                2                0       1.664942   \n",
       "3        547        0.408071                2                0       1.602294   \n",
       "4        411        0.387130                1                0       1.367882   \n",
       "5       1103        0.472849                2                0       1.232410   \n",
       "6       1265        0.463621                1                0       0.267985   \n",
       "7       1103        0.477619                0                0       0.000000   \n",
       "8        790        0.402520                0                1      -0.024573   \n",
       "9        559        0.406876                0                1      -0.817819   \n",
       "\n",
       "   positive_trades_per_pair_pct  \n",
       "0                         100.0  \n",
       "1                         100.0  \n",
       "2                         100.0  \n",
       "3                         100.0  \n",
       "4                         100.0  \n",
       "5                         100.0  \n",
       "6                         100.0  \n",
       "7                           NaN  \n",
       "8                           0.0  \n",
       "9                           0.0  "
      ]
     },
     "execution_count": 121,
     "metadata": {},
     "output_type": "execute_result"
    }
   ],
   "source": [
    "pairs_summary"
   ]
  }
 ],
 "metadata": {
  "kernelspec": {
   "display_name": "Python [conda root]",
   "language": "python",
   "name": "conda-root-py"
  },
  "language_info": {
   "codemirror_mode": {
    "name": "ipython",
    "version": 3
   },
   "file_extension": ".py",
   "mimetype": "text/x-python",
   "name": "python",
   "nbconvert_exporter": "python",
   "pygments_lexer": "ipython3",
   "version": "3.6.0"
  }
 },
 "nbformat": 4,
 "nbformat_minor": 2
}
