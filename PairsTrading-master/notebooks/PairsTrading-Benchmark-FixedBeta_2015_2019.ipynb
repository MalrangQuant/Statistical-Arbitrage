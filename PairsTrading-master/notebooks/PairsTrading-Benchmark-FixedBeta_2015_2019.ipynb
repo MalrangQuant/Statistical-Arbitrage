{
 "cells": [
  {
   "cell_type": "markdown",
   "metadata": {},
   "source": [
    "# A benchmark Pairs Trading strategy \n",
    "\n",
    "**Author:** Simão Moraes Sarmento <br /> \n",
    "**Contact:** simaosarmento@hotmail.com"
   ]
  },
  {
   "cell_type": "markdown",
   "metadata": {},
   "source": [
    "## Dependencies\n",
    "\n",
    "This notebook requires code from:\n",
    "\n",
    "Python files:\n",
    "- `class_SeriesAnalyser.py` - contains a set of functions to deal with time series analysis.\n",
    "- `class_Trader.py` - contains a set of functions concerning trading strategies.\n",
    "- `class_DataProcessor.py` - contains a set of functions concerning the data pre processing.\n",
    "\n",
    "Pickle files:\n",
    "- pickle file containing pairs to be traded (obtained from running `PairsTrading_CommodityETFs-Clustering.ipynb`)\n",
    "\n",
    "As a good practise, the notebook solely intends to exemplify the application of different trading strategies for different dataset examples, rather than coding the strategies. Please look into the files menitoned above for more detailed info on how the functions are built."
   ]
  },
  {
   "cell_type": "markdown",
   "metadata": {},
   "source": [
    "### Import Libraries"
   ]
  },
  {
   "cell_type": "code",
   "execution_count": 1,
   "metadata": {},
   "outputs": [],
   "source": [
    "import numpy as np\n",
    "import pandas as pd\n",
    "import pickle\n",
    "# just set the seed for the random number generator\n",
    "np.random.seed(107)"
   ]
  },
  {
   "cell_type": "code",
   "execution_count": 2,
   "metadata": {},
   "outputs": [],
   "source": [
    "ticker_path = \"data/etfs/pickle/ticker_segment_dict.pickle\"\n",
    "with open(ticker_path, 'rb') as handle:\n",
    "    ticker_segment_dict = pickle.load(handle)"
   ]
  },
  {
   "cell_type": "markdown",
   "metadata": {},
   "source": [
    "### Import Classes"
   ]
  },
  {
   "cell_type": "code",
   "execution_count": 5,
   "metadata": {},
   "outputs": [],
   "source": [
    "%load_ext autoreload\n",
    "%aimport class_SeriesAnalyser, class_Trader, class_DataProcessor\n",
    "%autoreload 1"
   ]
  },
  {
   "cell_type": "code",
   "execution_count": 6,
   "metadata": {},
   "outputs": [],
   "source": [
    "series_analyser = class_SeriesAnalyser.SeriesAnalyser()\n",
    "trader = class_Trader.Trader()\n",
    "data_processor = class_DataProcessor.DataProcessor()"
   ]
  },
  {
   "cell_type": "markdown",
   "metadata": {},
   "source": [
    "# Retrieve prices data set"
   ]
  },
  {
   "cell_type": "markdown",
   "metadata": {},
   "source": [
    "We start by retrieving the data from a Dataframe saved in a pickle file, as it was previously processed in the `PairsTrading_CommodityETFS_Datapreprocessing.ipynb` notebook."
   ]
  },
  {
   "cell_type": "code",
   "execution_count": 7,
   "metadata": {},
   "outputs": [],
   "source": [
    "# intraday\n",
    "df_prices = pd.read_pickle('data/etfs/pickle/commodity_ETFs_from_2014_complete.pickle')"
   ]
  },
  {
   "cell_type": "code",
   "execution_count": 8,
   "metadata": {},
   "outputs": [
    {
     "name": "stdout",
     "output_type": "stream",
     "text": [
      "Total of 116 tickers\n",
      "Total of 116 tickers after removing tickers with Nan values\n"
     ]
    }
   ],
   "source": [
    "# split data in training and test\n",
    "df_prices_train, df_prices_test = data_processor.split_data(df_prices,\n",
    "                                                            ('01-01-2015',\n",
    "                                                             '31-12-2017'),\n",
    "                                                            ('01-01-2018',\n",
    "                                                             '31-12-2018'),\n",
    "                                                            remove_nan=True)"
   ]
  },
  {
   "cell_type": "code",
   "execution_count": 9,
   "metadata": {},
   "outputs": [
    {
     "data": {
      "text/plain": [
       "78102"
      ]
     },
     "execution_count": 9,
     "metadata": {},
     "output_type": "execute_result"
    }
   ],
   "source": [
    "len(df_prices_train)+len(df_prices_test)"
   ]
  },
  {
   "cell_type": "markdown",
   "metadata": {},
   "source": [
    "# Load Pairs"
   ]
  },
  {
   "cell_type": "code",
   "execution_count": 10,
   "metadata": {},
   "outputs": [],
   "source": [
    "with open('data/etfs/pickle/2015-2019/pairs_unsupervised_learning_optical_intraday_p005_seed0.pickle', 'rb') as handle:\n",
    "    pairs = pickle.load(handle)"
   ]
  },
  {
   "cell_type": "code",
   "execution_count": 11,
   "metadata": {},
   "outputs": [
    {
     "data": {
      "text/plain": [
       "19"
      ]
     },
     "execution_count": 11,
     "metadata": {},
     "output_type": "execute_result"
    }
   ],
   "source": [
    "len(pairs)"
   ]
  },
  {
   "cell_type": "markdown",
   "metadata": {},
   "source": [
    "# Apply trading strategies"
   ]
  },
  {
   "cell_type": "markdown",
   "metadata": {},
   "source": [
    "**Applying the fixed beta strategy in validation period**"
   ]
  },
  {
   "cell_type": "code",
   "execution_count": 13,
   "metadata": {},
   "outputs": [
    {
     "data": {
      "text/plain": [
       "1"
      ]
     },
     "execution_count": 13,
     "metadata": {},
     "output_type": "execute_result"
    }
   ],
   "source": [
    "train_val_split = '2017-01-01'\n",
    "\n",
    "# intraday\n",
    "n_years_val = round(len(df_prices_train[train_val_split:])/(240*78))\n",
    "\n",
    "# interday\n",
    "#n_years_val = round(len(df_prices_train)/(240))\n",
    "\n",
    "n_years_val"
   ]
  },
  {
   "cell_type": "code",
   "execution_count": 14,
   "metadata": {
    "scrolled": true
   },
   "outputs": [
    {
     "name": "stdout",
     "output_type": "stream",
     "text": [
      " entry delay turned on.\n",
      "Pair: 19/19"
     ]
    }
   ],
   "source": [
    "train_results_without_costs, train_results_with_costs, performance_threshold_train = \\\n",
    "        trader.apply_trading_strategy(pairs, \n",
    "                                        strategy='fixed_beta',\n",
    "                                        entry_multiplier=2,\n",
    "                                        exit_multiplier=0,\n",
    "                                        test_mode=False,\n",
    "                                        train_val_split=train_val_split\n",
    "                                       )\n",
    "\n",
    "sharpe_results_threshold_train_nocosts, cum_returns_threshold_train_nocosts = train_results_without_costs\n",
    "sharpe_results_threshold_train_w_costs, cum_returns_threshold_train_w_costs = train_results_with_costs"
   ]
  },
  {
   "cell_type": "code",
   "execution_count": 15,
   "metadata": {},
   "outputs": [
    {
     "name": "stdout",
     "output_type": "stream",
     "text": [
      "Average SR:  1.5483788993007626\n",
      "Annual ROI:  14.059902070119556\n",
      "94.73684210526316 % of the pairs had positive returns\n",
      "Sharpe Ratio assumming IID returns:  4.461289377478255\n",
      "Autocorrelation:  0.06097436054547318\n",
      "Daily Sharpe Ratio 0.26275295929266274\n",
      "Total number of trades:  45\n",
      "Positive trades:  43\n",
      "Negative trades:  2\n",
      "Total Drawdown Days: 100 days\n",
      "Max DD period: 10.0 days\n",
      "Maximum drawdown of portfolio: -1.36%\n",
      "14.06% - 4.17  -1.36%-10.0d - 100d\n"
     ]
    },
    {
     "data": {
      "image/png": "[encoded data removed]",
      "text/plain": [
       "<matplotlib.figure.Figure at 0x11d021400>"
      ]
     },
     "metadata": {},
     "output_type": "display_data"
    }
   ],
   "source": [
    "results, pairs_summary = trader.summarize_results(sharpe_results_threshold_train_w_costs,\n",
    "                                                  cum_returns_threshold_train_w_costs,\n",
    "                                                  performance_threshold_train,\n",
    "                                                  pairs, ticker_segment_dict,\n",
    "                                                  n_years_val)"
   ]
  },
  {
   "cell_type": "code",
   "execution_count": 16,
   "metadata": {},
   "outputs": [
    {
     "name": "stdout",
     "output_type": "stream",
     "text": [
      "Corrected Annualized SR: 3.76\n"
     ]
    }
   ],
   "source": [
    "print('Corrected Annualized SR: {:.2f}'.format(0.26275295929266274*14.31))"
   ]
  },
  {
   "cell_type": "markdown",
   "metadata": {},
   "source": [
    "# Out of Sample Analysis\n",
    "\n",
    "In this section, we analyze the performance of the strategy in the validation dataset. \n",
    "\n",
    "We proceed with some data exploration analysis. For this purpose we will do the following:\n",
    "\n",
    "- Analyze which percentage of the identified pairs are still cointegrated in the validation period.\n",
    "- Analyze which percentage of pairs have positive returns, and how many of those are still cointegrated.\n",
    "- Analyze how many new pais were not identified to be cointegrated up to the validation period.\n",
    "- Run strategy for identified pairs in training period.\n",
    "\n",
    "This analysis will help us getting some insight into how the cointegrated pairs vary from time to time, and therefore how we should allocate our resources to predict when pairs are not cointegrated anymore."
   ]
  },
  {
   "cell_type": "markdown",
   "metadata": {},
   "source": [
    "## Applying the Strategy out-of Sample\n",
    "\n",
    "We might want to apply the strategy in all pairs identified. Or, instead, we might prefer to apply the strategy only on those pairs that turned out to be profitable. Let's compare how both approaches work:"
   ]
  },
  {
   "cell_type": "code",
   "execution_count": 17,
   "metadata": {},
   "outputs": [
    {
     "data": {
      "text/plain": [
       "1"
      ]
     },
     "execution_count": 17,
     "metadata": {},
     "output_type": "execute_result"
    }
   ],
   "source": [
    "# intraday\n",
    "n_years_test = round(len(df_prices_test)/(240*78))\n",
    "\n",
    "# interday\n",
    "#n_years_test = round(len(df_prices_test)/(240))\n",
    "\n",
    "n_years_test"
   ]
  },
  {
   "cell_type": "markdown",
   "metadata": {},
   "source": [
    "### Approach 1: Keeping every pair"
   ]
  },
  {
   "cell_type": "markdown",
   "metadata": {},
   "source": [
    "**Basic Threshold Strategy**"
   ]
  },
  {
   "cell_type": "code",
   "execution_count": 18,
   "metadata": {},
   "outputs": [
    {
     "name": "stdout",
     "output_type": "stream",
     "text": [
      " entry delay turned on.\n",
      "Pair: 19/19"
     ]
    }
   ],
   "source": [
    "results_without_costs, results_with_costs, performance_threshold_test = trader.apply_trading_strategy(pairs,\n",
    "                                                                                             'fixed_beta',\n",
    "                                                                                             2,\n",
    "                                                                                             0,\n",
    "                                                                                             test_mode=True)\n",
    "sharpe_results_threshold_test_nocosts, cum_returns_threshold_test_nocosts = results_without_costs\n",
    "sharpe_results_threshold_test_w_costs, cum_returns_threshold_test_w_costs = results_with_costs"
   ]
  },
  {
   "cell_type": "code",
   "execution_count": 19,
   "metadata": {},
   "outputs": [
    {
     "name": "stdout",
     "output_type": "stream",
     "text": [
      "Average SR:  0.9368654358336238\n",
      "Annual ROI:  11.064067520511589\n",
      "73.6842105263158 % of the pairs had positive returns\n",
      "Sharpe Ratio assumming IID returns:  3.2946722183531043\n",
      "Autocorrelation:  -0.10767179898088262\n",
      "Daily Sharpe Ratio 0.19691023638433994\n",
      "Total number of trades:  33\n",
      "Positive trades:  28\n",
      "Negative trades:  5\n",
      "Total Drawdown Days: 90 days\n",
      "Max DD period: 3.0 days\n",
      "Maximum drawdown of portfolio: -1.06%\n",
      "11.06% - 3.13  -1.06%-3.0d - 90d\n"
     ]
    },
    {
     "data": {
      "image/png": "[encoded data removed]",
      "text/plain": [
       "<matplotlib.figure.Figure at 0x129ee7668>"
      ]
     },
     "metadata": {},
     "output_type": "display_data"
    }
   ],
   "source": [
    "results, pairs_summary = trader.summarize_results(sharpe_results_threshold_test_w_costs,\n",
    "                                                  cum_returns_threshold_test_w_costs,\n",
    "                                                  performance_threshold_test,\n",
    "                                                  pairs, ticker_segment_dict,\n",
    "                                                  n_years_test)"
   ]
  },
  {
   "cell_type": "code",
   "execution_count": 20,
   "metadata": {},
   "outputs": [
    {
     "name": "stdout",
     "output_type": "stream",
     "text": [
      "Corrected Annualized SR: 3.44\n"
     ]
    }
   ],
   "source": [
    "print('Corrected Annualized SR: {:.2f}'.format(0.19691023638433994*17.47))"
   ]
  },
  {
   "cell_type": "markdown",
   "metadata": {},
   "source": [
    "### Approach 2: Keeping only pairs that had positive returns in the training period"
   ]
  },
  {
   "cell_type": "code",
   "execution_count": 21,
   "metadata": {},
   "outputs": [],
   "source": [
    "cum_returns_threshold_train_w_costs = np.asarray(cum_returns_threshold_train_w_costs)\n",
    "profitable_pairs_indices = np.argwhere(cum_returns_threshold_train_w_costs > 0)\n",
    "profitable_pairs = [pairs[i] for i in profitable_pairs_indices.flatten()]"
   ]
  },
  {
   "cell_type": "code",
   "execution_count": 22,
   "metadata": {
    "scrolled": false
   },
   "outputs": [
    {
     "name": "stdout",
     "output_type": "stream",
     "text": [
      " entry delay turned on.\n",
      "Pair: 18/18"
     ]
    }
   ],
   "source": [
    "results_without_costs, results_with_costs, performance_threshold_test = trader.apply_trading_strategy(\n",
    "                                                                                    profitable_pairs, \n",
    "                                                                                    'fixed_beta',\n",
    "                                                                                    2,#entry_multiplier,\n",
    "                                                                                    0,#exit_multiplier,\n",
    "                                                                                    test_mode=True)\n",
    "sharpe_results_threshold_test_nocosts, cum_returns_threshold_test_nocosts = results_without_costs\n",
    "sharpe_results_threshold_test_w_costs, cum_returns_threshold_test_w_costs = results_with_costs"
   ]
  },
  {
   "cell_type": "code",
   "execution_count": 23,
   "metadata": {},
   "outputs": [
    {
     "name": "stdout",
     "output_type": "stream",
     "text": [
      "Average SR:  0.9621684744836758\n",
      "Annual ROI:  11.326546095213175\n",
      "72.22222222222223 % of the pairs had positive returns\n",
      "Sharpe Ratio assumming IID returns:  3.2681150018531056\n",
      "Autocorrelation:  -0.10001602168975006\n",
      "Daily Sharpe Ratio 0.19513198575206497\n",
      "Total number of trades:  30\n",
      "Positive trades:  26\n",
      "Negative trades:  4\n",
      "Total Drawdown Days: 89 days\n",
      "Max DD period: 3.0 days\n",
      "Maximum drawdown of portfolio: -1.12%\n",
      "11.33% - 3.10  -1.12%-3.0d - 89d\n"
     ]
    },
    {
     "data": {
      "image/png": "[encoded data removed]",
      "text/plain": [
       "<matplotlib.figure.Figure at 0x12228e908>"
      ]
     },
     "metadata": {},
     "output_type": "display_data"
    }
   ],
   "source": [
    "results, pairs_summary = trader.summarize_results(sharpe_results_threshold_test_w_costs,\n",
    "                                                  cum_returns_threshold_test_w_costs,\n",
    "                                                  performance_threshold_test,\n",
    "                                                  profitable_pairs, ticker_segment_dict,\n",
    "                                                  n_years_test)"
   ]
  },
  {
   "cell_type": "code",
   "execution_count": 26,
   "metadata": {},
   "outputs": [
    {
     "name": "stdout",
     "output_type": "stream",
     "text": [
      "Corrected Annualized SR: 3.41\n"
     ]
    }
   ],
   "source": [
    "print('Corrected Annualized SR: {:.2f}'.format(0.19513198575206497*17.47))"
   ]
  },
  {
   "cell_type": "code",
   "execution_count": 25,
   "metadata": {
    "scrolled": false
   },
   "outputs": [
    {
     "data": {
      "text/html": [
       "<div>\n",
       "<style scoped>\n",
       "    .dataframe tbody tr th:only-of-type {\n",
       "        vertical-align: middle;\n",
       "    }\n",
       "\n",
       "    .dataframe tbody tr th {\n",
       "        vertical-align: top;\n",
       "    }\n",
       "\n",
       "    .dataframe thead th {\n",
       "        text-align: right;\n",
       "    }\n",
       "</style>\n",
       "<table border=\"1\" class=\"dataframe\">\n",
       "  <thead>\n",
       "    <tr style=\"text-align: right;\">\n",
       "      <th></th>\n",
       "      <th>Leg1</th>\n",
       "      <th>Leg1_Segmt</th>\n",
       "      <th>Leg2</th>\n",
       "      <th>Leg2_Segmt</th>\n",
       "      <th>t_statistic</th>\n",
       "      <th>p_value</th>\n",
       "      <th>zero_cross</th>\n",
       "      <th>half_life</th>\n",
       "      <th>hurst_exponent</th>\n",
       "      <th>positive_trades</th>\n",
       "      <th>negative_trades</th>\n",
       "      <th>sharpe_result</th>\n",
       "      <th>positive_trades_per_pair_pct</th>\n",
       "    </tr>\n",
       "  </thead>\n",
       "  <tbody>\n",
       "    <tr>\n",
       "      <th>0</th>\n",
       "      <td>DBO</td>\n",
       "      <td>Commodities: Energy Crude Oil</td>\n",
       "      <td>UGA</td>\n",
       "      <td>Commodities: Energy Gasoline</td>\n",
       "      <td>-4.194600</td>\n",
       "      <td>0.000673</td>\n",
       "      <td>427</td>\n",
       "      <td>1135</td>\n",
       "      <td>0.454642</td>\n",
       "      <td>2</td>\n",
       "      <td>0</td>\n",
       "      <td>2.006874</td>\n",
       "      <td>100.000000</td>\n",
       "    </tr>\n",
       "    <tr>\n",
       "      <th>1</th>\n",
       "      <td>NIB</td>\n",
       "      <td>Commodities: Agriculture Cocoa</td>\n",
       "      <td>WEAT</td>\n",
       "      <td>Commodities: Agriculture Wheat</td>\n",
       "      <td>-3.506118</td>\n",
       "      <td>0.007831</td>\n",
       "      <td>269</td>\n",
       "      <td>2429</td>\n",
       "      <td>0.486933</td>\n",
       "      <td>2</td>\n",
       "      <td>0</td>\n",
       "      <td>1.942426</td>\n",
       "      <td>100.000000</td>\n",
       "    </tr>\n",
       "    <tr>\n",
       "      <th>2</th>\n",
       "      <td>MLPA</td>\n",
       "      <td>Equity: U.S. MLPs</td>\n",
       "      <td>MLPX</td>\n",
       "      <td>Equity: U.S. MLPs</td>\n",
       "      <td>-2.931210</td>\n",
       "      <td>0.041837</td>\n",
       "      <td>533</td>\n",
       "      <td>361</td>\n",
       "      <td>0.303033</td>\n",
       "      <td>2</td>\n",
       "      <td>0</td>\n",
       "      <td>1.889711</td>\n",
       "      <td>100.000000</td>\n",
       "    </tr>\n",
       "    <tr>\n",
       "      <th>3</th>\n",
       "      <td>CORN</td>\n",
       "      <td>Commodities: Agriculture Corn</td>\n",
       "      <td>WEAT</td>\n",
       "      <td>Commodities: Agriculture Wheat</td>\n",
       "      <td>-4.655401</td>\n",
       "      <td>0.000102</td>\n",
       "      <td>602</td>\n",
       "      <td>455</td>\n",
       "      <td>0.431568</td>\n",
       "      <td>2</td>\n",
       "      <td>0</td>\n",
       "      <td>1.830332</td>\n",
       "      <td>100.000000</td>\n",
       "    </tr>\n",
       "    <tr>\n",
       "      <th>4</th>\n",
       "      <td>DZZ</td>\n",
       "      <td>Inverse Commodities: Precious Metals Gold</td>\n",
       "      <td>GLL</td>\n",
       "      <td>Inverse Commodities: Precious Metals Gold</td>\n",
       "      <td>-3.169423</td>\n",
       "      <td>0.021824</td>\n",
       "      <td>1795</td>\n",
       "      <td>84</td>\n",
       "      <td>0.298771</td>\n",
       "      <td>5</td>\n",
       "      <td>1</td>\n",
       "      <td>1.748273</td>\n",
       "      <td>83.333333</td>\n",
       "    </tr>\n",
       "    <tr>\n",
       "      <th>5</th>\n",
       "      <td>UGA</td>\n",
       "      <td>Commodities: Energy Gasoline</td>\n",
       "      <td>USL</td>\n",
       "      <td>Commodities: Energy Crude Oil</td>\n",
       "      <td>-3.764225</td>\n",
       "      <td>0.003295</td>\n",
       "      <td>493</td>\n",
       "      <td>984</td>\n",
       "      <td>0.429628</td>\n",
       "      <td>1</td>\n",
       "      <td>0</td>\n",
       "      <td>1.654512</td>\n",
       "      <td>100.000000</td>\n",
       "    </tr>\n",
       "    <tr>\n",
       "      <th>6</th>\n",
       "      <td>DZZ</td>\n",
       "      <td>Inverse Commodities: Precious Metals Gold</td>\n",
       "      <td>DGLD</td>\n",
       "      <td>Inverse Commodities: Precious Metals Gold</td>\n",
       "      <td>-3.601674</td>\n",
       "      <td>0.005729</td>\n",
       "      <td>1843</td>\n",
       "      <td>82</td>\n",
       "      <td>0.316851</td>\n",
       "      <td>2</td>\n",
       "      <td>0</td>\n",
       "      <td>1.606586</td>\n",
       "      <td>100.000000</td>\n",
       "    </tr>\n",
       "    <tr>\n",
       "      <th>7</th>\n",
       "      <td>UGA</td>\n",
       "      <td>Commodities: Energy Gasoline</td>\n",
       "      <td>BNO</td>\n",
       "      <td>Commodities: Energy Crude Oil</td>\n",
       "      <td>-3.604746</td>\n",
       "      <td>0.005671</td>\n",
       "      <td>498</td>\n",
       "      <td>1068</td>\n",
       "      <td>0.443737</td>\n",
       "      <td>1</td>\n",
       "      <td>0</td>\n",
       "      <td>1.571191</td>\n",
       "      <td>100.000000</td>\n",
       "    </tr>\n",
       "    <tr>\n",
       "      <th>8</th>\n",
       "      <td>UGA</td>\n",
       "      <td>Commodities: Energy Gasoline</td>\n",
       "      <td>USO</td>\n",
       "      <td>Commodities: Energy Crude Oil</td>\n",
       "      <td>-3.704281</td>\n",
       "      <td>0.004053</td>\n",
       "      <td>489</td>\n",
       "      <td>1326</td>\n",
       "      <td>0.466427</td>\n",
       "      <td>1</td>\n",
       "      <td>0</td>\n",
       "      <td>1.328667</td>\n",
       "      <td>100.000000</td>\n",
       "    </tr>\n",
       "    <tr>\n",
       "      <th>9</th>\n",
       "      <td>NLR</td>\n",
       "      <td>Equity: Global Nuclear Energy</td>\n",
       "      <td>RJZ</td>\n",
       "      <td>Commodities: Broad Market Metals</td>\n",
       "      <td>-4.056962</td>\n",
       "      <td>0.001140</td>\n",
       "      <td>185</td>\n",
       "      <td>612</td>\n",
       "      <td>0.412958</td>\n",
       "      <td>1</td>\n",
       "      <td>0</td>\n",
       "      <td>0.894352</td>\n",
       "      <td>100.000000</td>\n",
       "    </tr>\n",
       "    <tr>\n",
       "      <th>10</th>\n",
       "      <td>AMJ</td>\n",
       "      <td>Equity: U.S. MLPs</td>\n",
       "      <td>MLPI</td>\n",
       "      <td>Equity: U.S. MLPs</td>\n",
       "      <td>-3.916653</td>\n",
       "      <td>0.001916</td>\n",
       "      <td>1744</td>\n",
       "      <td>95</td>\n",
       "      <td>0.276499</td>\n",
       "      <td>3</td>\n",
       "      <td>1</td>\n",
       "      <td>0.586858</td>\n",
       "      <td>75.000000</td>\n",
       "    </tr>\n",
       "    <tr>\n",
       "      <th>11</th>\n",
       "      <td>SLV</td>\n",
       "      <td>Commodities: Precious Metals Silver</td>\n",
       "      <td>SLVP</td>\n",
       "      <td>Equity: Global Silver Miners</td>\n",
       "      <td>-4.028609</td>\n",
       "      <td>0.001268</td>\n",
       "      <td>658</td>\n",
       "      <td>716</td>\n",
       "      <td>0.448375</td>\n",
       "      <td>1</td>\n",
       "      <td>0</td>\n",
       "      <td>0.500047</td>\n",
       "      <td>100.000000</td>\n",
       "    </tr>\n",
       "    <tr>\n",
       "      <th>12</th>\n",
       "      <td>SIVR</td>\n",
       "      <td>Commodities: Precious Metals Silver</td>\n",
       "      <td>SLVP</td>\n",
       "      <td>Equity: Global Silver Miners</td>\n",
       "      <td>-3.880221</td>\n",
       "      <td>0.002185</td>\n",
       "      <td>590</td>\n",
       "      <td>659</td>\n",
       "      <td>0.442610</td>\n",
       "      <td>1</td>\n",
       "      <td>0</td>\n",
       "      <td>0.433035</td>\n",
       "      <td>100.000000</td>\n",
       "    </tr>\n",
       "    <tr>\n",
       "      <th>13</th>\n",
       "      <td>GOEX</td>\n",
       "      <td>Equity: Global Gold Miners</td>\n",
       "      <td>SIVR</td>\n",
       "      <td>Commodities: Precious Metals Silver</td>\n",
       "      <td>-3.252501</td>\n",
       "      <td>0.017140</td>\n",
       "      <td>309</td>\n",
       "      <td>1205</td>\n",
       "      <td>0.455129</td>\n",
       "      <td>0</td>\n",
       "      <td>0</td>\n",
       "      <td>0.000000</td>\n",
       "      <td>NaN</td>\n",
       "    </tr>\n",
       "    <tr>\n",
       "      <th>14</th>\n",
       "      <td>UGL</td>\n",
       "      <td>Leveraged Commodities: Precious Metals Gold</td>\n",
       "      <td>SLVP</td>\n",
       "      <td>Equity: Global Silver Miners</td>\n",
       "      <td>-3.249199</td>\n",
       "      <td>0.017308</td>\n",
       "      <td>306</td>\n",
       "      <td>1712</td>\n",
       "      <td>0.452744</td>\n",
       "      <td>0</td>\n",
       "      <td>0</td>\n",
       "      <td>0.000000</td>\n",
       "      <td>NaN</td>\n",
       "    </tr>\n",
       "    <tr>\n",
       "      <th>15</th>\n",
       "      <td>UGL</td>\n",
       "      <td>Leveraged Commodities: Precious Metals Gold</td>\n",
       "      <td>GOEX</td>\n",
       "      <td>Equity: Global Gold Miners</td>\n",
       "      <td>-3.209449</td>\n",
       "      <td>0.019444</td>\n",
       "      <td>174</td>\n",
       "      <td>1988</td>\n",
       "      <td>0.455059</td>\n",
       "      <td>0</td>\n",
       "      <td>0</td>\n",
       "      <td>0.000000</td>\n",
       "      <td>NaN</td>\n",
       "    </tr>\n",
       "    <tr>\n",
       "      <th>16</th>\n",
       "      <td>SLV</td>\n",
       "      <td>Commodities: Precious Metals Silver</td>\n",
       "      <td>GOEX</td>\n",
       "      <td>Equity: Global Gold Miners</td>\n",
       "      <td>-3.198192</td>\n",
       "      <td>0.020090</td>\n",
       "      <td>347</td>\n",
       "      <td>1293</td>\n",
       "      <td>0.460790</td>\n",
       "      <td>0</td>\n",
       "      <td>0</td>\n",
       "      <td>0.000000</td>\n",
       "      <td>NaN</td>\n",
       "    </tr>\n",
       "    <tr>\n",
       "      <th>17</th>\n",
       "      <td>DGP</td>\n",
       "      <td>Leveraged Commodities: Precious Metals Gold</td>\n",
       "      <td>UGL</td>\n",
       "      <td>Leveraged Commodities: Precious Metals Gold</td>\n",
       "      <td>-3.818841</td>\n",
       "      <td>0.002720</td>\n",
       "      <td>1322</td>\n",
       "      <td>97</td>\n",
       "      <td>0.288614</td>\n",
       "      <td>2</td>\n",
       "      <td>2</td>\n",
       "      <td>-0.673831</td>\n",
       "      <td>50.000000</td>\n",
       "    </tr>\n",
       "  </tbody>\n",
       "</table>\n",
       "</div>"
      ],
      "text/plain": [
       "    Leg1                                   Leg1_Segmt  Leg2  \\\n",
       "0    DBO                Commodities: Energy Crude Oil   UGA   \n",
       "1    NIB               Commodities: Agriculture Cocoa  WEAT   \n",
       "2   MLPA                            Equity: U.S. MLPs  MLPX   \n",
       "3   CORN                Commodities: Agriculture Corn  WEAT   \n",
       "4    DZZ    Inverse Commodities: Precious Metals Gold   GLL   \n",
       "5    UGA                 Commodities: Energy Gasoline   USL   \n",
       "6    DZZ    Inverse Commodities: Precious Metals Gold  DGLD   \n",
       "7    UGA                 Commodities: Energy Gasoline   BNO   \n",
       "8    UGA                 Commodities: Energy Gasoline   USO   \n",
       "9    NLR                Equity: Global Nuclear Energy   RJZ   \n",
       "10   AMJ                            Equity: U.S. MLPs  MLPI   \n",
       "11   SLV          Commodities: Precious Metals Silver  SLVP   \n",
       "12  SIVR          Commodities: Precious Metals Silver  SLVP   \n",
       "13  GOEX                   Equity: Global Gold Miners  SIVR   \n",
       "14   UGL  Leveraged Commodities: Precious Metals Gold  SLVP   \n",
       "15   UGL  Leveraged Commodities: Precious Metals Gold  GOEX   \n",
       "16   SLV          Commodities: Precious Metals Silver  GOEX   \n",
       "17   DGP  Leveraged Commodities: Precious Metals Gold   UGL   \n",
       "\n",
       "                                     Leg2_Segmt  t_statistic   p_value  \\\n",
       "0                  Commodities: Energy Gasoline    -4.194600  0.000673   \n",
       "1                Commodities: Agriculture Wheat    -3.506118  0.007831   \n",
       "2                             Equity: U.S. MLPs    -2.931210  0.041837   \n",
       "3                Commodities: Agriculture Wheat    -4.655401  0.000102   \n",
       "4     Inverse Commodities: Precious Metals Gold    -3.169423  0.021824   \n",
       "5                 Commodities: Energy Crude Oil    -3.764225  0.003295   \n",
       "6     Inverse Commodities: Precious Metals Gold    -3.601674  0.005729   \n",
       "7                 Commodities: Energy Crude Oil    -3.604746  0.005671   \n",
       "8                 Commodities: Energy Crude Oil    -3.704281  0.004053   \n",
       "9              Commodities: Broad Market Metals    -4.056962  0.001140   \n",
       "10                            Equity: U.S. MLPs    -3.916653  0.001916   \n",
       "11                 Equity: Global Silver Miners    -4.028609  0.001268   \n",
       "12                 Equity: Global Silver Miners    -3.880221  0.002185   \n",
       "13          Commodities: Precious Metals Silver    -3.252501  0.017140   \n",
       "14                 Equity: Global Silver Miners    -3.249199  0.017308   \n",
       "15                   Equity: Global Gold Miners    -3.209449  0.019444   \n",
       "16                   Equity: Global Gold Miners    -3.198192  0.020090   \n",
       "17  Leveraged Commodities: Precious Metals Gold    -3.818841  0.002720   \n",
       "\n",
       "    zero_cross  half_life  hurst_exponent  positive_trades  negative_trades  \\\n",
       "0          427       1135        0.454642                2                0   \n",
       "1          269       2429        0.486933                2                0   \n",
       "2          533        361        0.303033                2                0   \n",
       "3          602        455        0.431568                2                0   \n",
       "4         1795         84        0.298771                5                1   \n",
       "5          493        984        0.429628                1                0   \n",
       "6         1843         82        0.316851                2                0   \n",
       "7          498       1068        0.443737                1                0   \n",
       "8          489       1326        0.466427                1                0   \n",
       "9          185        612        0.412958                1                0   \n",
       "10        1744         95        0.276499                3                1   \n",
       "11         658        716        0.448375                1                0   \n",
       "12         590        659        0.442610                1                0   \n",
       "13         309       1205        0.455129                0                0   \n",
       "14         306       1712        0.452744                0                0   \n",
       "15         174       1988        0.455059                0                0   \n",
       "16         347       1293        0.460790                0                0   \n",
       "17        1322         97        0.288614                2                2   \n",
       "\n",
       "    sharpe_result  positive_trades_per_pair_pct  \n",
       "0        2.006874                    100.000000  \n",
       "1        1.942426                    100.000000  \n",
       "2        1.889711                    100.000000  \n",
       "3        1.830332                    100.000000  \n",
       "4        1.748273                     83.333333  \n",
       "5        1.654512                    100.000000  \n",
       "6        1.606586                    100.000000  \n",
       "7        1.571191                    100.000000  \n",
       "8        1.328667                    100.000000  \n",
       "9        0.894352                    100.000000  \n",
       "10       0.586858                     75.000000  \n",
       "11       0.500047                    100.000000  \n",
       "12       0.433035                    100.000000  \n",
       "13       0.000000                           NaN  \n",
       "14       0.000000                           NaN  \n",
       "15       0.000000                           NaN  \n",
       "16       0.000000                           NaN  \n",
       "17      -0.673831                     50.000000  "
      ]
     },
     "execution_count": 25,
     "metadata": {},
     "output_type": "execute_result"
    }
   ],
   "source": [
    "pairs_summary"
   ]
  }
 ],
 "metadata": {
  "kernelspec": {
   "display_name": "Python [conda root]",
   "language": "python",
   "name": "conda-root-py"
  },
  "language_info": {
   "codemirror_mode": {
    "name": "ipython",
    "version": 3
   },
   "file_extension": ".py",
   "mimetype": "text/x-python",
   "name": "python",
   "nbconvert_exporter": "python",
   "pygments_lexer": "ipython3",
   "version": "3.6.0"
  }
 },
 "nbformat": 4,
 "nbformat_minor": 2
}
