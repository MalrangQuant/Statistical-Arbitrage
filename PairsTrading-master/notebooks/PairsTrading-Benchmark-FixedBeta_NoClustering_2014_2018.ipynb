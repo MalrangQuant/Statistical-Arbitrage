{
 "cells": [
  {
   "cell_type": "markdown",
   "metadata": {},
   "source": [
    "# A Pairs Trading strategy \n",
    "\n",
    "**Author:** Simão Moraes Sarmento <br /> \n",
    "**Contact:** simaosarmento@hotmail.com"
   ]
  },
  {
   "cell_type": "markdown",
   "metadata": {},
   "source": [
    "## Dependencies\n",
    "\n",
    "This notebook requires code from:\n",
    "\n",
    "Python files:\n",
    "- `class_SeriesAnalyser.py` - contains a set of functions to deal with time series analysis.\n",
    "- `class_Trader.py` - contains a set of functions concerning trading strategies.\n",
    "- `class_DataProcessor.py` - contains a set of functions concerning the data pre processing.\n",
    "\n",
    "Pickle files:\n",
    "- pickle file containing pairs to be traded (obtained from running `PairsTrading_CommodityETFs-Clustering.ipynb`)\n",
    "\n",
    "As a good practise, the notebook solely intends to exemplify the application of different trading strategies for different dataset examples. Please look into the files menitoned above for more detailed info on how the functions are built."
   ]
  },
  {
   "cell_type": "markdown",
   "metadata": {},
   "source": [
    "### Import Libraries"
   ]
  },
  {
   "cell_type": "code",
   "execution_count": 1,
   "metadata": {},
   "outputs": [],
   "source": [
    "import numpy as np\n",
    "import pandas as pd\n",
    "import pickle\n",
    "import matplotlib.pyplot as plt\n",
    "\n",
    "# just set the seed for the random number generator\n",
    "np.random.seed(107)"
   ]
  },
  {
   "cell_type": "code",
   "execution_count": 2,
   "metadata": {},
   "outputs": [],
   "source": [
    "ticker_path = \"data/etfs/pickle/ticker_segment_dict.pickle\"\n",
    "with open(ticker_path, 'rb') as handle:\n",
    "    ticker_segment_dict = pickle.load(handle)"
   ]
  },
  {
   "cell_type": "markdown",
   "metadata": {},
   "source": [
    "### Import Classes"
   ]
  },
  {
   "cell_type": "code",
   "execution_count": 119,
   "metadata": {},
   "outputs": [
    {
     "name": "stdout",
     "output_type": "stream",
     "text": [
      "The autoreload extension is already loaded. To reload it, use:\n",
      "  %reload_ext autoreload\n"
     ]
    }
   ],
   "source": [
    "%load_ext autoreload\n",
    "%aimport class_SeriesAnalyser, class_Trader, class_DataProcessor\n",
    "%autoreload 1"
   ]
  },
  {
   "cell_type": "code",
   "execution_count": 120,
   "metadata": {},
   "outputs": [],
   "source": [
    "series_analyser = class_SeriesAnalyser.SeriesAnalyser()\n",
    "trader = class_Trader.Trader()\n",
    "data_processor = class_DataProcessor.DataProcessor()"
   ]
  },
  {
   "cell_type": "markdown",
   "metadata": {},
   "source": [
    "# Retrieve prices data set"
   ]
  },
  {
   "cell_type": "markdown",
   "metadata": {},
   "source": [
    "We start by retrieving the data from a Dataframe saved in a pickle file, as it was previously processed in the `PairsTrading_CommodityETFS_Datapreprocessing.ipynb` notebook."
   ]
  },
  {
   "cell_type": "code",
   "execution_count": 121,
   "metadata": {},
   "outputs": [],
   "source": [
    "# intraday\n",
    "df_prices = pd.read_pickle('data/etfs/pickle/commodity_ETFs_from_2014_complete.pickle')"
   ]
  },
  {
   "cell_type": "code",
   "execution_count": 122,
   "metadata": {},
   "outputs": [
    {
     "name": "stdout",
     "output_type": "stream",
     "text": [
      "Total of 116 tickers\n",
      "Total of 116 tickers after removing tickers with Nan values\n"
     ]
    }
   ],
   "source": [
    "# split data in training and test\n",
    "df_prices_train, df_prices_test = data_processor.split_data(df_prices,\n",
    "                                                            ('01-01-2014',\n",
    "                                                             '31-12-2016'),\n",
    "                                                            ('01-01-2017',\n",
    "                                                             '31-12-2017'),\n",
    "                                                            remove_nan=True)"
   ]
  },
  {
   "cell_type": "code",
   "execution_count": 123,
   "metadata": {},
   "outputs": [
    {
     "data": {
      "text/plain": [
       "78258"
      ]
     },
     "execution_count": 123,
     "metadata": {},
     "output_type": "execute_result"
    }
   ],
   "source": [
    "len(df_prices_train)+len(df_prices_test)"
   ]
  },
  {
   "cell_type": "markdown",
   "metadata": {},
   "source": [
    "# Load Pairs"
   ]
  },
  {
   "cell_type": "code",
   "execution_count": 124,
   "metadata": {},
   "outputs": [],
   "source": [
    "# intra day\n",
    "with open('data/etfs/pickle/2014-2018/pairs_no_clustering_intraday.pickle', 'rb') as handle:\n",
    "    pairs = pickle.load(handle)\n",
    "\n",
    "#with open('data/etfs/pickle/2014-2018/pairs_no_clustering_intraday_nohurst.pickle', 'rb') as handle:\n",
    "#    pairs = pickle.load(handle)\n",
    "\n",
    "#with open('data/etfs/pickle/2014-2018/pairs_no_clustering_intraday_only_coint.pickle', 'rb') as handle:\n",
    "#    pairs = pickle.load(handle)"
   ]
  },
  {
   "cell_type": "code",
   "execution_count": 126,
   "metadata": {},
   "outputs": [
    {
     "data": {
      "text/plain": [
       "150"
      ]
     },
     "execution_count": 126,
     "metadata": {},
     "output_type": "execute_result"
    }
   ],
   "source": [
    "len(pairs)"
   ]
  },
  {
   "cell_type": "markdown",
   "metadata": {},
   "source": [
    "# Apply trading strategies"
   ]
  },
  {
   "cell_type": "markdown",
   "metadata": {},
   "source": [
    "**Applying the fixed beta strategy in validation period**"
   ]
  },
  {
   "cell_type": "code",
   "execution_count": 127,
   "metadata": {},
   "outputs": [
    {
     "data": {
      "text/plain": [
       "1"
      ]
     },
     "execution_count": 127,
     "metadata": {},
     "output_type": "execute_result"
    }
   ],
   "source": [
    "train_val_split = '2016-01-01'\n",
    "\n",
    "# intraday\n",
    "n_years_val = round(len(df_prices_train[train_val_split:])/(240*78))\n",
    "\n",
    "# interday\n",
    "#n_years_val = round(len(df_prices_train)/(240))\n",
    "\n",
    "n_years_val"
   ]
  },
  {
   "cell_type": "code",
   "execution_count": 128,
   "metadata": {},
   "outputs": [
    {
     "name": "stdout",
     "output_type": "stream",
     "text": [
      " entry delay turned on.\n",
      "Pair: 150/150"
     ]
    }
   ],
   "source": [
    "train_results_without_costs, train_results_with_costs, performance_threshold_train = \\\n",
    "        trader.apply_trading_strategy(pairs, \n",
    "                                       'fixed_beta',\n",
    "                                        2,\n",
    "                                        0,\n",
    "                                        test_mode=False,\n",
    "                                        train_val_split=train_val_split\n",
    "                                       )\n",
    "\n",
    "sharpe_results_threshold_train_nocosts, cum_returns_threshold_train_nocosts = train_results_without_costs\n",
    "sharpe_results_threshold_train_w_costs, cum_returns_threshold_train_w_costs = train_results_with_costs"
   ]
  },
  {
   "cell_type": "code",
   "execution_count": 129,
   "metadata": {},
   "outputs": [
    {
     "name": "stdout",
     "output_type": "stream",
     "text": [
      "Average SR:  1.5176550540210014\n",
      "Annual ROI:  19.936289387667916\n",
      "94.0 % of the pairs had positive returns\n",
      "Sharpe Ratio using annual return 6.222829377464821\n",
      "Autocorrelation:  0.03546883706652382\n",
      "Daily Sharpe Ratio 0.3566097019364513\n",
      "Portfolio Sharpe Ratio:  0.3566097019364513\n",
      "Total number of trades:  384\n",
      "Positive trades:  324\n",
      "Negative trades:  60\n",
      "Max DD period: 4.0 days\n",
      "Maximum drawdown of portfolio: -1.24%\n"
     ]
    },
    {
     "data": {
      "image/png": "[encoded data removed]",
      "text/plain": [
       "<matplotlib.figure.Figure at 0x11eda3d68>"
      ]
     },
     "metadata": {},
     "output_type": "display_data"
    }
   ],
   "source": [
    "results, pairs_summary = trader.summarize_results(sharpe_results_threshold_train_w_costs,\n",
    "                                                  cum_returns_threshold_train_w_costs,\n",
    "                                                  performance_threshold_train,\n",
    "                                                  pairs, ticker_segment_dict,\n",
    "                                                  n_years_val)"
   ]
  },
  {
   "cell_type": "code",
   "execution_count": 149,
   "metadata": {},
   "outputs": [
    {
     "name": "stdout",
     "output_type": "stream",
     "text": [
      "Corrected Annualized SR: 5.66\n"
     ]
    }
   ],
   "source": [
    "print('Corrected Annualized SR: {:.2f}'.format(0.3566097019364513*(252**0.5)))"
   ]
  },
  {
   "cell_type": "code",
   "execution_count": 130,
   "metadata": {},
   "outputs": [
    {
     "name": "stdout",
     "output_type": "stream",
     "text": [
      "Sharpe Ratio Distribution: \n"
     ]
    },
    {
     "data": {
      "image/png": "[encoded data removed]",
      "text/plain": [
       "<matplotlib.figure.Figure at 0x14e3f9080>"
      ]
     },
     "metadata": {},
     "output_type": "display_data"
    }
   ],
   "source": [
    "print('Sharpe Ratio Distribution: ')\n",
    "n, bins, patches = plt.hist(sharpe_results_threshold_train_w_costs, bins = 16, normed=True, orientation='vertical',\n",
    "                            color='red', rwidth=0.9, align='mid')"
   ]
  },
  {
   "cell_type": "code",
   "execution_count": 131,
   "metadata": {},
   "outputs": [],
   "source": [
    "#cum_returns_threshold_train_w_costs"
   ]
  },
  {
   "cell_type": "code",
   "execution_count": 132,
   "metadata": {},
   "outputs": [
    {
     "data": {
      "text/plain": [
       "array([2.50126689e+00, 2.72766817e+00, 4.97837807e-01, 1.34817221e+00,\n",
       "       2.51102383e+00, 4.86604551e-01, 5.37601888e+00, 2.15698159e+00,\n",
       "       3.48872773e-01, 8.30727909e-01, 8.04207011e-01, 1.42040979e+00,\n",
       "       5.29949447e-01, 5.44739817e-01, 7.04082863e-01, 4.74850398e-01,\n",
       "       6.40183768e-01, 6.60507818e-01, 3.23395028e-01, 6.04787344e-01,\n",
       "       2.86102543e+00, 2.00969757e-01, 6.02978576e+00, 1.28741471e+00,\n",
       "       9.74452830e+01, 1.15178018e+00, 7.81691169e-01, 2.70723816e-01,\n",
       "       1.37703517e+00, 4.50446200e+01, 1.47585815e+00, 5.31488338e-01,\n",
       "       7.16683959e-01, 2.95224975e-01, 1.60930243e+00, 4.87426446e-01,\n",
       "       4.07196316e-01, 7.29681197e-01, 4.37229795e-01, 7.66901016e-01,\n",
       "       3.51772678e+00, 5.51370378e+00, 4.02662801e-01, 2.99238613e+00,\n",
       "       1.10657726e+00, 7.95572416e-01, 6.56583927e+00, 4.86154176e-01,\n",
       "       1.03387851e+00, 4.95904256e-01, 9.60603814e-01, 2.35749974e-01,\n",
       "       2.81081808e+00, 7.22556258e+01, 5.41294141e-01, 1.78116398e+00,\n",
       "       1.39031379e-01, 6.40377615e-01, 6.48105028e-01, 6.34305522e-01,\n",
       "       4.22565023e-01, 1.55562361e+00, 1.44620834e+00, 2.28254709e+00,\n",
       "       5.24985346e-01, 5.41709105e-01, 2.05768111e+00, 3.82486729e+02,\n",
       "       1.37486099e+04, 5.34839942e-02, 2.92306983e-01, 9.08118320e+00,\n",
       "       2.69891704e+00, 6.48184152e-02, 1.63932738e+01, 1.06880055e+01,\n",
       "       3.35861212e+00, 1.21077288e+00, 4.50425268e-01, 2.48497128e-01,\n",
       "       4.82355186e-01, 6.77964575e-01, 3.52490978e-01, 3.62565789e-01,\n",
       "       6.97581963e-01, 4.89380921e-01, 1.29708082e+00, 9.91170131e-01,\n",
       "       3.26819890e+00, 3.59738652e-01, 3.99530169e-01, 3.67111979e-01,\n",
       "       2.24164586e-01, 4.40780005e-01, 6.68558385e+00, 1.82186885e-01,\n",
       "       3.57245402e+00, 9.24686796e-01, 1.10015149e+00, 3.52467392e-01,\n",
       "       3.65504808e-01, 2.57344351e+00, 1.23210419e+00, 2.38991863e+00,\n",
       "       1.63854700e+00, 8.36628873e-01, 7.64907733e-01, 2.46892451e+00,\n",
       "       1.68040910e+00, 8.08264806e-01, 1.55929945e+00, 2.48511428e+00,\n",
       "       4.46753255e-01, 6.07741320e+00, 2.07293990e+00, 9.51202768e-01,\n",
       "       2.14014679e+00, 6.31143205e-01, 3.44964329e-02, 2.41434402e+00,\n",
       "       8.97618458e-01, 3.19857080e-01, 1.65557224e+00, 6.70910530e+01,\n",
       "       2.05646582e-02, 5.28194778e-01, 9.25486245e-01, 1.63886871e+00,\n",
       "       3.37989783e+00, 1.00910295e+00, 1.48511679e+00, 2.56704215e+01,\n",
       "       1.41120507e+02, 2.81965810e+00, 6.95686019e-01, 2.53197545e-01,\n",
       "       4.90654197e-01, 7.91511865e-01, 1.16757781e+00, 1.64656241e+00,\n",
       "       7.11800921e-01, 5.92849669e+00, 1.45208547e+00, 4.23493543e+00,\n",
       "       1.63605865e+00, 3.97080363e+00, 2.88137013e-01, 1.16039104e+00,\n",
       "       1.41975687e+00, 5.38704226e-01])"
      ]
     },
     "execution_count": 132,
     "metadata": {},
     "output_type": "execute_result"
    }
   ],
   "source": [
    "betas = list()\n",
    "for i in range(len(pairs)):\n",
    "    betas.append(pairs[i][2]['coint_coef'])\n",
    "np.asarray(betas)"
   ]
  },
  {
   "cell_type": "markdown",
   "metadata": {},
   "source": [
    "# Out of Sample Analysis\n",
    "\n",
    "In this section, we analyze the performance of the strategy in the validation dataset. \n",
    "\n",
    "We proceed with some data exploration analysis. For this purpose we will do the following:\n",
    "\n",
    "- Analyze which percentage of the identified pairs are still cointegrated in the validation period.\n",
    "- Analyze which percentage of pairs have positive returns, and how many of those are still cointegrated.\n",
    "- Analyze how many new pais were not identified to be cointegrated up to the validation period.\n",
    "- Run strategy for identified pairs in training period.\n",
    "\n",
    "This analysis will help us getting some insight into how the cointegrated pairs vary from time to time, and therefore how we should allocate our resources to predict when pairs are not cointegrated anymore."
   ]
  },
  {
   "cell_type": "markdown",
   "metadata": {},
   "source": [
    "## Applying the Strategy out-of Sample\n",
    "\n",
    "We might want to apply the strategy in all pairs identified. Or, instead, we might prefer to apply the strategy only on those pairs that turned out to be profitable. Let's compare how both approaches work:"
   ]
  },
  {
   "cell_type": "code",
   "execution_count": 133,
   "metadata": {},
   "outputs": [
    {
     "data": {
      "text/plain": [
       "1"
      ]
     },
     "execution_count": 133,
     "metadata": {},
     "output_type": "execute_result"
    }
   ],
   "source": [
    "# intraday\n",
    "n_years_test = round(len(df_prices_test)/(240*78))\n",
    "\n",
    "# interday\n",
    "#n_years_test = round(len(df_prices_test)/(240))\n",
    "\n",
    "n_years_test"
   ]
  },
  {
   "cell_type": "markdown",
   "metadata": {},
   "source": [
    "### Approach 1: Unrestricted"
   ]
  },
  {
   "cell_type": "markdown",
   "metadata": {},
   "source": [
    "**Basic Threshold Strategy**"
   ]
  },
  {
   "cell_type": "code",
   "execution_count": 134,
   "metadata": {},
   "outputs": [
    {
     "name": "stdout",
     "output_type": "stream",
     "text": [
      " entry delay turned on.\n",
      "Pair: 150/150"
     ]
    }
   ],
   "source": [
    "results_without_costs, results_with_costs, performance_threshold_test = \\\n",
    "                            trader.apply_trading_strategy(pairs, \n",
    "                                                           'fixed_beta',\n",
    "                                                            2,#entry_multiplier,\n",
    "                                                            0,#exit_multiplier,\n",
    "                                                            test_mode=True,\n",
    "                                                            train_val_split=train_val_split\n",
    "                                                           )\n",
    "sharpe_results_threshold_test_nocosts, cum_returns_threshold_test_nocosts = results_without_costs\n",
    "sharpe_results_threshold_test_w_costs, cum_returns_threshold_test_w_costs = results_with_costs"
   ]
  },
  {
   "cell_type": "code",
   "execution_count": 135,
   "metadata": {
    "scrolled": false
   },
   "outputs": [
    {
     "name": "stdout",
     "output_type": "stream",
     "text": [
      "Average SR:  0.9060715285252559\n",
      "Annual ROI:  11.867690814522636\n",
      "69.33333333333333 % of the pairs had positive returns\n",
      "Sharpe Ratio using annual return 4.326198125730516\n",
      "Autocorrelation:  0.036101266448998144\n",
      "Daily Sharpe Ratio 0.25723643000715213\n",
      "Portfolio Sharpe Ratio:  0.25723643000715213\n",
      "Total number of trades:  212\n",
      "Positive trades:  172\n",
      "Negative trades:  40\n",
      "Max DD period: 15.0 days\n",
      "Maximum drawdown of portfolio: -1.33%\n"
     ]
    },
    {
     "data": {
      "image/png": "[encoded data removed]",
      "text/plain": [
       "<matplotlib.figure.Figure at 0x159daa080>"
      ]
     },
     "metadata": {},
     "output_type": "display_data"
    }
   ],
   "source": [
    "results, pairs_summary = trader.summarize_results(sharpe_results_threshold_test_w_costs,\n",
    "                                                  cum_returns_threshold_test_w_costs,\n",
    "                                                  performance_threshold_test,\n",
    "                                                  pairs, ticker_segment_dict,\n",
    "                                                  n_years_test)"
   ]
  },
  {
   "cell_type": "code",
   "execution_count": 146,
   "metadata": {},
   "outputs": [
    {
     "name": "stdout",
     "output_type": "stream",
     "text": [
      "Corrected Annualized SR: 4.08\n"
     ]
    }
   ],
   "source": [
    "print('Corrected Annualized SR: {:.2f}'.format(0.25723643000715213*(252**0.5)))"
   ]
  },
  {
   "cell_type": "markdown",
   "metadata": {},
   "source": [
    "### Approach 2: Keeping only pairs that had positive returns in the training period"
   ]
  },
  {
   "cell_type": "code",
   "execution_count": 136,
   "metadata": {},
   "outputs": [],
   "source": [
    "cum_returns_threshold_train_w_costs = np.asarray(cum_returns_threshold_train_w_costs)\n",
    "profitable_pairs_indices = np.argwhere(cum_returns_threshold_train_w_costs > 0)\n",
    "profitable_pairs = [pairs[i] for i in profitable_pairs_indices.flatten()]"
   ]
  },
  {
   "cell_type": "code",
   "execution_count": 137,
   "metadata": {
    "scrolled": false
   },
   "outputs": [
    {
     "name": "stdout",
     "output_type": "stream",
     "text": [
      " entry delay turned on.\n",
      "Pair: 141/141"
     ]
    }
   ],
   "source": [
    "results_without_costs, results_with_costs, performance_threshold_test = \\\n",
    "                            trader.apply_trading_strategy(profitable_pairs, \n",
    "                                                           'fixed_beta',\n",
    "                                                            2,#entry_multiplier,\n",
    "                                                            0,#exit_multiplier,\n",
    "                                                            test_mode=True,\n",
    "                                                            train_val_split=train_val_split\n",
    "                                                           )\n",
    "sharpe_results_threshold_test_nocosts, cum_returns_threshold_test_nocosts = results_without_costs\n",
    "sharpe_results_threshold_test_w_costs, cum_returns_threshold_test_w_costs = results_with_costs"
   ]
  },
  {
   "cell_type": "code",
   "execution_count": 138,
   "metadata": {},
   "outputs": [
    {
     "name": "stdout",
     "output_type": "stream",
     "text": [
      "Average SR:  0.9572455910347445\n",
      "Annual ROI:  12.385930226908503\n",
      "69.50354609929079 % of the pairs had positive returns\n",
      "Sharpe Ratio using annual return 4.302905145145404\n",
      "Autocorrelation:  0.02447632011167949\n",
      "Daily Sharpe Ratio 0.2552939302852117\n",
      "Portfolio Sharpe Ratio:  0.2552939302852117\n",
      "Total number of trades:  195\n",
      "Positive trades:  162\n",
      "Negative trades:  33\n",
      "Max DD period: 14.0 days\n",
      "Maximum drawdown of portfolio: -1.38%\n"
     ]
    },
    {
     "data": {
      "image/png": "[encoded data removed]",
      "text/plain": [
       "<matplotlib.figure.Figure at 0x14f27fba8>"
      ]
     },
     "metadata": {},
     "output_type": "display_data"
    }
   ],
   "source": [
    "results, pairs_summary = trader.summarize_results(sharpe_results_threshold_test_w_costs,\n",
    "                                                  cum_returns_threshold_test_w_costs,\n",
    "                                                  performance_threshold_test,\n",
    "                                                  profitable_pairs, ticker_segment_dict,\n",
    "                                                  n_years_test)"
   ]
  },
  {
   "cell_type": "code",
   "execution_count": 147,
   "metadata": {},
   "outputs": [
    {
     "name": "stdout",
     "output_type": "stream",
     "text": [
      "Corrected Annualized SR: 4.05\n"
     ]
    }
   ],
   "source": [
    "print('Corrected Annualized SR: {:.2f}'.format(0.2552939302852117*(252**0.5)))"
   ]
  },
  {
   "cell_type": "markdown",
   "metadata": {},
   "source": [
    "### Approach 3: Keeping only top 5 pairs"
   ]
  },
  {
   "cell_type": "code",
   "execution_count": 139,
   "metadata": {},
   "outputs": [],
   "source": [
    "sharpe_results_threshold_train_w_costs = np.asarray(sharpe_results_threshold_train_w_costs)\n",
    "sorted_pairs_indices = np.argsort(sharpe_results_threshold_train_w_costs)[::-1][:10]\n",
    "top_10_pairs = [pairs[i] for i in sorted_pairs_indices.flatten()]"
   ]
  },
  {
   "cell_type": "code",
   "execution_count": 140,
   "metadata": {},
   "outputs": [],
   "source": [
    "# sorting by returns seems to give better results"
   ]
  },
  {
   "cell_type": "code",
   "execution_count": 141,
   "metadata": {},
   "outputs": [],
   "source": [
    "cum_returns_threshold_train_w_costs = np.asarray(cum_returns_threshold_train_w_costs)\n",
    "sorted_pairs_indices = np.argsort(cum_returns_threshold_train_w_costs)[::-1][:10]\n",
    "top_10_pairs = [pairs[i] for i in sorted_pairs_indices.flatten()]"
   ]
  },
  {
   "cell_type": "code",
   "execution_count": 142,
   "metadata": {},
   "outputs": [
    {
     "name": "stdout",
     "output_type": "stream",
     "text": [
      " entry delay turned on.\n",
      "Pair: 10/10"
     ]
    }
   ],
   "source": [
    "results_without_costs, results_with_costs, performance_threshold_test = \\\n",
    "                            trader.apply_trading_strategy(top_10_pairs, \n",
    "                                                           'fixed_beta',\n",
    "                                                            2,#entry_multiplier,\n",
    "                                                            0,#exit_multiplier,\n",
    "                                                            test_mode=True,\n",
    "                                                            train_val_split=train_val_split\n",
    "                                                           )\n",
    "sharpe_results_threshold_test_nocosts, cum_returns_threshold_test_nocosts = results_without_costs\n",
    "sharpe_results_threshold_test_w_costs, cum_returns_threshold_test_w_costs = results_with_costs"
   ]
  },
  {
   "cell_type": "code",
   "execution_count": 143,
   "metadata": {},
   "outputs": [
    {
     "name": "stdout",
     "output_type": "stream",
     "text": [
      "Average SR:  0.7798822367036616\n",
      "Annual ROI:  11.512673650076422\n",
      "90.0 % of the pairs had positive returns\n",
      "Sharpe Ratio using annual return 1.1423450533979258\n",
      "Autocorrelation:  0.04051460591106734\n",
      "Daily Sharpe Ratio 0.07012715100073962\n",
      "Portfolio Sharpe Ratio:  0.07012715100073962\n",
      "Total number of trades:  14\n",
      "Positive trades:  12\n",
      "Negative trades:  2\n",
      "Max DD period: 16.0 days\n",
      "Maximum drawdown of portfolio: -9.28%\n"
     ]
    },
    {
     "data": {
      "image/png": "[encoded data removed]",
      "text/plain": [
       "<matplotlib.figure.Figure at 0x11eb638d0>"
      ]
     },
     "metadata": {},
     "output_type": "display_data"
    }
   ],
   "source": [
    "results, pairs_summary = trader.summarize_results(sharpe_results_threshold_test_w_costs,\n",
    "                                                  cum_returns_threshold_test_w_costs,\n",
    "                                                  performance_threshold_test,\n",
    "                                                  top_10_pairs, ticker_segment_dict,\n",
    "                                                  n_years_test)"
   ]
  },
  {
   "cell_type": "code",
   "execution_count": 148,
   "metadata": {},
   "outputs": [
    {
     "name": "stdout",
     "output_type": "stream",
     "text": [
      "Corrected Annualized SR: 1.11\n"
     ]
    }
   ],
   "source": [
    "print('Corrected Annualized SR: {:.2f}'.format(0.07012715100073962*(252**0.5)))"
   ]
  },
  {
   "cell_type": "code",
   "execution_count": 144,
   "metadata": {},
   "outputs": [
    {
     "data": {
      "text/html": [
       "<div>\n",
       "<style scoped>\n",
       "    .dataframe tbody tr th:only-of-type {\n",
       "        vertical-align: middle;\n",
       "    }\n",
       "\n",
       "    .dataframe tbody tr th {\n",
       "        vertical-align: top;\n",
       "    }\n",
       "\n",
       "    .dataframe thead th {\n",
       "        text-align: right;\n",
       "    }\n",
       "</style>\n",
       "<table border=\"1\" class=\"dataframe\">\n",
       "  <thead>\n",
       "    <tr style=\"text-align: right;\">\n",
       "      <th></th>\n",
       "      <th>Leg1</th>\n",
       "      <th>Leg1_Segmt</th>\n",
       "      <th>Leg2</th>\n",
       "      <th>Leg2_Segmt</th>\n",
       "      <th>t_statistic</th>\n",
       "      <th>p_value</th>\n",
       "      <th>zero_cross</th>\n",
       "      <th>half_life</th>\n",
       "      <th>hurst_exponent</th>\n",
       "      <th>positive_trades</th>\n",
       "      <th>negative_trades</th>\n",
       "      <th>sharpe_result</th>\n",
       "      <th>positive_trades_per_pair_pct</th>\n",
       "    </tr>\n",
       "  </thead>\n",
       "  <tbody>\n",
       "    <tr>\n",
       "      <th>0</th>\n",
       "      <td>ENFR</td>\n",
       "      <td>Equity: U.S. MLPs</td>\n",
       "      <td>YMLI</td>\n",
       "      <td>Equity: U.S. MLPs</td>\n",
       "      <td>-4.045626</td>\n",
       "      <td>0.001190</td>\n",
       "      <td>609</td>\n",
       "      <td>124</td>\n",
       "      <td>0.218409</td>\n",
       "      <td>3</td>\n",
       "      <td>0</td>\n",
       "      <td>2.058766</td>\n",
       "      <td>100.0</td>\n",
       "    </tr>\n",
       "    <tr>\n",
       "      <th>1</th>\n",
       "      <td>IEO</td>\n",
       "      <td>Equity: U.S. Oil &amp; Gas Exploration &amp; Production</td>\n",
       "      <td>PALL</td>\n",
       "      <td>Commodities: Precious Metals Palladium</td>\n",
       "      <td>-3.443480</td>\n",
       "      <td>0.009563</td>\n",
       "      <td>350</td>\n",
       "      <td>1437</td>\n",
       "      <td>0.485947</td>\n",
       "      <td>1</td>\n",
       "      <td>0</td>\n",
       "      <td>1.840913</td>\n",
       "      <td>100.0</td>\n",
       "    </tr>\n",
       "    <tr>\n",
       "      <th>2</th>\n",
       "      <td>VDE</td>\n",
       "      <td>Equity: U.S. Energy</td>\n",
       "      <td>PALL</td>\n",
       "      <td>Commodities: Precious Metals Palladium</td>\n",
       "      <td>-3.560780</td>\n",
       "      <td>0.006557</td>\n",
       "      <td>412</td>\n",
       "      <td>1349</td>\n",
       "      <td>0.481469</td>\n",
       "      <td>1</td>\n",
       "      <td>0</td>\n",
       "      <td>1.800691</td>\n",
       "      <td>100.0</td>\n",
       "    </tr>\n",
       "    <tr>\n",
       "      <th>3</th>\n",
       "      <td>UCI</td>\n",
       "      <td>Commodities: Broad Market</td>\n",
       "      <td>UNL</td>\n",
       "      <td>Commodities: Energy Natural Gas</td>\n",
       "      <td>-4.180098</td>\n",
       "      <td>0.000712</td>\n",
       "      <td>419</td>\n",
       "      <td>205</td>\n",
       "      <td>0.307583</td>\n",
       "      <td>1</td>\n",
       "      <td>1</td>\n",
       "      <td>1.219295</td>\n",
       "      <td>50.0</td>\n",
       "    </tr>\n",
       "    <tr>\n",
       "      <th>4</th>\n",
       "      <td>AMLP</td>\n",
       "      <td>Equity: U.S. MLPs</td>\n",
       "      <td>ENFR</td>\n",
       "      <td>Equity: U.S. MLPs</td>\n",
       "      <td>-3.631002</td>\n",
       "      <td>0.005195</td>\n",
       "      <td>801</td>\n",
       "      <td>219</td>\n",
       "      <td>0.284800</td>\n",
       "      <td>1</td>\n",
       "      <td>0</td>\n",
       "      <td>0.846866</td>\n",
       "      <td>100.0</td>\n",
       "    </tr>\n",
       "    <tr>\n",
       "      <th>5</th>\n",
       "      <td>PSCE</td>\n",
       "      <td>Equity: U.S. Energy</td>\n",
       "      <td>UNL</td>\n",
       "      <td>Commodities: Energy Natural Gas</td>\n",
       "      <td>-3.503207</td>\n",
       "      <td>0.007905</td>\n",
       "      <td>236</td>\n",
       "      <td>1149</td>\n",
       "      <td>0.455811</td>\n",
       "      <td>2</td>\n",
       "      <td>0</td>\n",
       "      <td>0.680468</td>\n",
       "      <td>100.0</td>\n",
       "    </tr>\n",
       "    <tr>\n",
       "      <th>6</th>\n",
       "      <td>DTO</td>\n",
       "      <td>Inverse Commodities: Energy Crude Oil</td>\n",
       "      <td>KOLD</td>\n",
       "      <td>Inverse Commodities: Energy Natural Gas</td>\n",
       "      <td>-4.063344</td>\n",
       "      <td>0.001113</td>\n",
       "      <td>183</td>\n",
       "      <td>1233</td>\n",
       "      <td>0.478179</td>\n",
       "      <td>1</td>\n",
       "      <td>0</td>\n",
       "      <td>0.021187</td>\n",
       "      <td>100.0</td>\n",
       "    </tr>\n",
       "    <tr>\n",
       "      <th>7</th>\n",
       "      <td>SCO</td>\n",
       "      <td>Inverse Commodities: Energy Crude Oil</td>\n",
       "      <td>KOLD</td>\n",
       "      <td>Inverse Commodities: Energy Natural Gas</td>\n",
       "      <td>-3.820588</td>\n",
       "      <td>0.002704</td>\n",
       "      <td>347</td>\n",
       "      <td>1527</td>\n",
       "      <td>0.488263</td>\n",
       "      <td>1</td>\n",
       "      <td>0</td>\n",
       "      <td>0.004656</td>\n",
       "      <td>100.0</td>\n",
       "    </tr>\n",
       "    <tr>\n",
       "      <th>8</th>\n",
       "      <td>UGA</td>\n",
       "      <td>Commodities: Energy Gasoline</td>\n",
       "      <td>UNG</td>\n",
       "      <td>Commodities: Energy Natural Gas</td>\n",
       "      <td>-3.826968</td>\n",
       "      <td>0.002643</td>\n",
       "      <td>382</td>\n",
       "      <td>1259</td>\n",
       "      <td>0.489978</td>\n",
       "      <td>1</td>\n",
       "      <td>0</td>\n",
       "      <td>-0.067257</td>\n",
       "      <td>100.0</td>\n",
       "    </tr>\n",
       "    <tr>\n",
       "      <th>9</th>\n",
       "      <td>DBE</td>\n",
       "      <td>Commodities: Energy</td>\n",
       "      <td>UNL</td>\n",
       "      <td>Commodities: Energy Natural Gas</td>\n",
       "      <td>-3.780758</td>\n",
       "      <td>0.003110</td>\n",
       "      <td>335</td>\n",
       "      <td>925</td>\n",
       "      <td>0.445612</td>\n",
       "      <td>0</td>\n",
       "      <td>1</td>\n",
       "      <td>-0.606763</td>\n",
       "      <td>0.0</td>\n",
       "    </tr>\n",
       "  </tbody>\n",
       "</table>\n",
       "</div>"
      ],
      "text/plain": [
       "   Leg1                                       Leg1_Segmt  Leg2  \\\n",
       "0  ENFR                                Equity: U.S. MLPs  YMLI   \n",
       "1   IEO  Equity: U.S. Oil & Gas Exploration & Production  PALL   \n",
       "2   VDE                              Equity: U.S. Energy  PALL   \n",
       "3   UCI                        Commodities: Broad Market   UNL   \n",
       "4  AMLP                                Equity: U.S. MLPs  ENFR   \n",
       "5  PSCE                              Equity: U.S. Energy   UNL   \n",
       "6   DTO            Inverse Commodities: Energy Crude Oil  KOLD   \n",
       "7   SCO            Inverse Commodities: Energy Crude Oil  KOLD   \n",
       "8   UGA                     Commodities: Energy Gasoline   UNG   \n",
       "9   DBE                              Commodities: Energy   UNL   \n",
       "\n",
       "                                Leg2_Segmt  t_statistic   p_value  zero_cross  \\\n",
       "0                        Equity: U.S. MLPs    -4.045626  0.001190         609   \n",
       "1   Commodities: Precious Metals Palladium    -3.443480  0.009563         350   \n",
       "2   Commodities: Precious Metals Palladium    -3.560780  0.006557         412   \n",
       "3          Commodities: Energy Natural Gas    -4.180098  0.000712         419   \n",
       "4                        Equity: U.S. MLPs    -3.631002  0.005195         801   \n",
       "5          Commodities: Energy Natural Gas    -3.503207  0.007905         236   \n",
       "6  Inverse Commodities: Energy Natural Gas    -4.063344  0.001113         183   \n",
       "7  Inverse Commodities: Energy Natural Gas    -3.820588  0.002704         347   \n",
       "8          Commodities: Energy Natural Gas    -3.826968  0.002643         382   \n",
       "9          Commodities: Energy Natural Gas    -3.780758  0.003110         335   \n",
       "\n",
       "   half_life  hurst_exponent  positive_trades  negative_trades  sharpe_result  \\\n",
       "0        124        0.218409                3                0       2.058766   \n",
       "1       1437        0.485947                1                0       1.840913   \n",
       "2       1349        0.481469                1                0       1.800691   \n",
       "3        205        0.307583                1                1       1.219295   \n",
       "4        219        0.284800                1                0       0.846866   \n",
       "5       1149        0.455811                2                0       0.680468   \n",
       "6       1233        0.478179                1                0       0.021187   \n",
       "7       1527        0.488263                1                0       0.004656   \n",
       "8       1259        0.489978                1                0      -0.067257   \n",
       "9        925        0.445612                0                1      -0.606763   \n",
       "\n",
       "   positive_trades_per_pair_pct  \n",
       "0                         100.0  \n",
       "1                         100.0  \n",
       "2                         100.0  \n",
       "3                          50.0  \n",
       "4                         100.0  \n",
       "5                         100.0  \n",
       "6                         100.0  \n",
       "7                         100.0  \n",
       "8                         100.0  \n",
       "9                           0.0  "
      ]
     },
     "execution_count": 144,
     "metadata": {},
     "output_type": "execute_result"
    }
   ],
   "source": [
    "pairs_summary"
   ]
  },
  {
   "cell_type": "code",
   "execution_count": 33,
   "metadata": {},
   "outputs": [],
   "source": [
    "# different ways of calculating returns"
   ]
  },
  {
   "cell_type": "code",
   "execution_count": 34,
   "metadata": {},
   "outputs": [
    {
     "name": "stdout",
     "output_type": "stream",
     "text": [
      "Return by position returns:  0.12190208117405721\n",
      "Return by position returns:  0.11352679355351403\n",
      "Return by account balance:  0.11352679355350825\n"
     ]
    }
   ],
   "source": [
    "i = 4\n",
    "print('Return by position returns: ',\n",
    "      (np.cumprod(performance_threshold_test[i][1].position_return.values+1)-1)[-1])\n",
    "print('Return by position returns: ',\n",
    "      (np.cumprod(performance_threshold_test[i][1].position_ret_with_costs.values+1)-1)[-1])\n",
    "print('Return by account balance: ',performance_threshold_test[i][1].account_balance[-1]-1)"
   ]
  }
 ],
 "metadata": {
  "kernelspec": {
   "display_name": "Python [conda root]",
   "language": "python",
   "name": "conda-root-py"
  },
  "language_info": {
   "codemirror_mode": {
    "name": "ipython",
    "version": 3
   },
   "file_extension": ".py",
   "mimetype": "text/x-python",
   "name": "python",
   "nbconvert_exporter": "python",
   "pygments_lexer": "ipython3",
   "version": "3.6.0"
  }
 },
 "nbformat": 4,
 "nbformat_minor": 2
}
