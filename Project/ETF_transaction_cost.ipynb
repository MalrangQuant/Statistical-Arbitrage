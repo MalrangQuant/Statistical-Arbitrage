{
 "cells": [
  {
   "cell_type": "code",
   "execution_count": 1,
   "metadata": {},
   "outputs": [],
   "source": [
    "import pandas as pd\n",
    "import numpy as np"
   ]
  },
  {
   "cell_type": "markdown",
   "metadata": {},
   "source": [
    "* https://www.etf.com/sections/features-and-news/etfs-highest-lowest-trading-spreads\n",
    "\n",
    "transaction cost = commissions + bid/ask spreads + short-selling cost + operating expenses\n",
    "\n",
    "1. commissions = 0\n",
    "2. bid/ask spreads = 0.15% ~ 0.2%\n",
    "3. operating expenses = etf별 er - 보유기간 동안 부여"
   ]
  },
  {
   "cell_type": "code",
   "execution_count": 2,
   "metadata": {},
   "outputs": [],
   "source": [
    "etf_info = pd.read_csv('/Users/yjban/Desktop/MFE/BAF646_Statistical_arbitrage/project/data/etf_list/etfs_details_equity.csv')"
   ]
  },
  {
   "cell_type": "code",
   "execution_count": 24,
   "metadata": {},
   "outputs": [],
   "source": [
    "er_df = etf_info[['Symbol','ER']]\n",
    "er_df = er_df.set_index('Symbol')\n",
    "er_df = er_df['ER'].apply(lambda x: x.split('%')[0]).astype(float)"
   ]
  },
  {
   "cell_type": "code",
   "execution_count": 35,
   "metadata": {},
   "outputs": [],
   "source": [
    "def get_transaction_cost(holding_period, num_of_roundtrip, tic):\n",
    "    \n",
    "    bid_ask_spread = 0.15/100 * num_of_roundtrip\n",
    "    operating_expenses = er_df[tic] * holding_period/252\n",
    "\n",
    "    return bid_ask_spread + operating_expenses"
   ]
  }
 ],
 "metadata": {
  "kernelspec": {
   "display_name": "Python 3.10.7 64-bit",
   "language": "python",
   "name": "python3"
  },
  "language_info": {
   "codemirror_mode": {
    "name": "ipython",
    "version": 3
   },
   "file_extension": ".py",
   "mimetype": "text/x-python",
   "name": "python",
   "nbconvert_exporter": "python",
   "pygments_lexer": "ipython3",
   "version": "3.10.7"
  },
  "orig_nbformat": 4,
  "vscode": {
   "interpreter": {
    "hash": "b0fa6594d8f4cbf19f97940f81e996739fb7646882a419484c72d19e05852a7e"
   }
  }
 },
 "nbformat": 4,
 "nbformat_minor": 2
}
