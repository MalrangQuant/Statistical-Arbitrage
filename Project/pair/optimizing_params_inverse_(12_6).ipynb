{
 "cells": [
  {
   "cell_type": "code",
   "execution_count": 4,
   "metadata": {},
   "outputs": [],
   "source": [
    "import numpy as np\n",
    "import pandas as pd\n",
    "import import_ipynb\n",
    "import pair_selection_DBSCAN_funclist_for_training as myFunc\n",
    "import matplotlib.pyplot as plt\n",
    "\n",
    "import math\n",
    "import sklearn\n",
    "from datetime import datetime\n",
    "\n",
    "from sklearn import datasets, linear_model\n",
    "from tqdm import tqdm\n",
    "from sklearn.preprocessing import PolynomialFeatures\n",
    "\n",
    "import warnings\n",
    "warnings.filterwarnings('ignore')"
   ]
  },
  {
   "cell_type": "code",
   "execution_count": 5,
   "metadata": {},
   "outputs": [],
   "source": [
    "price_df = pd.read_csv('./Data/us_etf_price.csv')\n",
    "etf_info = pd.read_csv('../pair/Data/etfs_details_equity.csv')\n",
    "er_df = etf_info[['Symbol','ER']]\n",
    "er_df = er_df.set_index('Symbol')\n",
    "er_df = er_df['ER'].apply(lambda x: x.split('%')[0]).astype(float)"
   ]
  },
  {
   "cell_type": "code",
   "execution_count": 6,
   "metadata": {},
   "outputs": [],
   "source": [
    "\n",
    "pc_selecting_threshold = 0.9\n",
    "eps = 1.8\n",
    "min_samples = 2\n",
    "cluster_size_limit = 100\n",
    "cluster_member_counts = 100\n",
    "inverse_threshold=-0.99\n",
    "coint_pvalue_threshold=0.01\n",
    "hurst_threshold=0.5\n",
    "half_life_threshold=10\n",
    "mean_reverting_freq=12"
   ]
  },
  {
   "cell_type": "code",
   "execution_count": 7,
   "metadata": {},
   "outputs": [],
   "source": [
    "class Backtesting():\n",
    "\n",
    "    def __init__(self, z_score_list, stop_loss, buy_z, sell_z, total_money=1000000):\n",
    "        \n",
    "        self.pairs_num = z_score_list.shape[0]\n",
    "        self.total_time = z_score_list.shape[1]\n",
    "        self.stop_loss = stop_loss\n",
    "        self.buy_z = buy_z\n",
    "        self.sell_z = sell_z\n",
    "        \n",
    "        self.inverse_price = np.zeros((2*self.pairs_num))\n",
    "        self.total_stock = np.zeros((2*self.pairs_num))\n",
    "        self.total_inverse = np.zeros((2*self.pairs_num))\n",
    "        self.money_for_pair = int(total_money/self.pairs_num) * np.ones((self.pairs_num))\n",
    "    \n",
    "    def trade_decision(self, z_score, pairs_num):\n",
    "        \n",
    "        stop_loss = self.stop_loss\n",
    "        buy_z = self.buy_z\n",
    "        sell_z = self.sell_z\n",
    "        total_stock = self.total_stock[2*(pairs_num)]\n",
    "        total_inverse = self.total_inverse[2*(pairs_num)]\n",
    "        stock, inverse = 0, 0 \n",
    "\n",
    "        # 스탑로스 컷에 걸릴 때는 다 팔기\n",
    "        if z_score >= stop_loss or z_score <= -1 * stop_loss:\n",
    "            stock, inverse = -2, -2\n",
    "        \n",
    "        # buy threshold 이상이면서 해당 etf 보유하고 있지 않으면 매수\n",
    "        elif z_score >= buy_z and total_stock==0:\n",
    "            stock, inverse = 1, 0\n",
    "\n",
    "        # sell threshold 이하이면서, 해당 etf 보유하고 있으면 etf 팔기\n",
    "        elif z_score <= sell_z and total_stock > 0:\n",
    "            stock, inverse = -1, 0\n",
    "\n",
    "        # -buy threshold 이하로 떨어지는데, 인버스 etf 보유하고 있지 않을 땐 inverse etf 사기\n",
    "        elif z_score <= -1 * buy_z and total_inverse==0:\n",
    "            stock, inverse = 0, 1\n",
    "        \n",
    "        # -sell threshold 이상으로 올라가는데, 인버스 etf를 보유하고 있으면 inverse etf 팔기\n",
    "        elif z_score >= -1 * sell_z and total_inverse > 0:\n",
    "            stock, inverse = 0, -1 \n",
    "\n",
    "        return stock, inverse\n",
    "    \n",
    "    def cal_trade_vol(self, stock_num, stock_signal, inv_signal, current_stock_price, current_inverse_price):\n",
    "\n",
    "        trade_stock_vol = 0\n",
    "        trade_inverse_vol = 0\n",
    "\n",
    "        money_for_stock = self.money_for_pair[int(stock_num/2)] / 2\n",
    "\n",
    "        if stock_signal < 0:\n",
    "            trade_stock_vol = -1 * self.total_stock[stock_num]\n",
    "\n",
    "        elif stock_signal > 0:\n",
    "            trade_stock_vol = int(money_for_stock/current_stock_price)\n",
    "\n",
    "        if inv_signal < 0:\n",
    "            trade_inverse_vol = -1 * self.total_inverse[stock_num]\n",
    "        \n",
    "        elif inv_signal > 0:\n",
    "            trade_inverse_vol = int(money_for_stock/current_inverse_price)\n",
    "\n",
    "        return trade_stock_vol, trade_inverse_vol\n",
    "\n",
    "\n",
    "    def cal_result(self, stock_num, stock_vol, inverse_vol, current_stock_price, current_inverse_price):\n",
    "\n",
    "        # if self.total_inverse[stock_num] > 0:\n",
    "        #     change_ratio = (current_price - prev_price) / prev_price\n",
    "        #     self.inverse_price[stock_num] = (1 - change_ratio) * self.inverse_price[stock_num]\n",
    "\n",
    "\n",
    "        if stock_vol > 0:\n",
    "            self.total_stock[stock_num] += stock_vol\n",
    "            self.money_for_pair[int(stock_num/2)] -= stock_vol * current_stock_price\n",
    "\n",
    "        elif stock_vol < 0:\n",
    "            self.total_stock[stock_num] += stock_vol\n",
    "            self.money_for_pair[int(stock_num/2)] -= stock_vol * current_stock_price\n",
    "        \n",
    "            # Buy the inverse\n",
    "        if inverse_vol > 0:\n",
    "            self.total_inverse[stock_num] += inverse_vol\n",
    "            self.money_for_pair[int(stock_num/2)] -= inverse_vol * current_inverse_price\n",
    "            # self.inverse_price[stock_num] = current_price\n",
    "        \n",
    "        # Sell the inverse\n",
    "        if inverse_vol < 0:\n",
    "            self.total_inverse[stock_num] += inverse_vol\n",
    "            self.money_for_pair[int(stock_num/2)] -= inverse_vol * current_inverse_price\n",
    "            # self.money_for_pair[int(stock_num/2)] -= inverse_vol * self.inverse_price[stock_num]\n",
    "            # self.inverse_price[stock_num] = 0\n",
    "\n",
    "        # total_asset = (self.total_inverse[stock_num] * self.inverse_price[stock_num] + \n",
    "        #                 self.total_stock[stock_num] * current_price) \n",
    "\n",
    "        total_asset = (self.total_inverse[stock_num] * current_inverse_price +\n",
    "                        self.total_stock[stock_num] * current_stock_price)\n",
    "\n",
    "        return total_asset\n",
    "\n",
    "    def backtesting(self, z_score_list, stock_price_list, inverse_price_list):\n",
    "\n",
    "        total_asset = np.zeros((self.pairs_num, self.total_time))\n",
    "        stock_a_vol_list = []\n",
    "        inverse_a_vol_list = []\n",
    "        stock_b_vol_list = []\n",
    "        inverse_b_vol_list = []\n",
    "\n",
    "        for t in range(self.total_time):\n",
    "            for pair_num in range(self.pairs_num):\n",
    "                stock_a_num = 2* pair_num\n",
    "                stock_b_num = 2* pair_num + 1\n",
    "                z_score = z_score_list[pair_num]\n",
    "\n",
    "                # 매수매입 시그널\n",
    "                stock_a, inverse_a = self.trade_decision(z_score[t], pair_num)\n",
    "                stock_b = inverse_a\n",
    "                inverse_b = stock_a\n",
    "\n",
    "                # 매수매입 수량 결정\n",
    "                stock_a_vol, inverse_a_vol = self.cal_trade_vol(stock_a_num, stock_a, inverse_a, stock_price_list[stock_a_num][t], inverse_price_list[stock_a_num][t])\n",
    "                stock_b_vol, inverse_b_vol = self.cal_trade_vol(stock_b_num, stock_b, inverse_b, stock_price_list[stock_b_num][t], inverse_price_list[stock_b_num][t])\n",
    "                stock_a_vol_list.append(stock_a_vol)\n",
    "                inverse_a_vol_list.append(inverse_a_vol)\n",
    "                stock_b_vol_list.append(stock_b_vol)\n",
    "                inverse_b_vol_list.append(inverse_b_vol)\n",
    "\n",
    "                # 투자 결과\n",
    "                total_asset[pair_num][t] += self.cal_result(stock_a_num, stock_a_vol, inverse_a_vol, stock_price_list[stock_a_num][t], inverse_price_list[stock_a_num][t])\n",
    "                total_asset[pair_num][t] += self.cal_result(stock_b_num, stock_b_vol, inverse_b_vol, stock_price_list[stock_b_num][t], inverse_price_list[stock_b_num][t])\n",
    "                total_asset[pair_num][t] += self.money_for_pair[int(pair_num)]\n",
    "\n",
    "        return total_asset, stock_a_vol_list, inverse_a_vol_list, stock_b_vol_list, inverse_b_vol_list"
   ]
  },
  {
   "cell_type": "code",
   "execution_count": 8,
   "metadata": {},
   "outputs": [],
   "source": [
    "def get_pair(start_date, end_date):\n",
    "\n",
    "    _, close_df, rtn_df, low_volume_etf = myFunc.preprocessing(price_df,etf_info, start_date, end_date)\n",
    "    pc_rtn = myFunc.get_pca_return(rtn_df, pc_selecting_threshold)\n",
    "    clusters_viz_list, clustered_series = myFunc.dbscan_clustering(close_df, pc_rtn, eps, min_samples, cluster_size_limit, cluster_member_counts)\n",
    "    selected_pair, short_pair = myFunc.Pair_selection(close_df=close_df,\n",
    "                                                rtn_df=rtn_df,\n",
    "                                                low_volume_etf=low_volume_etf,\n",
    "                                                clusters_viz_list=clusters_viz_list, \n",
    "                                                clustered_series=clustered_series, \n",
    "                                                inverse_threshold=inverse_threshold, \n",
    "                                                coint_pvalue_threshold=coint_pvalue_threshold, \n",
    "                                                hurst_threshold=hurst_threshold, \n",
    "                                                half_life_threshold=half_life_threshold, \n",
    "                                                mean_reverting_freq=mean_reverting_freq)\n",
    "\n",
    "    return selected_pair, short_pair, close_df, rtn_df\n",
    "\n",
    "def create_spread_function(pair_a, pair_b, start_date, end_date, alg='log'):\n",
    "\n",
    "    def log_spread_func(pair_a, pair_b):\n",
    "        \n",
    "        spread = math.log(pair_b) - w_avg * math.log(pair_a)\n",
    "        z_score = spread/w_std\n",
    "\n",
    "        return (spread, z_score)\n",
    "\n",
    "    def lr_spread_func(pair_a, pair_b):\n",
    "        pair_a, pair_b = np.log(pair_a), np.log(pair_b)\n",
    "        pair_a = pair_a * np.ones((1,1))\n",
    "        poly = PolynomialFeatures(degree=best_degree)\n",
    "        pair_a = poly.fit_transform(pair_a)\n",
    "\n",
    "        spread = pair_b - model.predict(pair_a)\n",
    "        z_score = spread / spread_std\n",
    "\n",
    "        return (spread, z_score)\n",
    "\n",
    "    target_a = np.log(pair_a[start_date:end_date])\n",
    "    target_b = np.log(pair_b[start_date:end_date])\n",
    "\n",
    "    # holding_period = end_date - start_date\n",
    "\n",
    "    if alg == 'log':\n",
    "        \n",
    "        w_list = target_b / target_a\n",
    "        w_avg = np.average(w_list)\n",
    "        w_std = np.std(w_list)\n",
    "\n",
    "        return log_spread_func\n",
    "    \n",
    "    elif alg == 'lr':\n",
    "\n",
    "        min_cv_n = float('inf')\n",
    "        best_degree = 0\n",
    "        total_len = target_a.size\n",
    "\n",
    "        permute_order = np.random.permutation(total_len)\n",
    "        target_a = target_a[permute_order]\n",
    "        target_b = target_b[permute_order]\n",
    "\n",
    "        train_num = int(target_a.size/3*2)\n",
    "\n",
    "        train_a = target_a[:train_num]\n",
    "        train_b = target_b[:train_num]\n",
    "        val_a = target_a[train_num:]\n",
    "        val_b = target_b[train_num:]\n",
    "\n",
    "        train_a = train_a.reshape(-1,1)\n",
    "        val_a = val_a.reshape(-1,1)\n",
    "\n",
    "        for degree in range(1,10,1):\n",
    "\n",
    "            poly = PolynomialFeatures(degree=degree)\n",
    "            poly_train_a = poly.fit_transform(train_a)\n",
    "            poly_val_a = poly.fit_transform(val_a)\n",
    "\n",
    "            model = linear_model.LassoCV(cv=5)\n",
    "            model.fit(poly_train_a, train_b)\n",
    "            \n",
    "            mse = np.average((val_b - model.predict(poly_val_a))**2)\n",
    "\n",
    "            if mse < min_cv_n:\n",
    "                best_degree = degree\n",
    "                min_cv_n = mse\n",
    "\n",
    "        if best_degree == 0:\n",
    "            print(\"error!\")\n",
    "\n",
    "        poly = PolynomialFeatures(degree= best_degree)\n",
    "        poly_train_a = poly.fit_transform(train_a)\n",
    "        model = linear_model.LassoCV(cv=5)\n",
    "        model.fit(poly_train_a, train_b)\n",
    "\n",
    "        b_pred = model.predict(poly_train_a)\n",
    "        spread = train_b - b_pred\n",
    "        spread_std = np.std(spread)\n",
    "\n",
    "        return lr_spread_func\n",
    "\n",
    "def gen_z_score_history(a, b, windows_width, spread_func_update_period):\n",
    "\n",
    "    T = a.shape[0]\n",
    "    z_score_list = np.zeros((T-windows_width))\n",
    "\n",
    "    for t in range(T-windows_width):\n",
    "\n",
    "        if t % spread_func_update_period==0:\n",
    "            spread_func = create_spread_function(a,b,t,t+windows_width, 'lr')\n",
    "        \n",
    "        _, z_score = spread_func(a[t],b[t])\n",
    "        z_score_list[t] = z_score\n",
    "\n",
    "    return z_score_list\n",
    "\n",
    "def get_total_transaction_cost(pair, trading_vol, short_list):\n",
    "    \n",
    "    a_roundtrip = len([i for i, x  in enumerate(trading_vol[0]) if x !=0]) / 2\n",
    "    a_inv_roundtrip = len([i for i, x  in enumerate(trading_vol[1]) if x !=0]) / 2\n",
    "    b_roundtrip = len([i for i, x  in enumerate(trading_vol[2]) if x !=0]) / 2\n",
    "    b_inv_roundtrip = len([i for i, x  in enumerate(trading_vol[3]) if x !=0]) / 2\n",
    "\n",
    "    a_holding_period = pd.Series([i for i, x  in enumerate(trading_vol[0]) if x !=0]).diff()[1:].sum()\n",
    "    a_inv_holding_period = pd.Series([i for i, x  in enumerate(trading_vol[1]) if x !=0]).diff()[1:].sum()\n",
    "    b_holding_period = pd.Series([i for i, x  in enumerate(trading_vol[2]) if x !=0]).diff()[1:].sum()\n",
    "    b_inv_holding_period = pd.Series([i for i, x  in enumerate(trading_vol[3]) if x !=0]).diff()[1:].sum()\n",
    "\n",
    "    a = pair[0]\n",
    "    a_inv = short_list[a]\n",
    "    b = pair[0]\n",
    "    b_inv = short_list[b]\n",
    "\n",
    "    def get_transaction_cost(holding_period, num_of_roundtrip, tic):\n",
    "    \n",
    "        bid_ask_spread = 0.1/100 * num_of_roundtrip\n",
    "        operating_expenses = er_df[tic] * holding_period/252\n",
    "\n",
    "        return bid_ask_spread + operating_expenses\n",
    "\n",
    "    total_transaction_cost = get_transaction_cost(a_holding_period, a_roundtrip, a) \n",
    "    + get_transaction_cost(a_inv_holding_period, a_inv_roundtrip, a_inv)\n",
    "    + get_transaction_cost(b_holding_period, b_roundtrip, b)\n",
    "    + get_transaction_cost(b_inv_holding_period, b_inv_roundtrip, b_inv)\n",
    "\n",
    "    return total_transaction_cost\n",
    "\n",
    "def get_best_threshold(z_score_list, stock_price_list, inverse_price_list, pair, short_list, initial_money=1000000):\n",
    "    stop_loss_candi = [1, 1.5, 2, 3]\n",
    "    buy_z_candi = np.round(np.linspace(0, 2, 21), 1)\n",
    "    sell_z_candi = np.round(np.linspace(0, 2, 21), 1)\n",
    "    grid_search_result = {}\n",
    "    for x in stop_loss_candi:\n",
    "        stop_loss = x\n",
    "\n",
    "        for y in buy_z_candi:\n",
    "            buy_z = y\n",
    "\n",
    "            for z in sell_z_candi:\n",
    "                sell_z = z\n",
    "\n",
    "                BT = Backtesting(z_score_list, total_money=initial_money, stop_loss=stop_loss, buy_z=buy_z, sell_z=sell_z)\n",
    "                asset_per_pair, stock_a_vol_list, inverse_a_vol_list, stock_b_vol_list, inverse_b_vol_list = BT.backtesting(z_score_list, stock_price_list, inverse_price_list)\n",
    "                total_asset = np.sum(asset_per_pair, axis=0)\n",
    "                total_earning_ratio = total_asset[-1] / initial_money\n",
    "                trading_vol = (stock_a_vol_list, inverse_a_vol_list, stock_b_vol_list, inverse_b_vol_list)\n",
    "                total_earning_ratio_tr = total_earning_ratio - get_total_transaction_cost(pair, trading_vol, short_list)\n",
    "                grid_search_result[(x,y,z)] = total_earning_ratio_tr\n",
    "\n",
    "    best_param = max(grid_search_result, key=grid_search_result.get)\n",
    "    best_earning_ratio = grid_search_result[best_param]\n",
    "\n",
    "    print('best_earning_ratio is: ', best_earning_ratio)\n",
    "\n",
    "    return best_param\n",
    "\n",
    "# -----------------------------------------------------------------------------------------------"
   ]
  },
  {
   "cell_type": "code",
   "execution_count": 9,
   "metadata": {},
   "outputs": [],
   "source": [
    "def get_sharpe_ratio(start_date, end_date, test_start_date, test_end_date):\n",
    "    \n",
    "    selected_pair, _, close_df, rtn_df = get_pair(start_date=start_date, end_date=end_date)\n",
    "\n",
    "    selected_pair_final = []\n",
    "    for i in range(len(selected_pair)):\n",
    "        if len(selected_pair[i]) == 0:\n",
    "            continue\n",
    "        for j in range(len(selected_pair[i])):\n",
    "            selected_pair_final.append(selected_pair[i][j])\n",
    "\n",
    "    if len(selected_pair_final) == 0:\n",
    "        \n",
    "        return np.nan, np.nan, np.nan, np.nan\n",
    "\n",
    "    else: \n",
    "        # inverse etf list 뽑기\n",
    "        short_list = {}\n",
    "        for i in range(len(selected_pair_final)):\n",
    "            short_list[selected_pair_final[i][0]] = rtn_df.corr()[selected_pair_final[i][0]].idxmin()\n",
    "            short_list[selected_pair_final[i][1]] = rtn_df.corr()[selected_pair_final[i][1]].idxmin()\n",
    "\n",
    "        # 모델 트레이닝을 위한 포메이션 기간동안의 페어 가격 추출\n",
    "        training_set_price = pd.DataFrame(index=close_df.index)\n",
    "        for i in range(len(selected_pair_final)):\n",
    "            training_set_price = pd.concat([training_set_price, close_df[list(selected_pair_final[i])]], axis=1)\n",
    "\n",
    "        training_set_inverse_price = close_df[[short_list[x] for x in training_set_price.columns]]\n",
    "\n",
    "        # 페어별 z-score 뽑기\n",
    "        for i in range(len(selected_pair_final)):\n",
    "\n",
    "            print(\"pairs = (\" + str(selected_pair_final[i]) + \")\\n\")\n",
    "\n",
    "            a = training_set_price.iloc[:,2*i].to_numpy()\n",
    "            b = training_set_price.iloc[:,2*i+1].to_numpy()\n",
    "\n",
    "            spread_func = create_spread_function(a, b, 0, -1, alg='lr')\n",
    "            x = np.arange(len(a))\n",
    "            z_score_history = np.zeros((len(a)))\n",
    "\n",
    "            for j in range(len(a)):\n",
    "                (spread, z_score_history[j]) = spread_func(a[j], b[j])\n",
    "\n",
    "        # 패어별로 z-score time series 뽑기\n",
    "        z_score_history_list = []\n",
    "\n",
    "        for i in range(len(selected_pair_final)):\n",
    "            \n",
    "            price_history = training_set_price.to_numpy()[:,2*i:2*i+2].T\n",
    "            z_score_history = gen_z_score_history(price_history[0], price_history[1], 20, 20).reshape(1, -1)\n",
    "            z_score_history_list.append(z_score_history)\n",
    "\n",
    "        \n",
    "        z_score_history_list = np.array(z_score_history_list).reshape(len(selected_pair_final), -1)\n",
    "        z_score_list = z_score_history_list[:len(selected_pair_final),:]\n",
    "\n",
    "        stock_price_list = training_set_price.T.to_numpy()[:,20:]\n",
    "        inverse_price_list = training_set_inverse_price.T.to_numpy()[:,20:]\n",
    "\n",
    "        # best threshold 찾기\n",
    "        best_threshold = {}\n",
    "        for i in range(len(selected_pair_final)):\n",
    "            z_score_list_arb = z_score_list[i].reshape(1,-1)\n",
    "            stock_price_list_arb = stock_price_list[2*i:2*(i+1)]\n",
    "            inverse_price_list_arb = inverse_price_list[2*i:2*(i+1)]\n",
    "            best_threshold[selected_pair_final[i]] = get_best_threshold(z_score_list_arb, stock_price_list_arb, inverse_price_list_arb, selected_pair_final[i], short_list)\n",
    "\n",
    "        # 테스트 기간 데이터 로딩\n",
    "        _, close_df_test, rtn_df_test, low_volume_etf_test = myFunc.preprocessing(price_df, etf_info, test_start_date, test_end_date)\n",
    "\n",
    "        test_set_price = pd.DataFrame(index=close_df_test.index)\n",
    "        for i in range(len(selected_pair_final)):\n",
    "            test_set_price = pd.concat([test_set_price, close_df_test[list(selected_pair_final[i])]], axis=1)\n",
    "\n",
    "        test_set_inverse_price = close_df_test[[short_list[x] for x in test_set_price.columns]]\n",
    "\n",
    "        z_score_history_test_list = []\n",
    "        for i in range(len(selected_pair_final)):\n",
    "\n",
    "            print(\"pairs = (\" + str(selected_pair_final[i]) + \")\\n\")\n",
    "\n",
    "            a = test_set_price.iloc[:,2*i].to_numpy()\n",
    "            b = test_set_price.iloc[:,2*i+1].to_numpy()\n",
    "\n",
    "            spread_func = create_spread_function(a, b, 0, -1, alg='lr')\n",
    "            z_score_history_test = np.zeros((a.shape[0]))\n",
    "\n",
    "            for j in range(a.shape[0]):\n",
    "                (spread, z_score_history_test[j]) = spread_func(a[j], b[j])\n",
    "\n",
    "            z_score_history_test_list.append(z_score_history_test)\n",
    "\n",
    "        z_score_list_test = np.array(z_score_history_test_list).reshape(len(selected_pair_final), -1)\n",
    "\n",
    "        stock_price_list_test = test_set_price.T.to_numpy()\n",
    "        inverse_price_list_test = test_set_inverse_price.T.to_numpy()\n",
    "\n",
    "            # 트레이딩 결과 \n",
    "        performance = {}\n",
    "        performance_tr = {}\n",
    "\n",
    "        for i in range(len(selected_pair_final)):\n",
    "\n",
    "            initial_money = 1000000\n",
    "            stop_loss = best_threshold[selected_pair_final[i]][0]\n",
    "            buy_z = best_threshold[selected_pair_final[i]][1]\n",
    "            sell_z = best_threshold[selected_pair_final[i]][2]\n",
    "\n",
    "            z_score_test_arb = z_score_list_test[i].reshape(1,-1)\n",
    "            stock_price_test_arb = stock_price_list_test[2*i:2*(i+1)]\n",
    "            inverse_price_test_arb = inverse_price_list_test[2*i:2*(i+1)]\n",
    "\n",
    "            BT = Backtesting(z_score_test_arb, total_money=initial_money, stop_loss=stop_loss, buy_z=buy_z, sell_z=sell_z)\n",
    "            asset_per_pair_test, stock_a_vol_list_test, inverse_a_vol_list_test, stock_b_vol_list_test, inverse_b_vol_list_test = BT.backtesting(z_score_test_arb, stock_price_test_arb, inverse_price_test_arb)\n",
    "            trading_vol = (stock_a_vol_list_test, inverse_a_vol_list_test, stock_b_vol_list_test, inverse_b_vol_list_test)\n",
    "\n",
    "            if len([x for x in stock_a_vol_list_test if x != 0])==0 and len([x for x in stock_b_vol_list_test if x != 0])==0:\n",
    "                performance[selected_pair_final[i]] = np.nan\n",
    "\n",
    "\n",
    "            else:\n",
    "                total_asset_test = np.sum(asset_per_pair_test, axis=0)\n",
    "                total_earning_ratio_test = total_asset_test[-1] / initial_money\n",
    "                performance[selected_pair_final[i]] = total_earning_ratio_test\n",
    "                performance_tr[selected_pair_final[i]] = total_earning_ratio_test - get_total_transaction_cost(selected_pair_final[i], trading_vol, short_list)\n",
    "\n",
    "\n",
    "\n",
    "        rtn_list = [x - 1 for x in performance.values()]\n",
    "        rtn_tr_list = [x - 1 for x in performance_tr.values()]\n",
    "\n",
    "        sharpe_ratio = np.mean(rtn_list) / np.std(rtn_list)\n",
    "\n",
    "        sharpe_ratio_tr = np.mean(rtn_tr_list) / np.std(rtn_tr_list)\n",
    "\n",
    "        return performance, performance_tr, sharpe_ratio, sharpe_ratio_tr"
   ]
  },
  {
   "cell_type": "code",
   "execution_count": 10,
   "metadata": {},
   "outputs": [],
   "source": [
    "monthly = pd.date_range('2009-12-31', '2022-1-1', freq='MS')"
   ]
  },
  {
   "cell_type": "code",
   "execution_count": 11,
   "metadata": {},
   "outputs": [],
   "source": [
    "period_candi = [(6,1),(12,6),(24,12)]"
   ]
  },
  {
   "cell_type": "code",
   "execution_count": 12,
   "metadata": {},
   "outputs": [],
   "source": [
    "formation_train = {}\n",
    "for cnd in period_candi:\n",
    "\n",
    "    train_window_width = cnd[0]\n",
    "    test_window_width = cnd[1]\n",
    "\n",
    "    train_period = []\n",
    "    test_period = []\n",
    "    for i in range(len(monthly)- train_window_width-test_window_width):\n",
    "        train_start_date = monthly[i]\n",
    "        train_end_date = monthly[i+train_window_width]\n",
    "        test_end_date = monthly[i+train_window_width+test_window_width]\n",
    "\n",
    "        if test_end_date.year < 2017:\n",
    "\n",
    "            train_period.append((train_start_date.strftime(\"%Y-%m-%d\"), train_end_date.strftime(\"%Y-%m-%d\"), test_end_date.strftime(\"%Y-%m-%d\")))\n",
    "        \n",
    "        elif test_end_date.year >=2017:\n",
    "\n",
    "            test_period.append((train_start_date.strftime(\"%Y-%m-%d\"), train_end_date.strftime(\"%Y-%m-%d\"), test_end_date.strftime(\"%Y-%m-%d\")))\n",
    "            \n",
    "    formation_train[cnd] = (train_period, test_period)"
   ]
  },
  {
   "cell_type": "code",
   "execution_count": 13,
   "metadata": {},
   "outputs": [],
   "source": [
    "# trading 기간 2019-01-01 ~ 2021-12-31\n",
    "performance_test = formation_train[(12,6)][1][30:]"
   ]
  },
  {
   "cell_type": "code",
   "execution_count": 14,
   "metadata": {},
   "outputs": [
    {
     "name": "stdout",
     "output_type": "stream",
     "text": [
      "=================== 0 번째 시작 ======================\n"
     ]
    },
    {
     "name": "stderr",
     "output_type": "stream",
     "text": [
      "100%|██████████| 1086/1086 [00:13<00:00, 78.80it/s]\n"
     ]
    },
    {
     "name": "stdout",
     "output_type": "stream",
     "text": [
      "Clusters discovered: 51\n",
      "Clusters formed: 50\n",
      "Pairs to evaluate: 424\n",
      "final_clusters index :  [35, 22, 23, 17, 16, 26, 29, 30, 12, 32, 33, 34, 21, 11, 18, 39, 41, 42, 45, 46, 47, 48, 49, 37, 10, 5, 4, 3, 13, 14, 50, 25, 43, 28, 31, 20, 44, 40, 7, 8, 9, 36, 15, 38, 19, 1, 2, 24, 27, 6]\n"
     ]
    },
    {
     "name": "stderr",
     "output_type": "stream",
     "text": [
      "0it [00:00, ?it/s]/50 [00:00<?, ?it/s]\n",
      "0it [00:00, ?it/s]/50 [00:00<00:46,  1.05it/s]\n",
      "0it [00:00, ?it/s]/50 [00:01<00:46,  1.04it/s]\n",
      "100%|██████████| 1/1 [00:00<00:00, 168.78it/s]\n",
      "0it [00:00, ?it/s]/50 [00:04<01:01,  1.35s/it]\n",
      "100%|██████████| 1/1 [00:00<00:00, 137.50it/s]\n",
      "0it [00:00, ?it/s]/50 [00:07<01:03,  1.45s/it]\n",
      "0it [00:00, ?it/s]/50 [00:08<00:55,  1.30s/it]\n",
      "100%|██████████| 1/1 [00:00<00:00, 165.78it/s]\n",
      "100%|██████████| 1/1 [00:00<00:00, 181.36it/s]\n",
      "0it [00:00, ?it/s]0/50 [00:13<01:03,  1.58s/it]\n",
      "0it [00:00, ?it/s]1/50 [00:14<00:53,  1.38s/it]\n",
      "0it [00:00, ?it/s]2/50 [00:15<00:47,  1.24s/it]\n",
      "0it [00:00, ?it/s]3/50 [00:16<00:42,  1.15s/it]\n",
      "100%|██████████| 1/1 [00:00<00:00, 176.40it/s]]\n",
      "100%|██████████| 1/1 [00:00<00:00, 169.61it/s]]\n",
      "0it [00:00, ?it/s]6/50 [00:20<00:48,  1.42s/it]\n",
      "0it [00:00, ?it/s]7/50 [00:21<00:41,  1.27s/it]\n",
      "0it [00:00, ?it/s]8/50 [00:22<00:37,  1.17s/it]\n",
      "100%|██████████| 1/1 [00:00<00:00, 175.13it/s]]\n",
      "100%|██████████| 1/1 [00:00<00:00, 175.32it/s]]\n",
      "100%|██████████| 1/1 [00:00<00:00, 169.90it/s]]\n",
      "0it [00:00, ?it/s]2/50 [00:28<00:45,  1.61s/it]\n",
      "0it [00:00, ?it/s]3/50 [00:29<00:37,  1.41s/it]\n",
      "100%|██████████| 3/3 [00:00<00:00, 220.57it/s]]\n",
      "100%|██████████| 3/3 [00:00<00:00, 246.06it/s]]\n",
      "100%|██████████| 3/3 [00:00<00:00, 241.83it/s]]\n",
      "100%|██████████| 1/1 [00:00<00:00, 183.59it/s]]\n",
      "0it [00:00, ?it/s]8/50 [00:41<00:50,  2.29s/it]\n",
      "100%|██████████| 1/1 [00:00<00:00, 177.72it/s]]\n",
      "0it [00:00, ?it/s]0/50 [00:44<00:39,  1.98s/it]\n",
      "100%|██████████| 3/3 [00:00<00:00, 247.34it/s]]\n",
      "0it [00:00, ?it/s]2/50 [00:48<00:37,  2.10s/it]\n",
      "100%|██████████| 3/3 [00:00<00:00, 234.01it/s]]\n",
      "0it [00:00, ?it/s]4/50 [00:53<00:34,  2.16s/it]\n",
      "100%|██████████| 6/6 [00:00<00:00, 259.94it/s]]\n",
      "0it [00:00, ?it/s]6/50 [00:58<00:34,  2.47s/it]\n",
      "0it [00:00, ?it/s]7/50 [01:00<00:29,  2.29s/it]\n",
      "0it [00:00, ?it/s]8/50 [01:02<00:25,  2.16s/it]\n",
      "0it [00:00, ?it/s]9/50 [01:03<00:22,  2.07s/it]\n",
      "100%|██████████| 3/3 [00:00<00:00, 236.28it/s]]\n",
      "0it [00:00, ?it/s]1/50 [01:08<00:19,  2.19s/it]\n",
      "0it [00:00, ?it/s]2/50 [01:09<00:16,  2.09s/it]\n",
      "0it [00:00, ?it/s]3/50 [01:11<00:14,  2.02s/it]\n",
      "0it [00:00, ?it/s]4/50 [01:13<00:11,  1.97s/it]\n",
      "100%|██████████| 6/6 [00:00<00:00, 257.95it/s]]\n",
      "0it [00:00, ?it/s]6/50 [01:20<00:10,  2.72s/it]\n",
      "0it [00:00, ?it/s]7/50 [01:22<00:07,  2.60s/it]\n",
      "100%|██████████| 15/15 [00:00<00:00, 270.79it/s]\n",
      "100%|██████████| 3/3 [00:00<00:00, 235.04it/s]]\n",
      "100%|██████████| 50/50 [01:36<00:00,  1.93s/it]\n"
     ]
    },
    {
     "name": "stdout",
     "output_type": "stream",
     "text": [
      "pairs = (('YANG', 'FXP'))\n",
      "\n",
      "best_earning_ratio is:  1.0\n"
     ]
    },
    {
     "name": "stderr",
     "output_type": "stream",
     "text": [
      "100%|██████████| 1202/1202 [00:10<00:00, 119.87it/s]\n"
     ]
    },
    {
     "name": "stdout",
     "output_type": "stream",
     "text": [
      "pairs = (('YANG', 'FXP'))\n",
      "\n",
      "=================== 1 번째 시작 ======================\n"
     ]
    },
    {
     "name": "stderr",
     "output_type": "stream",
     "text": [
      "100%|██████████| 1099/1099 [00:13<00:00, 83.04it/s]\n"
     ]
    },
    {
     "name": "stdout",
     "output_type": "stream",
     "text": [
      "Clusters discovered: 49\n",
      "Clusters formed: 49\n",
      "Pairs to evaluate: 8690\n",
      "final_clusters index :  [12, 22, 17, 16, 25, 27, 28, 30, 31, 32, 33, 21, 35, 20, 37, 39, 40, 43, 44, 45, 46, 47, 11, 10, 5, 13, 4, 14, 48, 24, 26, 29, 41, 42, 15, 34, 36, 38, 19, 8, 18, 2, 9, 1, 23, 6, 3, 7, 0]\n"
     ]
    },
    {
     "name": "stderr",
     "output_type": "stream",
     "text": [
      "100%|██████████| 1/1 [00:00<00:00, 174.61it/s]\n",
      "0it [00:00, ?it/s]/49 [00:01<01:32,  1.92s/it]\n",
      "100%|██████████| 1/1 [00:00<00:00, 181.29it/s]\n",
      "100%|██████████| 1/1 [00:00<00:00, 166.53it/s]\n",
      "0it [00:00, ?it/s]/49 [00:06<01:17,  1.73s/it]\n",
      "0it [00:00, ?it/s]/49 [00:07<00:56,  1.28s/it]\n",
      "0it [00:00, ?it/s]/49 [00:08<00:50,  1.17s/it]\n",
      "100%|██████████| 1/1 [00:00<00:00, 173.81it/s]\n",
      "0it [00:00, ?it/s]/49 [00:11<00:55,  1.36s/it]\n",
      "0it [00:00, ?it/s]/49 [00:11<00:49,  1.23s/it]\n",
      "0it [00:00, ?it/s]0/49 [00:12<00:44,  1.15s/it]\n",
      "0it [00:00, ?it/s]1/49 [00:13<00:41,  1.09s/it]\n",
      "0it [00:00, ?it/s]2/49 [00:14<00:38,  1.05s/it]\n",
      "0it [00:00, ?it/s]3/49 [00:15<00:36,  1.02s/it]\n",
      "100%|██████████| 1/1 [00:00<00:00, 165.26it/s]]\n",
      "0it [00:00, ?it/s]5/49 [00:18<00:43,  1.28s/it]\n",
      "0it [00:00, ?it/s]6/49 [00:19<00:38,  1.18s/it]\n",
      "0it [00:00, ?it/s]7/49 [00:20<00:35,  1.11s/it]\n",
      "100%|██████████| 1/1 [00:00<00:00, 173.01it/s]]\n",
      "100%|██████████| 1/1 [00:00<00:00, 181.27it/s]]\n",
      "100%|██████████| 1/1 [00:00<00:00, 162.97it/s]]\n",
      "0it [00:00, ?it/s]1/49 [00:27<00:45,  1.62s/it]\n",
      "0it [00:00, ?it/s]2/49 [00:28<00:38,  1.42s/it]\n",
      "100%|██████████| 3/3 [00:00<00:00, 240.54it/s]]\n",
      "100%|██████████| 3/3 [00:00<00:00, 232.30it/s]]\n",
      "0it [00:00, ?it/s]5/49 [00:34<00:48,  2.02s/it]\n",
      "100%|██████████| 3/3 [00:00<00:00, 232.47it/s]]\n",
      "100%|██████████| 1/1 [00:00<00:00, 179.18it/s]]\n",
      "0it [00:00, ?it/s]8/49 [00:40<00:43,  2.08s/it]\n",
      "100%|██████████| 3/3 [00:00<00:00, 237.17it/s]]\n",
      "100%|██████████| 3/3 [00:00<00:00, 238.67it/s]]\n",
      "0it [00:00, ?it/s]1/49 [00:47<00:42,  2.39s/it]\n",
      "0it [00:00, ?it/s]2/49 [00:49<00:35,  2.10s/it]\n",
      "0it [00:00, ?it/s]3/49 [00:50<00:30,  1.90s/it]\n",
      "0it [00:00, ?it/s]4/49 [00:52<00:28,  1.90s/it]\n",
      "0it [00:00, ?it/s]5/49 [00:54<00:26,  1.90s/it]\n",
      "0it [00:00, ?it/s]6/49 [00:56<00:24,  1.91s/it]\n",
      "0it [00:00, ?it/s]7/49 [00:58<00:22,  1.91s/it]\n",
      "100%|██████████| 6/6 [00:00<00:00, 258.63it/s]]\n",
      "0it [00:00, ?it/s]9/49 [01:04<00:24,  2.48s/it]\n",
      "0it [00:00, ?it/s]0/49 [01:05<00:18,  2.03s/it]\n",
      "0it [00:00, ?it/s]1/49 [01:07<00:17,  2.13s/it]\n",
      "100%|██████████| 3/3 [00:00<00:00, 235.59it/s]]\n",
      "100%|██████████| 10/10 [00:00<00:00, 266.56it/s]\n",
      "0it [00:00, ?it/s]4/49 [01:18<00:16,  3.32s/it]\n",
      "100%|██████████| 3/3 [00:00<00:00, 242.13it/s]]\n",
      "100%|██████████| 28/28 [00:00<00:00, 281.19it/s]\n",
      "100%|██████████| 36/36 [00:00<00:00, 276.01it/s]\n",
      "100%|██████████| 528/528 [00:01<00:00, 291.47it/s]\n",
      "100%|██████████| 49/49 [02:55<00:00,  3.59s/it]\n"
     ]
    },
    {
     "name": "stdout",
     "output_type": "stream",
     "text": [
      "pairs = (('SPTM', 'SCHB'))\n",
      "\n",
      "pairs = (('SPY', 'VOO'))\n",
      "\n",
      "pairs = (('SPLG', 'SCHX'))\n",
      "\n",
      "pairs = (('SPY', 'IVV'))\n",
      "\n",
      "pairs = (('ONEQ', 'DSI'))\n",
      "\n",
      "pairs = (('ITOT', 'FTEC'))\n",
      "\n",
      "pairs = (('IYY', 'FTEC'))\n",
      "\n",
      "pairs = (('VTI', 'IWB'))\n",
      "\n",
      "pairs = (('ITOT', 'IYW'))\n",
      "\n",
      "pairs = (('IYY', 'IYW'))\n",
      "\n",
      "pairs = (('MGC', 'FTEC'))\n",
      "\n",
      "best_earning_ratio is:  1.0077199090987614\n",
      "best_earning_ratio is:  1.094063225433349\n",
      "best_earning_ratio is:  1.0242206111878\n",
      "best_earning_ratio is:  1.0217398228476386\n",
      "best_earning_ratio is:  1.1358482332324982\n",
      "best_earning_ratio is:  1.2251936305947086\n",
      "best_earning_ratio is:  1.0195717590764968\n",
      "best_earning_ratio is:  1.1680279559151785\n",
      "best_earning_ratio is:  1.2788910124270125\n",
      "best_earning_ratio is:  1.1415455996644162\n",
      "best_earning_ratio is:  1.0366085832426273\n"
     ]
    },
    {
     "name": "stderr",
     "output_type": "stream",
     "text": [
      "100%|██████████| 1206/1206 [00:10<00:00, 118.39it/s]\n"
     ]
    },
    {
     "name": "stdout",
     "output_type": "stream",
     "text": [
      "pairs = (('SPTM', 'SCHB'))\n",
      "\n",
      "pairs = (('SPY', 'VOO'))\n",
      "\n",
      "pairs = (('SPLG', 'SCHX'))\n",
      "\n",
      "pairs = (('SPY', 'IVV'))\n",
      "\n",
      "pairs = (('ONEQ', 'DSI'))\n",
      "\n",
      "pairs = (('ITOT', 'FTEC'))\n",
      "\n",
      "pairs = (('IYY', 'FTEC'))\n",
      "\n",
      "pairs = (('VTI', 'IWB'))\n",
      "\n",
      "pairs = (('ITOT', 'IYW'))\n",
      "\n",
      "pairs = (('IYY', 'IYW'))\n",
      "\n",
      "pairs = (('MGC', 'FTEC'))\n",
      "\n",
      "=================== 2 번째 시작 ======================\n"
     ]
    },
    {
     "name": "stderr",
     "output_type": "stream",
     "text": [
      "100%|██████████| 1110/1110 [00:13<00:00, 80.77it/s]\n"
     ]
    },
    {
     "name": "stdout",
     "output_type": "stream",
     "text": [
      "Clusters discovered: 47\n",
      "Clusters formed: 46\n",
      "Pairs to evaluate: 450\n",
      "final_clusters index :  [46, 11, 12, 16, 17, 19, 20, 22, 27, 29, 30, 31, 32, 25, 34, 36, 45, 44, 38, 43, 42, 39, 10, 14, 15, 41, 4, 24, 5, 26, 28, 37, 40, 21, 33, 13, 35, 8, 7, 18, 1, 9, 2, 23, 6, 3]\n"
     ]
    },
    {
     "name": "stderr",
     "output_type": "stream",
     "text": [
      "0it [00:00, ?it/s]/46 [00:00<?, ?it/s]\n",
      "0it [00:00, ?it/s]/46 [00:01<00:54,  1.21s/it]\n",
      "100%|██████████| 1/1 [00:00<00:00, 181.32it/s]\n",
      "100%|██████████| 1/1 [00:00<00:00, 182.99it/s]\n",
      "100%|██████████| 1/1 [00:00<00:00, 175.47it/s]\n",
      "0it [00:00, ?it/s]/46 [00:07<01:10,  1.71s/it]\n",
      "0it [00:00, ?it/s]/46 [00:08<00:58,  1.46s/it]\n",
      "0it [00:00, ?it/s]/46 [00:09<00:50,  1.30s/it]\n",
      "0it [00:00, ?it/s]/46 [00:10<00:45,  1.20s/it]\n",
      "100%|██████████| 1/1 [00:00<00:00, 189.49it/s]\n",
      "0it [00:00, ?it/s]0/46 [00:13<00:49,  1.38s/it]\n",
      "0it [00:00, ?it/s]1/46 [00:14<00:43,  1.26s/it]\n",
      "0it [00:00, ?it/s]2/46 [00:15<00:39,  1.17s/it]\n",
      "100%|██████████| 1/1 [00:00<00:00, 180.08it/s]]\n",
      "0it [00:00, ?it/s]4/46 [00:18<00:43,  1.36s/it]\n",
      "100%|██████████| 1/1 [00:00<00:00, 182.08it/s]]\n",
      "0it [00:00, ?it/s]6/46 [00:21<00:43,  1.46s/it]\n",
      "100%|██████████| 1/1 [00:00<00:00, 177.78it/s]]\n",
      "0it [00:00, ?it/s]8/46 [00:24<00:42,  1.50s/it]\n",
      "100%|██████████| 1/1 [00:00<00:00, 175.75it/s]]\n",
      "100%|██████████| 1/1 [00:00<00:00, 180.12it/s]]\n",
      "0it [00:00, ?it/s]1/46 [00:29<00:41,  1.65s/it]\n",
      "100%|██████████| 3/3 [00:00<00:00, 244.50it/s]]\n",
      "100%|██████████| 1/1 [00:00<00:00, 181.13it/s]]\n",
      "0it [00:00, ?it/s]4/46 [00:34<00:42,  1.91s/it]\n",
      "0it [00:00, ?it/s]5/46 [00:36<00:37,  1.78s/it]\n",
      "100%|██████████| 3/3 [00:00<00:00, 243.77it/s]]\n",
      "100%|██████████| 3/3 [00:00<00:00, 240.98it/s]]\n",
      "100%|██████████| 3/3 [00:00<00:00, 240.14it/s]]\n",
      "100%|██████████| 3/3 [00:00<00:00, 245.58it/s]]\n",
      "0it [00:00, ?it/s]0/46 [00:49<00:42,  2.63s/it]\n",
      "0it [00:00, ?it/s]1/46 [00:50<00:34,  2.28s/it]\n",
      "0it [00:00, ?it/s]2/46 [00:52<00:28,  2.03s/it]\n",
      "0it [00:00, ?it/s]3/46 [00:53<00:24,  1.86s/it]\n",
      "0it [00:00, ?it/s]4/46 [00:55<00:22,  1.89s/it]\n",
      "0it [00:00, ?it/s]5/46 [00:57<00:21,  1.91s/it]\n",
      "0it [00:00, ?it/s]6/46 [00:59<00:19,  1.92s/it]\n",
      "0it [00:00, ?it/s]7/46 [01:01<00:17,  1.93s/it]\n",
      "0it [00:00, ?it/s]8/46 [01:02<00:13,  1.64s/it]\n",
      "100%|██████████| 6/6 [00:00<00:00, 256.41it/s]]\n",
      "100%|██████████| 6/6 [00:00<00:00, 259.51it/s]]\n",
      "100%|██████████| 3/3 [00:00<00:00, 240.17it/s]]\n",
      "0it [00:00, ?it/s]2/46 [01:16<00:13,  3.26s/it]\n",
      "0it [00:00, ?it/s]3/46 [01:19<00:09,  3.01s/it]\n",
      "100%|██████████| 3/3 [00:00<00:00, 237.91it/s]]\n",
      "100%|██████████| 28/28 [00:00<00:00, 287.13it/s]\n",
      "100%|██████████| 46/46 [01:36<00:00,  2.09s/it]\n"
     ]
    },
    {
     "name": "stdout",
     "output_type": "stream",
     "text": [
      "=================== 3 번째 시작 ======================\n"
     ]
    },
    {
     "name": "stderr",
     "output_type": "stream",
     "text": [
      "100%|██████████| 1115/1115 [00:13<00:00, 81.73it/s]\n"
     ]
    },
    {
     "name": "stdout",
     "output_type": "stream",
     "text": [
      "Clusters discovered: 51\n",
      "Clusters formed: 51\n",
      "Pairs to evaluate: 7048\n",
      "final_clusters index :  [50, 12, 13, 15, 18, 19, 21, 22, 24, 27, 30, 31, 32, 33, 34, 28, 42, 47, 46, 35, 43, 49, 41, 48, 39, 37, 26, 3, 29, 40, 44, 45, 11, 16, 4, 5, 9, 7, 36, 17, 23, 38, 14, 20, 10, 1, 25, 6, 2, 8, 0]\n"
     ]
    },
    {
     "name": "stderr",
     "output_type": "stream",
     "text": [
      "0it [00:00, ?it/s]/51 [00:00<?, ?it/s]\n",
      "0it [00:00, ?it/s]/51 [00:00<00:49,  1.01it/s]\n",
      "0it [00:00, ?it/s]/51 [00:01<00:34,  1.43it/s]\n",
      "0it [00:00, ?it/s]/51 [00:02<00:39,  1.21it/s]\n",
      "100%|██████████| 1/1 [00:00<00:00, 175.81it/s]\n",
      "100%|██████████| 1/1 [00:00<00:00, 175.91it/s]\n",
      "0it [00:00, ?it/s]/51 [00:07<01:08,  1.51s/it]\n",
      "0it [00:00, ?it/s]/51 [00:08<00:58,  1.34s/it]\n",
      "0it [00:00, ?it/s]/51 [00:09<00:52,  1.23s/it]\n",
      "100%|██████████| 1/1 [00:00<00:00, 178.25it/s]\n",
      "0it [00:00, ?it/s]0/51 [00:12<00:57,  1.40s/it]\n",
      "0it [00:00, ?it/s]1/51 [00:13<00:50,  1.27s/it]\n",
      "100%|██████████| 1/1 [00:00<00:00, 178.23it/s]]\n",
      "0it [00:00, ?it/s]3/51 [00:16<00:54,  1.42s/it]\n",
      "0it [00:00, ?it/s]4/51 [00:17<00:47,  1.29s/it]\n",
      "0it [00:00, ?it/s]5/51 [00:18<00:43,  1.20s/it]\n",
      "0it [00:00, ?it/s]6/51 [00:18<00:34,  1.02it/s]\n",
      "100%|██████████| 1/1 [00:00<00:00, 182.08it/s]]\n",
      "100%|██████████| 1/1 [00:00<00:00, 177.91it/s]]\n",
      "0it [00:00, ?it/s]9/51 [00:23<00:47,  1.49s/it]\n",
      "0it [00:00, ?it/s]0/51 [00:24<00:41,  1.34s/it]\n",
      "0it [00:00, ?it/s]1/51 [00:25<00:36,  1.23s/it]\n",
      "0it [00:00, ?it/s]2/51 [00:26<00:33,  1.16s/it]\n",
      "100%|██████████| 1/1 [00:00<00:00, 174.30it/s]]\n",
      "100%|██████████| 1/1 [00:00<00:00, 178.52it/s]]\n",
      "0it [00:00, ?it/s]5/51 [00:31<00:40,  1.54s/it]\n",
      "100%|██████████| 3/3 [00:00<00:00, 240.08it/s]]\n",
      "100%|██████████| 3/3 [00:00<00:00, 243.35it/s]]\n",
      "100%|██████████| 3/3 [00:00<00:00, 244.94it/s]]\n",
      "0it [00:00, ?it/s]9/51 [00:41<00:53,  2.41s/it]\n",
      "0it [00:00, ?it/s]0/51 [00:42<00:44,  2.13s/it]\n",
      "0it [00:00, ?it/s]1/51 [00:44<00:38,  1.93s/it]\n",
      "100%|██████████| 3/3 [00:00<00:00, 237.15it/s]]\n",
      "100%|██████████| 1/1 [00:00<00:00, 173.22it/s]]\n",
      "100%|██████████| 3/3 [00:00<00:00, 241.00it/s]]\n",
      "0it [00:00, ?it/s]5/51 [00:53<00:37,  2.35s/it]\n",
      "0it [00:00, ?it/s]6/51 [00:55<00:31,  2.09s/it]\n",
      "0it [00:00, ?it/s]7/51 [00:56<00:24,  1.76s/it]\n",
      "0it [00:00, ?it/s]8/51 [00:58<00:23,  1.82s/it]\n",
      "0it [00:00, ?it/s]9/51 [00:59<00:22,  1.86s/it]\n",
      "0it [00:00, ?it/s]0/51 [01:01<00:20,  1.89s/it]\n",
      "0it [00:00, ?it/s]1/51 [01:03<00:19,  1.91s/it]\n",
      "0it [00:00, ?it/s]2/51 [01:05<00:17,  1.93s/it]\n",
      "100%|██████████| 6/6 [00:00<00:00, 262.27it/s]]\n",
      "100%|██████████| 3/3 [00:00<00:00, 238.19it/s]]\n",
      "100%|██████████| 6/6 [00:00<00:00, 261.24it/s]]\n",
      "0it [00:00, ?it/s]6/51 [01:20<00:17,  3.41s/it]\n",
      "100%|██████████| 3/3 [00:00<00:00, 240.04it/s]]\n",
      "100%|██████████| 28/28 [00:00<00:00, 279.87it/s]\n",
      "100%|██████████| 28/28 [00:00<00:00, 288.15it/s]\n",
      "100%|██████████| 378/378 [00:01<00:00, 291.32it/s]\n",
      "100%|██████████| 51/51 [02:51<00:00,  3.36s/it]\n"
     ]
    },
    {
     "name": "stdout",
     "output_type": "stream",
     "text": [
      "pairs = (('SPY', 'IVV'))\n",
      "\n",
      "pairs = (('SPLG', 'SCHX'))\n",
      "\n",
      "pairs = (('SPY', 'VOO'))\n",
      "\n",
      "pairs = (('VONE', 'VV'))\n",
      "\n",
      "best_earning_ratio is:  1.002943956817627\n",
      "best_earning_ratio is:  1.052896922484534\n",
      "best_earning_ratio is:  1.07615737840053\n",
      "best_earning_ratio is:  1.016811765380375\n"
     ]
    },
    {
     "name": "stderr",
     "output_type": "stream",
     "text": [
      "100%|██████████| 1222/1222 [00:10<00:00, 115.62it/s]\n"
     ]
    },
    {
     "name": "stdout",
     "output_type": "stream",
     "text": [
      "pairs = (('SPY', 'IVV'))\n",
      "\n",
      "pairs = (('SPLG', 'SCHX'))\n",
      "\n",
      "pairs = (('SPY', 'VOO'))\n",
      "\n",
      "pairs = (('VONE', 'VV'))\n",
      "\n",
      "=================== 4 번째 시작 ======================\n"
     ]
    },
    {
     "name": "stderr",
     "output_type": "stream",
     "text": [
      "100%|██████████| 1119/1119 [00:13<00:00, 80.90it/s]\n"
     ]
    },
    {
     "name": "stdout",
     "output_type": "stream",
     "text": [
      "Clusters discovered: 52\n",
      "Clusters formed: 52\n",
      "Pairs to evaluate: 6804\n",
      "final_clusters index :  [51, 19, 24, 27, 16, 29, 14, 31, 32, 33, 34, 35, 22, 13, 36, 40, 42, 43, 44, 47, 48, 49, 50, 38, 21, 12, 6, 5, 4, 17, 18, 26, 46, 1, 45, 41, 30, 23, 8, 20, 10, 39, 37, 15, 3, 2, 25, 11, 28, 7, 9, 0]\n"
     ]
    },
    {
     "name": "stderr",
     "output_type": "stream",
     "text": [
      "0it [00:00, ?it/s]/52 [00:00<?, ?it/s]\n",
      "100%|██████████| 1/1 [00:00<00:00, 169.55it/s]\n",
      "0it [00:00, ?it/s]/52 [00:02<01:18,  1.58s/it]\n",
      "100%|██████████| 1/1 [00:00<00:00, 178.16it/s]\n",
      "0it [00:00, ?it/s]/52 [00:05<01:15,  1.57s/it]\n",
      "0it [00:00, ?it/s]/52 [00:06<01:03,  1.36s/it]\n",
      "100%|██████████| 1/1 [00:00<00:00, 181.26it/s]\n",
      "0it [00:00, ?it/s]/52 [00:09<01:01,  1.37s/it]\n",
      "0it [00:00, ?it/s]/52 [00:10<00:54,  1.24s/it]\n",
      "100%|██████████| 1/1 [00:00<00:00, 180.80it/s]\n",
      "0it [00:00, ?it/s]0/52 [00:13<00:59,  1.42s/it]\n",
      "0it [00:00, ?it/s]1/52 [00:14<00:52,  1.28s/it]\n",
      "0it [00:00, ?it/s]2/52 [00:15<00:47,  1.19s/it]\n",
      "0it [00:00, ?it/s]3/52 [00:16<00:44,  1.13s/it]\n",
      "0it [00:00, ?it/s]4/52 [00:16<00:35,  1.07it/s]\n",
      "100%|██████████| 1/1 [00:00<00:00, 177.55it/s]]\n",
      "0it [00:00, ?it/s]6/52 [00:19<00:45,  1.26s/it]\n",
      "0it [00:00, ?it/s]7/52 [00:20<00:41,  1.18s/it]\n",
      "0it [00:00, ?it/s]8/52 [00:21<00:38,  1.12s/it]\n",
      "100%|██████████| 1/1 [00:00<00:00, 174.82it/s]]\n",
      "100%|██████████| 1/1 [00:00<00:00, 183.28it/s]]\n",
      "100%|██████████| 1/1 [00:00<00:00, 184.54it/s]]\n",
      "0it [00:00, ?it/s]2/52 [00:28<00:50,  1.67s/it]\n",
      "0it [00:00, ?it/s]3/52 [00:29<00:42,  1.47s/it]\n",
      "0it [00:00, ?it/s]4/52 [00:30<00:37,  1.32s/it]\n",
      "100%|██████████| 3/3 [00:00<00:00, 245.47it/s]]\n",
      "0it [00:00, ?it/s]6/52 [00:34<00:45,  1.75s/it]\n",
      "100%|██████████| 3/3 [00:00<00:00, 243.53it/s]]\n",
      "100%|██████████| 3/3 [00:00<00:00, 235.86it/s]]\n",
      "100%|██████████| 1/1 [00:00<00:00, 175.32it/s]]\n",
      "0it [00:00, ?it/s]0/52 [00:44<00:48,  2.23s/it]\n",
      "100%|██████████| 3/3 [00:00<00:00, 243.53it/s]]\n",
      "0it [00:00, ?it/s]2/52 [00:48<00:45,  2.29s/it]\n",
      "100%|██████████| 1/1 [00:00<00:00, 178.47it/s]]\n",
      "0it [00:00, ?it/s]4/52 [00:51<00:36,  2.03s/it]\n",
      "0it [00:00, ?it/s]5/52 [00:53<00:31,  1.86s/it]\n",
      "100%|██████████| 3/3 [00:00<00:00, 246.56it/s]]\n",
      "0it [00:00, ?it/s]7/52 [00:57<00:31,  2.12s/it]\n",
      "0it [00:00, ?it/s]8/52 [00:59<00:29,  2.07s/it]\n",
      "100%|██████████| 6/6 [00:00<00:00, 258.30it/s]]\n",
      "0it [00:00, ?it/s]0/52 [01:05<00:31,  2.62s/it]\n",
      "0it [00:00, ?it/s]1/52 [01:06<00:23,  2.13s/it]\n",
      "0it [00:00, ?it/s]2/52 [01:08<00:20,  2.08s/it]\n",
      "0it [00:00, ?it/s]3/52 [01:10<00:18,  2.05s/it]\n",
      "100%|██████████| 1/1 [00:00<00:00, 170.85it/s]]\n",
      "100%|██████████| 6/6 [00:00<00:00, 261.82it/s]]\n",
      "0it [00:00, ?it/s]6/52 [01:20<00:18,  3.06s/it]\n",
      "100%|██████████| 1/1 [00:00<00:00, 170.65it/s]]\n",
      "100%|██████████| 15/15 [00:00<00:00, 265.03it/s]\n",
      "100%|██████████| 3/3 [00:00<00:00, 244.70it/s]]\n",
      "100%|██████████| 21/21 [00:00<00:00, 277.59it/s]\n",
      "100%|██████████| 378/378 [00:01<00:00, 291.72it/s]\n",
      "100%|██████████| 52/52 [02:51<00:00,  3.30s/it]\n"
     ]
    },
    {
     "name": "stdout",
     "output_type": "stream",
     "text": [
      "pairs = (('VONE', 'VV'))\n",
      "\n",
      "best_earning_ratio is:  1.0169398894125319\n"
     ]
    },
    {
     "name": "stderr",
     "output_type": "stream",
     "text": [
      "100%|██████████| 1238/1238 [00:11<00:00, 112.02it/s]\n"
     ]
    },
    {
     "name": "stdout",
     "output_type": "stream",
     "text": [
      "pairs = (('VONE', 'VV'))\n",
      "\n",
      "=================== 5 번째 시작 ======================\n"
     ]
    },
    {
     "name": "stderr",
     "output_type": "stream",
     "text": [
      "100%|██████████| 1122/1122 [00:14<00:00, 79.83it/s]\n"
     ]
    },
    {
     "name": "stdout",
     "output_type": "stream",
     "text": [
      "Clusters discovered: 54\n",
      "Clusters formed: 54\n",
      "Pairs to evaluate: 7704\n",
      "final_clusters index :  [53, 2, 14, 15, 17, 20, 21, 24, 25, 30, 31, 33, 35, 36, 37, 27, 50, 40, 38, 42, 48, 52, 49, 51, 45, 46, 18, 47, 22, 7, 1, 29, 32, 34, 6, 13, 4, 19, 23, 26, 43, 41, 16, 9, 3, 39, 11, 44, 12, 28, 8, 5, 10, 0]\n"
     ]
    },
    {
     "name": "stderr",
     "output_type": "stream",
     "text": [
      "0it [00:00, ?it/s]/54 [00:00<?, ?it/s]\n",
      "0it [00:00, ?it/s]/54 [00:01<00:53,  1.01s/it]\n",
      "0it [00:00, ?it/s]/54 [00:01<00:51,  1.00it/s]\n",
      "100%|██████████| 1/1 [00:00<00:00, 180.11it/s]\n",
      "0it [00:00, ?it/s]/54 [00:04<01:02,  1.25s/it]\n",
      "0it [00:00, ?it/s]/54 [00:05<00:56,  1.16s/it]\n",
      "100%|██████████| 1/1 [00:00<00:00, 177.91it/s]\n",
      "0it [00:00, ?it/s]/54 [00:08<01:05,  1.39s/it]\n",
      "0it [00:00, ?it/s]/54 [00:09<00:58,  1.26s/it]\n",
      "0it [00:00, ?it/s]/54 [00:10<00:53,  1.18s/it]\n",
      "0it [00:00, ?it/s]0/54 [00:10<00:42,  1.03it/s]\n",
      "0it [00:00, ?it/s]1/54 [00:11<00:41,  1.02it/s]\n",
      "100%|██████████| 1/1 [00:00<00:00, 181.92it/s]]\n",
      "0it [00:00, ?it/s]3/54 [00:14<00:52,  1.29s/it]\n",
      "0it [00:00, ?it/s]4/54 [00:15<00:47,  1.20s/it]\n",
      "0it [00:00, ?it/s]5/54 [00:16<00:44,  1.14s/it]\n",
      "100%|██████████| 1/1 [00:00<00:00, 186.43it/s]]\n",
      "0it [00:00, ?it/s]7/54 [00:19<00:50,  1.36s/it]\n",
      "0it [00:00, ?it/s]8/54 [00:20<00:45,  1.25s/it]\n",
      "100%|██████████| 1/1 [00:00<00:00, 186.74it/s]]\n",
      "0it [00:00, ?it/s]0/54 [00:23<00:48,  1.42s/it]\n",
      "0it [00:00, ?it/s]1/54 [00:24<00:42,  1.29s/it]\n",
      "100%|██████████| 1/1 [00:00<00:00, 179.99it/s]]\n",
      "100%|██████████| 1/1 [00:00<00:00, 187.10it/s]]\n",
      "0it [00:00, ?it/s]4/54 [00:29<00:48,  1.60s/it]\n",
      "0it [00:00, ?it/s]5/54 [00:30<00:41,  1.42s/it]\n",
      "100%|██████████| 1/1 [00:00<00:00, 183.76it/s]]\n",
      "0it [00:00, ?it/s]7/54 [00:33<00:40,  1.50s/it]\n",
      "100%|██████████| 1/1 [00:00<00:00, 182.24it/s]]\n",
      "100%|██████████| 3/3 [00:00<00:00, 231.50it/s]]\n",
      "100%|██████████| 1/1 [00:00<00:00, 183.89it/s]]\n",
      "100%|██████████| 3/3 [00:00<00:00, 124.17it/s]]\n",
      "100%|██████████| 3/3 [00:00<00:00, 246.08it/s]]\n",
      "0it [00:00, ?it/s]3/54 [00:48<00:53,  2.56s/it]\n",
      "100%|██████████| 3/3 [00:00<00:00, 240.48it/s]]\n",
      "100%|██████████| 3/3 [00:00<00:00, 239.16it/s]]\n",
      "0it [00:00, ?it/s]6/54 [00:56<00:47,  2.62s/it]\n",
      "0it [00:00, ?it/s]7/54 [00:58<00:41,  2.43s/it]\n",
      "100%|██████████| 6/6 [00:00<00:00, 262.73it/s]]\n",
      "0it [00:00, ?it/s]9/54 [01:04<00:42,  2.80s/it]\n",
      "0it [00:00, ?it/s]0/54 [01:06<00:35,  2.56s/it]\n",
      "0it [00:00, ?it/s]1/54 [01:08<00:31,  2.39s/it]\n",
      "0it [00:00, ?it/s]2/54 [01:10<00:27,  2.27s/it]\n",
      "0it [00:00, ?it/s]3/54 [01:12<00:23,  2.18s/it]\n",
      "100%|██████████| 6/6 [00:00<00:00, 258.64it/s]]\n",
      "0it [00:00, ?it/s]5/54 [01:18<00:25,  2.83s/it]\n",
      "0it [00:00, ?it/s]6/54 [01:20<00:20,  2.58s/it]\n",
      "0it [00:00, ?it/s]7/54 [01:22<00:15,  2.25s/it]\n",
      "100%|██████████| 3/3 [00:00<00:00, 240.50it/s]]\n",
      "0it [00:00, ?it/s]9/54 [01:29<00:14,  2.98s/it]\n",
      "100%|██████████| 3/3 [00:00<00:00, 241.35it/s]]\n",
      "100%|██████████| 28/28 [00:00<00:00, 283.97it/s]\n",
      "100%|██████████| 28/28 [00:00<00:00, 280.31it/s]\n",
      "100%|██████████| 378/378 [00:01<00:00, 290.29it/s]\n",
      "100%|██████████| 54/54 [03:02<00:00,  3.38s/it]\n"
     ]
    },
    {
     "name": "stdout",
     "output_type": "stream",
     "text": [
      "pairs = (('VONE', 'VV'))\n",
      "\n",
      "best_earning_ratio is:  1.0722984682677743\n"
     ]
    },
    {
     "name": "stderr",
     "output_type": "stream",
     "text": [
      "100%|██████████| 1252/1252 [00:11<00:00, 113.48it/s]\n"
     ]
    },
    {
     "name": "stdout",
     "output_type": "stream",
     "text": [
      "pairs = (('VONE', 'VV'))\n",
      "\n",
      "=================== 6 번째 시작 ======================\n"
     ]
    },
    {
     "name": "stderr",
     "output_type": "stream",
     "text": [
      "100%|██████████| 1130/1130 [00:14<00:00, 79.75it/s]\n"
     ]
    },
    {
     "name": "stdout",
     "output_type": "stream",
     "text": [
      "Clusters discovered: 55\n",
      "Clusters formed: 55\n",
      "Pairs to evaluate: 8636\n",
      "final_clusters index :  [14, 20, 28, 29, 30, 17, 32, 15, 34, 35, 36, 37, 38, 24, 21, 49, 42, 53, 44, 45, 2, 48, 40, 50, 51, 52, 19, 13, 6, 7, 18, 54, 27, 25, 1, 31, 33, 46, 23, 47, 16, 41, 4, 43, 3, 11, 22, 39, 12, 26, 9, 8, 5, 10, 0]\n"
     ]
    },
    {
     "name": "stderr",
     "output_type": "stream",
     "text": [
      "0it [00:00, ?it/s]/55 [00:00<?, ?it/s]\n",
      "0it [00:00, ?it/s]/55 [00:00<00:27,  1.95it/s]\n",
      "100%|██████████| 1/1 [00:00<00:00, 178.79it/s]\n",
      "0it [00:00, ?it/s]/55 [00:03<01:10,  1.35s/it]\n",
      "0it [00:00, ?it/s]/55 [00:04<00:51,  1.02s/it]\n",
      "0it [00:00, ?it/s]/55 [00:05<00:50,  1.01s/it]\n",
      "0it [00:00, ?it/s]/55 [00:06<00:49,  1.01s/it]\n",
      "100%|██████████| 1/1 [00:00<00:00, 179.21it/s]\n",
      "100%|██████████| 1/1 [00:00<00:00, 176.65it/s]\n",
      "0it [00:00, ?it/s]/55 [00:11<01:10,  1.54s/it]\n",
      "0it [00:00, ?it/s]0/55 [00:12<01:01,  1.37s/it]\n",
      "0it [00:00, ?it/s]1/55 [00:13<00:55,  1.26s/it]\n",
      "0it [00:00, ?it/s]2/55 [00:14<00:50,  1.18s/it]\n",
      "0it [00:00, ?it/s]3/55 [00:15<00:47,  1.13s/it]\n",
      "100%|██████████| 1/1 [00:00<00:00, 184.10it/s]]\n",
      "0it [00:00, ?it/s]5/55 [00:18<00:54,  1.37s/it]\n",
      "100%|██████████| 1/1 [00:00<00:00, 182.55it/s]]\n",
      "0it [00:00, ?it/s]7/55 [00:21<00:56,  1.48s/it]\n",
      "0it [00:00, ?it/s]8/55 [00:22<00:49,  1.34s/it]\n",
      "0it [00:00, ?it/s]9/55 [00:23<00:44,  1.24s/it]\n",
      "0it [00:00, ?it/s]0/55 [00:24<00:40,  1.17s/it]\n",
      "0it [00:00, ?it/s]1/55 [00:25<00:38,  1.12s/it]\n",
      "0it [00:00, ?it/s]2/55 [00:25<00:30,  1.07it/s]\n",
      "100%|██████████| 1/1 [00:00<00:00, 182.01it/s]]\n",
      "100%|██████████| 1/1 [00:00<00:00, 180.61it/s]]\n",
      "100%|██████████| 1/1 [00:00<00:00, 184.43it/s]]\n",
      "0it [00:00, ?it/s]6/55 [00:32<00:47,  1.65s/it]\n",
      "100%|██████████| 3/3 [00:00<00:00, 242.96it/s]]\n",
      "100%|██████████| 3/3 [00:00<00:00, 240.96it/s]]\n",
      "100%|██████████| 3/3 [00:00<00:00, 243.33it/s]]\n",
      "100%|██████████| 1/1 [00:00<00:00, 180.02it/s]]\n",
      "0it [00:00, ?it/s]1/55 [00:45<00:57,  2.38s/it]\n",
      "100%|██████████| 3/3 [00:00<00:00, 244.92it/s]]\n",
      "0it [00:00, ?it/s]3/55 [00:49<00:52,  2.39s/it]\n",
      "100%|██████████| 1/1 [00:00<00:00, 172.68it/s]]\n",
      "100%|██████████| 3/3 [00:00<00:00, 243.88it/s]]\n",
      "0it [00:00, ?it/s]6/55 [00:56<00:44,  2.37s/it]\n",
      "0it [00:00, ?it/s]7/55 [00:57<00:37,  2.11s/it]\n",
      "100%|██████████| 6/6 [00:00<00:00, 263.99it/s]]\n",
      "0it [00:00, ?it/s]9/55 [01:03<00:41,  2.57s/it]\n",
      "0it [00:00, ?it/s]0/55 [01:05<00:35,  2.40s/it]\n",
      "0it [00:00, ?it/s]1/55 [01:07<00:31,  2.28s/it]\n",
      "0it [00:00, ?it/s]2/55 [01:09<00:28,  2.20s/it]\n",
      "0it [00:00, ?it/s]3/55 [01:11<00:25,  2.14s/it]\n",
      "100%|██████████| 6/6 [00:00<00:00, 266.64it/s]]\n",
      "0it [00:00, ?it/s]5/55 [01:17<00:28,  2.83s/it]\n",
      "0it [00:00, ?it/s]6/55 [01:19<00:21,  2.43s/it]\n",
      "0it [00:00, ?it/s]7/55 [01:21<00:19,  2.45s/it]\n",
      "100%|██████████| 3/3 [00:00<00:00, 243.44it/s]]\n",
      "0it [00:00, ?it/s]9/55 [01:28<00:17,  2.99s/it]\n",
      "0it [00:00, ?it/s]0/55 [01:30<00:14,  2.84s/it]\n",
      "100%|██████████| 3/3 [00:00<00:00, 239.93it/s]]\n",
      "100%|██████████| 28/28 [00:00<00:00, 283.85it/s]\n",
      "100%|██████████| 21/21 [00:00<00:00, 276.87it/s]\n",
      "100%|██████████| 378/378 [00:01<00:00, 291.16it/s]\n",
      "100%|██████████| 55/55 [03:10<00:00,  3.46s/it]\n"
     ]
    },
    {
     "name": "stdout",
     "output_type": "stream",
     "text": [
      "pairs = (('VONE', 'VV'))\n",
      "\n",
      "best_earning_ratio is:  1.0227471384984577\n"
     ]
    },
    {
     "name": "stderr",
     "output_type": "stream",
     "text": [
      "100%|██████████| 1264/1264 [00:11<00:00, 110.65it/s]\n"
     ]
    },
    {
     "name": "stdout",
     "output_type": "stream",
     "text": [
      "pairs = (('VONE', 'VV'))\n",
      "\n",
      "=================== 7 번째 시작 ======================\n"
     ]
    },
    {
     "name": "stderr",
     "output_type": "stream",
     "text": [
      "100%|██████████| 1136/1136 [00:14<00:00, 76.97it/s]\n"
     ]
    },
    {
     "name": "stdout",
     "output_type": "stream",
     "text": [
      "Clusters discovered: 57\n",
      "Clusters formed: 57\n",
      "Pairs to evaluate: 9328\n",
      "final_clusters index :  [28, 20, 19, 29, 31, 16, 33, 34, 35, 36, 37, 38, 14, 42, 40, 50, 55, 54, 53, 52, 51, 49, 24, 46, 45, 44, 2, 7, 6, 17, 18, 21, 13, 56, 27, 1, 30, 32, 47, 25, 48, 15, 41, 23, 43, 22, 3, 4, 11, 39, 12, 26, 9, 8, 5, 10, 0]\n"
     ]
    },
    {
     "name": "stderr",
     "output_type": "stream",
     "text": [
      "0it [00:00, ?it/s]/57 [00:00<?, ?it/s]\n",
      "100%|██████████| 1/1 [00:00<00:00, 178.70it/s]\n",
      "0it [00:00, ?it/s]/57 [00:02<01:18,  1.42s/it]\n",
      "0it [00:00, ?it/s]/57 [00:03<01:06,  1.24s/it]\n",
      "0it [00:00, ?it/s]/57 [00:04<01:01,  1.15s/it]\n",
      "0it [00:00, ?it/s]/57 [00:05<00:57,  1.11s/it]\n",
      "100%|██████████| 1/1 [00:00<00:00, 173.94it/s]\n",
      "0it [00:00, ?it/s]/57 [00:08<01:09,  1.39s/it]\n",
      "0it [00:00, ?it/s]/57 [00:09<01:02,  1.27s/it]\n",
      "0it [00:00, ?it/s]/57 [00:10<00:57,  1.20s/it]\n",
      "0it [00:00, ?it/s]0/57 [00:11<00:53,  1.14s/it]\n",
      "0it [00:00, ?it/s]1/57 [00:12<00:50,  1.11s/it]\n",
      "100%|██████████| 1/1 [00:00<00:00, 163.08it/s]]\n",
      "100%|██████████| 1/1 [00:00<00:00, 182.54it/s]]\n",
      "0it [00:00, ?it/s]4/57 [00:17<01:07,  1.58s/it]\n",
      "0it [00:00, ?it/s]5/57 [00:18<00:59,  1.41s/it]\n",
      "0it [00:00, ?it/s]6/57 [00:19<00:53,  1.30s/it]\n",
      "100%|██████████| 1/1 [00:00<00:00, 176.27it/s]]\n",
      "0it [00:00, ?it/s]8/57 [00:23<00:57,  1.47s/it]\n",
      "100%|██████████| 1/1 [00:00<00:00, 174.85it/s]]\n",
      "100%|██████████| 1/1 [00:00<00:00, 182.78it/s]]\n",
      "0it [00:00, ?it/s]1/57 [00:27<00:58,  1.62s/it]\n",
      "0it [00:00, ?it/s]2/57 [00:28<00:45,  1.29s/it]\n",
      "0it [00:00, ?it/s]3/57 [00:29<00:41,  1.21s/it]\n",
      "0it [00:00, ?it/s]4/57 [00:30<00:37,  1.15s/it]\n",
      "0it [00:00, ?it/s]5/57 [00:31<00:35,  1.11s/it]\n",
      "0it [00:00, ?it/s]6/57 [00:32<00:33,  1.08s/it]\n",
      "100%|██████████| 3/3 [00:00<00:00, 241.20it/s]]\n",
      "100%|██████████| 3/3 [00:00<00:00, 241.47it/s]]\n",
      "100%|██████████| 1/1 [00:00<00:00, 182.25it/s]]\n",
      "0it [00:00, ?it/s]0/57 [00:41<00:56,  2.08s/it]\n",
      "100%|██████████| 1/1 [00:00<00:00, 176.86it/s]]\n",
      "100%|██████████| 3/3 [00:00<00:00, 241.12it/s]]\n",
      "0it [00:00, ?it/s]3/57 [00:48<00:58,  2.43s/it]\n",
      "100%|██████████| 3/3 [00:00<00:00, 237.21it/s]]\n",
      "100%|██████████| 1/1 [00:00<00:00, 176.18it/s]]\n",
      "100%|██████████| 3/3 [00:00<00:00, 238.15it/s]]\n",
      "0it [00:00, ?it/s]7/57 [00:58<00:50,  2.54s/it]\n",
      "0it [00:00, ?it/s]8/57 [00:59<00:42,  2.24s/it]\n",
      "0it [00:00, ?it/s]9/57 [01:01<00:36,  2.03s/it]\n",
      "0it [00:00, ?it/s]0/57 [01:03<00:34,  2.03s/it]\n",
      "0it [00:00, ?it/s]1/57 [01:05<00:32,  2.03s/it]\n",
      "0it [00:00, ?it/s]2/57 [01:07<00:30,  2.03s/it]\n",
      "100%|██████████| 6/6 [00:00<00:00, 257.92it/s]]\n",
      "0it [00:00, ?it/s]4/57 [01:13<00:34,  2.65s/it]\n",
      "0it [00:00, ?it/s]5/57 [01:15<00:29,  2.46s/it]\n",
      "100%|██████████| 10/10 [00:00<00:00, 272.26it/s]\n",
      "0it [00:00, ?it/s]7/57 [01:23<00:32,  3.29s/it]\n",
      "0it [00:00, ?it/s]8/57 [01:26<00:27,  3.07s/it]\n",
      "0it [00:00, ?it/s]9/57 [01:27<00:20,  2.61s/it]\n",
      "100%|██████████| 3/3 [00:00<00:00, 212.63it/s]]\n",
      "0it [00:00, ?it/s]1/57 [01:34<00:18,  3.13s/it]\n",
      "0it [00:00, ?it/s]2/57 [01:37<00:14,  3.00s/it]\n",
      "100%|██████████| 3/3 [00:00<00:00, 213.52it/s]]\n",
      "100%|██████████| 28/28 [00:00<00:00, 254.67it/s]\n",
      "100%|██████████| 21/21 [00:00<00:00, 264.20it/s]\n",
      "100%|██████████| 406/406 [00:01<00:00, 282.30it/s]\n",
      "100%|██████████| 57/57 [03:23<00:00,  3.58s/it]\n"
     ]
    },
    {
     "name": "stdout",
     "output_type": "stream",
     "text": [
      "pairs = (('SPDN', 'SH'))\n",
      "\n",
      "pairs = (('VONE', 'VV'))\n",
      "\n",
      "pairs = (('SPTM', 'SCHX'))\n",
      "\n",
      "best_earning_ratio is:  1.0184056248304578\n",
      "best_earning_ratio is:  1.1380633908871856\n",
      "best_earning_ratio is:  1.1413828289717725\n"
     ]
    },
    {
     "name": "stderr",
     "output_type": "stream",
     "text": [
      "100%|██████████| 1271/1271 [00:12<00:00, 104.38it/s]\n"
     ]
    },
    {
     "name": "stdout",
     "output_type": "stream",
     "text": [
      "pairs = (('SPDN', 'SH'))\n",
      "\n",
      "pairs = (('VONE', 'VV'))\n",
      "\n",
      "pairs = (('SPTM', 'SCHX'))\n",
      "\n",
      "=================== 8 번째 시작 ======================\n"
     ]
    },
    {
     "name": "stderr",
     "output_type": "stream",
     "text": [
      "100%|██████████| 1151/1151 [00:16<00:00, 71.07it/s]\n"
     ]
    },
    {
     "name": "stdout",
     "output_type": "stream",
     "text": [
      "Clusters discovered: 52\n",
      "Clusters formed: 51\n",
      "Pairs to evaluate: 746\n",
      "final_clusters index :  [28, 29, 31, 20, 34, 35, 37, 38, 24, 40, 15, 42, 13, 44, 46, 47, 49, 50, 14, 2, 12, 17, 19, 7, 21, 51, 27, 6, 48, 30, 32, 33, 1, 23, 18, 36, 16, 41, 8, 45, 3, 4, 43, 22, 10, 11, 39, 26, 25, 9, 5]\n"
     ]
    },
    {
     "name": "stderr",
     "output_type": "stream",
     "text": [
      "0it [00:00, ?it/s]/51 [00:00<?, ?it/s]\n",
      "0it [00:00, ?it/s]/51 [00:00<00:27,  1.83it/s]\n",
      "0it [00:00, ?it/s]/51 [00:01<00:42,  1.15it/s]\n",
      "0it [00:00, ?it/s]/51 [00:02<00:47,  1.02it/s]\n",
      "0it [00:00, ?it/s]/51 [00:03<00:50,  1.07s/it]\n",
      "0it [00:00, ?it/s]/51 [00:05<00:51,  1.12s/it]\n",
      "0it [00:00, ?it/s]/51 [00:06<00:49,  1.11s/it]\n",
      "0it [00:00, ?it/s]/51 [00:07<00:48,  1.09s/it]\n",
      "0it [00:00, ?it/s]/51 [00:08<00:46,  1.09s/it]\n",
      "0it [00:00, ?it/s]/51 [00:09<00:45,  1.08s/it]\n",
      "100%|██████████| 1/1 [00:00<00:00, 145.94it/s]]\n",
      "100%|██████████| 1/1 [00:00<00:00, 174.31it/s]]\n",
      "0it [00:00, ?it/s]2/51 [00:15<01:05,  1.67s/it]\n",
      "0it [00:00, ?it/s]3/51 [00:15<00:50,  1.33s/it]\n",
      "0it [00:00, ?it/s]4/51 [00:16<00:46,  1.25s/it]\n",
      "100%|██████████| 1/1 [00:00<00:00, 139.34it/s]]\n",
      "0it [00:00, ?it/s]6/51 [00:19<00:52,  1.51s/it]\n",
      "100%|██████████| 1/1 [00:00<00:00, 164.83it/s]]\n",
      "0it [00:00, ?it/s]8/51 [00:22<00:50,  1.52s/it]\n",
      "0it [00:00, ?it/s]9/51 [00:23<00:45,  1.41s/it]\n",
      "100%|██████████| 3/3 [00:00<00:00, 238.53it/s]]\n",
      "100%|██████████| 1/1 [00:00<00:00, 181.52it/s]]\n",
      "100%|██████████| 1/1 [00:00<00:00, 172.18it/s]]\n",
      "100%|██████████| 3/3 [00:00<00:00, 241.51it/s]]\n",
      "100%|██████████| 1/1 [00:00<00:00, 186.28it/s]]\n",
      "0it [00:00, ?it/s]5/51 [00:38<01:03,  2.46s/it]\n",
      "100%|██████████| 3/3 [00:00<00:00, 239.00it/s]]\n",
      "0it [00:00, ?it/s]7/51 [00:43<01:00,  2.52s/it]\n",
      "100%|██████████| 1/1 [00:00<00:00, 188.71it/s]]\n",
      "100%|██████████| 3/3 [00:00<00:00, 242.38it/s]]\n",
      "0it [00:00, ?it/s]0/51 [00:50<00:55,  2.62s/it]\n",
      "100%|██████████| 1/1 [00:00<00:00, 178.92it/s]]\n",
      "100%|██████████| 1/1 [00:00<00:00, 181.49it/s]]\n",
      "100%|██████████| 6/6 [00:00<00:00, 256.68it/s]]\n",
      "0it [00:00, ?it/s]4/51 [01:01<00:49,  2.91s/it]\n",
      "0it [00:00, ?it/s]5/51 [01:03<00:42,  2.68s/it]\n",
      "0it [00:00, ?it/s]6/51 [01:05<00:37,  2.51s/it]\n",
      "0it [00:00, ?it/s]7/51 [01:07<00:34,  2.44s/it]\n",
      "100%|██████████| 3/3 [00:00<00:00, 213.87it/s]]\n",
      "0it [00:00, ?it/s]9/51 [01:13<00:33,  2.80s/it]\n",
      "100%|██████████| 10/10 [00:00<00:00, 261.26it/s]\n",
      "0it [00:00, ?it/s]1/51 [01:21<00:34,  3.46s/it]\n",
      "0it [00:00, ?it/s]2/51 [01:24<00:29,  3.23s/it]\n",
      "0it [00:00, ?it/s]3/51 [01:26<00:24,  3.07s/it]\n",
      "0it [00:00, ?it/s]4/51 [01:29<00:20,  2.96s/it]\n",
      "100%|██████████| 3/3 [00:00<00:00, 239.94it/s]]\n",
      "0it [00:00, ?it/s]6/51 [01:36<00:16,  3.24s/it]\n",
      "0it [00:00, ?it/s]7/51 [01:38<00:12,  3.06s/it]\n",
      "0it [00:00, ?it/s]8/51 [01:41<00:08,  2.94s/it]\n",
      "100%|██████████| 3/3 [00:00<00:00, 244.88it/s]]\n",
      "100%|██████████| 28/28 [00:00<00:00, 283.23it/s]\n",
      "100%|██████████| 51/51 [02:03<00:00,  2.42s/it]\n"
     ]
    },
    {
     "name": "stdout",
     "output_type": "stream",
     "text": [
      "=================== 9 번째 시작 ======================\n"
     ]
    },
    {
     "name": "stderr",
     "output_type": "stream",
     "text": [
      "100%|██████████| 1165/1165 [00:16<00:00, 71.31it/s]\n"
     ]
    },
    {
     "name": "stdout",
     "output_type": "stream",
     "text": [
      "Clusters discovered: 51\n",
      "Clusters formed: 50\n",
      "Pairs to evaluate: 742\n",
      "final_clusters index :  [5, 34, 36, 37, 27, 39, 15, 33, 41, 43, 29, 45, 46, 23, 48, 49, 30, 19, 20, 16, 13, 12, 7, 18, 1, 50, 28, 6, 47, 31, 32, 35, 26, 8, 44, 14, 40, 17, 22, 42, 10, 3, 21, 2, 11, 38, 25, 24, 9, 4]\n"
     ]
    },
    {
     "name": "stderr",
     "output_type": "stream",
     "text": [
      "0it [00:00, ?it/s]/50 [00:00<?, ?it/s]\n",
      "0it [00:00, ?it/s]/50 [00:00<00:27,  1.80it/s]\n",
      "0it [00:00, ?it/s]/50 [00:01<00:41,  1.15it/s]\n",
      "0it [00:00, ?it/s]/50 [00:02<00:45,  1.02it/s]\n",
      "0it [00:00, ?it/s]/50 [00:03<00:47,  1.02s/it]\n",
      "0it [00:00, ?it/s]/50 [00:04<00:38,  1.17it/s]\n",
      "0it [00:00, ?it/s]/50 [00:05<00:41,  1.07it/s]\n",
      "0it [00:00, ?it/s]/50 [00:06<00:42,  1.01it/s]\n",
      "100%|██████████| 1/1 [00:00<00:00, 148.02it/s]\n",
      "0it [00:00, ?it/s]/50 [00:09<00:57,  1.40s/it]\n",
      "0it [00:00, ?it/s]0/50 [00:11<00:52,  1.31s/it]\n",
      "0it [00:00, ?it/s]1/50 [00:12<00:48,  1.24s/it]\n",
      "100%|██████████| 1/1 [00:00<00:00, 178.45it/s]]\n",
      "0it [00:00, ?it/s]3/50 [00:15<00:55,  1.50s/it]\n",
      "0it [00:00, ?it/s]4/50 [00:16<00:49,  1.38s/it]\n",
      "100%|██████████| 1/1 [00:00<00:00, 173.97it/s]]\n",
      "0it [00:00, ?it/s]6/50 [00:19<00:49,  1.45s/it]\n",
      "0it [00:00, ?it/s]7/50 [00:20<00:44,  1.34s/it]\n",
      "100%|██████████| 1/1 [00:00<00:00, 184.64it/s]]\n",
      "100%|██████████| 1/1 [00:00<00:00, 173.80it/s]]\n",
      "0it [00:00, ?it/s]0/50 [00:26<00:55,  1.86s/it]\n",
      "100%|██████████| 3/3 [00:00<00:00, 238.91it/s]]\n",
      "100%|██████████| 3/3 [00:00<00:00, 242.35it/s]]\n",
      "100%|██████████| 1/1 [00:00<00:00, 174.55it/s]]\n",
      "100%|██████████| 1/1 [00:00<00:00, 181.63it/s]]\n",
      "0it [00:00, ?it/s]5/50 [00:39<00:59,  2.37s/it]\n",
      "100%|██████████| 3/3 [00:00<00:00, 241.18it/s]]\n",
      "0it [00:00, ?it/s]7/50 [00:43<00:57,  2.49s/it]\n",
      "100%|██████████| 1/1 [00:00<00:00, 166.75it/s]]\n",
      "0it [00:00, ?it/s]9/50 [00:48<00:50,  2.39s/it]\n",
      "100%|██████████| 1/1 [00:00<00:00, 185.33it/s]]\n",
      "0it [00:00, ?it/s]1/50 [00:52<00:44,  2.34s/it]\n",
      "100%|██████████| 3/3 [00:00<00:00, 237.78it/s]]\n",
      "100%|██████████| 6/6 [00:00<00:00, 262.19it/s]]\n",
      "0it [00:00, ?it/s]4/50 [01:01<00:48,  3.04s/it]\n",
      "0it [00:00, ?it/s]5/50 [01:04<00:41,  2.79s/it]\n",
      "0it [00:00, ?it/s]6/50 [01:06<00:36,  2.60s/it]\n",
      "0it [00:00, ?it/s]7/50 [01:08<00:32,  2.48s/it]\n",
      "100%|██████████| 6/6 [00:00<00:00, 266.04it/s]]\n",
      "0it [00:00, ?it/s]9/50 [01:15<00:33,  3.03s/it]\n",
      "0it [00:00, ?it/s]0/50 [01:17<00:29,  2.94s/it]\n",
      "0it [00:00, ?it/s]1/50 [01:19<00:22,  2.55s/it]\n",
      "0it [00:00, ?it/s]2/50 [01:22<00:20,  2.60s/it]\n",
      "100%|██████████| 10/10 [00:00<00:00, 266.57it/s]\n",
      "100%|██████████| 3/3 [00:00<00:00, 243.78it/s]]\n",
      "0it [00:00, ?it/s]5/50 [01:35<00:19,  3.92s/it]\n",
      "0it [00:00, ?it/s]6/50 [01:38<00:14,  3.56s/it]\n",
      "0it [00:00, ?it/s]7/50 [01:40<00:09,  3.30s/it]\n",
      "100%|██████████| 3/3 [00:00<00:00, 238.55it/s]]\n",
      "100%|██████████| 28/28 [00:00<00:00, 281.28it/s]\n",
      "100%|██████████| 50/50 [02:03<00:00,  2.47s/it]\n"
     ]
    },
    {
     "name": "stdout",
     "output_type": "stream",
     "text": [
      "=================== 10 번째 시작 ======================\n"
     ]
    },
    {
     "name": "stderr",
     "output_type": "stream",
     "text": [
      "100%|██████████| 1184/1184 [00:15<00:00, 75.01it/s]\n"
     ]
    },
    {
     "name": "stdout",
     "output_type": "stream",
     "text": [
      "Clusters discovered: 55\n",
      "Clusters formed: 54\n",
      "Pairs to evaluate: 918\n",
      "final_clusters index :  [54, 10, 14, 16, 18, 20, 21, 23, 28, 34, 35, 38, 39, 40, 31, 42, 43, 53, 52, 45, 50, 49, 47, 41, 13, 51, 17, 19, 22, 5, 33, 37, 36, 32, 6, 7, 30, 48, 15, 44, 1, 26, 2, 3, 46, 11, 12, 27, 24, 25, 29, 8, 9, 4]\n"
     ]
    },
    {
     "name": "stderr",
     "output_type": "stream",
     "text": [
      "0it [00:00, ?it/s]/54 [00:00<?, ?it/s]\n",
      "0it [00:00, ?it/s]/54 [00:01<00:59,  1.13s/it]\n",
      "0it [00:00, ?it/s]\n",
      "0it [00:00, ?it/s]/54 [00:02<00:36,  1.41it/s]\n",
      "0it [00:00, ?it/s]/54 [00:03<00:42,  1.17it/s]\n",
      "0it [00:00, ?it/s]/54 [00:03<00:37,  1.32it/s]\n",
      "0it [00:00, ?it/s]\n",
      "0it [00:00, ?it/s]/54 [00:05<00:31,  1.51it/s]\n",
      "0it [00:00, ?it/s]/54 [00:06<00:35,  1.28it/s]\n",
      "0it [00:00, ?it/s]\n",
      "0it [00:00, ?it/s]0/54 [00:07<00:30,  1.45it/s]\n",
      "0it [00:00, ?it/s]1/54 [00:08<00:33,  1.26it/s]\n",
      "0it [00:00, ?it/s]2/54 [00:09<00:36,  1.14it/s]\n",
      "0it [00:00, ?it/s]3/54 [00:10<00:38,  1.06it/s]\n",
      "100%|██████████| 1/1 [00:00<00:00, 176.05it/s]]\n",
      "0it [00:00, ?it/s]5/54 [00:14<00:52,  1.34s/it]\n",
      "0it [00:00, ?it/s]6/54 [00:15<00:48,  1.28s/it]\n",
      "100%|██████████| 1/1 [00:00<00:00, 178.92it/s]]\n",
      "0it [00:00, ?it/s]8/54 [00:18<00:55,  1.53s/it]\n",
      "100%|██████████| 1/1 [00:00<00:00, 182.58it/s]]\n",
      "100%|██████████| 1/1 [00:00<00:00, 191.42it/s]]\n",
      "0it [00:00, ?it/s]1/54 [00:23<00:57,  1.75s/it]\n",
      "0it [00:00, ?it/s]2/54 [00:24<00:50,  1.56s/it]\n",
      "0it [00:00, ?it/s]3/54 [00:25<00:44,  1.43s/it]\n",
      "100%|██████████| 3/3 [00:00<00:00, 240.95it/s]]\n",
      "100%|██████████| 3/3 [00:00<00:00, 245.36it/s]]\n",
      "100%|██████████| 1/1 [00:00<00:00, 182.31it/s]]\n",
      "0it [00:00, ?it/s]7/54 [00:35<01:02,  2.33s/it]\n",
      "100%|██████████| 1/1 [00:00<00:00, 183.09it/s]]\n",
      "0it [00:00, ?it/s]9/54 [00:39<00:54,  2.17s/it]\n",
      "100%|██████████| 3/3 [00:00<00:00, 233.90it/s]]\n",
      "100%|██████████| 1/1 [00:00<00:00, 176.21it/s]]\n",
      "0it [00:00, ?it/s]2/54 [00:47<00:55,  2.53s/it]\n",
      "100%|██████████| 1/1 [00:00<00:00, 184.39it/s]]\n",
      "100%|██████████| 3/3 [00:00<00:00, 237.78it/s]]\n",
      "100%|██████████| 3/3 [00:00<00:00, 241.45it/s]]\n",
      "100%|██████████| 3/3 [00:00<00:00, 241.20it/s]]\n",
      "0it [00:00, ?it/s]7/54 [01:01<00:50,  2.98s/it]\n",
      "0it [00:00, ?it/s]8/54 [01:03<00:44,  2.76s/it]\n",
      "0it [00:00, ?it/s]9/54 [01:06<00:39,  2.62s/it]\n",
      "100%|██████████| 1/1 [00:00<00:00, 180.18it/s]]\n",
      "100%|██████████| 6/6 [00:00<00:00, 254.40it/s]]\n",
      "100%|██████████| 10/10 [00:00<00:00, 259.76it/s]\n",
      "0it [00:00, ?it/s]3/54 [01:21<00:43,  3.94s/it]\n",
      "0it [00:00, ?it/s]4/54 [01:24<00:36,  3.60s/it]\n",
      "0it [00:00, ?it/s]5/54 [01:27<00:30,  3.36s/it]\n",
      "100%|██████████| 3/3 [00:00<00:00, 229.06it/s]]\n",
      "0it [00:00, ?it/s]7/54 [01:33<00:24,  3.51s/it]\n",
      "0it [00:00, ?it/s]8/54 [01:37<00:21,  3.63s/it]\n",
      "0it [00:00, ?it/s]9/54 [01:41<00:17,  3.54s/it]\n",
      "0it [00:00, ?it/s]0/54 [01:44<00:13,  3.48s/it]\n",
      "100%|██████████| 1/1 [00:00<00:00, 178.86it/s]]\n",
      "0it [00:00, ?it/s]2/54 [01:53<00:08,  4.13s/it]\n",
      "100%|██████████| 28/28 [00:00<00:00, 280.07it/s]\n",
      "100%|██████████| 54/54 [02:13<00:00,  2.47s/it]\n"
     ]
    },
    {
     "name": "stdout",
     "output_type": "stream",
     "text": [
      "=================== 11 번째 시작 ======================\n"
     ]
    },
    {
     "name": "stderr",
     "output_type": "stream",
     "text": [
      "100%|██████████| 1193/1193 [00:16<00:00, 73.43it/s]\n"
     ]
    },
    {
     "name": "stdout",
     "output_type": "stream",
     "text": [
      "Clusters discovered: 56\n",
      "Clusters formed: 55\n",
      "Pairs to evaluate: 928\n",
      "final_clusters index :  [55, 20, 33, 36, 15, 40, 41, 43, 44, 42, 24, 48, 54, 49, 50, 46, 52, 21, 5, 19, 9, 14, 13, 22, 7, 17, 6, 28, 38, 39, 35, 32, 51, 34, 53, 18, 16, 1, 3, 29, 47, 2, 37, 26, 45, 27, 11, 12, 30, 10, 23, 25, 31, 8, 4]\n"
     ]
    },
    {
     "name": "stderr",
     "output_type": "stream",
     "text": [
      "0it [00:00, ?it/s]/55 [00:00<?, ?it/s]\n",
      "0it [00:00, ?it/s]/55 [00:00<00:31,  1.73it/s]\n",
      "0it [00:00, ?it/s]/55 [00:01<00:48,  1.10it/s]\n",
      "0it [00:00, ?it/s]/55 [00:02<00:52,  1.02s/it]\n",
      "0it [00:00, ?it/s]/55 [00:03<00:54,  1.06s/it]\n",
      "0it [00:00, ?it/s]/55 [00:05<00:54,  1.09s/it]\n",
      "0it [00:00, ?it/s]/55 [00:06<00:54,  1.11s/it]\n",
      "0it [00:00, ?it/s]/55 [00:07<00:53,  1.12s/it]\n",
      "0it [00:00, ?it/s]/55 [00:07<00:44,  1.06it/s]\n",
      "0it [00:00, ?it/s]/55 [00:09<00:46,  1.00s/it]\n",
      "0it [00:00, ?it/s]0/55 [00:10<00:47,  1.04s/it]\n",
      "0it [00:00, ?it/s]\n",
      "0it [00:00, ?it/s]2/55 [00:11<00:35,  1.22it/s]\n",
      "0it [00:00, ?it/s]3/55 [00:12<00:37,  1.11it/s]\n",
      "100%|██████████| 1/1 [00:00<00:00, 178.19it/s]]\n",
      "100%|██████████| 1/1 [00:00<00:00, 171.86it/s]]\n",
      "100%|██████████| 1/1 [00:00<00:00, 181.69it/s]]\n",
      "100%|██████████| 1/1 [00:00<00:00, 186.63it/s]]\n",
      "0it [00:00, ?it/s]8/55 [00:22<01:11,  1.92s/it]\n",
      "0it [00:00, ?it/s]9/55 [00:24<01:06,  1.86s/it]\n",
      "0it [00:00, ?it/s]0/55 [00:25<00:57,  1.65s/it]\n",
      "0it [00:00, ?it/s]1/55 [00:27<00:56,  1.67s/it]\n",
      "100%|██████████| 3/3 [00:00<00:00, 238.13it/s]]\n",
      "100%|██████████| 1/1 [00:00<00:00, 185.74it/s]]\n",
      "100%|██████████| 3/3 [00:00<00:00, 240.67it/s]]\n",
      "100%|██████████| 1/1 [00:00<00:00, 184.41it/s]]\n",
      "100%|██████████| 3/3 [00:00<00:00, 243.46it/s]]\n",
      "0it [00:00, ?it/s]7/55 [00:44<01:18,  2.81s/it]\n",
      "0it [00:00, ?it/s]\n",
      "100%|██████████| 1/1 [00:00<00:00, 179.11it/s]]\n",
      "100%|██████████| 3/3 [00:00<00:00, 240.44it/s]]\n",
      "100%|██████████| 3/3 [00:00<00:00, 233.76it/s]]\n",
      "100%|██████████| 3/3 [00:00<00:00, 250.08it/s]]\n",
      "100%|██████████| 1/1 [00:00<00:00, 177.71it/s]]\n",
      "0it [00:00, ?it/s]4/55 [01:01<00:57,  2.72s/it]\n",
      "0it [00:00, ?it/s]5/55 [01:02<00:45,  2.26s/it]\n",
      "0it [00:00, ?it/s]6/55 [01:04<00:42,  2.26s/it]\n",
      "100%|██████████| 1/1 [00:00<00:00, 176.83it/s]]\n",
      "0it [00:00, ?it/s]8/55 [01:09<00:41,  2.42s/it]\n",
      "0it [00:00, ?it/s]9/55 [01:12<00:40,  2.54s/it]\n",
      "0it [00:00, ?it/s]0/55 [01:15<00:39,  2.62s/it]\n",
      "100%|██████████| 10/10 [00:00<00:00, 262.89it/s]\n",
      "100%|██████████| 6/6 [00:00<00:00, 254.82it/s]]\n",
      "100%|██████████| 6/6 [00:00<00:00, 258.17it/s]]\n",
      "0it [00:00, ?it/s]4/55 [01:33<00:45,  4.17s/it]\n",
      "0it [00:00, ?it/s]5/55 [01:35<00:35,  3.60s/it]\n",
      "0it [00:00, ?it/s]6/55 [01:39<00:31,  3.53s/it]\n",
      "100%|██████████| 3/3 [00:00<00:00, 240.21it/s]]\n",
      "0it [00:00, ?it/s]8/55 [01:45<00:25,  3.60s/it]\n",
      "0it [00:00, ?it/s]9/55 [01:48<00:20,  3.37s/it]\n",
      "0it [00:00, ?it/s]0/55 [01:52<00:16,  3.37s/it]\n",
      "0it [00:00, ?it/s]1/55 [01:55<00:13,  3.37s/it]\n",
      "0it [00:00, ?it/s]2/55 [01:58<00:10,  3.37s/it]\n",
      "100%|██████████| 1/1 [00:00<00:00, 182.42it/s]]\n",
      "100%|██████████| 28/28 [00:00<00:00, 285.60it/s]\n",
      "100%|██████████| 55/55 [02:21<00:00,  2.58s/it]\n"
     ]
    },
    {
     "name": "stdout",
     "output_type": "stream",
     "text": [
      "=================== 12 번째 시작 ======================\n"
     ]
    },
    {
     "name": "stderr",
     "output_type": "stream",
     "text": [
      "100%|██████████| 1202/1202 [00:16<00:00, 73.10it/s]\n"
     ]
    },
    {
     "name": "stdout",
     "output_type": "stream",
     "text": [
      "Clusters discovered: 64\n",
      "Clusters formed: 64\n",
      "Pairs to evaluate: 10722\n",
      "final_clusters index :  [63, 26, 36, 37, 23, 21, 20, 41, 19, 43, 44, 45, 18, 47, 33, 48, 16, 53, 8, 56, 57, 58, 60, 61, 5, 49, 30, 13, 12, 7, 6, 29, 32, 34, 62, 59, 35, 55, 54, 51, 50, 39, 40, 42, 1, 15, 22, 46, 25, 28, 14, 38, 52, 11, 10, 27, 3, 2, 31, 24, 4, 17, 9, 0]\n"
     ]
    },
    {
     "name": "stderr",
     "output_type": "stream",
     "text": [
      "0it [00:00, ?it/s]/64 [00:00<?, ?it/s]\n",
      "0it [00:00, ?it/s]/64 [00:00<00:37,  1.69it/s]\n",
      "0it [00:00, ?it/s]/64 [00:01<00:57,  1.08it/s]\n",
      "0it [00:00, ?it/s]\n",
      "0it [00:00, ?it/s]/64 [00:02<00:42,  1.41it/s]\n",
      "0it [00:00, ?it/s]\n",
      "100%|██████████| 1/1 [00:00<00:00, 170.94it/s]\n",
      "0it [00:00, ?it/s]/64 [00:05<00:42,  1.34it/s]\n",
      "0it [00:00, ?it/s]/64 [00:06<00:46,  1.20it/s]\n",
      "0it [00:00, ?it/s]/64 [00:06<00:42,  1.29it/s]\n",
      "0it [00:00, ?it/s]0/64 [00:08<00:47,  1.15it/s]\n",
      "0it [00:00, ?it/s]1/64 [00:09<00:50,  1.05it/s]\n",
      "0it [00:00, ?it/s]\n",
      "100%|██████████| 1/1 [00:00<00:00, 174.16it/s]]\n",
      "0it [00:00, ?it/s]4/64 [00:12<00:57,  1.15s/it]\n",
      "0it [00:00, ?it/s]5/64 [00:13<00:56,  1.15s/it]\n",
      "0it [00:00, ?it/s]6/64 [00:15<00:55,  1.15s/it]\n",
      "100%|██████████| 1/1 [00:00<00:00, 173.34it/s]]\n",
      "0it [00:00, ?it/s]8/64 [00:18<01:08,  1.49s/it]\n",
      "0it [00:00, ?it/s]9/64 [00:19<01:02,  1.39s/it]\n",
      "0it [00:00, ?it/s]0/64 [00:20<00:58,  1.33s/it]\n",
      "100%|██████████| 1/1 [00:00<00:00, 183.02it/s]]\n",
      "0it [00:00, ?it/s]2/64 [00:24<01:06,  1.58s/it]\n",
      "100%|██████████| 1/1 [00:00<00:00, 180.50it/s]]\n",
      "0it [00:00, ?it/s]4/64 [00:27<01:08,  1.71s/it]\n",
      "0it [00:00, ?it/s]5/64 [00:29<01:00,  1.55s/it]\n",
      "0it [00:00, ?it/s]6/64 [00:30<00:54,  1.43s/it]\n",
      "0it [00:00, ?it/s]\n",
      "100%|██████████| 3/3 [00:00<00:00, 236.17it/s]]\n",
      "100%|██████████| 3/3 [00:00<00:00, 243.52it/s]]\n",
      "100%|██████████| 3/3 [00:00<00:00, 246.67it/s]]\n",
      "0it [00:00, ?it/s]1/64 [00:42<01:23,  2.54s/it]\n",
      "100%|██████████| 3/3 [00:00<00:00, 243.41it/s]]\n",
      "100%|██████████| 1/1 [00:00<00:00, 177.30it/s]]\n",
      "0it [00:00, ?it/s]4/64 [00:49<01:16,  2.55s/it]\n",
      "100%|██████████| 3/3 [00:00<00:00, 243.44it/s]]\n",
      "100%|██████████| 3/3 [00:00<00:00, 242.32it/s]]\n",
      "0it [00:00, ?it/s]7/64 [00:57<01:15,  2.81s/it]\n",
      "0it [00:00, ?it/s]8/64 [00:59<01:04,  2.49s/it]\n",
      "0it [00:00, ?it/s]9/64 [01:01<00:56,  2.26s/it]\n",
      "0it [00:00, ?it/s]0/64 [01:03<00:50,  2.10s/it]\n",
      "0it [00:00, ?it/s]1/64 [01:04<00:45,  1.99s/it]\n",
      "0it [00:00, ?it/s]2/64 [01:06<00:42,  1.91s/it]\n",
      "100%|██████████| 3/3 [00:00<00:00, 237.25it/s]]\n",
      "100%|██████████| 1/1 [00:00<00:00, 183.05it/s]]\n",
      "0it [00:00, ?it/s]5/64 [01:14<00:47,  2.50s/it]\n",
      "100%|██████████| 1/1 [00:00<00:00, 181.12it/s]]\n",
      "0it [00:00, ?it/s]7/64 [01:20<00:46,  2.75s/it]\n",
      "100%|██████████| 6/6 [00:00<00:00, 258.88it/s]]\n",
      "0it [00:00, ?it/s]9/64 [01:27<00:48,  3.21s/it]\n",
      "0it [00:00, ?it/s]0/64 [01:29<00:41,  2.94s/it]\n",
      "100%|██████████| 6/6 [00:00<00:00, 260.74it/s]]\n",
      "0it [00:00, ?it/s]2/64 [01:37<00:41,  3.48s/it]\n",
      "100%|██████████| 3/3 [00:00<00:00, 241.99it/s]]\n",
      "0it [00:00, ?it/s]4/64 [01:44<00:36,  3.69s/it]\n",
      "0it [00:00, ?it/s]5/64 [01:46<00:27,  3.10s/it]\n",
      "0it [00:00, ?it/s]6/64 [01:48<00:22,  2.86s/it]\n",
      "100%|██████████| 10/10 [00:00<00:00, 267.96it/s]\n",
      "0it [00:00, ?it/s]8/64 [01:57<00:22,  3.74s/it]\n",
      "0it [00:00, ?it/s]9/64 [02:00<00:17,  3.48s/it]\n",
      "100%|██████████| 10/10 [00:00<00:00, 263.94it/s]\n",
      "0it [00:00, ?it/s]1/64 [02:12<00:15,  5.07s/it]\n",
      "100%|██████████| 136/136 [00:00<00:00, 284.26it/s]\n",
      "100%|██████████| 325/325 [00:01<00:00, 280.21it/s]\n",
      "100%|██████████| 64/64 [03:55<00:00,  3.68s/it]\n"
     ]
    },
    {
     "name": "stdout",
     "output_type": "stream",
     "text": [
      "pairs = (('IJR', 'SLY'))\n",
      "\n",
      "pairs = (('VONE', 'VV'))\n",
      "\n",
      "pairs = (('SPTM', 'SCHX'))\n",
      "\n",
      "best_earning_ratio is:  1.0067467417104812\n",
      "best_earning_ratio is:  1.0022928728276812\n",
      "best_earning_ratio is:  1.010592775047302\n"
     ]
    },
    {
     "name": "stderr",
     "output_type": "stream",
     "text": [
      "100%|██████████| 1338/1338 [00:12<00:00, 103.63it/s]\n"
     ]
    },
    {
     "name": "stdout",
     "output_type": "stream",
     "text": [
      "pairs = (('IJR', 'SLY'))\n",
      "\n",
      "pairs = (('VONE', 'VV'))\n",
      "\n",
      "pairs = (('SPTM', 'SCHX'))\n",
      "\n",
      "=================== 13 번째 시작 ======================\n"
     ]
    },
    {
     "name": "stderr",
     "output_type": "stream",
     "text": [
      "100%|██████████| 1206/1206 [00:16<00:00, 72.82it/s]\n"
     ]
    },
    {
     "name": "stdout",
     "output_type": "stream",
     "text": [
      "Clusters discovered: 69\n",
      "Clusters formed: 69\n",
      "Pairs to evaluate: 11206\n",
      "final_clusters index :  [68, 30, 29, 26, 24, 23, 22, 43, 21, 17, 48, 49, 50, 35, 52, 14, 61, 67, 66, 65, 64, 63, 3, 53, 33, 5, 57, 9, 60, 18, 16, 6, 7, 32, 10, 34, 47, 55, 54, 62, 51, 46, 45, 58, 41, 59, 37, 39, 40, 42, 8, 31, 38, 28, 1, 20, 13, 2, 25, 44, 56, 15, 19, 4, 36, 27, 0, 11, 12]\n"
     ]
    },
    {
     "name": "stderr",
     "output_type": "stream",
     "text": [
      "0it [00:00, ?it/s]/69 [00:00<?, ?it/s]\n",
      "0it [00:00, ?it/s]/69 [00:00<00:40,  1.68it/s]\n",
      "0it [00:00, ?it/s]/69 [00:01<00:39,  1.69it/s]\n",
      "0it [00:00, ?it/s]/69 [00:02<00:56,  1.17it/s]\n",
      "100%|██████████| 1/1 [00:00<00:00, 176.43it/s]\n",
      "0it [00:00, ?it/s]/69 [00:04<01:06,  1.04s/it]\n",
      "0it [00:00, ?it/s]/69 [00:05<00:57,  1.10it/s]\n",
      "0it [00:00, ?it/s]/69 [00:06<01:01,  1.02it/s]\n",
      "0it [00:00, ?it/s]\n",
      "0it [00:00, ?it/s]/69 [00:07<00:48,  1.24it/s]\n",
      "0it [00:00, ?it/s]\n",
      "0it [00:00, ?it/s]1/69 [00:08<00:41,  1.39it/s]\n",
      "0it [00:00, ?it/s]2/69 [00:09<00:46,  1.22it/s]\n",
      "0it [00:00, ?it/s]\n",
      "100%|██████████| 1/1 [00:00<00:00, 175.71it/s]\n",
      "0it [00:00, ?it/s]5/69 [00:12<00:43,  1.25it/s]\n",
      "100%|██████████| 1/1 [00:00<00:00, 179.89it/s]]\n",
      "0it [00:00, ?it/s]7/69 [00:15<01:01,  1.18s/it]\n",
      "0it [00:00, ?it/s]\n",
      "0it [00:00, ?it/s]9/69 [00:16<00:42,  1.18it/s]\n",
      "0it [00:00, ?it/s]0/69 [00:17<00:45,  1.09it/s]\n",
      "0it [00:00, ?it/s]1/69 [00:18<00:47,  1.02it/s]\n",
      "0it [00:00, ?it/s]2/69 [00:19<00:48,  1.03s/it]\n",
      "0it [00:00, ?it/s]3/69 [00:20<00:42,  1.09it/s]\n",
      "0it [00:00, ?it/s]4/69 [00:21<00:44,  1.02it/s]\n",
      "0it [00:00, ?it/s]5/69 [00:22<00:45,  1.04s/it]\n",
      "100%|██████████| 1/1 [00:00<00:00, 186.08it/s]]\n",
      "0it [00:00, ?it/s]7/69 [00:26<01:00,  1.44s/it]\n",
      "0it [00:00, ?it/s]8/69 [00:27<00:55,  1.36s/it]\n",
      "0it [00:00, ?it/s]9/69 [00:28<00:52,  1.31s/it]\n",
      "100%|██████████| 3/3 [00:00<00:00, 240.73it/s]]\n",
      "100%|██████████| 3/3 [00:00<00:00, 224.65it/s]]\n",
      "100%|██████████| 3/3 [00:00<00:00, 235.02it/s]]\n",
      "0it [00:00, ?it/s]3/69 [00:41<01:40,  2.79s/it]\n",
      "0it [00:00, ?it/s]4/69 [00:42<01:26,  2.48s/it]\n",
      "0it [00:00, ?it/s]5/69 [00:44<01:16,  2.26s/it]\n",
      "100%|██████████| 3/3 [00:00<00:00, 238.62it/s]]\n",
      "0it [00:00, ?it/s]7/69 [00:49<01:16,  2.40s/it]\n",
      "0it [00:00, ?it/s]8/69 [00:50<01:08,  2.20s/it]\n",
      "100%|██████████| 3/3 [00:00<00:00, 248.36it/s]]\n",
      "0it [00:00, ?it/s]0/69 [00:56<01:12,  2.49s/it]\n",
      "0it [00:00, ?it/s]1/69 [00:57<01:03,  2.27s/it]\n",
      "0it [00:00, ?it/s]2/69 [00:59<00:57,  2.11s/it]\n",
      "0it [00:00, ?it/s]3/69 [01:01<00:52,  2.00s/it]\n",
      "100%|██████████| 3/3 [00:00<00:00, 244.54it/s]]\n",
      "0it [00:00, ?it/s]5/69 [01:06<00:57,  2.39s/it]\n",
      "100%|██████████| 3/3 [00:00<00:00, 247.02it/s]]\n",
      "0it [00:00, ?it/s]7/69 [01:11<00:56,  2.58s/it]\n",
      "100%|██████████| 1/1 [00:00<00:00, 173.43it/s]]\n",
      "0it [00:00, ?it/s]9/69 [01:15<00:46,  2.33s/it]\n",
      "0it [00:00, ?it/s]0/69 [01:18<00:44,  2.33s/it]\n",
      "0it [00:00, ?it/s]1/69 [01:20<00:41,  2.33s/it]\n",
      "100%|██████████| 3/3 [00:00<00:00, 234.93it/s]]\n",
      "100%|██████████| 6/6 [00:00<00:00, 260.16it/s]]\n",
      "100%|██████████| 1/1 [00:00<00:00, 187.02it/s]]\n",
      "0it [00:00, ?it/s]5/69 [01:34<00:45,  3.25s/it]\n",
      "0it [00:00, ?it/s]6/69 [01:36<00:38,  2.97s/it]\n",
      "100%|██████████| 10/10 [00:00<00:00, 256.95it/s]\n",
      "100%|██████████| 6/6 [00:00<00:00, 257.40it/s]]\n",
      "100%|██████████| 6/6 [00:00<00:00, 263.55it/s]]\n",
      "0it [00:00, ?it/s]0/69 [01:54<00:39,  4.42s/it]\n",
      "100%|██████████| 3/3 [00:00<00:00, 244.20it/s]]\n",
      "0it [00:00, ?it/s]2/69 [02:01<00:28,  4.05s/it]\n",
      "100%|██████████| 1/1 [00:00<00:00, 176.05it/s]]\n",
      "0it [00:00, ?it/s]4/69 [02:08<00:19,  3.86s/it]\n",
      "0it [00:00, ?it/s]5/69 [02:11<00:14,  3.57s/it]\n",
      "0it [00:00, ?it/s]6/69 [02:14<00:10,  3.37s/it]\n",
      "100%|██████████| 120/120 [00:00<00:00, 277.70it/s]\n",
      "100%|██████████| 276/276 [00:00<00:00, 279.32it/s]\n",
      "100%|██████████| 69/69 [03:52<00:00,  3.37s/it]\n"
     ]
    },
    {
     "name": "stdout",
     "output_type": "stream",
     "text": [
      "pairs = (('SPDN', 'SH'))\n",
      "\n",
      "pairs = (('SPTM', 'SCHB'))\n",
      "\n",
      "pairs = (('VONE', 'VV'))\n",
      "\n",
      "pairs = (('SPTM', 'SCHX'))\n",
      "\n",
      "pairs = (('SPLG', 'SCHB'))\n",
      "\n",
      "best_earning_ratio is:  1.112922683860567\n",
      "best_earning_ratio is:  1.0242954252918788\n",
      "best_earning_ratio is:  1.0202575666152711\n",
      "best_earning_ratio is:  1.0527428611277616\n",
      "best_earning_ratio is:  1.0691685605835695\n"
     ]
    },
    {
     "name": "stderr",
     "output_type": "stream",
     "text": [
      "100%|██████████| 1347/1347 [00:13<00:00, 100.57it/s]\n"
     ]
    },
    {
     "name": "stdout",
     "output_type": "stream",
     "text": [
      "pairs = (('SPDN', 'SH'))\n",
      "\n",
      "pairs = (('SPTM', 'SCHB'))\n",
      "\n",
      "pairs = (('VONE', 'VV'))\n",
      "\n",
      "pairs = (('SPTM', 'SCHX'))\n",
      "\n",
      "pairs = (('SPLG', 'SCHB'))\n",
      "\n",
      "=================== 14 번째 시작 ======================\n"
     ]
    },
    {
     "name": "stderr",
     "output_type": "stream",
     "text": [
      "100%|██████████| 1211/1211 [00:16<00:00, 71.64it/s]\n"
     ]
    },
    {
     "name": "stdout",
     "output_type": "stream",
     "text": [
      "Clusters discovered: 72\n",
      "Clusters formed: 71\n",
      "Pairs to evaluate: 1328\n",
      "final_clusters index :  [71, 21, 22, 23, 24, 29, 34, 38, 45, 46, 49, 51, 52, 53, 54, 55, 36, 57, 69, 68, 56, 66, 64, 63, 65, 58, 60, 62, 16, 19, 20, 70, 59, 67, 26, 50, 47, 11, 30, 40, 15, 35, 1, 6, 48, 42, 12, 2, 7, 18, 43, 44, 17, 13, 4, 25, 3, 9, 27, 28, 32, 37, 41, 61, 14, 33, 39, 8, 31, 5, 10]\n"
     ]
    },
    {
     "name": "stderr",
     "output_type": "stream",
     "text": [
      "0it [00:00, ?it/s]/71 [00:00<?, ?it/s]\n",
      "0it [00:00, ?it/s]/71 [00:01<01:23,  1.19s/it]\n",
      "0it [00:00, ?it/s]/71 [00:02<01:21,  1.19s/it]\n",
      "0it [00:00, ?it/s]\n",
      "100%|██████████| 1/1 [00:00<00:00, 177.84it/s]\n",
      "0it [00:00, ?it/s]/71 [00:05<01:17,  1.17s/it]\n",
      "0it [00:00, ?it/s]\n",
      "0it [00:00, ?it/s]/71 [00:06<00:57,  1.11it/s]\n",
      "0it [00:00, ?it/s]\n",
      "0it [00:00, ?it/s]/71 [00:07<00:48,  1.29it/s]\n",
      "0it [00:00, ?it/s]0/71 [00:08<00:52,  1.15it/s]\n",
      "0it [00:00, ?it/s]1/71 [00:10<00:56,  1.06it/s]\n",
      "0it [00:00, ?it/s]2/71 [00:11<00:59,  1.01s/it]\n",
      "0it [00:00, ?it/s]3/71 [00:13<01:10,  1.21s/it]\n",
      "0it [00:00, ?it/s]4/71 [00:14<01:08,  1.21s/it]\n",
      "100%|██████████| 1/1 [00:00<00:00, 180.02it/s]\n",
      "0it [00:00, ?it/s]6/71 [00:16<01:05,  1.20s/it]\n",
      "0it [00:00, ?it/s]7/71 [00:17<01:04,  1.19s/it]\n",
      "0it [00:00, ?it/s]8/71 [00:18<01:03,  1.19s/it]\n",
      "0it [00:00, ?it/s]9/71 [00:19<00:53,  1.03s/it]\n",
      "0it [00:00, ?it/s]0/71 [00:20<00:54,  1.07s/it]\n",
      "100%|██████████| 1/1 [00:00<00:00, 178.91it/s]]\n",
      "0it [00:00, ?it/s]2/71 [00:24<01:11,  1.47s/it]\n",
      "0it [00:00, ?it/s]3/71 [00:25<01:06,  1.38s/it]\n",
      "0it [00:00, ?it/s]4/71 [00:26<00:54,  1.15s/it]\n",
      "0it [00:00, ?it/s]5/71 [00:27<00:53,  1.16s/it]\n",
      "0it [00:00, ?it/s]6/71 [00:28<00:52,  1.17s/it]\n",
      "100%|██████████| 1/1 [00:00<00:00, 182.89it/s]\n",
      "0it [00:00, ?it/s]8/71 [00:30<00:50,  1.17s/it]\n",
      "0it [00:00, ?it/s]9/71 [00:32<00:55,  1.32s/it]\n",
      "100%|██████████| 1/1 [00:00<00:00, 178.12it/s]]\n",
      "0it [00:00, ?it/s]1/71 [00:36<01:07,  1.69s/it]\n",
      "0it [00:00, ?it/s]2/71 [00:37<01:00,  1.55s/it]\n",
      "100%|██████████| 3/3 [00:00<00:00, 239.45it/s]]\n",
      "0it [00:00, ?it/s]4/71 [00:43<01:20,  2.17s/it]\n",
      "100%|██████████| 3/3 [00:00<00:00, 236.24it/s]]\n",
      "0it [00:00, ?it/s]6/71 [00:47<01:18,  2.25s/it]\n",
      "0it [00:00, ?it/s]7/71 [00:49<01:11,  2.11s/it]\n",
      "0it [00:00, ?it/s]8/71 [00:50<01:00,  1.83s/it]\n",
      "100%|██████████| 3/3 [00:00<00:00, 241.02it/s]]\n",
      "100%|██████████| 3/3 [00:00<00:00, 246.32it/s]]\n",
      "0it [00:00, ?it/s]1/71 [00:58<01:18,  2.60s/it]\n",
      "0it [00:00, ?it/s]2/71 [01:00<01:08,  2.35s/it]\n",
      "100%|██████████| 3/3 [00:00<00:00, 241.83it/s]]\n",
      "0it [00:00, ?it/s]4/71 [01:05<01:09,  2.58s/it]\n",
      "100%|██████████| 1/1 [00:00<00:00, 185.63it/s]]\n",
      "100%|██████████| 3/3 [00:00<00:00, 230.97it/s]]\n",
      "100%|██████████| 1/1 [00:00<00:00, 173.82it/s]]\n",
      "100%|██████████| 6/6 [00:00<00:00, 253.45it/s]]\n",
      "0it [00:00, ?it/s]9/71 [01:21<01:15,  3.43s/it]\n",
      "0it [00:00, ?it/s]0/71 [01:23<01:05,  3.11s/it]\n",
      "0it [00:00, ?it/s]1/71 [01:25<00:54,  2.70s/it]\n",
      "0it [00:00, ?it/s]2/71 [01:27<00:49,  2.60s/it]\n",
      "0it [00:00, ?it/s]3/71 [01:30<00:45,  2.52s/it]\n",
      "0it [00:00, ?it/s]4/71 [01:31<00:38,  2.29s/it]\n",
      "0it [00:00, ?it/s]5/71 [01:34<00:39,  2.48s/it]\n",
      "100%|██████████| 10/10 [00:00<00:00, 264.12it/s]\n",
      "0it [00:00, ?it/s]7/71 [01:42<00:47,  3.37s/it]\n",
      "100%|██████████| 6/6 [00:00<00:00, 262.50it/s]]\n",
      "0it [00:00, ?it/s]9/71 [01:50<00:46,  3.90s/it]\n",
      "100%|██████████| 6/6 [00:00<00:00, 255.72it/s]]\n",
      "0it [00:00, ?it/s]1/71 [01:58<00:39,  3.93s/it]\n",
      "0it [00:00, ?it/s]2/71 [02:00<00:31,  3.46s/it]\n",
      "0it [00:00, ?it/s]3/71 [02:04<00:27,  3.48s/it]\n",
      "100%|██████████| 3/3 [00:00<00:00, 241.41it/s]]\n",
      "0it [00:00, ?it/s]5/71 [02:11<00:22,  3.77s/it]\n",
      "0it [00:00, ?it/s]6/71 [02:14<00:17,  3.52s/it]\n",
      "0it [00:00, ?it/s]7/71 [02:17<00:13,  3.34s/it]\n",
      "0it [00:00, ?it/s]8/71 [02:21<00:10,  3.56s/it]\n",
      "100%|██████████| 10/10 [00:00<00:00, 265.19it/s]\n",
      "0it [00:00, ?it/s]0/71 [02:36<00:05,  5.76s/it]\n",
      "100%|██████████| 71/71 [02:43<00:00,  2.30s/it]\n"
     ]
    },
    {
     "name": "stdout",
     "output_type": "stream",
     "text": [
      "pairs = (('SPDN', 'SH'))\n",
      "\n",
      "best_earning_ratio is:  1.0603879079572893\n"
     ]
    },
    {
     "name": "stderr",
     "output_type": "stream",
     "text": [
      "100%|██████████| 1363/1363 [00:13<00:00, 99.10it/s]\n"
     ]
    },
    {
     "name": "stdout",
     "output_type": "stream",
     "text": [
      "pairs = (('SPDN', 'SH'))\n",
      "\n",
      "=================== 15 번째 시작 ======================\n"
     ]
    },
    {
     "name": "stderr",
     "output_type": "stream",
     "text": [
      "100%|██████████| 1222/1222 [00:17<00:00, 70.48it/s]\n"
     ]
    },
    {
     "name": "stdout",
     "output_type": "stream",
     "text": [
      "Clusters discovered: 5\n",
      "Clusters formed: 4\n",
      "Pairs to evaluate: 2686\n",
      "final_clusters index :  [4, 3, 1, 2]\n"
     ]
    },
    {
     "name": "stderr",
     "output_type": "stream",
     "text": [
      "100%|██████████| 1/1 [00:00<00:00, 185.98it/s]\n",
      "0it [00:00, ?it/s]/4 [00:02<00:07,  2.43s/it]\n",
      "0it [00:00, ?it/s]/4 [00:03<00:03,  1.71s/it]\n",
      "100%|██████████| 561/561 [00:02<00:00, 269.58it/s]\n",
      "100%|██████████| 4/4 [01:01<00:00, 15.47s/it]\n"
     ]
    },
    {
     "name": "stdout",
     "output_type": "stream",
     "text": [
      "pairs = (('EPV', 'TZA'))\n",
      "\n",
      "pairs = (('CHAD', 'SDOW'))\n",
      "\n",
      "pairs = (('CHAD', 'FAZ'))\n",
      "\n",
      "best_earning_ratio is:  1.081843250415802\n",
      "best_earning_ratio is:  1.2797886307356394\n",
      "best_earning_ratio is:  1.0\n"
     ]
    },
    {
     "name": "stderr",
     "output_type": "stream",
     "text": [
      "100%|██████████| 1367/1367 [00:15<00:00, 88.49it/s]\n"
     ]
    },
    {
     "name": "stdout",
     "output_type": "stream",
     "text": [
      "pairs = (('EPV', 'TZA'))\n",
      "\n",
      "pairs = (('CHAD', 'SDOW'))\n",
      "\n",
      "pairs = (('CHAD', 'FAZ'))\n",
      "\n",
      "=================== 16 번째 시작 ======================\n"
     ]
    },
    {
     "name": "stderr",
     "output_type": "stream",
     "text": [
      "100%|██████████| 1238/1238 [00:20<00:00, 60.87it/s]\n"
     ]
    },
    {
     "name": "stdout",
     "output_type": "stream",
     "text": [
      "Clusters discovered: 6\n",
      "Clusters formed: 5\n",
      "Pairs to evaluate: 1988\n",
      "final_clusters index :  [4, 5, 3, 1, 2]\n"
     ]
    },
    {
     "name": "stderr",
     "output_type": "stream",
     "text": [
      "0it [00:00, ?it/s]/5 [00:00<?, ?it/s]\n",
      "100%|██████████| 1/1 [00:00<00:00, 138.16it/s]\n",
      "100%|██████████| 21/21 [00:00<00:00, 259.72it/s]\n",
      "0it [00:00, ?it/s]/5 [00:14<00:11,  5.69s/it]\n",
      "100%|██████████| 351/351 [00:01<00:00, 282.40it/s]\n",
      "100%|██████████| 5/5 [01:01<00:00, 12.34s/it]\n"
     ]
    },
    {
     "name": "stdout",
     "output_type": "stream",
     "text": [
      "pairs = (('BZQ', 'EFZ'))\n",
      "\n",
      "best_earning_ratio is:  1.0159287612761543\n"
     ]
    },
    {
     "name": "stderr",
     "output_type": "stream",
     "text": [
      "100%|██████████| 1380/1380 [00:14<00:00, 95.22it/s]\n"
     ]
    },
    {
     "name": "stdout",
     "output_type": "stream",
     "text": [
      "pairs = (('BZQ', 'EFZ'))\n",
      "\n",
      "=================== 17 번째 시작 ======================\n"
     ]
    },
    {
     "name": "stderr",
     "output_type": "stream",
     "text": [
      "100%|██████████| 1252/1252 [00:18<00:00, 67.16it/s]\n"
     ]
    },
    {
     "name": "stdout",
     "output_type": "stream",
     "text": [
      "Clusters discovered: 6\n",
      "Clusters formed: 5\n",
      "Pairs to evaluate: 2696\n",
      "final_clusters index :  [3, 5, 4, 1, 2]\n"
     ]
    },
    {
     "name": "stderr",
     "output_type": "stream",
     "text": [
      "0it [00:00, ?it/s]/5 [00:00<?, ?it/s]\n",
      "0it [00:00, ?it/s]/5 [00:01<00:05,  1.28s/it]\n",
      "100%|██████████| 1/1 [00:00<00:00, 165.42it/s]\n",
      "0it [00:00, ?it/s]/5 [00:05<00:03,  1.97s/it]\n",
      "100%|██████████| 595/595 [00:02<00:00, 269.54it/s]\n",
      "100%|██████████| 5/5 [01:05<00:00, 13.06s/it]\n"
     ]
    },
    {
     "name": "stdout",
     "output_type": "stream",
     "text": [
      "pairs = (('SPDN', 'EDZ'))\n",
      "\n",
      "pairs = (('EDZ', 'SH'))\n",
      "\n",
      "pairs = (('DOG', 'EEV'))\n",
      "\n",
      "best_earning_ratio is:  1.188484229968177\n",
      "best_earning_ratio is:  1.0490532771711198\n",
      "best_earning_ratio is:  1.0095602730751039\n"
     ]
    },
    {
     "name": "stderr",
     "output_type": "stream",
     "text": [
      " 40%|████      | 562/1394 [00:04<00:06, 125.21it/s]"
     ]
    }
   ],
   "source": [
    "result = []\n",
    "for i in range(len(performance_test)):\n",
    "\n",
    "    try:\n",
    "        print('=================== {} 번째 시작 ======================'.format(i))\n",
    "        start_date = performance_test[i][0]\n",
    "        end_date = performance_test[i][1]\n",
    "        test_start_date = performance_test[i][1]\n",
    "        test_end_date = performance_test[i][2]\n",
    "        performance, performance_tr, sharpe_ratio, sharpe_ratio_tr = get_sharpe_ratio(start_date, end_date, test_start_date, test_end_date)\n",
    "\n",
    "        result.append((performance, performance_tr, sharpe_ratio, sharpe_ratio_tr))\n",
    "\n",
    "    except KeyboardInterrupt as e:\n",
    "\n",
    "        print(e)\n",
    "        pass"
   ]
  },
  {
   "cell_type": "code",
   "execution_count": null,
   "metadata": {},
   "outputs": [],
   "source": [
    "# 돌린거 저장\n",
    "import pickle\n",
    "with open('result_3.pkl','wb') as f:\n",
    "    pickle.dump(result, f)"
   ]
  },
  {
   "cell_type": "code",
   "execution_count": null,
   "metadata": {},
   "outputs": [],
   "source": [
    "with open('result_3.pkl','rb') as f:\n",
    "    result = pickle.load(f)"
   ]
  },
  {
   "cell_type": "code",
   "execution_count": null,
   "metadata": {},
   "outputs": [],
   "source": [
    "performance_list = []\n",
    "for i in range(len(result)):\n",
    "    performance_list.append(result[i][0])"
   ]
  },
  {
   "cell_type": "code",
   "execution_count": null,
   "metadata": {},
   "outputs": [
    {
     "name": "stderr",
     "output_type": "stream",
     "text": [
      "100%|██████████| 12/12 [00:00<00:00, 107088.61it/s]"
     ]
    },
    {
     "name": "stdout",
     "output_type": "stream",
     "text": [
      "<class 'float'>\n"
     ]
    },
    {
     "name": "stderr",
     "output_type": "stream",
     "text": [
      "\n"
     ]
    }
   ],
   "source": [
    "tmp = []\n",
    "for x in tqdm(performance_list):\n",
    "    if x == np.nan:\n",
    "        tmp.append(x)\n",
    "    elif type(x) == dict:\n",
    "        tmp.append(list(x.values()))\n",
    "    else:\n",
    "        print(type(x))"
   ]
  },
  {
   "cell_type": "code",
   "execution_count": null,
   "metadata": {},
   "outputs": [],
   "source": [
    "rtn2 = []\n",
    "for x in tmp:\n",
    "    tmp2 = []\n",
    "    for i in range(len(x)):\n",
    "        tmp2.append(x[i]-1)\n",
    "    rtn2.append(tmp2)"
   ]
  },
  {
   "cell_type": "code",
   "execution_count": null,
   "metadata": {},
   "outputs": [
    {
     "data": {
      "text/plain": [
       "[[nan],\n",
       " [0.05828359524154658, nan, 0.0073725112838747275],\n",
       " [nan],\n",
       " [0.0005511454820632533],\n",
       " [nan],\n",
       " [0.0077016689472197974],\n",
       " [nan],\n",
       " [0.0009698626842498115],\n",
       " [0.009033461949348398],\n",
       " [-0.02055216578865049],\n",
       " [nan]]"
      ]
     },
     "execution_count": 11,
     "metadata": {},
     "output_type": "execute_result"
    }
   ],
   "source": [
    "rtn2"
   ]
  },
  {
   "cell_type": "code",
   "execution_count": null,
   "metadata": {},
   "outputs": [],
   "source": [
    "sr = {}\n",
    "for i in range(len(rtn2)):\n",
    "    if len(rtn2[i]) == 1:\n",
    "        sr['{}기간'.format(i+1)] = 1+ rtn2[i][0]\n",
    "    else:\n",
    "        sr['{}기간'.format(i+1)] = np.nanmean(rtn2[i]) / np.nanstd(rtn2[i])        "
   ]
  }
 ],
 "metadata": {
  "kernelspec": {
   "display_name": "Python 3.8.13 ('quant')",
   "language": "python",
   "name": "python3"
  },
  "language_info": {
   "codemirror_mode": {
    "name": "ipython",
    "version": 3
   },
   "file_extension": ".py",
   "mimetype": "text/x-python",
   "name": "python",
   "nbconvert_exporter": "python",
   "pygments_lexer": "ipython3",
   "version": "3.8.13"
  },
  "orig_nbformat": 4,
  "vscode": {
   "interpreter": {
    "hash": "e7b6214bfe3ce19b2336b5ee82fe9739f68968628bd5eb86b17deae08d37c2fd"
   }
  }
 },
 "nbformat": 4,
 "nbformat_minor": 2
}
